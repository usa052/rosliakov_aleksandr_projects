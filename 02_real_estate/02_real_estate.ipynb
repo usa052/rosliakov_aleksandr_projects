{
 "cells": [
  {
   "cell_type": "code",
   "execution_count": 1,
   "id": "f6b603e5",
   "metadata": {},
   "outputs": [],
   "source": [
    "import pandas as pd\n",
    "import datetime as dt\n",
    "import matplotlib.pyplot as plt\n",
    "\n",
    "pd.options.mode.chained_assignment = None  # default='warn'\n",
    "\n",
    "# pd.set_option('display.max_rows', 1000)\n",
    "# pd.set_option('display.max_columns', None)"
   ]
  },
  {
   "cell_type": "code",
   "execution_count": 2,
   "id": "0ec6e814",
   "metadata": {
    "scrolled": true
   },
   "outputs": [
    {
     "data": {
      "text/html": [
       "<div>\n",
       "<style scoped>\n",
       "    .dataframe tbody tr th:only-of-type {\n",
       "        vertical-align: middle;\n",
       "    }\n",
       "\n",
       "    .dataframe tbody tr th {\n",
       "        vertical-align: top;\n",
       "    }\n",
       "\n",
       "    .dataframe thead th {\n",
       "        text-align: right;\n",
       "    }\n",
       "</style>\n",
       "<table border=\"1\" class=\"dataframe\">\n",
       "  <thead>\n",
       "    <tr style=\"text-align: right;\">\n",
       "      <th></th>\n",
       "      <th>total_images</th>\n",
       "      <th>last_price</th>\n",
       "      <th>total_area</th>\n",
       "      <th>first_day_exposition</th>\n",
       "      <th>rooms</th>\n",
       "      <th>ceiling_height</th>\n",
       "      <th>floors_total</th>\n",
       "      <th>living_area</th>\n",
       "      <th>floor</th>\n",
       "      <th>is_apartment</th>\n",
       "      <th>...</th>\n",
       "      <th>kitchen_area</th>\n",
       "      <th>balcony</th>\n",
       "      <th>locality_name</th>\n",
       "      <th>airports_nearest</th>\n",
       "      <th>cityCenters_nearest</th>\n",
       "      <th>parks_around3000</th>\n",
       "      <th>parks_nearest</th>\n",
       "      <th>ponds_around3000</th>\n",
       "      <th>ponds_nearest</th>\n",
       "      <th>days_exposition</th>\n",
       "    </tr>\n",
       "  </thead>\n",
       "  <tbody>\n",
       "    <tr>\n",
       "      <th>0</th>\n",
       "      <td>20</td>\n",
       "      <td>13000000.0</td>\n",
       "      <td>108.0</td>\n",
       "      <td>2019-03-07T00:00:00</td>\n",
       "      <td>3</td>\n",
       "      <td>2.70</td>\n",
       "      <td>16.0</td>\n",
       "      <td>51.0</td>\n",
       "      <td>8</td>\n",
       "      <td>NaN</td>\n",
       "      <td>...</td>\n",
       "      <td>25.0</td>\n",
       "      <td>NaN</td>\n",
       "      <td>Санкт-Петербург</td>\n",
       "      <td>18863.0</td>\n",
       "      <td>16028.0</td>\n",
       "      <td>1.0</td>\n",
       "      <td>482.0</td>\n",
       "      <td>2.0</td>\n",
       "      <td>755.0</td>\n",
       "      <td>NaN</td>\n",
       "    </tr>\n",
       "    <tr>\n",
       "      <th>1</th>\n",
       "      <td>7</td>\n",
       "      <td>3350000.0</td>\n",
       "      <td>40.4</td>\n",
       "      <td>2018-12-04T00:00:00</td>\n",
       "      <td>1</td>\n",
       "      <td>NaN</td>\n",
       "      <td>11.0</td>\n",
       "      <td>18.6</td>\n",
       "      <td>1</td>\n",
       "      <td>NaN</td>\n",
       "      <td>...</td>\n",
       "      <td>11.0</td>\n",
       "      <td>2.0</td>\n",
       "      <td>посёлок Шушары</td>\n",
       "      <td>12817.0</td>\n",
       "      <td>18603.0</td>\n",
       "      <td>0.0</td>\n",
       "      <td>NaN</td>\n",
       "      <td>0.0</td>\n",
       "      <td>NaN</td>\n",
       "      <td>81.0</td>\n",
       "    </tr>\n",
       "    <tr>\n",
       "      <th>2</th>\n",
       "      <td>10</td>\n",
       "      <td>5196000.0</td>\n",
       "      <td>56.0</td>\n",
       "      <td>2015-08-20T00:00:00</td>\n",
       "      <td>2</td>\n",
       "      <td>NaN</td>\n",
       "      <td>5.0</td>\n",
       "      <td>34.3</td>\n",
       "      <td>4</td>\n",
       "      <td>NaN</td>\n",
       "      <td>...</td>\n",
       "      <td>8.3</td>\n",
       "      <td>0.0</td>\n",
       "      <td>Санкт-Петербург</td>\n",
       "      <td>21741.0</td>\n",
       "      <td>13933.0</td>\n",
       "      <td>1.0</td>\n",
       "      <td>90.0</td>\n",
       "      <td>2.0</td>\n",
       "      <td>574.0</td>\n",
       "      <td>558.0</td>\n",
       "    </tr>\n",
       "    <tr>\n",
       "      <th>3</th>\n",
       "      <td>0</td>\n",
       "      <td>64900000.0</td>\n",
       "      <td>159.0</td>\n",
       "      <td>2015-07-24T00:00:00</td>\n",
       "      <td>3</td>\n",
       "      <td>NaN</td>\n",
       "      <td>14.0</td>\n",
       "      <td>NaN</td>\n",
       "      <td>9</td>\n",
       "      <td>NaN</td>\n",
       "      <td>...</td>\n",
       "      <td>NaN</td>\n",
       "      <td>0.0</td>\n",
       "      <td>Санкт-Петербург</td>\n",
       "      <td>28098.0</td>\n",
       "      <td>6800.0</td>\n",
       "      <td>2.0</td>\n",
       "      <td>84.0</td>\n",
       "      <td>3.0</td>\n",
       "      <td>234.0</td>\n",
       "      <td>424.0</td>\n",
       "    </tr>\n",
       "    <tr>\n",
       "      <th>4</th>\n",
       "      <td>2</td>\n",
       "      <td>10000000.0</td>\n",
       "      <td>100.0</td>\n",
       "      <td>2018-06-19T00:00:00</td>\n",
       "      <td>2</td>\n",
       "      <td>3.03</td>\n",
       "      <td>14.0</td>\n",
       "      <td>32.0</td>\n",
       "      <td>13</td>\n",
       "      <td>NaN</td>\n",
       "      <td>...</td>\n",
       "      <td>41.0</td>\n",
       "      <td>NaN</td>\n",
       "      <td>Санкт-Петербург</td>\n",
       "      <td>31856.0</td>\n",
       "      <td>8098.0</td>\n",
       "      <td>2.0</td>\n",
       "      <td>112.0</td>\n",
       "      <td>1.0</td>\n",
       "      <td>48.0</td>\n",
       "      <td>121.0</td>\n",
       "    </tr>\n",
       "    <tr>\n",
       "      <th>...</th>\n",
       "      <td>...</td>\n",
       "      <td>...</td>\n",
       "      <td>...</td>\n",
       "      <td>...</td>\n",
       "      <td>...</td>\n",
       "      <td>...</td>\n",
       "      <td>...</td>\n",
       "      <td>...</td>\n",
       "      <td>...</td>\n",
       "      <td>...</td>\n",
       "      <td>...</td>\n",
       "      <td>...</td>\n",
       "      <td>...</td>\n",
       "      <td>...</td>\n",
       "      <td>...</td>\n",
       "      <td>...</td>\n",
       "      <td>...</td>\n",
       "      <td>...</td>\n",
       "      <td>...</td>\n",
       "      <td>...</td>\n",
       "      <td>...</td>\n",
       "    </tr>\n",
       "    <tr>\n",
       "      <th>995</th>\n",
       "      <td>4</td>\n",
       "      <td>10150000.0</td>\n",
       "      <td>105.0</td>\n",
       "      <td>2017-11-26T00:00:00</td>\n",
       "      <td>4</td>\n",
       "      <td>NaN</td>\n",
       "      <td>5.0</td>\n",
       "      <td>75.0</td>\n",
       "      <td>2</td>\n",
       "      <td>NaN</td>\n",
       "      <td>...</td>\n",
       "      <td>10.0</td>\n",
       "      <td>NaN</td>\n",
       "      <td>Санкт-Петербург</td>\n",
       "      <td>15957.0</td>\n",
       "      <td>8955.0</td>\n",
       "      <td>0.0</td>\n",
       "      <td>NaN</td>\n",
       "      <td>0.0</td>\n",
       "      <td>NaN</td>\n",
       "      <td>58.0</td>\n",
       "    </tr>\n",
       "    <tr>\n",
       "      <th>996</th>\n",
       "      <td>14</td>\n",
       "      <td>2200000.0</td>\n",
       "      <td>54.0</td>\n",
       "      <td>2017-06-03T00:00:00</td>\n",
       "      <td>2</td>\n",
       "      <td>2.70</td>\n",
       "      <td>2.0</td>\n",
       "      <td>39.0</td>\n",
       "      <td>1</td>\n",
       "      <td>False</td>\n",
       "      <td>...</td>\n",
       "      <td>10.0</td>\n",
       "      <td>0.0</td>\n",
       "      <td>посёлок городского типа Сиверский</td>\n",
       "      <td>NaN</td>\n",
       "      <td>NaN</td>\n",
       "      <td>NaN</td>\n",
       "      <td>NaN</td>\n",
       "      <td>NaN</td>\n",
       "      <td>NaN</td>\n",
       "      <td>91.0</td>\n",
       "    </tr>\n",
       "    <tr>\n",
       "      <th>997</th>\n",
       "      <td>16</td>\n",
       "      <td>9000000.0</td>\n",
       "      <td>79.0</td>\n",
       "      <td>2018-01-15T00:00:00</td>\n",
       "      <td>3</td>\n",
       "      <td>NaN</td>\n",
       "      <td>18.0</td>\n",
       "      <td>46.0</td>\n",
       "      <td>11</td>\n",
       "      <td>NaN</td>\n",
       "      <td>...</td>\n",
       "      <td>10.0</td>\n",
       "      <td>1.0</td>\n",
       "      <td>деревня Кудрово</td>\n",
       "      <td>NaN</td>\n",
       "      <td>NaN</td>\n",
       "      <td>NaN</td>\n",
       "      <td>NaN</td>\n",
       "      <td>NaN</td>\n",
       "      <td>NaN</td>\n",
       "      <td>8.0</td>\n",
       "    </tr>\n",
       "    <tr>\n",
       "      <th>998</th>\n",
       "      <td>10</td>\n",
       "      <td>2300000.0</td>\n",
       "      <td>30.6</td>\n",
       "      <td>2017-04-26T00:00:00</td>\n",
       "      <td>1</td>\n",
       "      <td>2.50</td>\n",
       "      <td>5.0</td>\n",
       "      <td>17.0</td>\n",
       "      <td>1</td>\n",
       "      <td>False</td>\n",
       "      <td>...</td>\n",
       "      <td>5.5</td>\n",
       "      <td>0.0</td>\n",
       "      <td>Петергоф</td>\n",
       "      <td>37242.0</td>\n",
       "      <td>32432.0</td>\n",
       "      <td>1.0</td>\n",
       "      <td>1731.0</td>\n",
       "      <td>3.0</td>\n",
       "      <td>407.0</td>\n",
       "      <td>162.0</td>\n",
       "    </tr>\n",
       "    <tr>\n",
       "      <th>999</th>\n",
       "      <td>10</td>\n",
       "      <td>3500000.0</td>\n",
       "      <td>35.0</td>\n",
       "      <td>2016-10-18T00:00:00</td>\n",
       "      <td>1</td>\n",
       "      <td>NaN</td>\n",
       "      <td>17.0</td>\n",
       "      <td>16.0</td>\n",
       "      <td>10</td>\n",
       "      <td>NaN</td>\n",
       "      <td>...</td>\n",
       "      <td>11.0</td>\n",
       "      <td>0.0</td>\n",
       "      <td>Санкт-Петербург</td>\n",
       "      <td>47893.0</td>\n",
       "      <td>16018.0</td>\n",
       "      <td>0.0</td>\n",
       "      <td>NaN</td>\n",
       "      <td>0.0</td>\n",
       "      <td>NaN</td>\n",
       "      <td>189.0</td>\n",
       "    </tr>\n",
       "  </tbody>\n",
       "</table>\n",
       "<p>1000 rows × 22 columns</p>\n",
       "</div>"
      ],
      "text/plain": [
       "     total_images  last_price  total_area first_day_exposition  rooms  \\\n",
       "0              20  13000000.0       108.0  2019-03-07T00:00:00      3   \n",
       "1               7   3350000.0        40.4  2018-12-04T00:00:00      1   \n",
       "2              10   5196000.0        56.0  2015-08-20T00:00:00      2   \n",
       "3               0  64900000.0       159.0  2015-07-24T00:00:00      3   \n",
       "4               2  10000000.0       100.0  2018-06-19T00:00:00      2   \n",
       "..            ...         ...         ...                  ...    ...   \n",
       "995             4  10150000.0       105.0  2017-11-26T00:00:00      4   \n",
       "996            14   2200000.0        54.0  2017-06-03T00:00:00      2   \n",
       "997            16   9000000.0        79.0  2018-01-15T00:00:00      3   \n",
       "998            10   2300000.0        30.6  2017-04-26T00:00:00      1   \n",
       "999            10   3500000.0        35.0  2016-10-18T00:00:00      1   \n",
       "\n",
       "     ceiling_height  floors_total  living_area  floor is_apartment  ...  \\\n",
       "0              2.70          16.0         51.0      8          NaN  ...   \n",
       "1               NaN          11.0         18.6      1          NaN  ...   \n",
       "2               NaN           5.0         34.3      4          NaN  ...   \n",
       "3               NaN          14.0          NaN      9          NaN  ...   \n",
       "4              3.03          14.0         32.0     13          NaN  ...   \n",
       "..              ...           ...          ...    ...          ...  ...   \n",
       "995             NaN           5.0         75.0      2          NaN  ...   \n",
       "996            2.70           2.0         39.0      1        False  ...   \n",
       "997             NaN          18.0         46.0     11          NaN  ...   \n",
       "998            2.50           5.0         17.0      1        False  ...   \n",
       "999             NaN          17.0         16.0     10          NaN  ...   \n",
       "\n",
       "     kitchen_area  balcony                      locality_name  \\\n",
       "0            25.0      NaN                    Санкт-Петербург   \n",
       "1            11.0      2.0                     посёлок Шушары   \n",
       "2             8.3      0.0                    Санкт-Петербург   \n",
       "3             NaN      0.0                    Санкт-Петербург   \n",
       "4            41.0      NaN                    Санкт-Петербург   \n",
       "..            ...      ...                                ...   \n",
       "995          10.0      NaN                    Санкт-Петербург   \n",
       "996          10.0      0.0  посёлок городского типа Сиверский   \n",
       "997          10.0      1.0                    деревня Кудрово   \n",
       "998           5.5      0.0                           Петергоф   \n",
       "999          11.0      0.0                    Санкт-Петербург   \n",
       "\n",
       "     airports_nearest cityCenters_nearest  parks_around3000  parks_nearest  \\\n",
       "0             18863.0             16028.0               1.0          482.0   \n",
       "1             12817.0             18603.0               0.0            NaN   \n",
       "2             21741.0             13933.0               1.0           90.0   \n",
       "3             28098.0              6800.0               2.0           84.0   \n",
       "4             31856.0              8098.0               2.0          112.0   \n",
       "..                ...                 ...               ...            ...   \n",
       "995           15957.0              8955.0               0.0            NaN   \n",
       "996               NaN                 NaN               NaN            NaN   \n",
       "997               NaN                 NaN               NaN            NaN   \n",
       "998           37242.0             32432.0               1.0         1731.0   \n",
       "999           47893.0             16018.0               0.0            NaN   \n",
       "\n",
       "     ponds_around3000  ponds_nearest  days_exposition  \n",
       "0                 2.0          755.0              NaN  \n",
       "1                 0.0            NaN             81.0  \n",
       "2                 2.0          574.0            558.0  \n",
       "3                 3.0          234.0            424.0  \n",
       "4                 1.0           48.0            121.0  \n",
       "..                ...            ...              ...  \n",
       "995               0.0            NaN             58.0  \n",
       "996               NaN            NaN             91.0  \n",
       "997               NaN            NaN              8.0  \n",
       "998               3.0          407.0            162.0  \n",
       "999               0.0            NaN            189.0  \n",
       "\n",
       "[1000 rows x 22 columns]"
      ]
     },
     "execution_count": 2,
     "metadata": {},
     "output_type": "execute_result"
    }
   ],
   "source": [
    "import os\n",
    "\n",
    "pth1 = 'real_estate_data.csv'\n",
    "pth2 = '/datasets/real_estate_data.csv'\n",
    "\n",
    "if os.path.exists(pth1):\n",
    "    df = pd.read_csv(pth1, sep='\\t')\n",
    "elif os.path.exists(pth2):\n",
    "    df = pd.read_csv(pth2, sep='\\t')\n",
    "else:\n",
    "    print('Something is wrong')\n",
    "\n",
    "# df = pd.read_csv('real_estate_data.csv', sep='\\t') # Подгружаю датасет, ознакамливаюсь с данными\n",
    "df.head(1000)\n"
   ]
  },
  {
   "cell_type": "code",
   "execution_count": 3,
   "id": "3f015e09",
   "metadata": {
    "scrolled": false
   },
   "outputs": [
    {
     "name": "stdout",
     "output_type": "stream",
     "text": [
      "<class 'pandas.core.frame.DataFrame'>\n",
      "RangeIndex: 23699 entries, 0 to 23698\n",
      "Data columns (total 22 columns):\n",
      " #   Column                Non-Null Count  Dtype  \n",
      "---  ------                --------------  -----  \n",
      " 0   total_images          23699 non-null  int64  \n",
      " 1   last_price            23699 non-null  float64\n",
      " 2   total_area            23699 non-null  float64\n",
      " 3   first_day_exposition  23699 non-null  object \n",
      " 4   rooms                 23699 non-null  int64  \n",
      " 5   ceiling_height        14504 non-null  float64\n",
      " 6   floors_total          23613 non-null  float64\n",
      " 7   living_area           21796 non-null  float64\n",
      " 8   floor                 23699 non-null  int64  \n",
      " 9   is_apartment          2775 non-null   object \n",
      " 10  studio                23699 non-null  bool   \n",
      " 11  open_plan             23699 non-null  bool   \n",
      " 12  kitchen_area          21421 non-null  float64\n",
      " 13  balcony               12180 non-null  float64\n",
      " 14  locality_name         23650 non-null  object \n",
      " 15  airports_nearest      18157 non-null  float64\n",
      " 16  cityCenters_nearest   18180 non-null  float64\n",
      " 17  parks_around3000      18181 non-null  float64\n",
      " 18  parks_nearest         8079 non-null   float64\n",
      " 19  ponds_around3000      18181 non-null  float64\n",
      " 20  ponds_nearest         9110 non-null   float64\n",
      " 21  days_exposition       20518 non-null  float64\n",
      "dtypes: bool(2), float64(14), int64(3), object(3)\n",
      "memory usage: 3.7+ MB\n"
     ]
    }
   ],
   "source": [
    "# Определяю тип данных в каждом столбце\n",
    "df.info()"
   ]
  },
  {
   "cell_type": "markdown",
   "id": "4c48ceae",
   "metadata": {},
   "source": [
    "Видим большое количество пропусков в данных "
   ]
  },
  {
   "cell_type": "code",
   "execution_count": 4,
   "id": "690bc414",
   "metadata": {
    "scrolled": true
   },
   "outputs": [
    {
     "data": {
      "text/html": [
       "<div>\n",
       "<style scoped>\n",
       "    .dataframe tbody tr th:only-of-type {\n",
       "        vertical-align: middle;\n",
       "    }\n",
       "\n",
       "    .dataframe tbody tr th {\n",
       "        vertical-align: top;\n",
       "    }\n",
       "\n",
       "    .dataframe thead th {\n",
       "        text-align: right;\n",
       "    }\n",
       "</style>\n",
       "<table border=\"1\" class=\"dataframe\">\n",
       "  <thead>\n",
       "    <tr style=\"text-align: right;\">\n",
       "      <th></th>\n",
       "      <th>total_images</th>\n",
       "      <th>last_price</th>\n",
       "      <th>total_area</th>\n",
       "      <th>rooms</th>\n",
       "      <th>ceiling_height</th>\n",
       "      <th>floors_total</th>\n",
       "      <th>living_area</th>\n",
       "      <th>floor</th>\n",
       "      <th>kitchen_area</th>\n",
       "      <th>balcony</th>\n",
       "      <th>airports_nearest</th>\n",
       "      <th>cityCenters_nearest</th>\n",
       "      <th>parks_around3000</th>\n",
       "      <th>parks_nearest</th>\n",
       "      <th>ponds_around3000</th>\n",
       "      <th>ponds_nearest</th>\n",
       "      <th>days_exposition</th>\n",
       "    </tr>\n",
       "  </thead>\n",
       "  <tbody>\n",
       "    <tr>\n",
       "      <th>count</th>\n",
       "      <td>23699.000000</td>\n",
       "      <td>2.369900e+04</td>\n",
       "      <td>23699.000000</td>\n",
       "      <td>23699.000000</td>\n",
       "      <td>14504.000000</td>\n",
       "      <td>23613.000000</td>\n",
       "      <td>21796.000000</td>\n",
       "      <td>23699.000000</td>\n",
       "      <td>21421.000000</td>\n",
       "      <td>12180.000000</td>\n",
       "      <td>18157.000000</td>\n",
       "      <td>18180.000000</td>\n",
       "      <td>18181.000000</td>\n",
       "      <td>8079.000000</td>\n",
       "      <td>18181.000000</td>\n",
       "      <td>9110.000000</td>\n",
       "      <td>20518.000000</td>\n",
       "    </tr>\n",
       "    <tr>\n",
       "      <th>mean</th>\n",
       "      <td>9.858475</td>\n",
       "      <td>6.541549e+06</td>\n",
       "      <td>60.348651</td>\n",
       "      <td>2.070636</td>\n",
       "      <td>2.771499</td>\n",
       "      <td>10.673824</td>\n",
       "      <td>34.457852</td>\n",
       "      <td>5.892358</td>\n",
       "      <td>10.569807</td>\n",
       "      <td>1.150082</td>\n",
       "      <td>28793.672193</td>\n",
       "      <td>14191.277833</td>\n",
       "      <td>0.611408</td>\n",
       "      <td>490.804555</td>\n",
       "      <td>0.770255</td>\n",
       "      <td>517.980900</td>\n",
       "      <td>180.888634</td>\n",
       "    </tr>\n",
       "    <tr>\n",
       "      <th>std</th>\n",
       "      <td>5.682529</td>\n",
       "      <td>1.088701e+07</td>\n",
       "      <td>35.654083</td>\n",
       "      <td>1.078405</td>\n",
       "      <td>1.261056</td>\n",
       "      <td>6.597173</td>\n",
       "      <td>22.030445</td>\n",
       "      <td>4.885249</td>\n",
       "      <td>5.905438</td>\n",
       "      <td>1.071300</td>\n",
       "      <td>12630.880622</td>\n",
       "      <td>8608.386210</td>\n",
       "      <td>0.802074</td>\n",
       "      <td>342.317995</td>\n",
       "      <td>0.938346</td>\n",
       "      <td>277.720643</td>\n",
       "      <td>219.727988</td>\n",
       "    </tr>\n",
       "    <tr>\n",
       "      <th>min</th>\n",
       "      <td>0.000000</td>\n",
       "      <td>1.219000e+04</td>\n",
       "      <td>12.000000</td>\n",
       "      <td>0.000000</td>\n",
       "      <td>1.000000</td>\n",
       "      <td>1.000000</td>\n",
       "      <td>2.000000</td>\n",
       "      <td>1.000000</td>\n",
       "      <td>1.300000</td>\n",
       "      <td>0.000000</td>\n",
       "      <td>0.000000</td>\n",
       "      <td>181.000000</td>\n",
       "      <td>0.000000</td>\n",
       "      <td>1.000000</td>\n",
       "      <td>0.000000</td>\n",
       "      <td>13.000000</td>\n",
       "      <td>1.000000</td>\n",
       "    </tr>\n",
       "    <tr>\n",
       "      <th>25%</th>\n",
       "      <td>6.000000</td>\n",
       "      <td>3.400000e+06</td>\n",
       "      <td>40.000000</td>\n",
       "      <td>1.000000</td>\n",
       "      <td>2.520000</td>\n",
       "      <td>5.000000</td>\n",
       "      <td>18.600000</td>\n",
       "      <td>2.000000</td>\n",
       "      <td>7.000000</td>\n",
       "      <td>0.000000</td>\n",
       "      <td>18585.000000</td>\n",
       "      <td>9238.000000</td>\n",
       "      <td>0.000000</td>\n",
       "      <td>288.000000</td>\n",
       "      <td>0.000000</td>\n",
       "      <td>294.000000</td>\n",
       "      <td>45.000000</td>\n",
       "    </tr>\n",
       "    <tr>\n",
       "      <th>50%</th>\n",
       "      <td>9.000000</td>\n",
       "      <td>4.650000e+06</td>\n",
       "      <td>52.000000</td>\n",
       "      <td>2.000000</td>\n",
       "      <td>2.650000</td>\n",
       "      <td>9.000000</td>\n",
       "      <td>30.000000</td>\n",
       "      <td>4.000000</td>\n",
       "      <td>9.100000</td>\n",
       "      <td>1.000000</td>\n",
       "      <td>26726.000000</td>\n",
       "      <td>13098.500000</td>\n",
       "      <td>0.000000</td>\n",
       "      <td>455.000000</td>\n",
       "      <td>1.000000</td>\n",
       "      <td>502.000000</td>\n",
       "      <td>95.000000</td>\n",
       "    </tr>\n",
       "    <tr>\n",
       "      <th>75%</th>\n",
       "      <td>14.000000</td>\n",
       "      <td>6.800000e+06</td>\n",
       "      <td>69.900000</td>\n",
       "      <td>3.000000</td>\n",
       "      <td>2.800000</td>\n",
       "      <td>16.000000</td>\n",
       "      <td>42.300000</td>\n",
       "      <td>8.000000</td>\n",
       "      <td>12.000000</td>\n",
       "      <td>2.000000</td>\n",
       "      <td>37273.000000</td>\n",
       "      <td>16293.000000</td>\n",
       "      <td>1.000000</td>\n",
       "      <td>612.000000</td>\n",
       "      <td>1.000000</td>\n",
       "      <td>729.000000</td>\n",
       "      <td>232.000000</td>\n",
       "    </tr>\n",
       "    <tr>\n",
       "      <th>max</th>\n",
       "      <td>50.000000</td>\n",
       "      <td>7.630000e+08</td>\n",
       "      <td>900.000000</td>\n",
       "      <td>19.000000</td>\n",
       "      <td>100.000000</td>\n",
       "      <td>60.000000</td>\n",
       "      <td>409.700000</td>\n",
       "      <td>33.000000</td>\n",
       "      <td>112.000000</td>\n",
       "      <td>5.000000</td>\n",
       "      <td>84869.000000</td>\n",
       "      <td>65968.000000</td>\n",
       "      <td>3.000000</td>\n",
       "      <td>3190.000000</td>\n",
       "      <td>3.000000</td>\n",
       "      <td>1344.000000</td>\n",
       "      <td>1580.000000</td>\n",
       "    </tr>\n",
       "  </tbody>\n",
       "</table>\n",
       "</div>"
      ],
      "text/plain": [
       "       total_images    last_price    total_area         rooms  ceiling_height  \\\n",
       "count  23699.000000  2.369900e+04  23699.000000  23699.000000    14504.000000   \n",
       "mean       9.858475  6.541549e+06     60.348651      2.070636        2.771499   \n",
       "std        5.682529  1.088701e+07     35.654083      1.078405        1.261056   \n",
       "min        0.000000  1.219000e+04     12.000000      0.000000        1.000000   \n",
       "25%        6.000000  3.400000e+06     40.000000      1.000000        2.520000   \n",
       "50%        9.000000  4.650000e+06     52.000000      2.000000        2.650000   \n",
       "75%       14.000000  6.800000e+06     69.900000      3.000000        2.800000   \n",
       "max       50.000000  7.630000e+08    900.000000     19.000000      100.000000   \n",
       "\n",
       "       floors_total   living_area         floor  kitchen_area       balcony  \\\n",
       "count  23613.000000  21796.000000  23699.000000  21421.000000  12180.000000   \n",
       "mean      10.673824     34.457852      5.892358     10.569807      1.150082   \n",
       "std        6.597173     22.030445      4.885249      5.905438      1.071300   \n",
       "min        1.000000      2.000000      1.000000      1.300000      0.000000   \n",
       "25%        5.000000     18.600000      2.000000      7.000000      0.000000   \n",
       "50%        9.000000     30.000000      4.000000      9.100000      1.000000   \n",
       "75%       16.000000     42.300000      8.000000     12.000000      2.000000   \n",
       "max       60.000000    409.700000     33.000000    112.000000      5.000000   \n",
       "\n",
       "       airports_nearest  cityCenters_nearest  parks_around3000  parks_nearest  \\\n",
       "count      18157.000000         18180.000000      18181.000000    8079.000000   \n",
       "mean       28793.672193         14191.277833          0.611408     490.804555   \n",
       "std        12630.880622          8608.386210          0.802074     342.317995   \n",
       "min            0.000000           181.000000          0.000000       1.000000   \n",
       "25%        18585.000000          9238.000000          0.000000     288.000000   \n",
       "50%        26726.000000         13098.500000          0.000000     455.000000   \n",
       "75%        37273.000000         16293.000000          1.000000     612.000000   \n",
       "max        84869.000000         65968.000000          3.000000    3190.000000   \n",
       "\n",
       "       ponds_around3000  ponds_nearest  days_exposition  \n",
       "count      18181.000000    9110.000000     20518.000000  \n",
       "mean           0.770255     517.980900       180.888634  \n",
       "std            0.938346     277.720643       219.727988  \n",
       "min            0.000000      13.000000         1.000000  \n",
       "25%            0.000000     294.000000        45.000000  \n",
       "50%            1.000000     502.000000        95.000000  \n",
       "75%            1.000000     729.000000       232.000000  \n",
       "max            3.000000    1344.000000      1580.000000  "
      ]
     },
     "execution_count": 4,
     "metadata": {},
     "output_type": "execute_result"
    }
   ],
   "source": [
    "# Анализирую каждый из столбцов\n",
    "df.describe()"
   ]
  },
  {
   "cell_type": "markdown",
   "id": "38979fee",
   "metadata": {},
   "source": [
    "## Замеченные аномалии в данных:\n",
    "1) Странный формат данных в столбце “last_price” <br>\n",
    "2) Квартира площадью 900 кв.м.<br>\n",
    "3) 19-ти комнатная квартира<br>\n",
    "4) 100-метровые потолки"
   ]
  },
  {
   "cell_type": "code",
   "execution_count": 5,
   "id": "598ecfb1",
   "metadata": {},
   "outputs": [
    {
     "data": {
      "text/plain": [
       "Index(['total_images', 'last_price', 'total_area', 'first_day_exposition',\n",
       "       'rooms', 'ceiling_height', 'floors_total', 'living_area', 'floor',\n",
       "       'is_apartment', 'studio', 'open_plan', 'kitchen_area', 'balcony',\n",
       "       'locality_name', 'airports_nearest', 'cityCenters_nearest',\n",
       "       'parks_around3000', 'parks_nearest', 'ponds_around3000',\n",
       "       'ponds_nearest', 'days_exposition'],\n",
       "      dtype='object')"
      ]
     },
     "execution_count": 5,
     "metadata": {},
     "output_type": "execute_result"
    }
   ],
   "source": [
    "df.columns"
   ]
  },
  {
   "cell_type": "code",
   "execution_count": 6,
   "id": "5afbd0f3",
   "metadata": {},
   "outputs": [],
   "source": [
    "# Изменяю название одной из колонок\n",
    "df = df.rename(columns={\"cityCenters_nearest\":\"city_centers_nearest\"})"
   ]
  },
  {
   "cell_type": "code",
   "execution_count": 7,
   "id": "5ddfd03e",
   "metadata": {},
   "outputs": [
    {
     "data": {
      "text/plain": [
       "Index(['total_images', 'last_price', 'total_area', 'first_day_exposition',\n",
       "       'rooms', 'ceiling_height', 'floors_total', 'living_area', 'floor',\n",
       "       'is_apartment', 'studio', 'open_plan', 'kitchen_area', 'balcony',\n",
       "       'locality_name', 'airports_nearest', 'city_centers_nearest',\n",
       "       'parks_around3000', 'parks_nearest', 'ponds_around3000',\n",
       "       'ponds_nearest', 'days_exposition'],\n",
       "      dtype='object')"
      ]
     },
     "execution_count": 7,
     "metadata": {},
     "output_type": "execute_result"
    }
   ],
   "source": [
    "# Проверяю, что название изменилось\n",
    "df.columns"
   ]
  },
  {
   "cell_type": "code",
   "execution_count": 8,
   "id": "70fd9dbb",
   "metadata": {},
   "outputs": [],
   "source": [
    "# В случае, если количество балконов не указано, то заменяю значение на 0\n",
    "df['balcony'] = df['balcony'].fillna(0) "
   ]
  },
  {
   "cell_type": "code",
   "execution_count": 9,
   "id": "6880f5a5",
   "metadata": {},
   "outputs": [
    {
     "data": {
      "text/plain": [
       "0.0    15277\n",
       "1.0     4195\n",
       "2.0     3659\n",
       "5.0      304\n",
       "4.0      183\n",
       "3.0       81\n",
       "Name: balcony, dtype: int64"
      ]
     },
     "execution_count": 9,
     "metadata": {},
     "output_type": "execute_result"
    }
   ],
   "source": [
    "# Проверяем, что замена прошла\n",
    "df['balcony'].value_counts()"
   ]
  },
  {
   "cell_type": "code",
   "execution_count": 10,
   "id": "9cd31eb9",
   "metadata": {},
   "outputs": [
    {
     "data": {
      "text/plain": [
       "0       2019-03-07\n",
       "1       2018-12-04\n",
       "2       2015-08-20\n",
       "3       2015-07-24\n",
       "4       2018-06-19\n",
       "           ...    \n",
       "23694   2017-03-21\n",
       "23695   2018-01-15\n",
       "23696   2018-02-11\n",
       "23697   2017-03-28\n",
       "23698   2017-07-21\n",
       "Name: first_day_exposition, Length: 23699, dtype: datetime64[ns]"
      ]
     },
     "execution_count": 10,
     "metadata": {},
     "output_type": "execute_result"
    }
   ],
   "source": [
    "pd.to_datetime(df['first_day_exposition']) # Необходимо заменить формат даты "
   ]
  },
  {
   "cell_type": "markdown",
   "id": "939dce3f",
   "metadata": {},
   "source": [
    "## Причины, которые привели к пропускам данных:\n",
    "1.  Отсутсвие необходимости заполнять все строки при подаче объявления <br>\n",
    "- является апартаментами либо нет<br>\n",
    "- несвоевременное закрытие объявления (после фактической продажи)<br>\n",
    "- площадь кухни, площадь жилой зоны (по отдельности)<br>\n",
    "2. Отсутствие знаний клиента о некоторых параметрах жилья, которое он выставляет на продажу\n",
    "3. Технические проблемы во время отправки данных и обработки данных системой (Геолокация, удалённость от различных объектов) <br>\n",
    "4. Возможно, некорректное указание данных расположения квартиры, что мешает подсчёту расстояний до различных объектов "
   ]
  },
  {
   "cell_type": "code",
   "execution_count": 11,
   "id": "25e7d73f",
   "metadata": {
    "scrolled": true
   },
   "outputs": [
    {
     "data": {
      "text/html": [
       "<div>\n",
       "<style scoped>\n",
       "    .dataframe tbody tr th:only-of-type {\n",
       "        vertical-align: middle;\n",
       "    }\n",
       "\n",
       "    .dataframe tbody tr th {\n",
       "        vertical-align: top;\n",
       "    }\n",
       "\n",
       "    .dataframe thead th {\n",
       "        text-align: right;\n",
       "    }\n",
       "</style>\n",
       "<table border=\"1\" class=\"dataframe\">\n",
       "  <thead>\n",
       "    <tr style=\"text-align: right;\">\n",
       "      <th></th>\n",
       "      <th>total_images</th>\n",
       "      <th>last_price</th>\n",
       "      <th>total_area</th>\n",
       "      <th>first_day_exposition</th>\n",
       "      <th>rooms</th>\n",
       "      <th>ceiling_height</th>\n",
       "      <th>floors_total</th>\n",
       "      <th>living_area</th>\n",
       "      <th>floor</th>\n",
       "      <th>is_apartment</th>\n",
       "      <th>...</th>\n",
       "      <th>balcony</th>\n",
       "      <th>locality_name</th>\n",
       "      <th>airports_nearest</th>\n",
       "      <th>city_centers_nearest</th>\n",
       "      <th>parks_around3000</th>\n",
       "      <th>parks_nearest</th>\n",
       "      <th>ponds_around3000</th>\n",
       "      <th>ponds_nearest</th>\n",
       "      <th>days_exposition</th>\n",
       "      <th>square_meter_cost</th>\n",
       "    </tr>\n",
       "  </thead>\n",
       "  <tbody>\n",
       "    <tr>\n",
       "      <th>0</th>\n",
       "      <td>20</td>\n",
       "      <td>13000000.0</td>\n",
       "      <td>108.00</td>\n",
       "      <td>2019-03-07T00:00:00</td>\n",
       "      <td>3</td>\n",
       "      <td>2.70</td>\n",
       "      <td>16.0</td>\n",
       "      <td>51.00</td>\n",
       "      <td>8</td>\n",
       "      <td>NaN</td>\n",
       "      <td>...</td>\n",
       "      <td>0.0</td>\n",
       "      <td>Санкт-Петербург</td>\n",
       "      <td>18863.0</td>\n",
       "      <td>16028.0</td>\n",
       "      <td>1.0</td>\n",
       "      <td>482.0</td>\n",
       "      <td>2.0</td>\n",
       "      <td>755.0</td>\n",
       "      <td>NaN</td>\n",
       "      <td>120370.0</td>\n",
       "    </tr>\n",
       "    <tr>\n",
       "      <th>1</th>\n",
       "      <td>7</td>\n",
       "      <td>3350000.0</td>\n",
       "      <td>40.40</td>\n",
       "      <td>2018-12-04T00:00:00</td>\n",
       "      <td>1</td>\n",
       "      <td>NaN</td>\n",
       "      <td>11.0</td>\n",
       "      <td>18.60</td>\n",
       "      <td>1</td>\n",
       "      <td>NaN</td>\n",
       "      <td>...</td>\n",
       "      <td>2.0</td>\n",
       "      <td>посёлок Шушары</td>\n",
       "      <td>12817.0</td>\n",
       "      <td>18603.0</td>\n",
       "      <td>0.0</td>\n",
       "      <td>NaN</td>\n",
       "      <td>0.0</td>\n",
       "      <td>NaN</td>\n",
       "      <td>81.0</td>\n",
       "      <td>82921.0</td>\n",
       "    </tr>\n",
       "    <tr>\n",
       "      <th>2</th>\n",
       "      <td>10</td>\n",
       "      <td>5196000.0</td>\n",
       "      <td>56.00</td>\n",
       "      <td>2015-08-20T00:00:00</td>\n",
       "      <td>2</td>\n",
       "      <td>NaN</td>\n",
       "      <td>5.0</td>\n",
       "      <td>34.30</td>\n",
       "      <td>4</td>\n",
       "      <td>NaN</td>\n",
       "      <td>...</td>\n",
       "      <td>0.0</td>\n",
       "      <td>Санкт-Петербург</td>\n",
       "      <td>21741.0</td>\n",
       "      <td>13933.0</td>\n",
       "      <td>1.0</td>\n",
       "      <td>90.0</td>\n",
       "      <td>2.0</td>\n",
       "      <td>574.0</td>\n",
       "      <td>558.0</td>\n",
       "      <td>92786.0</td>\n",
       "    </tr>\n",
       "    <tr>\n",
       "      <th>3</th>\n",
       "      <td>0</td>\n",
       "      <td>64900000.0</td>\n",
       "      <td>159.00</td>\n",
       "      <td>2015-07-24T00:00:00</td>\n",
       "      <td>3</td>\n",
       "      <td>NaN</td>\n",
       "      <td>14.0</td>\n",
       "      <td>NaN</td>\n",
       "      <td>9</td>\n",
       "      <td>NaN</td>\n",
       "      <td>...</td>\n",
       "      <td>0.0</td>\n",
       "      <td>Санкт-Петербург</td>\n",
       "      <td>28098.0</td>\n",
       "      <td>6800.0</td>\n",
       "      <td>2.0</td>\n",
       "      <td>84.0</td>\n",
       "      <td>3.0</td>\n",
       "      <td>234.0</td>\n",
       "      <td>424.0</td>\n",
       "      <td>408176.0</td>\n",
       "    </tr>\n",
       "    <tr>\n",
       "      <th>4</th>\n",
       "      <td>2</td>\n",
       "      <td>10000000.0</td>\n",
       "      <td>100.00</td>\n",
       "      <td>2018-06-19T00:00:00</td>\n",
       "      <td>2</td>\n",
       "      <td>3.03</td>\n",
       "      <td>14.0</td>\n",
       "      <td>32.00</td>\n",
       "      <td>13</td>\n",
       "      <td>NaN</td>\n",
       "      <td>...</td>\n",
       "      <td>0.0</td>\n",
       "      <td>Санкт-Петербург</td>\n",
       "      <td>31856.0</td>\n",
       "      <td>8098.0</td>\n",
       "      <td>2.0</td>\n",
       "      <td>112.0</td>\n",
       "      <td>1.0</td>\n",
       "      <td>48.0</td>\n",
       "      <td>121.0</td>\n",
       "      <td>100000.0</td>\n",
       "    </tr>\n",
       "    <tr>\n",
       "      <th>5</th>\n",
       "      <td>10</td>\n",
       "      <td>2890000.0</td>\n",
       "      <td>30.40</td>\n",
       "      <td>2018-09-10T00:00:00</td>\n",
       "      <td>1</td>\n",
       "      <td>NaN</td>\n",
       "      <td>12.0</td>\n",
       "      <td>14.40</td>\n",
       "      <td>5</td>\n",
       "      <td>NaN</td>\n",
       "      <td>...</td>\n",
       "      <td>0.0</td>\n",
       "      <td>городской посёлок Янино-1</td>\n",
       "      <td>NaN</td>\n",
       "      <td>NaN</td>\n",
       "      <td>NaN</td>\n",
       "      <td>NaN</td>\n",
       "      <td>NaN</td>\n",
       "      <td>NaN</td>\n",
       "      <td>55.0</td>\n",
       "      <td>95066.0</td>\n",
       "    </tr>\n",
       "    <tr>\n",
       "      <th>6</th>\n",
       "      <td>6</td>\n",
       "      <td>3700000.0</td>\n",
       "      <td>37.30</td>\n",
       "      <td>2017-11-02T00:00:00</td>\n",
       "      <td>1</td>\n",
       "      <td>NaN</td>\n",
       "      <td>26.0</td>\n",
       "      <td>10.60</td>\n",
       "      <td>6</td>\n",
       "      <td>NaN</td>\n",
       "      <td>...</td>\n",
       "      <td>1.0</td>\n",
       "      <td>посёлок Парголово</td>\n",
       "      <td>52996.0</td>\n",
       "      <td>19143.0</td>\n",
       "      <td>0.0</td>\n",
       "      <td>NaN</td>\n",
       "      <td>0.0</td>\n",
       "      <td>NaN</td>\n",
       "      <td>155.0</td>\n",
       "      <td>99196.0</td>\n",
       "    </tr>\n",
       "    <tr>\n",
       "      <th>7</th>\n",
       "      <td>5</td>\n",
       "      <td>7915000.0</td>\n",
       "      <td>71.60</td>\n",
       "      <td>2019-04-18T00:00:00</td>\n",
       "      <td>2</td>\n",
       "      <td>NaN</td>\n",
       "      <td>24.0</td>\n",
       "      <td>NaN</td>\n",
       "      <td>22</td>\n",
       "      <td>NaN</td>\n",
       "      <td>...</td>\n",
       "      <td>2.0</td>\n",
       "      <td>Санкт-Петербург</td>\n",
       "      <td>23982.0</td>\n",
       "      <td>11634.0</td>\n",
       "      <td>0.0</td>\n",
       "      <td>NaN</td>\n",
       "      <td>0.0</td>\n",
       "      <td>NaN</td>\n",
       "      <td>NaN</td>\n",
       "      <td>110545.0</td>\n",
       "    </tr>\n",
       "    <tr>\n",
       "      <th>8</th>\n",
       "      <td>20</td>\n",
       "      <td>2900000.0</td>\n",
       "      <td>33.16</td>\n",
       "      <td>2018-05-23T00:00:00</td>\n",
       "      <td>1</td>\n",
       "      <td>NaN</td>\n",
       "      <td>27.0</td>\n",
       "      <td>15.43</td>\n",
       "      <td>26</td>\n",
       "      <td>NaN</td>\n",
       "      <td>...</td>\n",
       "      <td>0.0</td>\n",
       "      <td>посёлок Мурино</td>\n",
       "      <td>NaN</td>\n",
       "      <td>NaN</td>\n",
       "      <td>NaN</td>\n",
       "      <td>NaN</td>\n",
       "      <td>NaN</td>\n",
       "      <td>NaN</td>\n",
       "      <td>189.0</td>\n",
       "      <td>87455.0</td>\n",
       "    </tr>\n",
       "    <tr>\n",
       "      <th>9</th>\n",
       "      <td>18</td>\n",
       "      <td>5400000.0</td>\n",
       "      <td>61.00</td>\n",
       "      <td>2017-02-26T00:00:00</td>\n",
       "      <td>3</td>\n",
       "      <td>2.50</td>\n",
       "      <td>9.0</td>\n",
       "      <td>43.60</td>\n",
       "      <td>7</td>\n",
       "      <td>NaN</td>\n",
       "      <td>...</td>\n",
       "      <td>2.0</td>\n",
       "      <td>Санкт-Петербург</td>\n",
       "      <td>50898.0</td>\n",
       "      <td>15008.0</td>\n",
       "      <td>0.0</td>\n",
       "      <td>NaN</td>\n",
       "      <td>0.0</td>\n",
       "      <td>NaN</td>\n",
       "      <td>289.0</td>\n",
       "      <td>88525.0</td>\n",
       "    </tr>\n",
       "  </tbody>\n",
       "</table>\n",
       "<p>10 rows × 23 columns</p>\n",
       "</div>"
      ],
      "text/plain": [
       "   total_images  last_price  total_area first_day_exposition  rooms  \\\n",
       "0            20  13000000.0      108.00  2019-03-07T00:00:00      3   \n",
       "1             7   3350000.0       40.40  2018-12-04T00:00:00      1   \n",
       "2            10   5196000.0       56.00  2015-08-20T00:00:00      2   \n",
       "3             0  64900000.0      159.00  2015-07-24T00:00:00      3   \n",
       "4             2  10000000.0      100.00  2018-06-19T00:00:00      2   \n",
       "5            10   2890000.0       30.40  2018-09-10T00:00:00      1   \n",
       "6             6   3700000.0       37.30  2017-11-02T00:00:00      1   \n",
       "7             5   7915000.0       71.60  2019-04-18T00:00:00      2   \n",
       "8            20   2900000.0       33.16  2018-05-23T00:00:00      1   \n",
       "9            18   5400000.0       61.00  2017-02-26T00:00:00      3   \n",
       "\n",
       "   ceiling_height  floors_total  living_area  floor is_apartment  ...  \\\n",
       "0            2.70          16.0        51.00      8          NaN  ...   \n",
       "1             NaN          11.0        18.60      1          NaN  ...   \n",
       "2             NaN           5.0        34.30      4          NaN  ...   \n",
       "3             NaN          14.0          NaN      9          NaN  ...   \n",
       "4            3.03          14.0        32.00     13          NaN  ...   \n",
       "5             NaN          12.0        14.40      5          NaN  ...   \n",
       "6             NaN          26.0        10.60      6          NaN  ...   \n",
       "7             NaN          24.0          NaN     22          NaN  ...   \n",
       "8             NaN          27.0        15.43     26          NaN  ...   \n",
       "9            2.50           9.0        43.60      7          NaN  ...   \n",
       "\n",
       "   balcony              locality_name  airports_nearest  city_centers_nearest  \\\n",
       "0      0.0            Санкт-Петербург           18863.0               16028.0   \n",
       "1      2.0             посёлок Шушары           12817.0               18603.0   \n",
       "2      0.0            Санкт-Петербург           21741.0               13933.0   \n",
       "3      0.0            Санкт-Петербург           28098.0                6800.0   \n",
       "4      0.0            Санкт-Петербург           31856.0                8098.0   \n",
       "5      0.0  городской посёлок Янино-1               NaN                   NaN   \n",
       "6      1.0          посёлок Парголово           52996.0               19143.0   \n",
       "7      2.0            Санкт-Петербург           23982.0               11634.0   \n",
       "8      0.0             посёлок Мурино               NaN                   NaN   \n",
       "9      2.0            Санкт-Петербург           50898.0               15008.0   \n",
       "\n",
       "  parks_around3000  parks_nearest  ponds_around3000  ponds_nearest  \\\n",
       "0              1.0          482.0               2.0          755.0   \n",
       "1              0.0            NaN               0.0            NaN   \n",
       "2              1.0           90.0               2.0          574.0   \n",
       "3              2.0           84.0               3.0          234.0   \n",
       "4              2.0          112.0               1.0           48.0   \n",
       "5              NaN            NaN               NaN            NaN   \n",
       "6              0.0            NaN               0.0            NaN   \n",
       "7              0.0            NaN               0.0            NaN   \n",
       "8              NaN            NaN               NaN            NaN   \n",
       "9              0.0            NaN               0.0            NaN   \n",
       "\n",
       "   days_exposition  square_meter_cost  \n",
       "0              NaN           120370.0  \n",
       "1             81.0            82921.0  \n",
       "2            558.0            92786.0  \n",
       "3            424.0           408176.0  \n",
       "4            121.0           100000.0  \n",
       "5             55.0            95066.0  \n",
       "6            155.0            99196.0  \n",
       "7              NaN           110545.0  \n",
       "8            189.0            87455.0  \n",
       "9            289.0            88525.0  \n",
       "\n",
       "[10 rows x 23 columns]"
      ]
     },
     "execution_count": 11,
     "metadata": {},
     "output_type": "execute_result"
    }
   ],
   "source": [
    "# Добавляю в таблицу стоимость квадратного метра\n",
    "df['square_meter_cost'] = round(df['last_price'] / df['total_area'], 0)\n",
    "df.head(10)"
   ]
  },
  {
   "cell_type": "code",
   "execution_count": 12,
   "id": "84fae73c",
   "metadata": {},
   "outputs": [],
   "source": [
    "# Изменяю формат данных, для удобной работы с ними:\n",
    "\n",
    "df['last_price'] = df[df['last_price'].notnull()]['last_price'].astype('int')\n",
    "df['floors_total'] = df[df['floors_total'].notnull()]['floors_total'].astype('int')\n",
    "df['balcony'] = df[df['balcony'].notnull()]['balcony'].astype('int')\n",
    "df['square_meter_cost'] = df[df['square_meter_cost'].notnull()]['square_meter_cost'].astype('int')\n",
    "\n",
    "df['total_area'] = df[df['total_area'].notnull()]['total_area'].round(1)\n",
    "df['ceiling_height'] = df[df['ceiling_height'].notnull()]['ceiling_height'].round(1)\n",
    "df['living_area'] = df[df['living_area'].notnull()]['living_area'].round(1)\n",
    "df['kitchen_area'] = df[df['kitchen_area'].notnull()]['kitchen_area'].round(1)"
   ]
  },
  {
   "cell_type": "code",
   "execution_count": 13,
   "id": "228f3cd2",
   "metadata": {
    "scrolled": true
   },
   "outputs": [],
   "source": [
    "# Добавляю в таблицу день недели, месяц и год публикации объявления\n",
    "\n",
    "df['first_day_exposition'] = pd.to_datetime(df['first_day_exposition'])\n",
    "\n",
    "df['day_of_publication'] = df['first_day_exposition'].dt.day_name()\n",
    "df['month_of_publication'] = df['first_day_exposition'].dt.month_name()\n",
    "df['year_of_publication'] = df['first_day_exposition'].dt.year"
   ]
  },
  {
   "cell_type": "code",
   "execution_count": 14,
   "id": "72a8f0ec",
   "metadata": {
    "scrolled": true
   },
   "outputs": [
    {
     "data": {
      "text/html": [
       "<div>\n",
       "<style scoped>\n",
       "    .dataframe tbody tr th:only-of-type {\n",
       "        vertical-align: middle;\n",
       "    }\n",
       "\n",
       "    .dataframe tbody tr th {\n",
       "        vertical-align: top;\n",
       "    }\n",
       "\n",
       "    .dataframe thead th {\n",
       "        text-align: right;\n",
       "    }\n",
       "</style>\n",
       "<table border=\"1\" class=\"dataframe\">\n",
       "  <thead>\n",
       "    <tr style=\"text-align: right;\">\n",
       "      <th></th>\n",
       "      <th>total_images</th>\n",
       "      <th>last_price</th>\n",
       "      <th>total_area</th>\n",
       "      <th>first_day_exposition</th>\n",
       "      <th>rooms</th>\n",
       "      <th>ceiling_height</th>\n",
       "      <th>floors_total</th>\n",
       "      <th>living_area</th>\n",
       "      <th>floor</th>\n",
       "      <th>is_apartment</th>\n",
       "      <th>...</th>\n",
       "      <th>city_centers_nearest</th>\n",
       "      <th>parks_around3000</th>\n",
       "      <th>parks_nearest</th>\n",
       "      <th>ponds_around3000</th>\n",
       "      <th>ponds_nearest</th>\n",
       "      <th>days_exposition</th>\n",
       "      <th>square_meter_cost</th>\n",
       "      <th>day_of_publication</th>\n",
       "      <th>month_of_publication</th>\n",
       "      <th>year_of_publication</th>\n",
       "    </tr>\n",
       "  </thead>\n",
       "  <tbody>\n",
       "    <tr>\n",
       "      <th>0</th>\n",
       "      <td>20</td>\n",
       "      <td>13000000</td>\n",
       "      <td>108.0</td>\n",
       "      <td>2019-03-07</td>\n",
       "      <td>3</td>\n",
       "      <td>2.7</td>\n",
       "      <td>16.0</td>\n",
       "      <td>51.0</td>\n",
       "      <td>8</td>\n",
       "      <td>NaN</td>\n",
       "      <td>...</td>\n",
       "      <td>16028.0</td>\n",
       "      <td>1.0</td>\n",
       "      <td>482.0</td>\n",
       "      <td>2.0</td>\n",
       "      <td>755.0</td>\n",
       "      <td>NaN</td>\n",
       "      <td>120370</td>\n",
       "      <td>Thursday</td>\n",
       "      <td>March</td>\n",
       "      <td>2019</td>\n",
       "    </tr>\n",
       "    <tr>\n",
       "      <th>1</th>\n",
       "      <td>7</td>\n",
       "      <td>3350000</td>\n",
       "      <td>40.4</td>\n",
       "      <td>2018-12-04</td>\n",
       "      <td>1</td>\n",
       "      <td>NaN</td>\n",
       "      <td>11.0</td>\n",
       "      <td>18.6</td>\n",
       "      <td>1</td>\n",
       "      <td>NaN</td>\n",
       "      <td>...</td>\n",
       "      <td>18603.0</td>\n",
       "      <td>0.0</td>\n",
       "      <td>NaN</td>\n",
       "      <td>0.0</td>\n",
       "      <td>NaN</td>\n",
       "      <td>81.0</td>\n",
       "      <td>82921</td>\n",
       "      <td>Tuesday</td>\n",
       "      <td>December</td>\n",
       "      <td>2018</td>\n",
       "    </tr>\n",
       "    <tr>\n",
       "      <th>2</th>\n",
       "      <td>10</td>\n",
       "      <td>5196000</td>\n",
       "      <td>56.0</td>\n",
       "      <td>2015-08-20</td>\n",
       "      <td>2</td>\n",
       "      <td>NaN</td>\n",
       "      <td>5.0</td>\n",
       "      <td>34.3</td>\n",
       "      <td>4</td>\n",
       "      <td>NaN</td>\n",
       "      <td>...</td>\n",
       "      <td>13933.0</td>\n",
       "      <td>1.0</td>\n",
       "      <td>90.0</td>\n",
       "      <td>2.0</td>\n",
       "      <td>574.0</td>\n",
       "      <td>558.0</td>\n",
       "      <td>92786</td>\n",
       "      <td>Thursday</td>\n",
       "      <td>August</td>\n",
       "      <td>2015</td>\n",
       "    </tr>\n",
       "    <tr>\n",
       "      <th>3</th>\n",
       "      <td>0</td>\n",
       "      <td>64900000</td>\n",
       "      <td>159.0</td>\n",
       "      <td>2015-07-24</td>\n",
       "      <td>3</td>\n",
       "      <td>NaN</td>\n",
       "      <td>14.0</td>\n",
       "      <td>NaN</td>\n",
       "      <td>9</td>\n",
       "      <td>NaN</td>\n",
       "      <td>...</td>\n",
       "      <td>6800.0</td>\n",
       "      <td>2.0</td>\n",
       "      <td>84.0</td>\n",
       "      <td>3.0</td>\n",
       "      <td>234.0</td>\n",
       "      <td>424.0</td>\n",
       "      <td>408176</td>\n",
       "      <td>Friday</td>\n",
       "      <td>July</td>\n",
       "      <td>2015</td>\n",
       "    </tr>\n",
       "    <tr>\n",
       "      <th>4</th>\n",
       "      <td>2</td>\n",
       "      <td>10000000</td>\n",
       "      <td>100.0</td>\n",
       "      <td>2018-06-19</td>\n",
       "      <td>2</td>\n",
       "      <td>3.0</td>\n",
       "      <td>14.0</td>\n",
       "      <td>32.0</td>\n",
       "      <td>13</td>\n",
       "      <td>NaN</td>\n",
       "      <td>...</td>\n",
       "      <td>8098.0</td>\n",
       "      <td>2.0</td>\n",
       "      <td>112.0</td>\n",
       "      <td>1.0</td>\n",
       "      <td>48.0</td>\n",
       "      <td>121.0</td>\n",
       "      <td>100000</td>\n",
       "      <td>Tuesday</td>\n",
       "      <td>June</td>\n",
       "      <td>2018</td>\n",
       "    </tr>\n",
       "  </tbody>\n",
       "</table>\n",
       "<p>5 rows × 26 columns</p>\n",
       "</div>"
      ],
      "text/plain": [
       "   total_images  last_price  total_area first_day_exposition  rooms  \\\n",
       "0            20    13000000       108.0           2019-03-07      3   \n",
       "1             7     3350000        40.4           2018-12-04      1   \n",
       "2            10     5196000        56.0           2015-08-20      2   \n",
       "3             0    64900000       159.0           2015-07-24      3   \n",
       "4             2    10000000       100.0           2018-06-19      2   \n",
       "\n",
       "   ceiling_height  floors_total  living_area  floor is_apartment  ...  \\\n",
       "0             2.7          16.0         51.0      8          NaN  ...   \n",
       "1             NaN          11.0         18.6      1          NaN  ...   \n",
       "2             NaN           5.0         34.3      4          NaN  ...   \n",
       "3             NaN          14.0          NaN      9          NaN  ...   \n",
       "4             3.0          14.0         32.0     13          NaN  ...   \n",
       "\n",
       "   city_centers_nearest  parks_around3000  parks_nearest  ponds_around3000  \\\n",
       "0               16028.0               1.0          482.0               2.0   \n",
       "1               18603.0               0.0            NaN               0.0   \n",
       "2               13933.0               1.0           90.0               2.0   \n",
       "3                6800.0               2.0           84.0               3.0   \n",
       "4                8098.0               2.0          112.0               1.0   \n",
       "\n",
       "  ponds_nearest  days_exposition  square_meter_cost  day_of_publication  \\\n",
       "0         755.0              NaN             120370            Thursday   \n",
       "1           NaN             81.0              82921             Tuesday   \n",
       "2         574.0            558.0              92786            Thursday   \n",
       "3         234.0            424.0             408176              Friday   \n",
       "4          48.0            121.0             100000             Tuesday   \n",
       "\n",
       "   month_of_publication  year_of_publication  \n",
       "0                 March                 2019  \n",
       "1              December                 2018  \n",
       "2                August                 2015  \n",
       "3                  July                 2015  \n",
       "4                  June                 2018  \n",
       "\n",
       "[5 rows x 26 columns]"
      ]
     },
     "execution_count": 14,
     "metadata": {},
     "output_type": "execute_result"
    }
   ],
   "source": [
    "# Смотрю как изменилось представление данных в таблице\n",
    "df.head()"
   ]
  },
  {
   "cell_type": "code",
   "execution_count": 15,
   "id": "b51d72c3",
   "metadata": {
    "scrolled": true
   },
   "outputs": [
    {
     "data": {
      "text/plain": [
       "year_of_publication\n",
       "2018     5950966.0\n",
       "2017     6585729.0\n",
       "2019     6782388.0\n",
       "2016     6827912.0\n",
       "2015     8572833.0\n",
       "2014    12087136.0\n",
       "Name: last_price, dtype: float64"
      ]
     },
     "execution_count": 15,
     "metadata": {},
     "output_type": "execute_result"
    }
   ],
   "source": [
    "# Нахожу зависимость средней цены от года публикации\n",
    "df.groupby('year_of_publication')['last_price'].mean().sort_values(ascending=True).round()"
   ]
  },
  {
   "cell_type": "markdown",
   "id": "41e26aa4",
   "metadata": {},
   "source": [
    "В 2014 году был высокий спрос на квартиры, цены были высокими. В дальнейшем цены на недвижимость постепенно падали"
   ]
  },
  {
   "cell_type": "code",
   "execution_count": 16,
   "id": "fed9b05e",
   "metadata": {
    "scrolled": true
   },
   "outputs": [
    {
     "data": {
      "text/plain": [
       "month_of_publication\n",
       "October      6235013.0\n",
       "June         6310269.0\n",
       "August       6350233.0\n",
       "March        6359275.0\n",
       "November     6461363.0\n",
       "February     6468500.0\n",
       "May          6600435.0\n",
       "July         6649337.0\n",
       "January      6668233.0\n",
       "April        6737198.0\n",
       "September    6825470.0\n",
       "December     7011731.0\n",
       "Name: last_price, dtype: float64"
      ]
     },
     "execution_count": 16,
     "metadata": {},
     "output_type": "execute_result"
    }
   ],
   "source": [
    "# Нахожу зависимость средней цены от месяца публикации\n",
    "df.groupby('month_of_publication')['last_price'].mean().sort_values(ascending=True).round()"
   ]
  },
  {
   "cell_type": "markdown",
   "id": "8c74a424",
   "metadata": {},
   "source": [
    "Можно заметить, что люди выставляют более высокие цены на квартиры к концу года"
   ]
  },
  {
   "cell_type": "code",
   "execution_count": 17,
   "id": "33fd2634",
   "metadata": {},
   "outputs": [
    {
     "data": {
      "text/plain": [
       "day_of_publication\n",
       "Sunday       6246180.0\n",
       "Friday       6372131.0\n",
       "Tuesday      6394233.0\n",
       "Monday       6511613.0\n",
       "Wednesday    6627970.0\n",
       "Thursday     6708663.0\n",
       "Saturday     6976804.0\n",
       "Name: last_price, dtype: float64"
      ]
     },
     "execution_count": 17,
     "metadata": {},
     "output_type": "execute_result"
    }
   ],
   "source": [
    "# Нахожу зависимость средней цены от дня публикации\n",
    "df.groupby('day_of_publication')['last_price'].mean().sort_values(ascending=True).round()"
   ]
  },
  {
   "cell_type": "markdown",
   "id": "bdd4a229",
   "metadata": {},
   "source": [
    "Во время рабочей недели люди выставляют квартиры с более дорогими ценами"
   ]
  },
  {
   "cell_type": "code",
   "execution_count": 18,
   "id": "4a6cd312",
   "metadata": {},
   "outputs": [],
   "source": [
    "# Добавляю в таблицу этаж квартиры в текстовом формате (первый, последний, другой)\n",
    "\n",
    "full_floor = []\n",
    "x = 0\n",
    "for value in df['floor']:\n",
    "    if value == 1:\n",
    "        full_floor.append('Первый')\n",
    "    elif value == df['floors_total'][x]:\n",
    "        full_floor.append('Последний')\n",
    "    else:\n",
    "        full_floor.append('Другое')\n",
    "    x += 1\n",
    "        \n",
    "df['full_floor'] = full_floor"
   ]
  },
  {
   "cell_type": "code",
   "execution_count": 19,
   "id": "790c6e88",
   "metadata": {},
   "outputs": [],
   "source": [
    "# Проверяю как отработал цикл\n",
    "\n",
    "# display(df[df['full_floor'] == 'Первый'])\n",
    "# display(df[df['full_floor'] == 'Последний'])\n",
    "# display(df[df['full_floor'] == 'Другое'])"
   ]
  },
  {
   "cell_type": "code",
   "execution_count": 20,
   "id": "d35ce8d3",
   "metadata": {},
   "outputs": [],
   "source": [
    "# Добавляю в таблицу соотношение жилой и общей площади, а также отношение площади кухни к общей.\n",
    "\n",
    "df['living_total_ratio'] = round(df['living_area'] / df['total_area'], 2) * 100\n",
    "df['kitchen_total_ratio'] = round(df['kitchen_area'] / df['total_area'], 2) * 100"
   ]
  },
  {
   "cell_type": "code",
   "execution_count": 21,
   "id": "45171369",
   "metadata": {},
   "outputs": [
    {
     "data": {
      "text/plain": [
       "Index(['total_images', 'last_price', 'total_area', 'first_day_exposition',\n",
       "       'rooms', 'ceiling_height', 'floors_total', 'living_area', 'floor',\n",
       "       'is_apartment', 'studio', 'open_plan', 'kitchen_area', 'balcony',\n",
       "       'locality_name', 'airports_nearest', 'city_centers_nearest',\n",
       "       'parks_around3000', 'parks_nearest', 'ponds_around3000',\n",
       "       'ponds_nearest', 'days_exposition', 'square_meter_cost',\n",
       "       'day_of_publication', 'month_of_publication', 'year_of_publication',\n",
       "       'full_floor', 'living_total_ratio', 'kitchen_total_ratio'],\n",
       "      dtype='object')"
      ]
     },
     "execution_count": 21,
     "metadata": {},
     "output_type": "execute_result"
    }
   ],
   "source": [
    "df.columns"
   ]
  },
  {
   "cell_type": "code",
   "execution_count": 22,
   "id": "d95bbae3",
   "metadata": {},
   "outputs": [
    {
     "data": {
      "text/plain": [
       "Index(['total_images', 'last_price', 'total_area', 'first_day_exposition',\n",
       "       'days_exposition', 'day_of_publication', 'month_of_publication',\n",
       "       'year_of_publication', 'rooms', 'ceiling_height', 'floors_total',\n",
       "       'floor', 'full_floor', 'living_area', 'living_total_ratio',\n",
       "       'kitchen_area', 'kitchen_total_ratio', 'is_apartment', 'studio',\n",
       "       'open_plan', 'balcony', 'locality_name', 'airports_nearest',\n",
       "       'city_centers_nearest', 'parks_around3000', 'parks_nearest',\n",
       "       'ponds_around3000', 'ponds_nearest', 'square_meter_cost'],\n",
       "      dtype='object')"
      ]
     },
     "execution_count": 22,
     "metadata": {},
     "output_type": "execute_result"
    }
   ],
   "source": [
    "# Меняю колонки местами для удобства работы\n",
    "\n",
    "column_names = ['total_images',\n",
    "                'last_price',\n",
    "                'total_area',\n",
    "                'first_day_exposition',\n",
    "                'days_exposition',\n",
    "                'day_of_publication',\n",
    "                'month_of_publication',\n",
    "                'year_of_publication',\n",
    "                'rooms',\n",
    "                'ceiling_height',\n",
    "                'floors_total',\n",
    "                'floor',\n",
    "                'full_floor',\n",
    "                'living_area',\n",
    "                'living_total_ratio',\n",
    "                'kitchen_area',\n",
    "                'kitchen_total_ratio',\n",
    "                'is_apartment',\n",
    "                'studio', 'open_plan',\n",
    "                'balcony',\n",
    "                'locality_name',\n",
    "                'airports_nearest',\n",
    "                'city_centers_nearest',\n",
    "                'parks_around3000',\n",
    "                'parks_nearest',\n",
    "                'ponds_around3000',\n",
    "                'ponds_nearest',\n",
    "                'square_meter_cost']\n",
    "\n",
    "df = df.reindex(columns=column_names)\n",
    "df.columns"
   ]
  },
  {
   "cell_type": "code",
   "execution_count": 23,
   "id": "facfd164",
   "metadata": {},
   "outputs": [
    {
     "data": {
      "text/plain": [
       "array([[<AxesSubplot:title={'center':'total_area'}>]], dtype=object)"
      ]
     },
     "execution_count": 23,
     "metadata": {},
     "output_type": "execute_result"
    },
    {
     "data": {
      "image/png": "[encoded data removed]",
      "text/plain": [
       "<Figure size 1440x720 with 1 Axes>"
      ]
     },
     "metadata": {
      "needs_background": "light"
     },
     "output_type": "display_data"
    }
   ],
   "source": [
    "# Распределение квартир по общей площади\n",
    "\n",
    "df.hist(column='total_area', bins=100, range=(15,200), figsize=(20, 10), grid=True, color='purple')"
   ]
  },
  {
   "cell_type": "markdown",
   "id": "c4c104f4",
   "metadata": {},
   "source": [
    "Из данного графика можно сделать вывод о том, что площадь подавляющего количества квартир на рынке от 30 до 75 квадратных метров. "
   ]
  },
  {
   "cell_type": "code",
   "execution_count": 24,
   "id": "0d5091cf",
   "metadata": {
    "scrolled": true
   },
   "outputs": [
    {
     "data": {
      "text/plain": [
       "array([[<AxesSubplot:title={'center':'last_price'}>]], dtype=object)"
      ]
     },
     "execution_count": 24,
     "metadata": {},
     "output_type": "execute_result"
    },
    {
     "data": {
      "image/png": "[encoded data removed]",
      "text/plain": [
       "<Figure size 1440x720 with 1 Axes>"
      ]
     },
     "metadata": {
      "needs_background": "light"
     },
     "output_type": "display_data"
    }
   ],
   "source": [
    "# Распределение квартир по ценам\n",
    "\n",
    "df.hist(column='last_price', range=(1, 20000000), bins=100, figsize=(20, 10), grid=True, color='green')\n",
    "# df['last_price'].describe()\n"
   ]
  },
  {
   "cell_type": "markdown",
   "id": "af32da67",
   "metadata": {},
   "source": [
    "Задаю ограничение по стоимости до 20 млн.руб., чтобы с гистограммой можно было работать\n",
    "\n",
    "Из данного графика становится очевидно, что большинство квартир на рынке продаются от 2 млн. руб.  до 7,5 млн. руб. "
   ]
  },
  {
   "cell_type": "code",
   "execution_count": 25,
   "id": "72b73fcc",
   "metadata": {
    "scrolled": true
   },
   "outputs": [
    {
     "data": {
      "image/png": "[encoded data removed]",
      "text/plain": [
       "<Figure size 432x288 with 1 Axes>"
      ]
     },
     "metadata": {
      "needs_background": "light"
     },
     "output_type": "display_data"
    }
   ],
   "source": [
    "# Распределение квартир по числу комнат\n",
    "\n",
    "data_rooms = df['rooms']\n",
    "\n",
    "plt.hist(data_rooms, bins=20)\n",
    "plt.xticks(range(0,20))\n",
    "plt.show()"
   ]
  },
  {
   "cell_type": "code",
   "execution_count": 26,
   "id": "be67c42f",
   "metadata": {
    "scrolled": true
   },
   "outputs": [
    {
     "data": {
      "text/plain": [
       "0      197\n",
       "1     8047\n",
       "2     7940\n",
       "3     5814\n",
       "4     1180\n",
       "5      326\n",
       "6      105\n",
       "7       59\n",
       "8       12\n",
       "9        8\n",
       "10       3\n",
       "11       2\n",
       "12       1\n",
       "14       2\n",
       "15       1\n",
       "16       1\n",
       "19       1\n",
       "Name: rooms, dtype: int64"
      ]
     },
     "execution_count": 26,
     "metadata": {},
     "output_type": "execute_result"
    }
   ],
   "source": [
    "# Проверяю, что гистограмма была построена правильно\n",
    "df['rooms'].value_counts().sort_index()"
   ]
  },
  {
   "cell_type": "markdown",
   "id": "93fbcb01",
   "metadata": {},
   "source": [
    "Можно сделать вывод, что наибольшей популярностью на рынке пользуются 1-комнатные, 2-комнатные и 3-комнатные квартиры. Процент 4-комнатных квартир на рынке значительно ниже. Количество квартир с 5-ю комнатами и более несравнимо ниже."
   ]
  },
  {
   "cell_type": "code",
   "execution_count": 27,
   "id": "e9b11ac5",
   "metadata": {
    "scrolled": true
   },
   "outputs": [
    {
     "data": {
      "text/plain": [
       "array([[<AxesSubplot:title={'center':'ceiling_height'}>]], dtype=object)"
      ]
     },
     "execution_count": 27,
     "metadata": {},
     "output_type": "execute_result"
    },
    {
     "data": {
      "image/png": "[encoded data removed]",
      "text/plain": [
       "<Figure size 1440x720 with 1 Axes>"
      ]
     },
     "metadata": {
      "needs_background": "light"
     },
     "output_type": "display_data"
    }
   ],
   "source": [
    "# Распределение квартир по высоте потолков\n",
    "\n",
    "df.hist(column='ceiling_height', range=(2, 4), bins=10, figsize=(20, 10), grid=True, color='grey')\n",
    "# df[\"ceiling_height\"].describe()"
   ]
  },
  {
   "cell_type": "code",
   "execution_count": 28,
   "id": "0de9d9ba",
   "metadata": {},
   "outputs": [
    {
     "data": {
      "text/plain": [
       "1.0         1\n",
       "1.2         1\n",
       "1.8         1\n",
       "2.0        11\n",
       "2.2         2\n",
       "2.3         5\n",
       "2.4        38\n",
       "2.5      3792\n",
       "2.6      3734\n",
       "2.7      1759\n",
       "2.8      2247\n",
       "2.9       213\n",
       "3.0      1241\n",
       "3.1       285\n",
       "3.2       407\n",
       "3.3       182\n",
       "3.4       138\n",
       "3.5       157\n",
       "3.6        73\n",
       "3.7        38\n",
       "3.8        37\n",
       "3.9        19\n",
       "4.0        48\n",
       "4.1         5\n",
       "4.2        14\n",
       "4.3         1\n",
       "4.4         6\n",
       "4.5         7\n",
       "4.6         1\n",
       "4.7         2\n",
       "4.8         1\n",
       "4.9         1\n",
       "5.0         1\n",
       "5.2         1\n",
       "5.3         2\n",
       "5.5         1\n",
       "5.6         1\n",
       "5.8         1\n",
       "6.0         1\n",
       "8.0         3\n",
       "8.3         1\n",
       "10.3        1\n",
       "14.0        1\n",
       "20.0        1\n",
       "22.6        1\n",
       "24.0        1\n",
       "25.0        7\n",
       "26.0        1\n",
       "27.0        8\n",
       "27.5        1\n",
       "32.0        2\n",
       "100.0       1\n",
       "Name: ceiling_height, dtype: int64"
      ]
     },
     "execution_count": 28,
     "metadata": {},
     "output_type": "execute_result"
    }
   ],
   "source": [
    "df['ceiling_height'].value_counts().sort_index()"
   ]
  },
  {
   "cell_type": "markdown",
   "id": "13168c72",
   "metadata": {},
   "source": [
    "Реальная высота потолков начинается от двух метров и заканчивается на 4,5 метрах. Остальные данные можно считать “выбросами”. Разумеется, что квартир с потолками 32м или 100м не существует. "
   ]
  },
  {
   "cell_type": "code",
   "execution_count": 29,
   "id": "d8afef8c",
   "metadata": {},
   "outputs": [
    {
     "data": {
      "text/plain": [
       "181.0"
      ]
     },
     "execution_count": 29,
     "metadata": {},
     "output_type": "execute_result"
    }
   ],
   "source": [
    "# Изучаю среднее время продажи квартиры, нахожу средние и медиану. Определяю время “быстрой” и “медленной” продажи. \n",
    "\n",
    "# среднее время продажи квартиры\n",
    "round(df['days_exposition'].mean() , 0)"
   ]
  },
  {
   "cell_type": "code",
   "execution_count": 30,
   "id": "fa5cb5e6",
   "metadata": {},
   "outputs": [
    {
     "data": {
      "text/plain": [
       "95.0"
      ]
     },
     "execution_count": 30,
     "metadata": {},
     "output_type": "execute_result"
    }
   ],
   "source": [
    "# Медианое значение времени продажи квартиры\n",
    "df['days_exposition'].median()"
   ]
  },
  {
   "cell_type": "code",
   "execution_count": 31,
   "id": "4994c39e",
   "metadata": {},
   "outputs": [
    {
     "data": {
      "text/plain": [
       "count    20518.000000\n",
       "mean       180.888634\n",
       "std        219.727988\n",
       "min          1.000000\n",
       "25%         45.000000\n",
       "50%         95.000000\n",
       "75%        232.000000\n",
       "max       1580.000000\n",
       "Name: days_exposition, dtype: float64"
      ]
     },
     "execution_count": 31,
     "metadata": {},
     "output_type": "execute_result"
    }
   ],
   "source": [
    "df[\"days_exposition\"].describe()"
   ]
  },
  {
   "cell_type": "markdown",
   "id": "e738d20f",
   "metadata": {},
   "source": [
    "Не думаю, что на эти значения можно полагаться, так как в столбце большое количество пропусков значений. Также многие пользователи могут вовсе не закрывать свои объявления во время. <br>\n",
    "Среднее время продажи квартиры занимает порядка **6 месяцев**.<br>\n",
    "Медианное  время продажи квартиры занимает чуть **больше 3-х месяцев**."
   ]
  },
  {
   "cell_type": "code",
   "execution_count": 32,
   "id": "ea9c14df",
   "metadata": {},
   "outputs": [
    {
     "data": {
      "text/plain": [
       "array([[<AxesSubplot:title={'center':'days_exposition'}>]], dtype=object)"
      ]
     },
     "execution_count": 32,
     "metadata": {},
     "output_type": "execute_result"
    },
    {
     "data": {
      "image/png": "[encoded data removed]",
      "text/plain": [
       "<Figure size 1440x720 with 1 Axes>"
      ]
     },
     "metadata": {
      "needs_background": "light"
     },
     "output_type": "display_data"
    }
   ],
   "source": [
    "# Определяю время “медленной” и “быстрой” продажи. Отбрасываю объявления со сроком продажи более двух лет.\n",
    "df.hist(column='days_exposition', range=(0, 730), bins=100, figsize=(20, 10), grid=True, color='brown')"
   ]
  },
  {
   "cell_type": "markdown",
   "id": "8b4c1c9f",
   "metadata": {},
   "source": [
    "Можно утверждать, что если квартира продалась в течении 3-х месяцев, то продажу можно называть “быстрой”.\n",
    "Если прошло более 3х месяцев, то продажа - “медленная”. "
   ]
  },
  {
   "cell_type": "code",
   "execution_count": 33,
   "id": "a2f233c1",
   "metadata": {
    "scrolled": false
   },
   "outputs": [
    {
     "data": {
      "text/plain": [
       "count    20518.000000\n",
       "mean       180.888634\n",
       "std        219.727988\n",
       "min          1.000000\n",
       "25%         45.000000\n",
       "50%         95.000000\n",
       "75%        232.000000\n",
       "max       1580.000000\n",
       "Name: days_exposition, dtype: float64"
      ]
     },
     "execution_count": 33,
     "metadata": {},
     "output_type": "execute_result"
    }
   ],
   "source": [
    "df['days_exposition'].describe()"
   ]
  },
  {
   "cell_type": "code",
   "execution_count": 34,
   "id": "71f7f515",
   "metadata": {
    "scrolled": false
   },
   "outputs": [
    {
     "data": {
      "image/png": "[encoded data removed]",
      "text/plain": [
       "<Figure size 432x288 with 1 Axes>"
      ]
     },
     "metadata": {
      "needs_background": "light"
     },
     "output_type": "display_data"
    }
   ],
   "source": [
    "\n",
    "df_norm =df[(df['days_exposition']<450) &(df['days_exposition']>45)]\n",
    "df_norm['days_exposition'].hist(bins=50)\n",
    "plt.show()"
   ]
  },
  {
   "cell_type": "code",
   "execution_count": 35,
   "id": "ada52e56",
   "metadata": {},
   "outputs": [],
   "source": [
    "df_normalized = df.query(\"last_price<20000000 and total_area<200 and rooms<7 and balcony<3\")"
   ]
  },
  {
   "cell_type": "code",
   "execution_count": 36,
   "id": "803e7cce",
   "metadata": {},
   "outputs": [
    {
     "name": "stdout",
     "output_type": "stream",
     "text": [
      "Стало: 22387\n",
      "Проценты от исходных: 94%\n"
     ]
    }
   ],
   "source": [
    "print(\"Стало:\", df_normalized.shape[0])\n",
    "print(\"Проценты от исходных: {:.0%}\".format(df_normalized.shape[0]/df.shape[0]))"
   ]
  },
  {
   "cell_type": "markdown",
   "id": "8011b861",
   "metadata": {},
   "source": [
    "## Рассмотрим зависимость факторов, влияющих на стоимость квартиры:\n",
    "1. Площадь квартиры\n",
    "2. Число комнат\n",
    "3. Удалённость от центра\n",
    "4. Расположение на определённом этаже (первый, последний, другое)\n",
    "5. Зависимость цены от даты размещение (день недели, месяц, год)"
   ]
  },
  {
   "cell_type": "code",
   "execution_count": 37,
   "id": "2ad24e38",
   "metadata": {
    "scrolled": true
   },
   "outputs": [
    {
     "data": {
      "text/html": [
       "<div>\n",
       "<style scoped>\n",
       "    .dataframe tbody tr th:only-of-type {\n",
       "        vertical-align: middle;\n",
       "    }\n",
       "\n",
       "    .dataframe tbody tr th {\n",
       "        vertical-align: top;\n",
       "    }\n",
       "\n",
       "    .dataframe thead th {\n",
       "        text-align: right;\n",
       "    }\n",
       "</style>\n",
       "<table border=\"1\" class=\"dataframe\">\n",
       "  <thead>\n",
       "    <tr style=\"text-align: right;\">\n",
       "      <th></th>\n",
       "      <th>total_images</th>\n",
       "      <th>last_price</th>\n",
       "      <th>total_area</th>\n",
       "      <th>days_exposition</th>\n",
       "      <th>year_of_publication</th>\n",
       "      <th>rooms</th>\n",
       "      <th>ceiling_height</th>\n",
       "      <th>floors_total</th>\n",
       "      <th>floor</th>\n",
       "      <th>living_area</th>\n",
       "      <th>...</th>\n",
       "      <th>kitchen_area</th>\n",
       "      <th>kitchen_total_ratio</th>\n",
       "      <th>balcony</th>\n",
       "      <th>airports_nearest</th>\n",
       "      <th>city_centers_nearest</th>\n",
       "      <th>parks_around3000</th>\n",
       "      <th>parks_nearest</th>\n",
       "      <th>ponds_around3000</th>\n",
       "      <th>ponds_nearest</th>\n",
       "      <th>square_meter_cost</th>\n",
       "    </tr>\n",
       "  </thead>\n",
       "  <tbody>\n",
       "    <tr>\n",
       "      <th>count</th>\n",
       "      <td>22387.00000</td>\n",
       "      <td>2.238700e+04</td>\n",
       "      <td>22387.000000</td>\n",
       "      <td>19520.000000</td>\n",
       "      <td>22387.000000</td>\n",
       "      <td>22387.000000</td>\n",
       "      <td>13558.000000</td>\n",
       "      <td>22303.000000</td>\n",
       "      <td>22387.000000</td>\n",
       "      <td>20612.000000</td>\n",
       "      <td>...</td>\n",
       "      <td>20211.000000</td>\n",
       "      <td>20211.000000</td>\n",
       "      <td>22387.000000</td>\n",
       "      <td>16986.000000</td>\n",
       "      <td>17003.000000</td>\n",
       "      <td>17004.000000</td>\n",
       "      <td>7332.000000</td>\n",
       "      <td>17004.000000</td>\n",
       "      <td>8357.000000</td>\n",
       "      <td>22387.000000</td>\n",
       "    </tr>\n",
       "    <tr>\n",
       "      <th>mean</th>\n",
       "      <td>9.74512</td>\n",
       "      <td>5.333654e+06</td>\n",
       "      <td>55.830571</td>\n",
       "      <td>177.506404</td>\n",
       "      <td>2017.373833</td>\n",
       "      <td>1.983428</td>\n",
       "      <td>2.748163</td>\n",
       "      <td>10.705959</td>\n",
       "      <td>5.862688</td>\n",
       "      <td>32.001033</td>\n",
       "      <td>...</td>\n",
       "      <td>10.028984</td>\n",
       "      <td>18.895057</td>\n",
       "      <td>0.504177</td>\n",
       "      <td>28824.924820</td>\n",
       "      <td>14499.560254</td>\n",
       "      <td>0.583451</td>\n",
       "      <td>493.618112</td>\n",
       "      <td>0.742002</td>\n",
       "      <td>524.970085</td>\n",
       "      <td>94723.808326</td>\n",
       "    </tr>\n",
       "    <tr>\n",
       "      <th>std</th>\n",
       "      <td>5.60293</td>\n",
       "      <td>3.119838e+06</td>\n",
       "      <td>23.096736</td>\n",
       "      <td>216.279742</td>\n",
       "      <td>1.031670</td>\n",
       "      <td>0.958042</td>\n",
       "      <td>0.926983</td>\n",
       "      <td>6.631558</td>\n",
       "      <td>4.885127</td>\n",
       "      <td>15.755578</td>\n",
       "      <td>...</td>\n",
       "      <td>4.571963</td>\n",
       "      <td>7.213423</td>\n",
       "      <td>0.756589</td>\n",
       "      <td>12806.076592</td>\n",
       "      <td>8586.672088</td>\n",
       "      <td>0.780677</td>\n",
       "      <td>342.409944</td>\n",
       "      <td>0.917626</td>\n",
       "      <td>277.035599</td>\n",
       "      <td>32552.787197</td>\n",
       "    </tr>\n",
       "    <tr>\n",
       "      <th>min</th>\n",
       "      <td>0.00000</td>\n",
       "      <td>1.219000e+04</td>\n",
       "      <td>12.000000</td>\n",
       "      <td>1.000000</td>\n",
       "      <td>2014.000000</td>\n",
       "      <td>0.000000</td>\n",
       "      <td>1.000000</td>\n",
       "      <td>1.000000</td>\n",
       "      <td>1.000000</td>\n",
       "      <td>2.000000</td>\n",
       "      <td>...</td>\n",
       "      <td>1.300000</td>\n",
       "      <td>4.000000</td>\n",
       "      <td>0.000000</td>\n",
       "      <td>0.000000</td>\n",
       "      <td>208.000000</td>\n",
       "      <td>0.000000</td>\n",
       "      <td>1.000000</td>\n",
       "      <td>0.000000</td>\n",
       "      <td>13.000000</td>\n",
       "      <td>112.000000</td>\n",
       "    </tr>\n",
       "    <tr>\n",
       "      <th>25%</th>\n",
       "      <td>6.00000</td>\n",
       "      <td>3.370000e+06</td>\n",
       "      <td>39.400000</td>\n",
       "      <td>44.000000</td>\n",
       "      <td>2017.000000</td>\n",
       "      <td>1.000000</td>\n",
       "      <td>2.500000</td>\n",
       "      <td>5.000000</td>\n",
       "      <td>2.000000</td>\n",
       "      <td>18.300000</td>\n",
       "      <td>...</td>\n",
       "      <td>7.000000</td>\n",
       "      <td>14.000000</td>\n",
       "      <td>0.000000</td>\n",
       "      <td>18399.000000</td>\n",
       "      <td>9816.000000</td>\n",
       "      <td>0.000000</td>\n",
       "      <td>289.750000</td>\n",
       "      <td>0.000000</td>\n",
       "      <td>304.000000</td>\n",
       "      <td>75862.000000</td>\n",
       "    </tr>\n",
       "    <tr>\n",
       "      <th>50%</th>\n",
       "      <td>9.00000</td>\n",
       "      <td>4.500000e+06</td>\n",
       "      <td>50.200000</td>\n",
       "      <td>93.000000</td>\n",
       "      <td>2017.000000</td>\n",
       "      <td>2.000000</td>\n",
       "      <td>2.600000</td>\n",
       "      <td>9.000000</td>\n",
       "      <td>4.000000</td>\n",
       "      <td>29.900000</td>\n",
       "      <td>...</td>\n",
       "      <td>9.000000</td>\n",
       "      <td>17.000000</td>\n",
       "      <td>0.000000</td>\n",
       "      <td>26765.500000</td>\n",
       "      <td>13285.000000</td>\n",
       "      <td>0.000000</td>\n",
       "      <td>456.000000</td>\n",
       "      <td>0.000000</td>\n",
       "      <td>510.000000</td>\n",
       "      <td>94000.000000</td>\n",
       "    </tr>\n",
       "    <tr>\n",
       "      <th>75%</th>\n",
       "      <td>14.00000</td>\n",
       "      <td>6.400000e+06</td>\n",
       "      <td>66.200000</td>\n",
       "      <td>226.000000</td>\n",
       "      <td>2018.000000</td>\n",
       "      <td>3.000000</td>\n",
       "      <td>2.800000</td>\n",
       "      <td>16.000000</td>\n",
       "      <td>8.000000</td>\n",
       "      <td>41.000000</td>\n",
       "      <td>...</td>\n",
       "      <td>11.400000</td>\n",
       "      <td>23.000000</td>\n",
       "      <td>1.000000</td>\n",
       "      <td>37429.750000</td>\n",
       "      <td>16465.000000</td>\n",
       "      <td>1.000000</td>\n",
       "      <td>614.000000</td>\n",
       "      <td>1.000000</td>\n",
       "      <td>733.000000</td>\n",
       "      <td>111996.000000</td>\n",
       "    </tr>\n",
       "    <tr>\n",
       "      <th>max</th>\n",
       "      <td>50.00000</td>\n",
       "      <td>1.999900e+07</td>\n",
       "      <td>199.200000</td>\n",
       "      <td>1553.000000</td>\n",
       "      <td>2019.000000</td>\n",
       "      <td>6.000000</td>\n",
       "      <td>32.000000</td>\n",
       "      <td>60.000000</td>\n",
       "      <td>33.000000</td>\n",
       "      <td>159.600000</td>\n",
       "      <td>...</td>\n",
       "      <td>60.000000</td>\n",
       "      <td>79.000000</td>\n",
       "      <td>2.000000</td>\n",
       "      <td>84869.000000</td>\n",
       "      <td>65968.000000</td>\n",
       "      <td>3.000000</td>\n",
       "      <td>3190.000000</td>\n",
       "      <td>3.000000</td>\n",
       "      <td>1344.000000</td>\n",
       "      <td>392354.000000</td>\n",
       "    </tr>\n",
       "  </tbody>\n",
       "</table>\n",
       "<p>8 rows × 21 columns</p>\n",
       "</div>"
      ],
      "text/plain": [
       "       total_images    last_price    total_area  days_exposition  \\\n",
       "count   22387.00000  2.238700e+04  22387.000000     19520.000000   \n",
       "mean        9.74512  5.333654e+06     55.830571       177.506404   \n",
       "std         5.60293  3.119838e+06     23.096736       216.279742   \n",
       "min         0.00000  1.219000e+04     12.000000         1.000000   \n",
       "25%         6.00000  3.370000e+06     39.400000        44.000000   \n",
       "50%         9.00000  4.500000e+06     50.200000        93.000000   \n",
       "75%        14.00000  6.400000e+06     66.200000       226.000000   \n",
       "max        50.00000  1.999900e+07    199.200000      1553.000000   \n",
       "\n",
       "       year_of_publication         rooms  ceiling_height  floors_total  \\\n",
       "count         22387.000000  22387.000000    13558.000000  22303.000000   \n",
       "mean           2017.373833      1.983428        2.748163     10.705959   \n",
       "std               1.031670      0.958042        0.926983      6.631558   \n",
       "min            2014.000000      0.000000        1.000000      1.000000   \n",
       "25%            2017.000000      1.000000        2.500000      5.000000   \n",
       "50%            2017.000000      2.000000        2.600000      9.000000   \n",
       "75%            2018.000000      3.000000        2.800000     16.000000   \n",
       "max            2019.000000      6.000000       32.000000     60.000000   \n",
       "\n",
       "              floor   living_area  ...  kitchen_area  kitchen_total_ratio  \\\n",
       "count  22387.000000  20612.000000  ...  20211.000000         20211.000000   \n",
       "mean       5.862688     32.001033  ...     10.028984            18.895057   \n",
       "std        4.885127     15.755578  ...      4.571963             7.213423   \n",
       "min        1.000000      2.000000  ...      1.300000             4.000000   \n",
       "25%        2.000000     18.300000  ...      7.000000            14.000000   \n",
       "50%        4.000000     29.900000  ...      9.000000            17.000000   \n",
       "75%        8.000000     41.000000  ...     11.400000            23.000000   \n",
       "max       33.000000    159.600000  ...     60.000000            79.000000   \n",
       "\n",
       "            balcony  airports_nearest  city_centers_nearest  parks_around3000  \\\n",
       "count  22387.000000      16986.000000          17003.000000      17004.000000   \n",
       "mean       0.504177      28824.924820          14499.560254          0.583451   \n",
       "std        0.756589      12806.076592           8586.672088          0.780677   \n",
       "min        0.000000          0.000000            208.000000          0.000000   \n",
       "25%        0.000000      18399.000000           9816.000000          0.000000   \n",
       "50%        0.000000      26765.500000          13285.000000          0.000000   \n",
       "75%        1.000000      37429.750000          16465.000000          1.000000   \n",
       "max        2.000000      84869.000000          65968.000000          3.000000   \n",
       "\n",
       "       parks_nearest  ponds_around3000  ponds_nearest  square_meter_cost  \n",
       "count    7332.000000      17004.000000    8357.000000       22387.000000  \n",
       "mean      493.618112          0.742002     524.970085       94723.808326  \n",
       "std       342.409944          0.917626     277.035599       32552.787197  \n",
       "min         1.000000          0.000000      13.000000         112.000000  \n",
       "25%       289.750000          0.000000     304.000000       75862.000000  \n",
       "50%       456.000000          0.000000     510.000000       94000.000000  \n",
       "75%       614.000000          1.000000     733.000000      111996.000000  \n",
       "max      3190.000000          3.000000    1344.000000      392354.000000  \n",
       "\n",
       "[8 rows x 21 columns]"
      ]
     },
     "execution_count": 37,
     "metadata": {},
     "output_type": "execute_result"
    }
   ],
   "source": [
    "df_normalized.describe()"
   ]
  },
  {
   "cell_type": "code",
   "execution_count": 38,
   "id": "a1b03103",
   "metadata": {
    "scrolled": false
   },
   "outputs": [
    {
     "name": "stdout",
     "output_type": "stream",
     "text": [
      "<class 'pandas.core.frame.DataFrame'>\n",
      "Int64Index: 22387 entries, 0 to 23698\n",
      "Data columns (total 29 columns):\n",
      " #   Column                Non-Null Count  Dtype         \n",
      "---  ------                --------------  -----         \n",
      " 0   total_images          22387 non-null  int64         \n",
      " 1   last_price            22387 non-null  int64         \n",
      " 2   total_area            22387 non-null  float64       \n",
      " 3   first_day_exposition  22387 non-null  datetime64[ns]\n",
      " 4   days_exposition       19520 non-null  float64       \n",
      " 5   day_of_publication    22387 non-null  object        \n",
      " 6   month_of_publication  22387 non-null  object        \n",
      " 7   year_of_publication   22387 non-null  int64         \n",
      " 8   rooms                 22387 non-null  int64         \n",
      " 9   ceiling_height        13558 non-null  float64       \n",
      " 10  floors_total          22303 non-null  float64       \n",
      " 11  floor                 22387 non-null  int64         \n",
      " 12  full_floor            22387 non-null  object        \n",
      " 13  living_area           20612 non-null  float64       \n",
      " 14  living_total_ratio    20612 non-null  float64       \n",
      " 15  kitchen_area          20211 non-null  float64       \n",
      " 16  kitchen_total_ratio   20211 non-null  float64       \n",
      " 17  is_apartment          2578 non-null   object        \n",
      " 18  studio                22387 non-null  bool          \n",
      " 19  open_plan             22387 non-null  bool          \n",
      " 20  balcony               22387 non-null  int64         \n",
      " 21  locality_name         22340 non-null  object        \n",
      " 22  airports_nearest      16986 non-null  float64       \n",
      " 23  city_centers_nearest  17003 non-null  float64       \n",
      " 24  parks_around3000      17004 non-null  float64       \n",
      " 25  parks_nearest         7332 non-null   float64       \n",
      " 26  ponds_around3000      17004 non-null  float64       \n",
      " 27  ponds_nearest         8357 non-null   float64       \n",
      " 28  square_meter_cost     22387 non-null  int64         \n",
      "dtypes: bool(2), datetime64[ns](1), float64(14), int64(7), object(5)\n",
      "memory usage: 4.8+ MB\n"
     ]
    }
   ],
   "source": [
    "df_normalized.info()"
   ]
  },
  {
   "cell_type": "code",
   "execution_count": 39,
   "id": "76516fdd",
   "metadata": {
    "scrolled": true
   },
   "outputs": [
    {
     "data": {
      "text/html": [
       "<div>\n",
       "<style scoped>\n",
       "    .dataframe tbody tr th:only-of-type {\n",
       "        vertical-align: middle;\n",
       "    }\n",
       "\n",
       "    .dataframe tbody tr th {\n",
       "        vertical-align: top;\n",
       "    }\n",
       "\n",
       "    .dataframe thead th {\n",
       "        text-align: right;\n",
       "    }\n",
       "</style>\n",
       "<table border=\"1\" class=\"dataframe\">\n",
       "  <thead>\n",
       "    <tr style=\"text-align: right;\">\n",
       "      <th></th>\n",
       "      <th>total_images</th>\n",
       "      <th>last_price</th>\n",
       "      <th>total_area</th>\n",
       "      <th>days_exposition</th>\n",
       "      <th>year_of_publication</th>\n",
       "      <th>rooms</th>\n",
       "      <th>ceiling_height</th>\n",
       "      <th>floors_total</th>\n",
       "      <th>floor</th>\n",
       "      <th>living_area</th>\n",
       "      <th>...</th>\n",
       "      <th>studio</th>\n",
       "      <th>open_plan</th>\n",
       "      <th>balcony</th>\n",
       "      <th>airports_nearest</th>\n",
       "      <th>city_centers_nearest</th>\n",
       "      <th>parks_around3000</th>\n",
       "      <th>parks_nearest</th>\n",
       "      <th>ponds_around3000</th>\n",
       "      <th>ponds_nearest</th>\n",
       "      <th>square_meter_cost</th>\n",
       "    </tr>\n",
       "  </thead>\n",
       "  <tbody>\n",
       "    <tr>\n",
       "      <th>city_centers_nearest</th>\n",
       "      <td>-0.036108</td>\n",
       "      <td>-0.360056</td>\n",
       "      <td>-0.204824</td>\n",
       "      <td>-0.049267</td>\n",
       "      <td>0.025548</td>\n",
       "      <td>-0.141380</td>\n",
       "      <td>-0.120208</td>\n",
       "      <td>0.006027</td>\n",
       "      <td>0.006317</td>\n",
       "      <td>-0.199881</td>\n",
       "      <td>...</td>\n",
       "      <td>-0.009936</td>\n",
       "      <td>-0.003811</td>\n",
       "      <td>0.066903</td>\n",
       "      <td>0.273084</td>\n",
       "      <td>1.000000</td>\n",
       "      <td>-0.136569</td>\n",
       "      <td>-0.052904</td>\n",
       "      <td>-0.046019</td>\n",
       "      <td>0.005788</td>\n",
       "      <td>-0.390789</td>\n",
       "    </tr>\n",
       "    <tr>\n",
       "      <th>kitchen_total_ratio</th>\n",
       "      <td>-0.024068</td>\n",
       "      <td>-0.112507</td>\n",
       "      <td>-0.375735</td>\n",
       "      <td>-0.041243</td>\n",
       "      <td>0.020237</td>\n",
       "      <td>-0.628242</td>\n",
       "      <td>0.003638</td>\n",
       "      <td>0.368139</td>\n",
       "      <td>0.261057</td>\n",
       "      <td>-0.574404</td>\n",
       "      <td>...</td>\n",
       "      <td>NaN</td>\n",
       "      <td>NaN</td>\n",
       "      <td>0.085232</td>\n",
       "      <td>0.051930</td>\n",
       "      <td>0.009035</td>\n",
       "      <td>-0.080721</td>\n",
       "      <td>0.055187</td>\n",
       "      <td>0.001988</td>\n",
       "      <td>-0.020126</td>\n",
       "      <td>0.270283</td>\n",
       "    </tr>\n",
       "    <tr>\n",
       "      <th>ponds_nearest</th>\n",
       "      <td>0.008528</td>\n",
       "      <td>-0.090087</td>\n",
       "      <td>-0.056417</td>\n",
       "      <td>-0.079369</td>\n",
       "      <td>0.038922</td>\n",
       "      <td>-0.023934</td>\n",
       "      <td>-0.069008</td>\n",
       "      <td>0.032078</td>\n",
       "      <td>0.023812</td>\n",
       "      <td>-0.038251</td>\n",
       "      <td>...</td>\n",
       "      <td>0.000752</td>\n",
       "      <td>-0.002987</td>\n",
       "      <td>0.027984</td>\n",
       "      <td>0.016287</td>\n",
       "      <td>0.005788</td>\n",
       "      <td>-0.153570</td>\n",
       "      <td>0.005508</td>\n",
       "      <td>-0.329705</td>\n",
       "      <td>1.000000</td>\n",
       "      <td>-0.071162</td>\n",
       "    </tr>\n",
       "    <tr>\n",
       "      <th>studio</th>\n",
       "      <td>-0.028927</td>\n",
       "      <td>-0.059384</td>\n",
       "      <td>-0.099402</td>\n",
       "      <td>-0.022109</td>\n",
       "      <td>0.011874</td>\n",
       "      <td>-0.163160</td>\n",
       "      <td>0.004756</td>\n",
       "      <td>0.071428</td>\n",
       "      <td>0.038513</td>\n",
       "      <td>-0.068020</td>\n",
       "      <td>...</td>\n",
       "      <td>1.000000</td>\n",
       "      <td>-0.004417</td>\n",
       "      <td>0.047109</td>\n",
       "      <td>-0.022492</td>\n",
       "      <td>-0.009936</td>\n",
       "      <td>-0.029450</td>\n",
       "      <td>0.009146</td>\n",
       "      <td>0.003264</td>\n",
       "      <td>0.000752</td>\n",
       "      <td>0.036680</td>\n",
       "    </tr>\n",
       "    <tr>\n",
       "      <th>open_plan</th>\n",
       "      <td>-0.023031</td>\n",
       "      <td>-0.039582</td>\n",
       "      <td>-0.060340</td>\n",
       "      <td>-0.023848</td>\n",
       "      <td>-0.021968</td>\n",
       "      <td>-0.098722</td>\n",
       "      <td>0.061505</td>\n",
       "      <td>0.052944</td>\n",
       "      <td>0.037885</td>\n",
       "      <td>-0.039911</td>\n",
       "      <td>...</td>\n",
       "      <td>-0.004417</td>\n",
       "      <td>1.000000</td>\n",
       "      <td>0.050727</td>\n",
       "      <td>-0.013954</td>\n",
       "      <td>-0.003811</td>\n",
       "      <td>-0.012335</td>\n",
       "      <td>0.011234</td>\n",
       "      <td>0.007113</td>\n",
       "      <td>-0.002987</td>\n",
       "      <td>0.013401</td>\n",
       "    </tr>\n",
       "    <tr>\n",
       "      <th>airports_nearest</th>\n",
       "      <td>-0.001664</td>\n",
       "      <td>-0.037808</td>\n",
       "      <td>-0.027022</td>\n",
       "      <td>-0.018373</td>\n",
       "      <td>0.009615</td>\n",
       "      <td>-0.057765</td>\n",
       "      <td>-0.034292</td>\n",
       "      <td>0.109071</td>\n",
       "      <td>0.070956</td>\n",
       "      <td>-0.060292</td>\n",
       "      <td>...</td>\n",
       "      <td>-0.022492</td>\n",
       "      <td>-0.013954</td>\n",
       "      <td>0.045641</td>\n",
       "      <td>1.000000</td>\n",
       "      <td>0.273084</td>\n",
       "      <td>0.009694</td>\n",
       "      <td>-0.077046</td>\n",
       "      <td>-0.052470</td>\n",
       "      <td>0.016287</td>\n",
       "      <td>-0.041058</td>\n",
       "    </tr>\n",
       "    <tr>\n",
       "      <th>year_of_publication</th>\n",
       "      <td>0.148618</td>\n",
       "      <td>-0.027254</td>\n",
       "      <td>-0.078882</td>\n",
       "      <td>-0.607080</td>\n",
       "      <td>1.000000</td>\n",
       "      <td>-0.048509</td>\n",
       "      <td>-0.023236</td>\n",
       "      <td>0.002386</td>\n",
       "      <td>0.003591</td>\n",
       "      <td>-0.065546</td>\n",
       "      <td>...</td>\n",
       "      <td>0.011874</td>\n",
       "      <td>-0.021968</td>\n",
       "      <td>-0.008095</td>\n",
       "      <td>0.009615</td>\n",
       "      <td>0.025548</td>\n",
       "      <td>-0.028836</td>\n",
       "      <td>-0.033311</td>\n",
       "      <td>-0.034878</td>\n",
       "      <td>0.038922</td>\n",
       "      <td>0.055782</td>\n",
       "    </tr>\n",
       "    <tr>\n",
       "      <th>balcony</th>\n",
       "      <td>0.036027</td>\n",
       "      <td>-0.017835</td>\n",
       "      <td>-0.047003</td>\n",
       "      <td>-0.035759</td>\n",
       "      <td>-0.008095</td>\n",
       "      <td>-0.086276</td>\n",
       "      <td>-0.002568</td>\n",
       "      <td>0.186601</td>\n",
       "      <td>0.178220</td>\n",
       "      <td>-0.080101</td>\n",
       "      <td>...</td>\n",
       "      <td>0.047109</td>\n",
       "      <td>0.050727</td>\n",
       "      <td>1.000000</td>\n",
       "      <td>0.045641</td>\n",
       "      <td>0.066903</td>\n",
       "      <td>-0.098043</td>\n",
       "      <td>0.037032</td>\n",
       "      <td>-0.045915</td>\n",
       "      <td>0.027984</td>\n",
       "      <td>0.036480</td>\n",
       "    </tr>\n",
       "    <tr>\n",
       "      <th>living_total_ratio</th>\n",
       "      <td>0.002707</td>\n",
       "      <td>0.020343</td>\n",
       "      <td>0.208835</td>\n",
       "      <td>0.009425</td>\n",
       "      <td>0.002213</td>\n",
       "      <td>0.534228</td>\n",
       "      <td>0.014149</td>\n",
       "      <td>-0.374144</td>\n",
       "      <td>-0.270340</td>\n",
       "      <td>0.538981</td>\n",
       "      <td>...</td>\n",
       "      <td>0.092354</td>\n",
       "      <td>0.064639</td>\n",
       "      <td>-0.102387</td>\n",
       "      <td>-0.089263</td>\n",
       "      <td>-0.037909</td>\n",
       "      <td>0.087023</td>\n",
       "      <td>-0.095951</td>\n",
       "      <td>-0.013852</td>\n",
       "      <td>0.026998</td>\n",
       "      <td>-0.223501</td>\n",
       "    </tr>\n",
       "    <tr>\n",
       "      <th>parks_nearest</th>\n",
       "      <td>-0.007724</td>\n",
       "      <td>0.062345</td>\n",
       "      <td>0.009036</td>\n",
       "      <td>0.040755</td>\n",
       "      <td>-0.033311</td>\n",
       "      <td>-0.043662</td>\n",
       "      <td>-0.017345</td>\n",
       "      <td>0.092960</td>\n",
       "      <td>0.070290</td>\n",
       "      <td>-0.034002</td>\n",
       "      <td>...</td>\n",
       "      <td>0.009146</td>\n",
       "      <td>0.011234</td>\n",
       "      <td>0.037032</td>\n",
       "      <td>-0.077046</td>\n",
       "      <td>-0.052904</td>\n",
       "      <td>-0.249389</td>\n",
       "      <td>1.000000</td>\n",
       "      <td>0.084346</td>\n",
       "      <td>0.005508</td>\n",
       "      <td>0.093457</td>\n",
       "    </tr>\n",
       "    <tr>\n",
       "      <th>floor</th>\n",
       "      <td>0.032355</td>\n",
       "      <td>0.083431</td>\n",
       "      <td>-0.041349</td>\n",
       "      <td>-0.040608</td>\n",
       "      <td>0.003591</td>\n",
       "      <td>-0.173179</td>\n",
       "      <td>-0.016945</td>\n",
       "      <td>0.675759</td>\n",
       "      <td>1.000000</td>\n",
       "      <td>-0.131991</td>\n",
       "      <td>...</td>\n",
       "      <td>0.038513</td>\n",
       "      <td>0.037885</td>\n",
       "      <td>0.178220</td>\n",
       "      <td>0.070956</td>\n",
       "      <td>0.006317</td>\n",
       "      <td>-0.163876</td>\n",
       "      <td>0.070290</td>\n",
       "      <td>-0.074608</td>\n",
       "      <td>0.023812</td>\n",
       "      <td>0.214358</td>\n",
       "    </tr>\n",
       "    <tr>\n",
       "      <th>floors_total</th>\n",
       "      <td>0.013479</td>\n",
       "      <td>0.108614</td>\n",
       "      <td>-0.055340</td>\n",
       "      <td>-0.046951</td>\n",
       "      <td>0.002386</td>\n",
       "      <td>-0.234953</td>\n",
       "      <td>-0.031526</td>\n",
       "      <td>1.000000</td>\n",
       "      <td>0.675759</td>\n",
       "      <td>-0.182613</td>\n",
       "      <td>...</td>\n",
       "      <td>0.071428</td>\n",
       "      <td>0.052944</td>\n",
       "      <td>0.186601</td>\n",
       "      <td>0.109071</td>\n",
       "      <td>0.006027</td>\n",
       "      <td>-0.246070</td>\n",
       "      <td>0.092960</td>\n",
       "      <td>-0.114544</td>\n",
       "      <td>0.032078</td>\n",
       "      <td>0.287778</td>\n",
       "    </tr>\n",
       "    <tr>\n",
       "      <th>ceiling_height</th>\n",
       "      <td>-0.004959</td>\n",
       "      <td>0.118706</td>\n",
       "      <td>0.107335</td>\n",
       "      <td>0.025207</td>\n",
       "      <td>-0.023236</td>\n",
       "      <td>0.051423</td>\n",
       "      <td>1.000000</td>\n",
       "      <td>-0.031526</td>\n",
       "      <td>-0.016945</td>\n",
       "      <td>0.097164</td>\n",
       "      <td>...</td>\n",
       "      <td>0.004756</td>\n",
       "      <td>0.061505</td>\n",
       "      <td>-0.002568</td>\n",
       "      <td>-0.034292</td>\n",
       "      <td>-0.120208</td>\n",
       "      <td>0.085454</td>\n",
       "      <td>-0.017345</td>\n",
       "      <td>0.076730</td>\n",
       "      <td>-0.069008</td>\n",
       "      <td>0.068295</td>\n",
       "    </tr>\n",
       "    <tr>\n",
       "      <th>days_exposition</th>\n",
       "      <td>-0.033883</td>\n",
       "      <td>0.121866</td>\n",
       "      <td>0.151529</td>\n",
       "      <td>1.000000</td>\n",
       "      <td>-0.607080</td>\n",
       "      <td>0.111038</td>\n",
       "      <td>0.025207</td>\n",
       "      <td>-0.046951</td>\n",
       "      <td>-0.040608</td>\n",
       "      <td>0.136041</td>\n",
       "      <td>...</td>\n",
       "      <td>-0.022109</td>\n",
       "      <td>-0.023848</td>\n",
       "      <td>-0.035759</td>\n",
       "      <td>-0.018373</td>\n",
       "      <td>-0.049267</td>\n",
       "      <td>0.045824</td>\n",
       "      <td>0.040755</td>\n",
       "      <td>0.064215</td>\n",
       "      <td>-0.079369</td>\n",
       "      <td>0.008889</td>\n",
       "    </tr>\n",
       "    <tr>\n",
       "      <th>total_images</th>\n",
       "      <td>1.000000</td>\n",
       "      <td>0.152920</td>\n",
       "      <td>0.103214</td>\n",
       "      <td>-0.033883</td>\n",
       "      <td>0.148618</td>\n",
       "      <td>0.085420</td>\n",
       "      <td>-0.004959</td>\n",
       "      <td>0.013479</td>\n",
       "      <td>0.032355</td>\n",
       "      <td>0.090397</td>\n",
       "      <td>...</td>\n",
       "      <td>-0.028927</td>\n",
       "      <td>-0.023031</td>\n",
       "      <td>0.036027</td>\n",
       "      <td>-0.001664</td>\n",
       "      <td>-0.036108</td>\n",
       "      <td>0.007548</td>\n",
       "      <td>-0.007724</td>\n",
       "      <td>-0.023064</td>\n",
       "      <td>0.008528</td>\n",
       "      <td>0.129456</td>\n",
       "    </tr>\n",
       "    <tr>\n",
       "      <th>parks_around3000</th>\n",
       "      <td>0.007548</td>\n",
       "      <td>0.163113</td>\n",
       "      <td>0.113293</td>\n",
       "      <td>0.045824</td>\n",
       "      <td>-0.028836</td>\n",
       "      <td>0.092505</td>\n",
       "      <td>0.085454</td>\n",
       "      <td>-0.246070</td>\n",
       "      <td>-0.163876</td>\n",
       "      <td>0.131404</td>\n",
       "      <td>...</td>\n",
       "      <td>-0.029450</td>\n",
       "      <td>-0.012335</td>\n",
       "      <td>-0.098043</td>\n",
       "      <td>0.009694</td>\n",
       "      <td>-0.136569</td>\n",
       "      <td>1.000000</td>\n",
       "      <td>-0.249389</td>\n",
       "      <td>0.292732</td>\n",
       "      <td>-0.153570</td>\n",
       "      <td>0.124260</td>\n",
       "    </tr>\n",
       "    <tr>\n",
       "      <th>ponds_around3000</th>\n",
       "      <td>-0.023064</td>\n",
       "      <td>0.180693</td>\n",
       "      <td>0.132385</td>\n",
       "      <td>0.064215</td>\n",
       "      <td>-0.034878</td>\n",
       "      <td>0.060333</td>\n",
       "      <td>0.076730</td>\n",
       "      <td>-0.114544</td>\n",
       "      <td>-0.074608</td>\n",
       "      <td>0.109079</td>\n",
       "      <td>...</td>\n",
       "      <td>0.003264</td>\n",
       "      <td>0.007113</td>\n",
       "      <td>-0.045915</td>\n",
       "      <td>-0.052470</td>\n",
       "      <td>-0.046019</td>\n",
       "      <td>0.292732</td>\n",
       "      <td>0.084346</td>\n",
       "      <td>1.000000</td>\n",
       "      <td>-0.329705</td>\n",
       "      <td>0.130714</td>\n",
       "    </tr>\n",
       "    <tr>\n",
       "      <th>rooms</th>\n",
       "      <td>0.085420</td>\n",
       "      <td>0.496519</td>\n",
       "      <td>0.797031</td>\n",
       "      <td>0.111038</td>\n",
       "      <td>-0.048509</td>\n",
       "      <td>1.000000</td>\n",
       "      <td>0.051423</td>\n",
       "      <td>-0.234953</td>\n",
       "      <td>-0.173179</td>\n",
       "      <td>0.879665</td>\n",
       "      <td>...</td>\n",
       "      <td>-0.163160</td>\n",
       "      <td>-0.098722</td>\n",
       "      <td>-0.086276</td>\n",
       "      <td>-0.057765</td>\n",
       "      <td>-0.141380</td>\n",
       "      <td>0.092505</td>\n",
       "      <td>-0.043662</td>\n",
       "      <td>0.060333</td>\n",
       "      <td>-0.023934</td>\n",
       "      <td>-0.132053</td>\n",
       "    </tr>\n",
       "    <tr>\n",
       "      <th>kitchen_area</th>\n",
       "      <td>0.079373</td>\n",
       "      <td>0.573908</td>\n",
       "      <td>0.517896</td>\n",
       "      <td>0.085728</td>\n",
       "      <td>-0.046064</td>\n",
       "      <td>0.143343</td>\n",
       "      <td>0.096627</td>\n",
       "      <td>0.254758</td>\n",
       "      <td>0.178542</td>\n",
       "      <td>0.262156</td>\n",
       "      <td>...</td>\n",
       "      <td>NaN</td>\n",
       "      <td>NaN</td>\n",
       "      <td>0.037755</td>\n",
       "      <td>0.019637</td>\n",
       "      <td>-0.160550</td>\n",
       "      <td>0.027255</td>\n",
       "      <td>0.057729</td>\n",
       "      <td>0.118627</td>\n",
       "      <td>-0.074228</td>\n",
       "      <td>0.294657</td>\n",
       "    </tr>\n",
       "    <tr>\n",
       "      <th>square_meter_cost</th>\n",
       "      <td>0.129456</td>\n",
       "      <td>0.640905</td>\n",
       "      <td>0.060075</td>\n",
       "      <td>0.008889</td>\n",
       "      <td>0.055782</td>\n",
       "      <td>-0.132053</td>\n",
       "      <td>0.068295</td>\n",
       "      <td>0.287778</td>\n",
       "      <td>0.214358</td>\n",
       "      <td>-0.034611</td>\n",
       "      <td>...</td>\n",
       "      <td>0.036680</td>\n",
       "      <td>0.013401</td>\n",
       "      <td>0.036480</td>\n",
       "      <td>-0.041058</td>\n",
       "      <td>-0.390789</td>\n",
       "      <td>0.124260</td>\n",
       "      <td>0.093457</td>\n",
       "      <td>0.130714</td>\n",
       "      <td>-0.071162</td>\n",
       "      <td>1.000000</td>\n",
       "    </tr>\n",
       "    <tr>\n",
       "      <th>living_area</th>\n",
       "      <td>0.090397</td>\n",
       "      <td>0.658063</td>\n",
       "      <td>0.922281</td>\n",
       "      <td>0.136041</td>\n",
       "      <td>-0.065546</td>\n",
       "      <td>0.879665</td>\n",
       "      <td>0.097164</td>\n",
       "      <td>-0.182613</td>\n",
       "      <td>-0.131991</td>\n",
       "      <td>1.000000</td>\n",
       "      <td>...</td>\n",
       "      <td>-0.068020</td>\n",
       "      <td>-0.039911</td>\n",
       "      <td>-0.080101</td>\n",
       "      <td>-0.060292</td>\n",
       "      <td>-0.199881</td>\n",
       "      <td>0.131404</td>\n",
       "      <td>-0.034002</td>\n",
       "      <td>0.109079</td>\n",
       "      <td>-0.038251</td>\n",
       "      <td>-0.034611</td>\n",
       "    </tr>\n",
       "    <tr>\n",
       "      <th>total_area</th>\n",
       "      <td>0.103214</td>\n",
       "      <td>0.770979</td>\n",
       "      <td>1.000000</td>\n",
       "      <td>0.151529</td>\n",
       "      <td>-0.078882</td>\n",
       "      <td>0.797031</td>\n",
       "      <td>0.107335</td>\n",
       "      <td>-0.055340</td>\n",
       "      <td>-0.041349</td>\n",
       "      <td>0.922281</td>\n",
       "      <td>...</td>\n",
       "      <td>-0.099402</td>\n",
       "      <td>-0.060340</td>\n",
       "      <td>-0.047003</td>\n",
       "      <td>-0.027022</td>\n",
       "      <td>-0.204824</td>\n",
       "      <td>0.113293</td>\n",
       "      <td>0.009036</td>\n",
       "      <td>0.132385</td>\n",
       "      <td>-0.056417</td>\n",
       "      <td>0.060075</td>\n",
       "    </tr>\n",
       "    <tr>\n",
       "      <th>last_price</th>\n",
       "      <td>0.152920</td>\n",
       "      <td>1.000000</td>\n",
       "      <td>0.770979</td>\n",
       "      <td>0.121866</td>\n",
       "      <td>-0.027254</td>\n",
       "      <td>0.496519</td>\n",
       "      <td>0.118706</td>\n",
       "      <td>0.108614</td>\n",
       "      <td>0.083431</td>\n",
       "      <td>0.658063</td>\n",
       "      <td>...</td>\n",
       "      <td>-0.059384</td>\n",
       "      <td>-0.039582</td>\n",
       "      <td>-0.017835</td>\n",
       "      <td>-0.037808</td>\n",
       "      <td>-0.360056</td>\n",
       "      <td>0.163113</td>\n",
       "      <td>0.062345</td>\n",
       "      <td>0.180693</td>\n",
       "      <td>-0.090087</td>\n",
       "      <td>0.640905</td>\n",
       "    </tr>\n",
       "  </tbody>\n",
       "</table>\n",
       "<p>23 rows × 23 columns</p>\n",
       "</div>"
      ],
      "text/plain": [
       "                      total_images  last_price  total_area  days_exposition  \\\n",
       "city_centers_nearest     -0.036108   -0.360056   -0.204824        -0.049267   \n",
       "kitchen_total_ratio      -0.024068   -0.112507   -0.375735        -0.041243   \n",
       "ponds_nearest             0.008528   -0.090087   -0.056417        -0.079369   \n",
       "studio                   -0.028927   -0.059384   -0.099402        -0.022109   \n",
       "open_plan                -0.023031   -0.039582   -0.060340        -0.023848   \n",
       "airports_nearest         -0.001664   -0.037808   -0.027022        -0.018373   \n",
       "year_of_publication       0.148618   -0.027254   -0.078882        -0.607080   \n",
       "balcony                   0.036027   -0.017835   -0.047003        -0.035759   \n",
       "living_total_ratio        0.002707    0.020343    0.208835         0.009425   \n",
       "parks_nearest            -0.007724    0.062345    0.009036         0.040755   \n",
       "floor                     0.032355    0.083431   -0.041349        -0.040608   \n",
       "floors_total              0.013479    0.108614   -0.055340        -0.046951   \n",
       "ceiling_height           -0.004959    0.118706    0.107335         0.025207   \n",
       "days_exposition          -0.033883    0.121866    0.151529         1.000000   \n",
       "total_images              1.000000    0.152920    0.103214        -0.033883   \n",
       "parks_around3000          0.007548    0.163113    0.113293         0.045824   \n",
       "ponds_around3000         -0.023064    0.180693    0.132385         0.064215   \n",
       "rooms                     0.085420    0.496519    0.797031         0.111038   \n",
       "kitchen_area              0.079373    0.573908    0.517896         0.085728   \n",
       "square_meter_cost         0.129456    0.640905    0.060075         0.008889   \n",
       "living_area               0.090397    0.658063    0.922281         0.136041   \n",
       "total_area                0.103214    0.770979    1.000000         0.151529   \n",
       "last_price                0.152920    1.000000    0.770979         0.121866   \n",
       "\n",
       "                      year_of_publication     rooms  ceiling_height  \\\n",
       "city_centers_nearest             0.025548 -0.141380       -0.120208   \n",
       "kitchen_total_ratio              0.020237 -0.628242        0.003638   \n",
       "ponds_nearest                    0.038922 -0.023934       -0.069008   \n",
       "studio                           0.011874 -0.163160        0.004756   \n",
       "open_plan                       -0.021968 -0.098722        0.061505   \n",
       "airports_nearest                 0.009615 -0.057765       -0.034292   \n",
       "year_of_publication              1.000000 -0.048509       -0.023236   \n",
       "balcony                         -0.008095 -0.086276       -0.002568   \n",
       "living_total_ratio               0.002213  0.534228        0.014149   \n",
       "parks_nearest                   -0.033311 -0.043662       -0.017345   \n",
       "floor                            0.003591 -0.173179       -0.016945   \n",
       "floors_total                     0.002386 -0.234953       -0.031526   \n",
       "ceiling_height                  -0.023236  0.051423        1.000000   \n",
       "days_exposition                 -0.607080  0.111038        0.025207   \n",
       "total_images                     0.148618  0.085420       -0.004959   \n",
       "parks_around3000                -0.028836  0.092505        0.085454   \n",
       "ponds_around3000                -0.034878  0.060333        0.076730   \n",
       "rooms                           -0.048509  1.000000        0.051423   \n",
       "kitchen_area                    -0.046064  0.143343        0.096627   \n",
       "square_meter_cost                0.055782 -0.132053        0.068295   \n",
       "living_area                     -0.065546  0.879665        0.097164   \n",
       "total_area                      -0.078882  0.797031        0.107335   \n",
       "last_price                      -0.027254  0.496519        0.118706   \n",
       "\n",
       "                      floors_total     floor  living_area  ...    studio  \\\n",
       "city_centers_nearest      0.006027  0.006317    -0.199881  ... -0.009936   \n",
       "kitchen_total_ratio       0.368139  0.261057    -0.574404  ...       NaN   \n",
       "ponds_nearest             0.032078  0.023812    -0.038251  ...  0.000752   \n",
       "studio                    0.071428  0.038513    -0.068020  ...  1.000000   \n",
       "open_plan                 0.052944  0.037885    -0.039911  ... -0.004417   \n",
       "airports_nearest          0.109071  0.070956    -0.060292  ... -0.022492   \n",
       "year_of_publication       0.002386  0.003591    -0.065546  ...  0.011874   \n",
       "balcony                   0.186601  0.178220    -0.080101  ...  0.047109   \n",
       "living_total_ratio       -0.374144 -0.270340     0.538981  ...  0.092354   \n",
       "parks_nearest             0.092960  0.070290    -0.034002  ...  0.009146   \n",
       "floor                     0.675759  1.000000    -0.131991  ...  0.038513   \n",
       "floors_total              1.000000  0.675759    -0.182613  ...  0.071428   \n",
       "ceiling_height           -0.031526 -0.016945     0.097164  ...  0.004756   \n",
       "days_exposition          -0.046951 -0.040608     0.136041  ... -0.022109   \n",
       "total_images              0.013479  0.032355     0.090397  ... -0.028927   \n",
       "parks_around3000         -0.246070 -0.163876     0.131404  ... -0.029450   \n",
       "ponds_around3000         -0.114544 -0.074608     0.109079  ...  0.003264   \n",
       "rooms                    -0.234953 -0.173179     0.879665  ... -0.163160   \n",
       "kitchen_area              0.254758  0.178542     0.262156  ...       NaN   \n",
       "square_meter_cost         0.287778  0.214358    -0.034611  ...  0.036680   \n",
       "living_area              -0.182613 -0.131991     1.000000  ... -0.068020   \n",
       "total_area               -0.055340 -0.041349     0.922281  ... -0.099402   \n",
       "last_price                0.108614  0.083431     0.658063  ... -0.059384   \n",
       "\n",
       "                      open_plan   balcony  airports_nearest  \\\n",
       "city_centers_nearest  -0.003811  0.066903          0.273084   \n",
       "kitchen_total_ratio         NaN  0.085232          0.051930   \n",
       "ponds_nearest         -0.002987  0.027984          0.016287   \n",
       "studio                -0.004417  0.047109         -0.022492   \n",
       "open_plan              1.000000  0.050727         -0.013954   \n",
       "airports_nearest      -0.013954  0.045641          1.000000   \n",
       "year_of_publication   -0.021968 -0.008095          0.009615   \n",
       "balcony                0.050727  1.000000          0.045641   \n",
       "living_total_ratio     0.064639 -0.102387         -0.089263   \n",
       "parks_nearest          0.011234  0.037032         -0.077046   \n",
       "floor                  0.037885  0.178220          0.070956   \n",
       "floors_total           0.052944  0.186601          0.109071   \n",
       "ceiling_height         0.061505 -0.002568         -0.034292   \n",
       "days_exposition       -0.023848 -0.035759         -0.018373   \n",
       "total_images          -0.023031  0.036027         -0.001664   \n",
       "parks_around3000      -0.012335 -0.098043          0.009694   \n",
       "ponds_around3000       0.007113 -0.045915         -0.052470   \n",
       "rooms                 -0.098722 -0.086276         -0.057765   \n",
       "kitchen_area                NaN  0.037755          0.019637   \n",
       "square_meter_cost      0.013401  0.036480         -0.041058   \n",
       "living_area           -0.039911 -0.080101         -0.060292   \n",
       "total_area            -0.060340 -0.047003         -0.027022   \n",
       "last_price            -0.039582 -0.017835         -0.037808   \n",
       "\n",
       "                      city_centers_nearest  parks_around3000  parks_nearest  \\\n",
       "city_centers_nearest              1.000000         -0.136569      -0.052904   \n",
       "kitchen_total_ratio               0.009035         -0.080721       0.055187   \n",
       "ponds_nearest                     0.005788         -0.153570       0.005508   \n",
       "studio                           -0.009936         -0.029450       0.009146   \n",
       "open_plan                        -0.003811         -0.012335       0.011234   \n",
       "airports_nearest                  0.273084          0.009694      -0.077046   \n",
       "year_of_publication               0.025548         -0.028836      -0.033311   \n",
       "balcony                           0.066903         -0.098043       0.037032   \n",
       "living_total_ratio               -0.037909          0.087023      -0.095951   \n",
       "parks_nearest                    -0.052904         -0.249389       1.000000   \n",
       "floor                             0.006317         -0.163876       0.070290   \n",
       "floors_total                      0.006027         -0.246070       0.092960   \n",
       "ceiling_height                   -0.120208          0.085454      -0.017345   \n",
       "days_exposition                  -0.049267          0.045824       0.040755   \n",
       "total_images                     -0.036108          0.007548      -0.007724   \n",
       "parks_around3000                 -0.136569          1.000000      -0.249389   \n",
       "ponds_around3000                 -0.046019          0.292732       0.084346   \n",
       "rooms                            -0.141380          0.092505      -0.043662   \n",
       "kitchen_area                     -0.160550          0.027255       0.057729   \n",
       "square_meter_cost                -0.390789          0.124260       0.093457   \n",
       "living_area                      -0.199881          0.131404      -0.034002   \n",
       "total_area                       -0.204824          0.113293       0.009036   \n",
       "last_price                       -0.360056          0.163113       0.062345   \n",
       "\n",
       "                      ponds_around3000  ponds_nearest  square_meter_cost  \n",
       "city_centers_nearest         -0.046019       0.005788          -0.390789  \n",
       "kitchen_total_ratio           0.001988      -0.020126           0.270283  \n",
       "ponds_nearest                -0.329705       1.000000          -0.071162  \n",
       "studio                        0.003264       0.000752           0.036680  \n",
       "open_plan                     0.007113      -0.002987           0.013401  \n",
       "airports_nearest             -0.052470       0.016287          -0.041058  \n",
       "year_of_publication          -0.034878       0.038922           0.055782  \n",
       "balcony                      -0.045915       0.027984           0.036480  \n",
       "living_total_ratio           -0.013852       0.026998          -0.223501  \n",
       "parks_nearest                 0.084346       0.005508           0.093457  \n",
       "floor                        -0.074608       0.023812           0.214358  \n",
       "floors_total                 -0.114544       0.032078           0.287778  \n",
       "ceiling_height                0.076730      -0.069008           0.068295  \n",
       "days_exposition               0.064215      -0.079369           0.008889  \n",
       "total_images                 -0.023064       0.008528           0.129456  \n",
       "parks_around3000              0.292732      -0.153570           0.124260  \n",
       "ponds_around3000              1.000000      -0.329705           0.130714  \n",
       "rooms                         0.060333      -0.023934          -0.132053  \n",
       "kitchen_area                  0.118627      -0.074228           0.294657  \n",
       "square_meter_cost             0.130714      -0.071162           1.000000  \n",
       "living_area                   0.109079      -0.038251          -0.034611  \n",
       "total_area                    0.132385      -0.056417           0.060075  \n",
       "last_price                    0.180693      -0.090087           0.640905  \n",
       "\n",
       "[23 rows x 23 columns]"
      ]
     },
     "execution_count": 39,
     "metadata": {},
     "output_type": "execute_result"
    }
   ],
   "source": [
    "df_normalized.corr().sort_values(by='last_price')"
   ]
  },
  {
   "cell_type": "markdown",
   "id": "34f22107",
   "metadata": {},
   "source": [
    "На стоимость квартиры влияют:<br>\n",
    "\n",
    "общая площадь квартиры (0.77)  <br>\n",
    "стоимость кв.м. (0.64)<br>\n",
    "количество комнат (0.49)<br>\n",
    "жилая площадь (0.65)\n",
    "\n",
    "</div> "
   ]
  },
  {
   "cell_type": "code",
   "execution_count": 40,
   "id": "b0b7c289",
   "metadata": {},
   "outputs": [
    {
     "data": {
      "text/plain": [
       "<AxesSubplot:xlabel='last_price', ylabel='total_area'>"
      ]
     },
     "execution_count": 40,
     "metadata": {},
     "output_type": "execute_result"
    },
    {
     "data": {
      "image/png": "[encoded data removed]",
      "text/plain": [
       "<Figure size 432x288 with 1 Axes>"
      ]
     },
     "metadata": {
      "needs_background": "light"
     },
     "output_type": "display_data"
    }
   ],
   "source": [
    "# зависимость средней стоимости квартиры от площади\n",
    "df_normalized.plot(x='last_price', y='total_area', kind='scatter', alpha=0.3) \n"
   ]
  },
  {
   "cell_type": "markdown",
   "id": "90666669",
   "metadata": {},
   "source": [
    "Чем больше общая площадь квартиры, тем выше стоимость"
   ]
  },
  {
   "cell_type": "code",
   "execution_count": 41,
   "id": "e9bcbc8c",
   "metadata": {
    "scrolled": true
   },
   "outputs": [
    {
     "data": {
      "text/html": [
       "<div>\n",
       "<style scoped>\n",
       "    .dataframe tbody tr th:only-of-type {\n",
       "        vertical-align: middle;\n",
       "    }\n",
       "\n",
       "    .dataframe tbody tr th {\n",
       "        vertical-align: top;\n",
       "    }\n",
       "\n",
       "    .dataframe thead th {\n",
       "        text-align: right;\n",
       "    }\n",
       "</style>\n",
       "<table border=\"1\" class=\"dataframe\">\n",
       "  <thead>\n",
       "    <tr style=\"text-align: right;\">\n",
       "      <th></th>\n",
       "      <th>last_price</th>\n",
       "    </tr>\n",
       "    <tr>\n",
       "      <th>rooms</th>\n",
       "      <th></th>\n",
       "    </tr>\n",
       "  </thead>\n",
       "  <tbody>\n",
       "    <tr>\n",
       "      <th>0</th>\n",
       "      <td>2992508.4</td>\n",
       "    </tr>\n",
       "    <tr>\n",
       "      <th>1</th>\n",
       "      <td>3791563.7</td>\n",
       "    </tr>\n",
       "    <tr>\n",
       "      <th>2</th>\n",
       "      <td>5296225.6</td>\n",
       "    </tr>\n",
       "    <tr>\n",
       "      <th>3</th>\n",
       "      <td>6881502.8</td>\n",
       "    </tr>\n",
       "    <tr>\n",
       "      <th>4</th>\n",
       "      <td>8786855.9</td>\n",
       "    </tr>\n",
       "    <tr>\n",
       "      <th>5</th>\n",
       "      <td>11143381.5</td>\n",
       "    </tr>\n",
       "    <tr>\n",
       "      <th>6</th>\n",
       "      <td>13204052.0</td>\n",
       "    </tr>\n",
       "  </tbody>\n",
       "</table>\n",
       "</div>"
      ],
      "text/plain": [
       "       last_price\n",
       "rooms            \n",
       "0       2992508.4\n",
       "1       3791563.7\n",
       "2       5296225.6\n",
       "3       6881502.8\n",
       "4       8786855.9\n",
       "5      11143381.5\n",
       "6      13204052.0"
      ]
     },
     "execution_count": 41,
     "metadata": {},
     "output_type": "execute_result"
    }
   ],
   "source": [
    "# Зависимость средней стоимости квартиры от количества комнат\n",
    "pivot_rooms_price = pd.pivot_table(df_normalized,index=['rooms'],values=['last_price'], aggfunc='mean')\n",
    "pivot_rooms_price.round(1)"
   ]
  },
  {
   "cell_type": "markdown",
   "id": "dd2fb184",
   "metadata": {},
   "source": [
    "Чем больше комнат, тем выше цена. Данная закономерность прослеживается до 7-комнатных квартир. 8-комнатные квартиры и более не стоит рассматривать, так как данные по ним единичны."
   ]
  },
  {
   "cell_type": "code",
   "execution_count": 42,
   "id": "e8365851",
   "metadata": {
    "scrolled": true
   },
   "outputs": [
    {
     "data": {
      "text/html": [
       "<div>\n",
       "<style scoped>\n",
       "    .dataframe tbody tr th:only-of-type {\n",
       "        vertical-align: middle;\n",
       "    }\n",
       "\n",
       "    .dataframe tbody tr th {\n",
       "        vertical-align: top;\n",
       "    }\n",
       "\n",
       "    .dataframe thead th {\n",
       "        text-align: right;\n",
       "    }\n",
       "</style>\n",
       "<table border=\"1\" class=\"dataframe\">\n",
       "  <thead>\n",
       "    <tr style=\"text-align: right;\">\n",
       "      <th></th>\n",
       "      <th>total_images</th>\n",
       "      <th>last_price</th>\n",
       "      <th>total_area</th>\n",
       "      <th>days_exposition</th>\n",
       "      <th>year_of_publication</th>\n",
       "      <th>rooms</th>\n",
       "      <th>ceiling_height</th>\n",
       "      <th>floors_total</th>\n",
       "      <th>floor</th>\n",
       "      <th>living_area</th>\n",
       "      <th>...</th>\n",
       "      <th>studio</th>\n",
       "      <th>open_plan</th>\n",
       "      <th>balcony</th>\n",
       "      <th>airports_nearest</th>\n",
       "      <th>city_centers_nearest</th>\n",
       "      <th>parks_around3000</th>\n",
       "      <th>parks_nearest</th>\n",
       "      <th>ponds_around3000</th>\n",
       "      <th>ponds_nearest</th>\n",
       "      <th>square_meter_cost</th>\n",
       "    </tr>\n",
       "  </thead>\n",
       "  <tbody>\n",
       "    <tr>\n",
       "      <th>city_centers_nearest</th>\n",
       "      <td>-0.036108</td>\n",
       "      <td>-0.360056</td>\n",
       "      <td>-0.204824</td>\n",
       "      <td>-0.049267</td>\n",
       "      <td>0.025548</td>\n",
       "      <td>-0.141380</td>\n",
       "      <td>-0.120208</td>\n",
       "      <td>0.006027</td>\n",
       "      <td>0.006317</td>\n",
       "      <td>-0.199881</td>\n",
       "      <td>...</td>\n",
       "      <td>-0.009936</td>\n",
       "      <td>-0.003811</td>\n",
       "      <td>0.066903</td>\n",
       "      <td>0.273084</td>\n",
       "      <td>1.000000</td>\n",
       "      <td>-0.136569</td>\n",
       "      <td>-0.052904</td>\n",
       "      <td>-0.046019</td>\n",
       "      <td>0.005788</td>\n",
       "      <td>-0.390789</td>\n",
       "    </tr>\n",
       "    <tr>\n",
       "      <th>kitchen_total_ratio</th>\n",
       "      <td>-0.024068</td>\n",
       "      <td>-0.112507</td>\n",
       "      <td>-0.375735</td>\n",
       "      <td>-0.041243</td>\n",
       "      <td>0.020237</td>\n",
       "      <td>-0.628242</td>\n",
       "      <td>0.003638</td>\n",
       "      <td>0.368139</td>\n",
       "      <td>0.261057</td>\n",
       "      <td>-0.574404</td>\n",
       "      <td>...</td>\n",
       "      <td>NaN</td>\n",
       "      <td>NaN</td>\n",
       "      <td>0.085232</td>\n",
       "      <td>0.051930</td>\n",
       "      <td>0.009035</td>\n",
       "      <td>-0.080721</td>\n",
       "      <td>0.055187</td>\n",
       "      <td>0.001988</td>\n",
       "      <td>-0.020126</td>\n",
       "      <td>0.270283</td>\n",
       "    </tr>\n",
       "    <tr>\n",
       "      <th>ponds_nearest</th>\n",
       "      <td>0.008528</td>\n",
       "      <td>-0.090087</td>\n",
       "      <td>-0.056417</td>\n",
       "      <td>-0.079369</td>\n",
       "      <td>0.038922</td>\n",
       "      <td>-0.023934</td>\n",
       "      <td>-0.069008</td>\n",
       "      <td>0.032078</td>\n",
       "      <td>0.023812</td>\n",
       "      <td>-0.038251</td>\n",
       "      <td>...</td>\n",
       "      <td>0.000752</td>\n",
       "      <td>-0.002987</td>\n",
       "      <td>0.027984</td>\n",
       "      <td>0.016287</td>\n",
       "      <td>0.005788</td>\n",
       "      <td>-0.153570</td>\n",
       "      <td>0.005508</td>\n",
       "      <td>-0.329705</td>\n",
       "      <td>1.000000</td>\n",
       "      <td>-0.071162</td>\n",
       "    </tr>\n",
       "    <tr>\n",
       "      <th>studio</th>\n",
       "      <td>-0.028927</td>\n",
       "      <td>-0.059384</td>\n",
       "      <td>-0.099402</td>\n",
       "      <td>-0.022109</td>\n",
       "      <td>0.011874</td>\n",
       "      <td>-0.163160</td>\n",
       "      <td>0.004756</td>\n",
       "      <td>0.071428</td>\n",
       "      <td>0.038513</td>\n",
       "      <td>-0.068020</td>\n",
       "      <td>...</td>\n",
       "      <td>1.000000</td>\n",
       "      <td>-0.004417</td>\n",
       "      <td>0.047109</td>\n",
       "      <td>-0.022492</td>\n",
       "      <td>-0.009936</td>\n",
       "      <td>-0.029450</td>\n",
       "      <td>0.009146</td>\n",
       "      <td>0.003264</td>\n",
       "      <td>0.000752</td>\n",
       "      <td>0.036680</td>\n",
       "    </tr>\n",
       "    <tr>\n",
       "      <th>open_plan</th>\n",
       "      <td>-0.023031</td>\n",
       "      <td>-0.039582</td>\n",
       "      <td>-0.060340</td>\n",
       "      <td>-0.023848</td>\n",
       "      <td>-0.021968</td>\n",
       "      <td>-0.098722</td>\n",
       "      <td>0.061505</td>\n",
       "      <td>0.052944</td>\n",
       "      <td>0.037885</td>\n",
       "      <td>-0.039911</td>\n",
       "      <td>...</td>\n",
       "      <td>-0.004417</td>\n",
       "      <td>1.000000</td>\n",
       "      <td>0.050727</td>\n",
       "      <td>-0.013954</td>\n",
       "      <td>-0.003811</td>\n",
       "      <td>-0.012335</td>\n",
       "      <td>0.011234</td>\n",
       "      <td>0.007113</td>\n",
       "      <td>-0.002987</td>\n",
       "      <td>0.013401</td>\n",
       "    </tr>\n",
       "    <tr>\n",
       "      <th>airports_nearest</th>\n",
       "      <td>-0.001664</td>\n",
       "      <td>-0.037808</td>\n",
       "      <td>-0.027022</td>\n",
       "      <td>-0.018373</td>\n",
       "      <td>0.009615</td>\n",
       "      <td>-0.057765</td>\n",
       "      <td>-0.034292</td>\n",
       "      <td>0.109071</td>\n",
       "      <td>0.070956</td>\n",
       "      <td>-0.060292</td>\n",
       "      <td>...</td>\n",
       "      <td>-0.022492</td>\n",
       "      <td>-0.013954</td>\n",
       "      <td>0.045641</td>\n",
       "      <td>1.000000</td>\n",
       "      <td>0.273084</td>\n",
       "      <td>0.009694</td>\n",
       "      <td>-0.077046</td>\n",
       "      <td>-0.052470</td>\n",
       "      <td>0.016287</td>\n",
       "      <td>-0.041058</td>\n",
       "    </tr>\n",
       "    <tr>\n",
       "      <th>year_of_publication</th>\n",
       "      <td>0.148618</td>\n",
       "      <td>-0.027254</td>\n",
       "      <td>-0.078882</td>\n",
       "      <td>-0.607080</td>\n",
       "      <td>1.000000</td>\n",
       "      <td>-0.048509</td>\n",
       "      <td>-0.023236</td>\n",
       "      <td>0.002386</td>\n",
       "      <td>0.003591</td>\n",
       "      <td>-0.065546</td>\n",
       "      <td>...</td>\n",
       "      <td>0.011874</td>\n",
       "      <td>-0.021968</td>\n",
       "      <td>-0.008095</td>\n",
       "      <td>0.009615</td>\n",
       "      <td>0.025548</td>\n",
       "      <td>-0.028836</td>\n",
       "      <td>-0.033311</td>\n",
       "      <td>-0.034878</td>\n",
       "      <td>0.038922</td>\n",
       "      <td>0.055782</td>\n",
       "    </tr>\n",
       "    <tr>\n",
       "      <th>balcony</th>\n",
       "      <td>0.036027</td>\n",
       "      <td>-0.017835</td>\n",
       "      <td>-0.047003</td>\n",
       "      <td>-0.035759</td>\n",
       "      <td>-0.008095</td>\n",
       "      <td>-0.086276</td>\n",
       "      <td>-0.002568</td>\n",
       "      <td>0.186601</td>\n",
       "      <td>0.178220</td>\n",
       "      <td>-0.080101</td>\n",
       "      <td>...</td>\n",
       "      <td>0.047109</td>\n",
       "      <td>0.050727</td>\n",
       "      <td>1.000000</td>\n",
       "      <td>0.045641</td>\n",
       "      <td>0.066903</td>\n",
       "      <td>-0.098043</td>\n",
       "      <td>0.037032</td>\n",
       "      <td>-0.045915</td>\n",
       "      <td>0.027984</td>\n",
       "      <td>0.036480</td>\n",
       "    </tr>\n",
       "    <tr>\n",
       "      <th>living_total_ratio</th>\n",
       "      <td>0.002707</td>\n",
       "      <td>0.020343</td>\n",
       "      <td>0.208835</td>\n",
       "      <td>0.009425</td>\n",
       "      <td>0.002213</td>\n",
       "      <td>0.534228</td>\n",
       "      <td>0.014149</td>\n",
       "      <td>-0.374144</td>\n",
       "      <td>-0.270340</td>\n",
       "      <td>0.538981</td>\n",
       "      <td>...</td>\n",
       "      <td>0.092354</td>\n",
       "      <td>0.064639</td>\n",
       "      <td>-0.102387</td>\n",
       "      <td>-0.089263</td>\n",
       "      <td>-0.037909</td>\n",
       "      <td>0.087023</td>\n",
       "      <td>-0.095951</td>\n",
       "      <td>-0.013852</td>\n",
       "      <td>0.026998</td>\n",
       "      <td>-0.223501</td>\n",
       "    </tr>\n",
       "    <tr>\n",
       "      <th>parks_nearest</th>\n",
       "      <td>-0.007724</td>\n",
       "      <td>0.062345</td>\n",
       "      <td>0.009036</td>\n",
       "      <td>0.040755</td>\n",
       "      <td>-0.033311</td>\n",
       "      <td>-0.043662</td>\n",
       "      <td>-0.017345</td>\n",
       "      <td>0.092960</td>\n",
       "      <td>0.070290</td>\n",
       "      <td>-0.034002</td>\n",
       "      <td>...</td>\n",
       "      <td>0.009146</td>\n",
       "      <td>0.011234</td>\n",
       "      <td>0.037032</td>\n",
       "      <td>-0.077046</td>\n",
       "      <td>-0.052904</td>\n",
       "      <td>-0.249389</td>\n",
       "      <td>1.000000</td>\n",
       "      <td>0.084346</td>\n",
       "      <td>0.005508</td>\n",
       "      <td>0.093457</td>\n",
       "    </tr>\n",
       "    <tr>\n",
       "      <th>floor</th>\n",
       "      <td>0.032355</td>\n",
       "      <td>0.083431</td>\n",
       "      <td>-0.041349</td>\n",
       "      <td>-0.040608</td>\n",
       "      <td>0.003591</td>\n",
       "      <td>-0.173179</td>\n",
       "      <td>-0.016945</td>\n",
       "      <td>0.675759</td>\n",
       "      <td>1.000000</td>\n",
       "      <td>-0.131991</td>\n",
       "      <td>...</td>\n",
       "      <td>0.038513</td>\n",
       "      <td>0.037885</td>\n",
       "      <td>0.178220</td>\n",
       "      <td>0.070956</td>\n",
       "      <td>0.006317</td>\n",
       "      <td>-0.163876</td>\n",
       "      <td>0.070290</td>\n",
       "      <td>-0.074608</td>\n",
       "      <td>0.023812</td>\n",
       "      <td>0.214358</td>\n",
       "    </tr>\n",
       "    <tr>\n",
       "      <th>floors_total</th>\n",
       "      <td>0.013479</td>\n",
       "      <td>0.108614</td>\n",
       "      <td>-0.055340</td>\n",
       "      <td>-0.046951</td>\n",
       "      <td>0.002386</td>\n",
       "      <td>-0.234953</td>\n",
       "      <td>-0.031526</td>\n",
       "      <td>1.000000</td>\n",
       "      <td>0.675759</td>\n",
       "      <td>-0.182613</td>\n",
       "      <td>...</td>\n",
       "      <td>0.071428</td>\n",
       "      <td>0.052944</td>\n",
       "      <td>0.186601</td>\n",
       "      <td>0.109071</td>\n",
       "      <td>0.006027</td>\n",
       "      <td>-0.246070</td>\n",
       "      <td>0.092960</td>\n",
       "      <td>-0.114544</td>\n",
       "      <td>0.032078</td>\n",
       "      <td>0.287778</td>\n",
       "    </tr>\n",
       "    <tr>\n",
       "      <th>ceiling_height</th>\n",
       "      <td>-0.004959</td>\n",
       "      <td>0.118706</td>\n",
       "      <td>0.107335</td>\n",
       "      <td>0.025207</td>\n",
       "      <td>-0.023236</td>\n",
       "      <td>0.051423</td>\n",
       "      <td>1.000000</td>\n",
       "      <td>-0.031526</td>\n",
       "      <td>-0.016945</td>\n",
       "      <td>0.097164</td>\n",
       "      <td>...</td>\n",
       "      <td>0.004756</td>\n",
       "      <td>0.061505</td>\n",
       "      <td>-0.002568</td>\n",
       "      <td>-0.034292</td>\n",
       "      <td>-0.120208</td>\n",
       "      <td>0.085454</td>\n",
       "      <td>-0.017345</td>\n",
       "      <td>0.076730</td>\n",
       "      <td>-0.069008</td>\n",
       "      <td>0.068295</td>\n",
       "    </tr>\n",
       "    <tr>\n",
       "      <th>days_exposition</th>\n",
       "      <td>-0.033883</td>\n",
       "      <td>0.121866</td>\n",
       "      <td>0.151529</td>\n",
       "      <td>1.000000</td>\n",
       "      <td>-0.607080</td>\n",
       "      <td>0.111038</td>\n",
       "      <td>0.025207</td>\n",
       "      <td>-0.046951</td>\n",
       "      <td>-0.040608</td>\n",
       "      <td>0.136041</td>\n",
       "      <td>...</td>\n",
       "      <td>-0.022109</td>\n",
       "      <td>-0.023848</td>\n",
       "      <td>-0.035759</td>\n",
       "      <td>-0.018373</td>\n",
       "      <td>-0.049267</td>\n",
       "      <td>0.045824</td>\n",
       "      <td>0.040755</td>\n",
       "      <td>0.064215</td>\n",
       "      <td>-0.079369</td>\n",
       "      <td>0.008889</td>\n",
       "    </tr>\n",
       "    <tr>\n",
       "      <th>total_images</th>\n",
       "      <td>1.000000</td>\n",
       "      <td>0.152920</td>\n",
       "      <td>0.103214</td>\n",
       "      <td>-0.033883</td>\n",
       "      <td>0.148618</td>\n",
       "      <td>0.085420</td>\n",
       "      <td>-0.004959</td>\n",
       "      <td>0.013479</td>\n",
       "      <td>0.032355</td>\n",
       "      <td>0.090397</td>\n",
       "      <td>...</td>\n",
       "      <td>-0.028927</td>\n",
       "      <td>-0.023031</td>\n",
       "      <td>0.036027</td>\n",
       "      <td>-0.001664</td>\n",
       "      <td>-0.036108</td>\n",
       "      <td>0.007548</td>\n",
       "      <td>-0.007724</td>\n",
       "      <td>-0.023064</td>\n",
       "      <td>0.008528</td>\n",
       "      <td>0.129456</td>\n",
       "    </tr>\n",
       "    <tr>\n",
       "      <th>parks_around3000</th>\n",
       "      <td>0.007548</td>\n",
       "      <td>0.163113</td>\n",
       "      <td>0.113293</td>\n",
       "      <td>0.045824</td>\n",
       "      <td>-0.028836</td>\n",
       "      <td>0.092505</td>\n",
       "      <td>0.085454</td>\n",
       "      <td>-0.246070</td>\n",
       "      <td>-0.163876</td>\n",
       "      <td>0.131404</td>\n",
       "      <td>...</td>\n",
       "      <td>-0.029450</td>\n",
       "      <td>-0.012335</td>\n",
       "      <td>-0.098043</td>\n",
       "      <td>0.009694</td>\n",
       "      <td>-0.136569</td>\n",
       "      <td>1.000000</td>\n",
       "      <td>-0.249389</td>\n",
       "      <td>0.292732</td>\n",
       "      <td>-0.153570</td>\n",
       "      <td>0.124260</td>\n",
       "    </tr>\n",
       "    <tr>\n",
       "      <th>ponds_around3000</th>\n",
       "      <td>-0.023064</td>\n",
       "      <td>0.180693</td>\n",
       "      <td>0.132385</td>\n",
       "      <td>0.064215</td>\n",
       "      <td>-0.034878</td>\n",
       "      <td>0.060333</td>\n",
       "      <td>0.076730</td>\n",
       "      <td>-0.114544</td>\n",
       "      <td>-0.074608</td>\n",
       "      <td>0.109079</td>\n",
       "      <td>...</td>\n",
       "      <td>0.003264</td>\n",
       "      <td>0.007113</td>\n",
       "      <td>-0.045915</td>\n",
       "      <td>-0.052470</td>\n",
       "      <td>-0.046019</td>\n",
       "      <td>0.292732</td>\n",
       "      <td>0.084346</td>\n",
       "      <td>1.000000</td>\n",
       "      <td>-0.329705</td>\n",
       "      <td>0.130714</td>\n",
       "    </tr>\n",
       "    <tr>\n",
       "      <th>rooms</th>\n",
       "      <td>0.085420</td>\n",
       "      <td>0.496519</td>\n",
       "      <td>0.797031</td>\n",
       "      <td>0.111038</td>\n",
       "      <td>-0.048509</td>\n",
       "      <td>1.000000</td>\n",
       "      <td>0.051423</td>\n",
       "      <td>-0.234953</td>\n",
       "      <td>-0.173179</td>\n",
       "      <td>0.879665</td>\n",
       "      <td>...</td>\n",
       "      <td>-0.163160</td>\n",
       "      <td>-0.098722</td>\n",
       "      <td>-0.086276</td>\n",
       "      <td>-0.057765</td>\n",
       "      <td>-0.141380</td>\n",
       "      <td>0.092505</td>\n",
       "      <td>-0.043662</td>\n",
       "      <td>0.060333</td>\n",
       "      <td>-0.023934</td>\n",
       "      <td>-0.132053</td>\n",
       "    </tr>\n",
       "    <tr>\n",
       "      <th>kitchen_area</th>\n",
       "      <td>0.079373</td>\n",
       "      <td>0.573908</td>\n",
       "      <td>0.517896</td>\n",
       "      <td>0.085728</td>\n",
       "      <td>-0.046064</td>\n",
       "      <td>0.143343</td>\n",
       "      <td>0.096627</td>\n",
       "      <td>0.254758</td>\n",
       "      <td>0.178542</td>\n",
       "      <td>0.262156</td>\n",
       "      <td>...</td>\n",
       "      <td>NaN</td>\n",
       "      <td>NaN</td>\n",
       "      <td>0.037755</td>\n",
       "      <td>0.019637</td>\n",
       "      <td>-0.160550</td>\n",
       "      <td>0.027255</td>\n",
       "      <td>0.057729</td>\n",
       "      <td>0.118627</td>\n",
       "      <td>-0.074228</td>\n",
       "      <td>0.294657</td>\n",
       "    </tr>\n",
       "    <tr>\n",
       "      <th>square_meter_cost</th>\n",
       "      <td>0.129456</td>\n",
       "      <td>0.640905</td>\n",
       "      <td>0.060075</td>\n",
       "      <td>0.008889</td>\n",
       "      <td>0.055782</td>\n",
       "      <td>-0.132053</td>\n",
       "      <td>0.068295</td>\n",
       "      <td>0.287778</td>\n",
       "      <td>0.214358</td>\n",
       "      <td>-0.034611</td>\n",
       "      <td>...</td>\n",
       "      <td>0.036680</td>\n",
       "      <td>0.013401</td>\n",
       "      <td>0.036480</td>\n",
       "      <td>-0.041058</td>\n",
       "      <td>-0.390789</td>\n",
       "      <td>0.124260</td>\n",
       "      <td>0.093457</td>\n",
       "      <td>0.130714</td>\n",
       "      <td>-0.071162</td>\n",
       "      <td>1.000000</td>\n",
       "    </tr>\n",
       "    <tr>\n",
       "      <th>living_area</th>\n",
       "      <td>0.090397</td>\n",
       "      <td>0.658063</td>\n",
       "      <td>0.922281</td>\n",
       "      <td>0.136041</td>\n",
       "      <td>-0.065546</td>\n",
       "      <td>0.879665</td>\n",
       "      <td>0.097164</td>\n",
       "      <td>-0.182613</td>\n",
       "      <td>-0.131991</td>\n",
       "      <td>1.000000</td>\n",
       "      <td>...</td>\n",
       "      <td>-0.068020</td>\n",
       "      <td>-0.039911</td>\n",
       "      <td>-0.080101</td>\n",
       "      <td>-0.060292</td>\n",
       "      <td>-0.199881</td>\n",
       "      <td>0.131404</td>\n",
       "      <td>-0.034002</td>\n",
       "      <td>0.109079</td>\n",
       "      <td>-0.038251</td>\n",
       "      <td>-0.034611</td>\n",
       "    </tr>\n",
       "    <tr>\n",
       "      <th>total_area</th>\n",
       "      <td>0.103214</td>\n",
       "      <td>0.770979</td>\n",
       "      <td>1.000000</td>\n",
       "      <td>0.151529</td>\n",
       "      <td>-0.078882</td>\n",
       "      <td>0.797031</td>\n",
       "      <td>0.107335</td>\n",
       "      <td>-0.055340</td>\n",
       "      <td>-0.041349</td>\n",
       "      <td>0.922281</td>\n",
       "      <td>...</td>\n",
       "      <td>-0.099402</td>\n",
       "      <td>-0.060340</td>\n",
       "      <td>-0.047003</td>\n",
       "      <td>-0.027022</td>\n",
       "      <td>-0.204824</td>\n",
       "      <td>0.113293</td>\n",
       "      <td>0.009036</td>\n",
       "      <td>0.132385</td>\n",
       "      <td>-0.056417</td>\n",
       "      <td>0.060075</td>\n",
       "    </tr>\n",
       "    <tr>\n",
       "      <th>last_price</th>\n",
       "      <td>0.152920</td>\n",
       "      <td>1.000000</td>\n",
       "      <td>0.770979</td>\n",
       "      <td>0.121866</td>\n",
       "      <td>-0.027254</td>\n",
       "      <td>0.496519</td>\n",
       "      <td>0.118706</td>\n",
       "      <td>0.108614</td>\n",
       "      <td>0.083431</td>\n",
       "      <td>0.658063</td>\n",
       "      <td>...</td>\n",
       "      <td>-0.059384</td>\n",
       "      <td>-0.039582</td>\n",
       "      <td>-0.017835</td>\n",
       "      <td>-0.037808</td>\n",
       "      <td>-0.360056</td>\n",
       "      <td>0.163113</td>\n",
       "      <td>0.062345</td>\n",
       "      <td>0.180693</td>\n",
       "      <td>-0.090087</td>\n",
       "      <td>0.640905</td>\n",
       "    </tr>\n",
       "  </tbody>\n",
       "</table>\n",
       "<p>23 rows × 23 columns</p>\n",
       "</div>"
      ],
      "text/plain": [
       "                      total_images  last_price  total_area  days_exposition  \\\n",
       "city_centers_nearest     -0.036108   -0.360056   -0.204824        -0.049267   \n",
       "kitchen_total_ratio      -0.024068   -0.112507   -0.375735        -0.041243   \n",
       "ponds_nearest             0.008528   -0.090087   -0.056417        -0.079369   \n",
       "studio                   -0.028927   -0.059384   -0.099402        -0.022109   \n",
       "open_plan                -0.023031   -0.039582   -0.060340        -0.023848   \n",
       "airports_nearest         -0.001664   -0.037808   -0.027022        -0.018373   \n",
       "year_of_publication       0.148618   -0.027254   -0.078882        -0.607080   \n",
       "balcony                   0.036027   -0.017835   -0.047003        -0.035759   \n",
       "living_total_ratio        0.002707    0.020343    0.208835         0.009425   \n",
       "parks_nearest            -0.007724    0.062345    0.009036         0.040755   \n",
       "floor                     0.032355    0.083431   -0.041349        -0.040608   \n",
       "floors_total              0.013479    0.108614   -0.055340        -0.046951   \n",
       "ceiling_height           -0.004959    0.118706    0.107335         0.025207   \n",
       "days_exposition          -0.033883    0.121866    0.151529         1.000000   \n",
       "total_images              1.000000    0.152920    0.103214        -0.033883   \n",
       "parks_around3000          0.007548    0.163113    0.113293         0.045824   \n",
       "ponds_around3000         -0.023064    0.180693    0.132385         0.064215   \n",
       "rooms                     0.085420    0.496519    0.797031         0.111038   \n",
       "kitchen_area              0.079373    0.573908    0.517896         0.085728   \n",
       "square_meter_cost         0.129456    0.640905    0.060075         0.008889   \n",
       "living_area               0.090397    0.658063    0.922281         0.136041   \n",
       "total_area                0.103214    0.770979    1.000000         0.151529   \n",
       "last_price                0.152920    1.000000    0.770979         0.121866   \n",
       "\n",
       "                      year_of_publication     rooms  ceiling_height  \\\n",
       "city_centers_nearest             0.025548 -0.141380       -0.120208   \n",
       "kitchen_total_ratio              0.020237 -0.628242        0.003638   \n",
       "ponds_nearest                    0.038922 -0.023934       -0.069008   \n",
       "studio                           0.011874 -0.163160        0.004756   \n",
       "open_plan                       -0.021968 -0.098722        0.061505   \n",
       "airports_nearest                 0.009615 -0.057765       -0.034292   \n",
       "year_of_publication              1.000000 -0.048509       -0.023236   \n",
       "balcony                         -0.008095 -0.086276       -0.002568   \n",
       "living_total_ratio               0.002213  0.534228        0.014149   \n",
       "parks_nearest                   -0.033311 -0.043662       -0.017345   \n",
       "floor                            0.003591 -0.173179       -0.016945   \n",
       "floors_total                     0.002386 -0.234953       -0.031526   \n",
       "ceiling_height                  -0.023236  0.051423        1.000000   \n",
       "days_exposition                 -0.607080  0.111038        0.025207   \n",
       "total_images                     0.148618  0.085420       -0.004959   \n",
       "parks_around3000                -0.028836  0.092505        0.085454   \n",
       "ponds_around3000                -0.034878  0.060333        0.076730   \n",
       "rooms                           -0.048509  1.000000        0.051423   \n",
       "kitchen_area                    -0.046064  0.143343        0.096627   \n",
       "square_meter_cost                0.055782 -0.132053        0.068295   \n",
       "living_area                     -0.065546  0.879665        0.097164   \n",
       "total_area                      -0.078882  0.797031        0.107335   \n",
       "last_price                      -0.027254  0.496519        0.118706   \n",
       "\n",
       "                      floors_total     floor  living_area  ...    studio  \\\n",
       "city_centers_nearest      0.006027  0.006317    -0.199881  ... -0.009936   \n",
       "kitchen_total_ratio       0.368139  0.261057    -0.574404  ...       NaN   \n",
       "ponds_nearest             0.032078  0.023812    -0.038251  ...  0.000752   \n",
       "studio                    0.071428  0.038513    -0.068020  ...  1.000000   \n",
       "open_plan                 0.052944  0.037885    -0.039911  ... -0.004417   \n",
       "airports_nearest          0.109071  0.070956    -0.060292  ... -0.022492   \n",
       "year_of_publication       0.002386  0.003591    -0.065546  ...  0.011874   \n",
       "balcony                   0.186601  0.178220    -0.080101  ...  0.047109   \n",
       "living_total_ratio       -0.374144 -0.270340     0.538981  ...  0.092354   \n",
       "parks_nearest             0.092960  0.070290    -0.034002  ...  0.009146   \n",
       "floor                     0.675759  1.000000    -0.131991  ...  0.038513   \n",
       "floors_total              1.000000  0.675759    -0.182613  ...  0.071428   \n",
       "ceiling_height           -0.031526 -0.016945     0.097164  ...  0.004756   \n",
       "days_exposition          -0.046951 -0.040608     0.136041  ... -0.022109   \n",
       "total_images              0.013479  0.032355     0.090397  ... -0.028927   \n",
       "parks_around3000         -0.246070 -0.163876     0.131404  ... -0.029450   \n",
       "ponds_around3000         -0.114544 -0.074608     0.109079  ...  0.003264   \n",
       "rooms                    -0.234953 -0.173179     0.879665  ... -0.163160   \n",
       "kitchen_area              0.254758  0.178542     0.262156  ...       NaN   \n",
       "square_meter_cost         0.287778  0.214358    -0.034611  ...  0.036680   \n",
       "living_area              -0.182613 -0.131991     1.000000  ... -0.068020   \n",
       "total_area               -0.055340 -0.041349     0.922281  ... -0.099402   \n",
       "last_price                0.108614  0.083431     0.658063  ... -0.059384   \n",
       "\n",
       "                      open_plan   balcony  airports_nearest  \\\n",
       "city_centers_nearest  -0.003811  0.066903          0.273084   \n",
       "kitchen_total_ratio         NaN  0.085232          0.051930   \n",
       "ponds_nearest         -0.002987  0.027984          0.016287   \n",
       "studio                -0.004417  0.047109         -0.022492   \n",
       "open_plan              1.000000  0.050727         -0.013954   \n",
       "airports_nearest      -0.013954  0.045641          1.000000   \n",
       "year_of_publication   -0.021968 -0.008095          0.009615   \n",
       "balcony                0.050727  1.000000          0.045641   \n",
       "living_total_ratio     0.064639 -0.102387         -0.089263   \n",
       "parks_nearest          0.011234  0.037032         -0.077046   \n",
       "floor                  0.037885  0.178220          0.070956   \n",
       "floors_total           0.052944  0.186601          0.109071   \n",
       "ceiling_height         0.061505 -0.002568         -0.034292   \n",
       "days_exposition       -0.023848 -0.035759         -0.018373   \n",
       "total_images          -0.023031  0.036027         -0.001664   \n",
       "parks_around3000      -0.012335 -0.098043          0.009694   \n",
       "ponds_around3000       0.007113 -0.045915         -0.052470   \n",
       "rooms                 -0.098722 -0.086276         -0.057765   \n",
       "kitchen_area                NaN  0.037755          0.019637   \n",
       "square_meter_cost      0.013401  0.036480         -0.041058   \n",
       "living_area           -0.039911 -0.080101         -0.060292   \n",
       "total_area            -0.060340 -0.047003         -0.027022   \n",
       "last_price            -0.039582 -0.017835         -0.037808   \n",
       "\n",
       "                      city_centers_nearest  parks_around3000  parks_nearest  \\\n",
       "city_centers_nearest              1.000000         -0.136569      -0.052904   \n",
       "kitchen_total_ratio               0.009035         -0.080721       0.055187   \n",
       "ponds_nearest                     0.005788         -0.153570       0.005508   \n",
       "studio                           -0.009936         -0.029450       0.009146   \n",
       "open_plan                        -0.003811         -0.012335       0.011234   \n",
       "airports_nearest                  0.273084          0.009694      -0.077046   \n",
       "year_of_publication               0.025548         -0.028836      -0.033311   \n",
       "balcony                           0.066903         -0.098043       0.037032   \n",
       "living_total_ratio               -0.037909          0.087023      -0.095951   \n",
       "parks_nearest                    -0.052904         -0.249389       1.000000   \n",
       "floor                             0.006317         -0.163876       0.070290   \n",
       "floors_total                      0.006027         -0.246070       0.092960   \n",
       "ceiling_height                   -0.120208          0.085454      -0.017345   \n",
       "days_exposition                  -0.049267          0.045824       0.040755   \n",
       "total_images                     -0.036108          0.007548      -0.007724   \n",
       "parks_around3000                 -0.136569          1.000000      -0.249389   \n",
       "ponds_around3000                 -0.046019          0.292732       0.084346   \n",
       "rooms                            -0.141380          0.092505      -0.043662   \n",
       "kitchen_area                     -0.160550          0.027255       0.057729   \n",
       "square_meter_cost                -0.390789          0.124260       0.093457   \n",
       "living_area                      -0.199881          0.131404      -0.034002   \n",
       "total_area                       -0.204824          0.113293       0.009036   \n",
       "last_price                       -0.360056          0.163113       0.062345   \n",
       "\n",
       "                      ponds_around3000  ponds_nearest  square_meter_cost  \n",
       "city_centers_nearest         -0.046019       0.005788          -0.390789  \n",
       "kitchen_total_ratio           0.001988      -0.020126           0.270283  \n",
       "ponds_nearest                -0.329705       1.000000          -0.071162  \n",
       "studio                        0.003264       0.000752           0.036680  \n",
       "open_plan                     0.007113      -0.002987           0.013401  \n",
       "airports_nearest             -0.052470       0.016287          -0.041058  \n",
       "year_of_publication          -0.034878       0.038922           0.055782  \n",
       "balcony                      -0.045915       0.027984           0.036480  \n",
       "living_total_ratio           -0.013852       0.026998          -0.223501  \n",
       "parks_nearest                 0.084346       0.005508           0.093457  \n",
       "floor                        -0.074608       0.023812           0.214358  \n",
       "floors_total                 -0.114544       0.032078           0.287778  \n",
       "ceiling_height                0.076730      -0.069008           0.068295  \n",
       "days_exposition               0.064215      -0.079369           0.008889  \n",
       "total_images                 -0.023064       0.008528           0.129456  \n",
       "parks_around3000              0.292732      -0.153570           0.124260  \n",
       "ponds_around3000              1.000000      -0.329705           0.130714  \n",
       "rooms                         0.060333      -0.023934          -0.132053  \n",
       "kitchen_area                  0.118627      -0.074228           0.294657  \n",
       "square_meter_cost             0.130714      -0.071162           1.000000  \n",
       "living_area                   0.109079      -0.038251          -0.034611  \n",
       "total_area                    0.132385      -0.056417           0.060075  \n",
       "last_price                    0.180693      -0.090087           0.640905  \n",
       "\n",
       "[23 rows x 23 columns]"
      ]
     },
     "execution_count": 42,
     "metadata": {},
     "output_type": "execute_result"
    }
   ],
   "source": [
    "df_normalized.corr().sort_values(by='last_price')"
   ]
  },
  {
   "cell_type": "code",
   "execution_count": 43,
   "id": "74407947",
   "metadata": {
    "scrolled": true
   },
   "outputs": [
    {
     "data": {
      "image/png": "[encoded data removed]",
      "text/plain": [
       "<Figure size 432x288 with 1 Axes>"
      ]
     },
     "metadata": {
      "needs_background": "light"
     },
     "output_type": "display_data"
    },
    {
     "data": {
      "image/png": "[encoded data removed]",
      "text/plain": [
       "<Figure size 432x288 with 1 Axes>"
      ]
     },
     "metadata": {
      "needs_background": "light"
     },
     "output_type": "display_data"
    },
    {
     "data": {
      "image/png": "[encoded data removed]",
      "text/plain": [
       "<Figure size 432x288 with 1 Axes>"
      ]
     },
     "metadata": {
      "needs_background": "light"
     },
     "output_type": "display_data"
    },
    {
     "data": {
      "image/png": "[encoded data removed]",
      "text/plain": [
       "<Figure size 432x288 with 1 Axes>"
      ]
     },
     "metadata": {
      "needs_background": "light"
     },
     "output_type": "display_data"
    }
   ],
   "source": [
    "pivot_by_floor=df_normalized.pivot_table(index='full_floor', values='last_price', aggfunc=['mean'])\n",
    "plt.plot(pivot_by_floor.index,pivot_by_floor[\"mean\"][\"last_price\"], 'o')\n",
    "plt.title('Зависимость цены от этажа')\n",
    "plt.ylabel('Цена')\n",
    "plt.xlabel('Тип этажа')\n",
    "plt.show()\n",
    "\n",
    "pivot_by_day=df_normalized.pivot_table(index='day_of_publication', values='last_price', aggfunc=['mean'])\n",
    "plt.plot(pivot_by_day.index,pivot_by_day[\"mean\"][\"last_price\"], 'o-')\n",
    "plt.title('Зависимость цены от дня недели размещения')\n",
    "plt.ylabel('Цена')\n",
    "plt.xlabel('День недели')\n",
    "plt.show()\n",
    "\n",
    "pivot_by_month_name=df_normalized.pivot_table(index='month_of_publication', values='last_price', aggfunc=['mean'])\n",
    "plt.plot(pivot_by_month_name.index,pivot_by_month_name[\"mean\"][\"last_price\"], 'o-')\n",
    "plt.title('Зависимость цены от месяца размещения')\n",
    "plt.ylabel('Цена')\n",
    "plt.xlabel('Месяц')\n",
    "plt.show()\n",
    "\n",
    "pivot_by_year=df_normalized.pivot_table(index='year_of_publication', values='last_price', aggfunc=['mean'])\n",
    "plt.plot(pivot_by_year.index,pivot_by_year[\"mean\"][\"last_price\"], 'o-')\n",
    "plt.title('Зависимость цены от года размещения')\n",
    "plt.ylabel('Цена')\n",
    "plt.xlabel('Год')\n",
    "plt.show()"
   ]
  },
  {
   "cell_type": "markdown",
   "id": "c2e4151e",
   "metadata": {},
   "source": [
    "\n",
    "Из построенных графиков видно, что:\n",
    "1. Стоимость квартир на первом этаже ниже стоимости квартир на последнем этаже и других этажах. Люди готовы платить большую сумму за квартиры, которые не находятся на первом либо последнем этажах. \n",
    "2. Наиболее дорогие квартиры размещают на продажу в течении рабочих дней. В выходные дни размещают более дешевые квартиры. \n",
    "3. Цена на квартиры заметно снижается в начале лета, в июне. Также, можно заметить, что к концу года средняя стоимость квартир дорожает.\n",
    "4. Можно заметить, что средняя стоимость квартир была значительно дороже в 2014 году (последствия кризиса). После этого ситуация на рынке недвижимости постепенно нормализовалась и цены на квартиры начали спадать. \n",
    "\n",
    "</div> "
   ]
  },
  {
   "cell_type": "code",
   "execution_count": 44,
   "id": "65a7c45a",
   "metadata": {
    "scrolled": true
   },
   "outputs": [
    {
     "data": {
      "text/plain": [
       "locality_name\n",
       "Санкт-Петербург      15721\n",
       "посёлок Мурино         522\n",
       "посёлок Шушары         440\n",
       "Всеволожск             398\n",
       "Пушкин                 369\n",
       "Колпино                338\n",
       "посёлок Парголово      327\n",
       "Гатчина                307\n",
       "деревня Кудрово        299\n",
       "Выборг                 237\n",
       "dtype: int64"
      ]
     },
     "execution_count": 44,
     "metadata": {},
     "output_type": "execute_result"
    }
   ],
   "source": [
    "# 10 населённых пунктов с наибольшим числом объявлений\n",
    "df_top10 = df.groupby('locality_name').size().sort_values(ascending=False)\n",
    "df_top10.head(10)"
   ]
  },
  {
   "cell_type": "code",
   "execution_count": 45,
   "id": "cd9dd35d",
   "metadata": {
    "scrolled": false
   },
   "outputs": [
    {
     "data": {
      "text/html": [
       "<div>\n",
       "<style scoped>\n",
       "    .dataframe tbody tr th:only-of-type {\n",
       "        vertical-align: middle;\n",
       "    }\n",
       "\n",
       "    .dataframe tbody tr th {\n",
       "        vertical-align: top;\n",
       "    }\n",
       "\n",
       "    .dataframe thead tr th {\n",
       "        text-align: left;\n",
       "    }\n",
       "\n",
       "    .dataframe thead tr:last-of-type th {\n",
       "        text-align: right;\n",
       "    }\n",
       "</style>\n",
       "<table border=\"1\" class=\"dataframe\">\n",
       "  <thead>\n",
       "    <tr>\n",
       "      <th></th>\n",
       "      <th>count</th>\n",
       "      <th>mean</th>\n",
       "    </tr>\n",
       "    <tr>\n",
       "      <th></th>\n",
       "      <th>square_meter_cost</th>\n",
       "      <th>square_meter_cost</th>\n",
       "    </tr>\n",
       "    <tr>\n",
       "      <th>locality_name</th>\n",
       "      <th></th>\n",
       "      <th></th>\n",
       "    </tr>\n",
       "  </thead>\n",
       "  <tbody>\n",
       "    <tr>\n",
       "      <th>Санкт-Петербург</th>\n",
       "      <td>15721</td>\n",
       "      <td>114849.005788</td>\n",
       "    </tr>\n",
       "    <tr>\n",
       "      <th>посёлок Мурино</th>\n",
       "      <td>522</td>\n",
       "      <td>85752.181992</td>\n",
       "    </tr>\n",
       "    <tr>\n",
       "      <th>посёлок Шушары</th>\n",
       "      <td>440</td>\n",
       "      <td>78677.379545</td>\n",
       "    </tr>\n",
       "    <tr>\n",
       "      <th>Всеволожск</th>\n",
       "      <td>398</td>\n",
       "      <td>68654.474874</td>\n",
       "    </tr>\n",
       "    <tr>\n",
       "      <th>Пушкин</th>\n",
       "      <td>369</td>\n",
       "      <td>103125.818428</td>\n",
       "    </tr>\n",
       "    <tr>\n",
       "      <th>Колпино</th>\n",
       "      <td>338</td>\n",
       "      <td>75424.571006</td>\n",
       "    </tr>\n",
       "    <tr>\n",
       "      <th>посёлок Парголово</th>\n",
       "      <td>327</td>\n",
       "      <td>90175.886850</td>\n",
       "    </tr>\n",
       "    <tr>\n",
       "      <th>Гатчина</th>\n",
       "      <td>307</td>\n",
       "      <td>68746.110749</td>\n",
       "    </tr>\n",
       "    <tr>\n",
       "      <th>деревня Кудрово</th>\n",
       "      <td>299</td>\n",
       "      <td>92473.588629</td>\n",
       "    </tr>\n",
       "    <tr>\n",
       "      <th>Выборг</th>\n",
       "      <td>237</td>\n",
       "      <td>58141.919831</td>\n",
       "    </tr>\n",
       "  </tbody>\n",
       "</table>\n",
       "</div>"
      ],
      "text/plain": [
       "                              count              mean\n",
       "                  square_meter_cost square_meter_cost\n",
       "locality_name                                        \n",
       "Санкт-Петербург               15721     114849.005788\n",
       "посёлок Мурино                  522      85752.181992\n",
       "посёлок Шушары                  440      78677.379545\n",
       "Всеволожск                      398      68654.474874\n",
       "Пушкин                          369     103125.818428\n",
       "Колпино                         338      75424.571006\n",
       "посёлок Парголово               327      90175.886850\n",
       "Гатчина                         307      68746.110749\n",
       "деревня Кудрово                 299      92473.588629\n",
       "Выборг                          237      58141.919831"
      ]
     },
     "execution_count": 45,
     "metadata": {},
     "output_type": "execute_result"
    }
   ],
   "source": [
    "# Средняя цена квадратного метра в каждом из населённых пунктов с наибольшим количеством объявлений. \n",
    "pivot_top10_mean = (pd.pivot_table(df,index=['locality_name'],values=['square_meter_cost'], aggfunc=['count', 'mean']).sort_values(by=[('count', 'square_meter_cost')],ascending=False))\n",
    "pivot_top10_mean = pivot_top10_mean.head(10)\n",
    "pivot_top10_mean"
   ]
  },
  {
   "cell_type": "code",
   "execution_count": 46,
   "id": "bec1acde",
   "metadata": {},
   "outputs": [],
   "source": [
    "top_10_list = pivot_top10_mean.reset_index().locality_name.to_list()"
   ]
  },
  {
   "cell_type": "code",
   "execution_count": 47,
   "id": "1752b8d2",
   "metadata": {},
   "outputs": [
    {
     "data": {
      "text/plain": [
       "['Санкт-Петербург',\n",
       " 'посёлок Мурино',\n",
       " 'посёлок Шушары',\n",
       " 'Всеволожск',\n",
       " 'Пушкин',\n",
       " 'Колпино',\n",
       " 'посёлок Парголово',\n",
       " 'Гатчина',\n",
       " 'деревня Кудрово',\n",
       " 'Выборг']"
      ]
     },
     "execution_count": 47,
     "metadata": {},
     "output_type": "execute_result"
    }
   ],
   "source": [
    "top_10_list"
   ]
  },
  {
   "cell_type": "code",
   "execution_count": 48,
   "id": "e4d8b980",
   "metadata": {
    "scrolled": true
   },
   "outputs": [
    {
     "data": {
      "text/plain": [
       "(0.0, 200000.0)"
      ]
     },
     "execution_count": 48,
     "metadata": {},
     "output_type": "execute_result"
    },
    {
     "data": {
      "image/png": "[encoded data removed]",
      "text/plain": [
       "<Figure size 1440x1080 with 1 Axes>"
      ]
     },
     "metadata": {
      "needs_background": "light"
     },
     "output_type": "display_data"
    }
   ],
   "source": [
    "# Строю диаграмму размаха по топ 10 городам\n",
    "df_normalized[df_normalized.locality_name.isin(top_10_list)].boxplot('square_meter_cost', by='locality_name',figsize=(20,15)).set_ylim(0,200000)"
   ]
  },
  {
   "cell_type": "code",
   "execution_count": 49,
   "id": "ae94fe75",
   "metadata": {},
   "outputs": [
    {
     "data": {
      "text/html": [
       "<div>\n",
       "<style scoped>\n",
       "    .dataframe tbody tr th:only-of-type {\n",
       "        vertical-align: middle;\n",
       "    }\n",
       "\n",
       "    .dataframe tbody tr th {\n",
       "        vertical-align: top;\n",
       "    }\n",
       "\n",
       "    .dataframe thead tr th {\n",
       "        text-align: left;\n",
       "    }\n",
       "</style>\n",
       "<table border=\"1\" class=\"dataframe\">\n",
       "  <thead>\n",
       "    <tr>\n",
       "      <th></th>\n",
       "      <th>count</th>\n",
       "      <th>mean</th>\n",
       "    </tr>\n",
       "    <tr>\n",
       "      <th></th>\n",
       "      <th>square_meter_cost</th>\n",
       "      <th>square_meter_cost</th>\n",
       "    </tr>\n",
       "  </thead>\n",
       "  <tbody>\n",
       "    <tr>\n",
       "      <th>count</th>\n",
       "      <td>10.000000</td>\n",
       "      <td>10.000000</td>\n",
       "    </tr>\n",
       "    <tr>\n",
       "      <th>mean</th>\n",
       "      <td>1895.800000</td>\n",
       "      <td>83602.093769</td>\n",
       "    </tr>\n",
       "    <tr>\n",
       "      <th>std</th>\n",
       "      <td>4858.336542</td>\n",
       "      <td>17216.152232</td>\n",
       "    </tr>\n",
       "    <tr>\n",
       "      <th>min</th>\n",
       "      <td>237.000000</td>\n",
       "      <td>58141.919831</td>\n",
       "    </tr>\n",
       "    <tr>\n",
       "      <th>25%</th>\n",
       "      <td>312.000000</td>\n",
       "      <td>70415.725813</td>\n",
       "    </tr>\n",
       "    <tr>\n",
       "      <th>50%</th>\n",
       "      <td>353.500000</td>\n",
       "      <td>82214.780769</td>\n",
       "    </tr>\n",
       "    <tr>\n",
       "      <th>75%</th>\n",
       "      <td>429.500000</td>\n",
       "      <td>91899.163184</td>\n",
       "    </tr>\n",
       "    <tr>\n",
       "      <th>max</th>\n",
       "      <td>15721.000000</td>\n",
       "      <td>114849.005788</td>\n",
       "    </tr>\n",
       "  </tbody>\n",
       "</table>\n",
       "</div>"
      ],
      "text/plain": [
       "                  count              mean\n",
       "      square_meter_cost square_meter_cost\n",
       "count         10.000000         10.000000\n",
       "mean        1895.800000      83602.093769\n",
       "std         4858.336542      17216.152232\n",
       "min          237.000000      58141.919831\n",
       "25%          312.000000      70415.725813\n",
       "50%          353.500000      82214.780769\n",
       "75%          429.500000      91899.163184\n",
       "max        15721.000000     114849.005788"
      ]
     },
     "execution_count": 49,
     "metadata": {},
     "output_type": "execute_result"
    }
   ],
   "source": [
    "pivot_top10_mean.describe()"
   ]
  },
  {
   "cell_type": "code",
   "execution_count": 50,
   "id": "e289dcca",
   "metadata": {
    "scrolled": false
   },
   "outputs": [
    {
     "data": {
      "text/plain": [
       "locality_name\n",
       "деревня Старополье         11206.333333\n",
       "посёлок станции Свирь      11481.500000\n",
       "деревня Вахнова Кара       11688.000000\n",
       "деревня Выскатка           12335.500000\n",
       "поселок Совхозный          12629.500000\n",
       "деревня Малая Романовка    12725.000000\n",
       "поселок Тёсово-4           12931.000000\n",
       "деревня Бор                13158.000000\n",
       "деревня Сижно              13710.000000\n",
       "деревня Ям-Тесово          13711.500000\n",
       "Name: square_meter_cost, dtype: float64"
      ]
     },
     "execution_count": 50,
     "metadata": {},
     "output_type": "execute_result"
    }
   ],
   "source": [
    "# Населённые  пункты с самой низкой стоимостью жилья\n",
    "df_top10_cheap = df_normalized.groupby('locality_name')['square_meter_cost'].mean().sort_values(ascending=True)\n",
    "df_top10_cheap.head(10)"
   ]
  },
  {
   "cell_type": "code",
   "execution_count": 51,
   "id": "0c40ca22",
   "metadata": {},
   "outputs": [
    {
     "data": {
      "text/plain": [
       "locality_name\n",
       "посёлок Лисий Нос    121616.500000\n",
       "Санкт-Петербург      108556.061786\n",
       "Зеленогорск          106043.565217\n",
       "Сестрорецк           102057.414773\n",
       "Пушкин               101836.292264\n",
       "Кудрово              100021.596491\n",
       "деревня Мистолово     98550.000000\n",
       "посёлок Левашово      96998.000000\n",
       "Мурино                92722.705882\n",
       "деревня Кудрово       92706.948980\n",
       "Name: square_meter_cost, dtype: float64"
      ]
     },
     "execution_count": 51,
     "metadata": {},
     "output_type": "execute_result"
    }
   ],
   "source": [
    "# Населённые  пункты с самой высокой стоимостью жилья\n",
    "df_top10_expensive = df_normalized.groupby('locality_name')['square_meter_cost'].mean().sort_values(ascending=False)\n",
    "df_top10_expensive.head(10)"
   ]
  },
  {
   "cell_type": "code",
   "execution_count": 52,
   "id": "ee283e16",
   "metadata": {},
   "outputs": [],
   "source": [
    "# Округляю расстояние до центра\n",
    "df_normalized['center_km'] = round(df_normalized['city_centers_nearest'] / 1000, 0)"
   ]
  },
  {
   "cell_type": "code",
   "execution_count": 53,
   "id": "045d0ddb",
   "metadata": {},
   "outputs": [
    {
     "data": {
      "text/plain": [
       "center_km\n",
       "0.0     10198571.0\n",
       "1.0     10450130.0\n",
       "2.0      9825327.0\n",
       "3.0      8891307.0\n",
       "4.0      9190496.0\n",
       "           ...    \n",
       "61.0     3200000.0\n",
       "62.0     3200000.0\n",
       "63.0     3600000.0\n",
       "65.0     3475000.0\n",
       "66.0     3933333.0\n",
       "Name: last_price, Length: 61, dtype: float64"
      ]
     },
     "execution_count": 53,
     "metadata": {},
     "output_type": "execute_result"
    }
   ],
   "source": [
    "# Рассчитываю цену среднюю цену жилья для каждого километра\n",
    "last_price_km = df_normalized.groupby('center_km')['last_price'].mean()\n",
    "last_price_km.head(200).round(0)"
   ]
  },
  {
   "cell_type": "code",
   "execution_count": 54,
   "id": "bd84740b",
   "metadata": {},
   "outputs": [
    {
     "data": {
      "text/plain": [
       "<AxesSubplot:xlabel='center_km'>"
      ]
     },
     "execution_count": 54,
     "metadata": {},
     "output_type": "execute_result"
    },
    {
     "data": {
      "image/png": "[encoded data removed]",
      "text/plain": [
       "<Figure size 1440x720 with 1 Axes>"
      ]
     },
     "metadata": {
      "needs_background": "light"
     },
     "output_type": "display_data"
    }
   ],
   "source": [
    "# Строю график, чтобы показать как цена зависит от удалённости от центра\n",
    "\n",
    "last_price_km.plot(figsize=(20,10), xticks=range(67), grid=True)"
   ]
  },
  {
   "cell_type": "markdown",
   "id": "8837fb50",
   "metadata": {},
   "source": [
    "Допустим, всё, что находится в пределах 7км от центра города будем считать “центральной” зоной. Скачки на графике на 43км, 55км, возможно связаны с тем, что мы считали расстояние до центра Петербурга, а не до центра различных городов-спутников в отдельности (там тоже есть свои центры, где цена недвижимости выше). \n"
   ]
  },
  {
   "cell_type": "code",
   "execution_count": 55,
   "id": "89d3abb0",
   "metadata": {},
   "outputs": [],
   "source": [
    "# Начинаю анализ квартир в центральном сегменте\n",
    "df_center_spb = df_normalized.query('city_centers_nearest <= 7000')\n"
   ]
  },
  {
   "cell_type": "code",
   "execution_count": 56,
   "id": "ca4823d8",
   "metadata": {},
   "outputs": [
    {
     "data": {
      "text/plain": [
       "array([[<AxesSubplot:title={'center':'total_area'}>]], dtype=object)"
      ]
     },
     "execution_count": 56,
     "metadata": {},
     "output_type": "execute_result"
    },
    {
     "data": {
      "image/png": "[encoded data removed]",
      "text/plain": [
       "<Figure size 720x360 with 1 Axes>"
      ]
     },
     "metadata": {
      "needs_background": "light"
     },
     "output_type": "display_data"
    }
   ],
   "source": [
    "# Распределение в “центральной” зоне квартир по общей площади\n",
    "\n",
    "df_center_spb.hist(column='total_area', bins=100, range=(0,300), figsize=(10, 5), grid=True, color='purple')"
   ]
  },
  {
   "cell_type": "markdown",
   "id": "c2ebaecc",
   "metadata": {},
   "source": [
    "Мы видим большее количество просторных квартир в центральной зоне. В основном представлены квартиры площадью от 30 до 120 квадратных метров. "
   ]
  },
  {
   "cell_type": "code",
   "execution_count": 57,
   "id": "5b0b1e05",
   "metadata": {
    "scrolled": true
   },
   "outputs": [
    {
     "data": {
      "text/plain": [
       "array([[<AxesSubplot:title={'center':'last_price'}>]], dtype=object)"
      ]
     },
     "execution_count": 57,
     "metadata": {},
     "output_type": "execute_result"
    },
    {
     "data": {
      "image/png": "[encoded data removed]",
      "text/plain": [
       "<Figure size 720x360 with 1 Axes>"
      ]
     },
     "metadata": {
      "needs_background": "light"
     },
     "output_type": "display_data"
    }
   ],
   "source": [
    "# Распределение квартир по ценам в “центральной” зоне\n",
    "\n",
    "df_center_spb.hist(column='last_price', range=(1, 30000000), bins=100, figsize=(10, 5), grid=True, color='green')"
   ]
  },
  {
   "cell_type": "markdown",
   "id": "ec3c36b0",
   "metadata": {},
   "source": [
    "Стоимость квартир в центре варьируется от 4 до 12 миллионов рублей. "
   ]
  },
  {
   "cell_type": "code",
   "execution_count": 58,
   "id": "051b238b",
   "metadata": {
    "scrolled": true
   },
   "outputs": [
    {
     "data": {
      "image/png": "[encoded data removed]",
      "text/plain": [
       "<Figure size 432x288 with 1 Axes>"
      ]
     },
     "metadata": {
      "needs_background": "light"
     },
     "output_type": "display_data"
    }
   ],
   "source": [
    "# Распределение квартир по числу комнат в “центральной” зоне\n",
    "\n",
    "data_rooms = df_center_spb['rooms']\n",
    "\n",
    "plt.hist(data_rooms, bins=20)\n",
    "plt.xticks(range(0,20))\n",
    "plt.show()"
   ]
  },
  {
   "cell_type": "markdown",
   "id": "d14fe06b",
   "metadata": {},
   "source": [
    "Трехкомнатные квартиры наиболее популярны в центре. Чуть меньшим спросом пользуются двухкомнатные квартиры. Также, в центральной зоне больше объявлений, по которым можно приобрести четырехкомнатную или пятикомнатную квартиры (что не так популярно за пределами центра). Бюджетные однокомнатные квартиры представлены на рынке, но пользуются большим спросом за пределами центра."
   ]
  },
  {
   "cell_type": "code",
   "execution_count": 59,
   "id": "f6f68f2c",
   "metadata": {
    "scrolled": true
   },
   "outputs": [
    {
     "data": {
      "text/plain": [
       "0     14\n",
       "1    464\n",
       "2    897\n",
       "3    831\n",
       "4    359\n",
       "5    136\n",
       "6     37\n",
       "Name: rooms, dtype: int64"
      ]
     },
     "execution_count": 59,
     "metadata": {},
     "output_type": "execute_result"
    }
   ],
   "source": [
    "# Проверяю, что выводы были сделаны правильно\n",
    "df_center_spb['rooms'].value_counts().sort_index()"
   ]
  },
  {
   "cell_type": "code",
   "execution_count": 60,
   "id": "128b0bf1",
   "metadata": {
    "scrolled": true
   },
   "outputs": [
    {
     "data": {
      "text/plain": [
       "array([[<AxesSubplot:title={'center':'ceiling_height'}>]], dtype=object)"
      ]
     },
     "execution_count": 60,
     "metadata": {},
     "output_type": "execute_result"
    },
    {
     "data": {
      "image/png": "[encoded data removed]",
      "text/plain": [
       "<Figure size 720x360 with 1 Axes>"
      ]
     },
     "metadata": {
      "needs_background": "light"
     },
     "output_type": "display_data"
    }
   ],
   "source": [
    "# Распределение квартир по высоте потолков в “центральной” зоне\n",
    "\n",
    "df_center_spb.hist(column='ceiling_height', range=(2, 4), bins=10, figsize=(10, 5), grid=True, color='grey')"
   ]
  },
  {
   "cell_type": "markdown",
   "id": "7604e9b0",
   "metadata": {},
   "source": [
    "Наиболее популярны квартиры с высокими потолками, от 3 метров и более"
   ]
  },
  {
   "cell_type": "code",
   "execution_count": 61,
   "id": "77e61093",
   "metadata": {},
   "outputs": [
    {
     "name": "stdout",
     "output_type": "stream",
     "text": [
      "Среднее время продажи квартиры в центре: 243.0\n",
      "Медианное время продажи квартиры в центре: 136.0\n"
     ]
    }
   ],
   "source": [
    "print('Среднее время продажи квартиры в центре:', round(df_center_spb['days_exposition'].mean() , 0))\n",
    "print('Медианное время продажи квартиры в центре:', round(df_center_spb['days_exposition'].median(), 0))"
   ]
  },
  {
   "cell_type": "markdown",
   "id": "0cb068b3",
   "metadata": {},
   "source": [
    "В среднем, квартиры в центре продаются медленнее. Это связано с тем, что стоимость недвижимости в центре дороже и люди дольше прицениваются и делают окончательный выбор. "
   ]
  },
  {
   "cell_type": "code",
   "execution_count": 62,
   "id": "d2071324",
   "metadata": {},
   "outputs": [
    {
     "data": {
      "image/png": "[encoded data removed]",
      "text/plain": [
       "<Figure size 432x288 with 1 Axes>"
      ]
     },
     "metadata": {
      "needs_background": "light"
     },
     "output_type": "display_data"
    },
    {
     "data": {
      "image/png": "[encoded data removed]",
      "text/plain": [
       "<Figure size 432x288 with 1 Axes>"
      ]
     },
     "metadata": {
      "needs_background": "light"
     },
     "output_type": "display_data"
    },
    {
     "data": {
      "image/png": "[encoded data removed]",
      "text/plain": [
       "<Figure size 432x288 with 1 Axes>"
      ]
     },
     "metadata": {
      "needs_background": "light"
     },
     "output_type": "display_data"
    },
    {
     "data": {
      "image/png": "[encoded data removed]",
      "text/plain": [
       "<Figure size 432x288 with 1 Axes>"
      ]
     },
     "metadata": {
      "needs_background": "light"
     },
     "output_type": "display_data"
    }
   ],
   "source": [
    "pivot_by_floor=df_center_spb.pivot_table(index='full_floor', values='last_price', aggfunc=['mean'])\n",
    "plt.plot(pivot_by_floor.index,pivot_by_floor[\"mean\"][\"last_price\"], 'o')\n",
    "plt.title('Зависимость цены от этажа')\n",
    "plt.ylabel('Цена')\n",
    "plt.xlabel('Тип этажа')\n",
    "plt.show()\n",
    "\n",
    "pivot_by_day=df_center_spb.pivot_table(index='day_of_publication', values='last_price', aggfunc=['mean'])\n",
    "plt.plot(pivot_by_day.index,pivot_by_day[\"mean\"][\"last_price\"], 'o-')\n",
    "plt.title('Зависимость цены от дня недели размещения')\n",
    "plt.ylabel('Цена')\n",
    "plt.xlabel('День недели')\n",
    "plt.show()\n",
    "\n",
    "pivot_by_month_name=df_center_spb.pivot_table(index='month_of_publication', values='last_price', aggfunc=['mean'])\n",
    "plt.plot(pivot_by_month_name.index,pivot_by_month_name[\"mean\"][\"last_price\"], 'o-')\n",
    "plt.title('Зависимость цены от месяца размещения')\n",
    "plt.ylabel('Цена')\n",
    "plt.xlabel('Месяц')\n",
    "plt.show()\n",
    "\n",
    "pivot_by_year=df_center_spb.pivot_table(index='year_of_publication', values='last_price', aggfunc=['mean'])\n",
    "plt.plot(pivot_by_year.index,pivot_by_year[\"mean\"][\"last_price\"], 'o-')\n",
    "plt.title('Зависимость цены от года размещения')\n",
    "plt.ylabel('Цена')\n",
    "plt.xlabel('Год')\n",
    "plt.show()"
   ]
  },
  {
   "cell_type": "code",
   "execution_count": 63,
   "id": "3426c5c0",
   "metadata": {
    "scrolled": true
   },
   "outputs": [
    {
     "data": {
      "text/plain": [
       "<matplotlib.collections.PathCollection at 0x12eb3c2b0>"
      ]
     },
     "execution_count": 63,
     "metadata": {},
     "output_type": "execute_result"
    },
    {
     "data": {
      "image/png": "[encoded data removed]",
      "text/plain": [
       "<Figure size 432x288 with 1 Axes>"
      ]
     },
     "metadata": {
      "needs_background": "light"
     },
     "output_type": "display_data"
    }
   ],
   "source": [
    "df_center_spb= df_normalized[df_normalized['locality_name']=='Санкт-Петербург']\n",
    "plt.scatter(x=df_center_spb['city_centers_nearest'], y=df_center_spb['last_price'], alpha=0.3)"
   ]
  },
  {
   "cell_type": "code",
   "execution_count": 64,
   "id": "3f26971f",
   "metadata": {},
   "outputs": [
    {
     "data": {
      "text/html": [
       "<div>\n",
       "<style scoped>\n",
       "    .dataframe tbody tr th:only-of-type {\n",
       "        vertical-align: middle;\n",
       "    }\n",
       "\n",
       "    .dataframe tbody tr th {\n",
       "        vertical-align: top;\n",
       "    }\n",
       "\n",
       "    .dataframe thead th {\n",
       "        text-align: right;\n",
       "    }\n",
       "</style>\n",
       "<table border=\"1\" class=\"dataframe\">\n",
       "  <thead>\n",
       "    <tr style=\"text-align: right;\">\n",
       "      <th></th>\n",
       "      <th>total_images</th>\n",
       "      <th>last_price</th>\n",
       "      <th>total_area</th>\n",
       "      <th>days_exposition</th>\n",
       "      <th>year_of_publication</th>\n",
       "      <th>rooms</th>\n",
       "      <th>ceiling_height</th>\n",
       "      <th>floors_total</th>\n",
       "      <th>floor</th>\n",
       "      <th>living_area</th>\n",
       "      <th>...</th>\n",
       "      <th>studio</th>\n",
       "      <th>open_plan</th>\n",
       "      <th>balcony</th>\n",
       "      <th>airports_nearest</th>\n",
       "      <th>city_centers_nearest</th>\n",
       "      <th>parks_around3000</th>\n",
       "      <th>parks_nearest</th>\n",
       "      <th>ponds_around3000</th>\n",
       "      <th>ponds_nearest</th>\n",
       "      <th>square_meter_cost</th>\n",
       "    </tr>\n",
       "  </thead>\n",
       "  <tbody>\n",
       "    <tr>\n",
       "      <th>kitchen_total_ratio</th>\n",
       "      <td>0.040806</td>\n",
       "      <td>-0.094341</td>\n",
       "      <td>-0.329160</td>\n",
       "      <td>-0.010794</td>\n",
       "      <td>0.015965</td>\n",
       "      <td>-0.495131</td>\n",
       "      <td>-0.040649</td>\n",
       "      <td>0.170961</td>\n",
       "      <td>0.046171</td>\n",
       "      <td>-0.459449</td>\n",
       "      <td>...</td>\n",
       "      <td>NaN</td>\n",
       "      <td>NaN</td>\n",
       "      <td>0.087838</td>\n",
       "      <td>0.106743</td>\n",
       "      <td>0.085431</td>\n",
       "      <td>-0.039044</td>\n",
       "      <td>0.110661</td>\n",
       "      <td>0.040570</td>\n",
       "      <td>0.030164</td>\n",
       "      <td>0.136043</td>\n",
       "    </tr>\n",
       "    <tr>\n",
       "      <th>ponds_nearest</th>\n",
       "      <td>-0.008068</td>\n",
       "      <td>-0.073288</td>\n",
       "      <td>-0.068779</td>\n",
       "      <td>-0.018412</td>\n",
       "      <td>0.000837</td>\n",
       "      <td>-0.053037</td>\n",
       "      <td>-0.004778</td>\n",
       "      <td>0.060960</td>\n",
       "      <td>0.032623</td>\n",
       "      <td>-0.060135</td>\n",
       "      <td>...</td>\n",
       "      <td>0.023943</td>\n",
       "      <td>-0.002762</td>\n",
       "      <td>0.021193</td>\n",
       "      <td>0.101940</td>\n",
       "      <td>0.302756</td>\n",
       "      <td>-0.199587</td>\n",
       "      <td>0.081248</td>\n",
       "      <td>-0.393716</td>\n",
       "      <td>1.000000</td>\n",
       "      <td>-0.090647</td>\n",
       "    </tr>\n",
       "    <tr>\n",
       "      <th>city_centers_nearest</th>\n",
       "      <td>-0.021587</td>\n",
       "      <td>-0.042344</td>\n",
       "      <td>-0.072939</td>\n",
       "      <td>-0.038140</td>\n",
       "      <td>0.041934</td>\n",
       "      <td>-0.157428</td>\n",
       "      <td>-0.107286</td>\n",
       "      <td>0.337280</td>\n",
       "      <td>0.208546</td>\n",
       "      <td>-0.134662</td>\n",
       "      <td>...</td>\n",
       "      <td>0.008985</td>\n",
       "      <td>0.008916</td>\n",
       "      <td>0.162614</td>\n",
       "      <td>0.405283</td>\n",
       "      <td>1.000000</td>\n",
       "      <td>-0.212875</td>\n",
       "      <td>0.098903</td>\n",
       "      <td>-0.330575</td>\n",
       "      <td>0.302756</td>\n",
       "      <td>-0.029459</td>\n",
       "    </tr>\n",
       "    <tr>\n",
       "      <th>parks_nearest</th>\n",
       "      <td>-0.044498</td>\n",
       "      <td>-0.039536</td>\n",
       "      <td>-0.073218</td>\n",
       "      <td>0.011801</td>\n",
       "      <td>-0.043041</td>\n",
       "      <td>-0.106674</td>\n",
       "      <td>-0.085369</td>\n",
       "      <td>0.223327</td>\n",
       "      <td>0.125587</td>\n",
       "      <td>-0.095613</td>\n",
       "      <td>...</td>\n",
       "      <td>-0.005851</td>\n",
       "      <td>0.002034</td>\n",
       "      <td>0.139194</td>\n",
       "      <td>0.025681</td>\n",
       "      <td>0.098903</td>\n",
       "      <td>-0.295423</td>\n",
       "      <td>1.000000</td>\n",
       "      <td>-0.008361</td>\n",
       "      <td>0.081248</td>\n",
       "      <td>-0.016109</td>\n",
       "    </tr>\n",
       "    <tr>\n",
       "      <th>year_of_publication</th>\n",
       "      <td>0.140156</td>\n",
       "      <td>-0.037849</td>\n",
       "      <td>-0.073918</td>\n",
       "      <td>-0.660574</td>\n",
       "      <td>1.000000</td>\n",
       "      <td>-0.059763</td>\n",
       "      <td>-0.006300</td>\n",
       "      <td>-0.037010</td>\n",
       "      <td>-0.032682</td>\n",
       "      <td>-0.069025</td>\n",
       "      <td>...</td>\n",
       "      <td>0.009021</td>\n",
       "      <td>-0.018645</td>\n",
       "      <td>-0.042558</td>\n",
       "      <td>0.034829</td>\n",
       "      <td>0.041934</td>\n",
       "      <td>-0.002039</td>\n",
       "      <td>-0.043041</td>\n",
       "      <td>-0.019320</td>\n",
       "      <td>0.000837</td>\n",
       "      <td>0.020730</td>\n",
       "    </tr>\n",
       "    <tr>\n",
       "      <th>studio</th>\n",
       "      <td>-0.024896</td>\n",
       "      <td>-0.022218</td>\n",
       "      <td>-0.052036</td>\n",
       "      <td>-0.037834</td>\n",
       "      <td>0.009021</td>\n",
       "      <td>-0.114099</td>\n",
       "      <td>0.009362</td>\n",
       "      <td>-0.004975</td>\n",
       "      <td>-0.021421</td>\n",
       "      <td>-0.042402</td>\n",
       "      <td>...</td>\n",
       "      <td>1.000000</td>\n",
       "      <td>-0.002562</td>\n",
       "      <td>0.015817</td>\n",
       "      <td>0.007973</td>\n",
       "      <td>0.008985</td>\n",
       "      <td>-0.039878</td>\n",
       "      <td>-0.005851</td>\n",
       "      <td>0.006697</td>\n",
       "      <td>0.023943</td>\n",
       "      <td>-0.001129</td>\n",
       "    </tr>\n",
       "    <tr>\n",
       "      <th>living_total_ratio</th>\n",
       "      <td>-0.020858</td>\n",
       "      <td>-0.009446</td>\n",
       "      <td>0.155701</td>\n",
       "      <td>-0.000724</td>\n",
       "      <td>0.006877</td>\n",
       "      <td>0.421449</td>\n",
       "      <td>0.052181</td>\n",
       "      <td>-0.344038</td>\n",
       "      <td>-0.200880</td>\n",
       "      <td>0.424649</td>\n",
       "      <td>...</td>\n",
       "      <td>0.063591</td>\n",
       "      <td>0.057776</td>\n",
       "      <td>-0.152784</td>\n",
       "      <td>-0.125652</td>\n",
       "      <td>-0.158195</td>\n",
       "      <td>0.109217</td>\n",
       "      <td>-0.157327</td>\n",
       "      <td>-0.020792</td>\n",
       "      <td>-0.027557</td>\n",
       "      <td>-0.141365</td>\n",
       "    </tr>\n",
       "    <tr>\n",
       "      <th>open_plan</th>\n",
       "      <td>-0.033013</td>\n",
       "      <td>0.002557</td>\n",
       "      <td>0.004380</td>\n",
       "      <td>-0.027218</td>\n",
       "      <td>-0.018645</td>\n",
       "      <td>-0.049178</td>\n",
       "      <td>0.008185</td>\n",
       "      <td>0.003315</td>\n",
       "      <td>-0.008849</td>\n",
       "      <td>-0.022387</td>\n",
       "      <td>...</td>\n",
       "      <td>-0.002562</td>\n",
       "      <td>1.000000</td>\n",
       "      <td>-0.017394</td>\n",
       "      <td>-0.016413</td>\n",
       "      <td>0.008916</td>\n",
       "      <td>0.012702</td>\n",
       "      <td>0.002034</td>\n",
       "      <td>-0.004950</td>\n",
       "      <td>-0.002762</td>\n",
       "      <td>-0.003433</td>\n",
       "    </tr>\n",
       "    <tr>\n",
       "      <th>floors_total</th>\n",
       "      <td>-0.051399</td>\n",
       "      <td>0.045979</td>\n",
       "      <td>-0.013085</td>\n",
       "      <td>0.016761</td>\n",
       "      <td>-0.037010</td>\n",
       "      <td>-0.174892</td>\n",
       "      <td>-0.128675</td>\n",
       "      <td>1.000000</td>\n",
       "      <td>0.648537</td>\n",
       "      <td>-0.123382</td>\n",
       "      <td>...</td>\n",
       "      <td>-0.004975</td>\n",
       "      <td>0.003315</td>\n",
       "      <td>0.357541</td>\n",
       "      <td>0.139943</td>\n",
       "      <td>0.337280</td>\n",
       "      <td>-0.243920</td>\n",
       "      <td>0.223327</td>\n",
       "      <td>-0.041132</td>\n",
       "      <td>0.060960</td>\n",
       "      <td>0.126007</td>\n",
       "    </tr>\n",
       "    <tr>\n",
       "      <th>days_exposition</th>\n",
       "      <td>-0.031762</td>\n",
       "      <td>0.060896</td>\n",
       "      <td>0.137839</td>\n",
       "      <td>1.000000</td>\n",
       "      <td>-0.660574</td>\n",
       "      <td>0.130244</td>\n",
       "      <td>0.058492</td>\n",
       "      <td>0.016761</td>\n",
       "      <td>0.028296</td>\n",
       "      <td>0.133361</td>\n",
       "      <td>...</td>\n",
       "      <td>-0.037834</td>\n",
       "      <td>-0.027218</td>\n",
       "      <td>0.007659</td>\n",
       "      <td>-0.007112</td>\n",
       "      <td>-0.038140</td>\n",
       "      <td>0.001375</td>\n",
       "      <td>0.011801</td>\n",
       "      <td>0.003850</td>\n",
       "      <td>-0.018412</td>\n",
       "      <td>0.029197</td>\n",
       "    </tr>\n",
       "    <tr>\n",
       "      <th>balcony</th>\n",
       "      <td>0.025321</td>\n",
       "      <td>0.078151</td>\n",
       "      <td>0.017224</td>\n",
       "      <td>0.007659</td>\n",
       "      <td>-0.042558</td>\n",
       "      <td>-0.070947</td>\n",
       "      <td>0.031731</td>\n",
       "      <td>0.357541</td>\n",
       "      <td>0.280753</td>\n",
       "      <td>-0.019180</td>\n",
       "      <td>...</td>\n",
       "      <td>0.015817</td>\n",
       "      <td>-0.017394</td>\n",
       "      <td>1.000000</td>\n",
       "      <td>0.094119</td>\n",
       "      <td>0.162614</td>\n",
       "      <td>-0.119108</td>\n",
       "      <td>0.139194</td>\n",
       "      <td>0.037279</td>\n",
       "      <td>0.021193</td>\n",
       "      <td>0.130129</td>\n",
       "    </tr>\n",
       "    <tr>\n",
       "      <th>airports_nearest</th>\n",
       "      <td>0.010388</td>\n",
       "      <td>0.090521</td>\n",
       "      <td>0.022095</td>\n",
       "      <td>-0.007112</td>\n",
       "      <td>0.034829</td>\n",
       "      <td>-0.076217</td>\n",
       "      <td>-0.075136</td>\n",
       "      <td>0.139943</td>\n",
       "      <td>0.075407</td>\n",
       "      <td>-0.033739</td>\n",
       "      <td>...</td>\n",
       "      <td>0.007973</td>\n",
       "      <td>-0.016413</td>\n",
       "      <td>0.094119</td>\n",
       "      <td>1.000000</td>\n",
       "      <td>0.405283</td>\n",
       "      <td>-0.005969</td>\n",
       "      <td>0.025681</td>\n",
       "      <td>0.022960</td>\n",
       "      <td>0.101940</td>\n",
       "      <td>0.157266</td>\n",
       "    </tr>\n",
       "    <tr>\n",
       "      <th>ponds_around3000</th>\n",
       "      <td>-0.013773</td>\n",
       "      <td>0.090863</td>\n",
       "      <td>-0.001368</td>\n",
       "      <td>0.003850</td>\n",
       "      <td>-0.019320</td>\n",
       "      <td>-0.041837</td>\n",
       "      <td>0.050712</td>\n",
       "      <td>-0.041132</td>\n",
       "      <td>-0.048178</td>\n",
       "      <td>-0.000442</td>\n",
       "      <td>...</td>\n",
       "      <td>0.006697</td>\n",
       "      <td>-0.004950</td>\n",
       "      <td>0.037279</td>\n",
       "      <td>0.022960</td>\n",
       "      <td>-0.330575</td>\n",
       "      <td>0.152714</td>\n",
       "      <td>-0.008361</td>\n",
       "      <td>1.000000</td>\n",
       "      <td>-0.393716</td>\n",
       "      <td>0.142252</td>\n",
       "    </tr>\n",
       "    <tr>\n",
       "      <th>ceiling_height</th>\n",
       "      <td>0.053196</td>\n",
       "      <td>0.101991</td>\n",
       "      <td>0.138123</td>\n",
       "      <td>0.058492</td>\n",
       "      <td>-0.006300</td>\n",
       "      <td>0.088188</td>\n",
       "      <td>1.000000</td>\n",
       "      <td>-0.128675</td>\n",
       "      <td>-0.058688</td>\n",
       "      <td>0.142818</td>\n",
       "      <td>...</td>\n",
       "      <td>0.009362</td>\n",
       "      <td>0.008185</td>\n",
       "      <td>0.031731</td>\n",
       "      <td>-0.075136</td>\n",
       "      <td>-0.107286</td>\n",
       "      <td>0.034277</td>\n",
       "      <td>-0.085369</td>\n",
       "      <td>0.050712</td>\n",
       "      <td>-0.004778</td>\n",
       "      <td>0.051336</td>\n",
       "    </tr>\n",
       "    <tr>\n",
       "      <th>parks_around3000</th>\n",
       "      <td>0.052224</td>\n",
       "      <td>0.104603</td>\n",
       "      <td>0.098824</td>\n",
       "      <td>0.001375</td>\n",
       "      <td>-0.002039</td>\n",
       "      <td>0.102496</td>\n",
       "      <td>0.034277</td>\n",
       "      <td>-0.243920</td>\n",
       "      <td>-0.154728</td>\n",
       "      <td>0.138373</td>\n",
       "      <td>...</td>\n",
       "      <td>-0.039878</td>\n",
       "      <td>0.012702</td>\n",
       "      <td>-0.119108</td>\n",
       "      <td>-0.005969</td>\n",
       "      <td>-0.212875</td>\n",
       "      <td>1.000000</td>\n",
       "      <td>-0.295423</td>\n",
       "      <td>0.152714</td>\n",
       "      <td>-0.199587</td>\n",
       "      <td>0.132285</td>\n",
       "    </tr>\n",
       "    <tr>\n",
       "      <th>floor</th>\n",
       "      <td>-0.006351</td>\n",
       "      <td>0.122754</td>\n",
       "      <td>0.110900</td>\n",
       "      <td>0.028296</td>\n",
       "      <td>-0.032682</td>\n",
       "      <td>-0.030660</td>\n",
       "      <td>-0.058688</td>\n",
       "      <td>0.648537</td>\n",
       "      <td>1.000000</td>\n",
       "      <td>0.023884</td>\n",
       "      <td>...</td>\n",
       "      <td>-0.021421</td>\n",
       "      <td>-0.008849</td>\n",
       "      <td>0.280753</td>\n",
       "      <td>0.075407</td>\n",
       "      <td>0.208546</td>\n",
       "      <td>-0.154728</td>\n",
       "      <td>0.125587</td>\n",
       "      <td>-0.048178</td>\n",
       "      <td>0.032623</td>\n",
       "      <td>0.135647</td>\n",
       "    </tr>\n",
       "    <tr>\n",
       "      <th>total_images</th>\n",
       "      <td>1.000000</td>\n",
       "      <td>0.135650</td>\n",
       "      <td>0.097525</td>\n",
       "      <td>-0.031762</td>\n",
       "      <td>0.140156</td>\n",
       "      <td>0.052606</td>\n",
       "      <td>0.053196</td>\n",
       "      <td>-0.051399</td>\n",
       "      <td>-0.006351</td>\n",
       "      <td>0.083992</td>\n",
       "      <td>...</td>\n",
       "      <td>-0.024896</td>\n",
       "      <td>-0.033013</td>\n",
       "      <td>0.025321</td>\n",
       "      <td>0.010388</td>\n",
       "      <td>-0.021587</td>\n",
       "      <td>0.052224</td>\n",
       "      <td>-0.044498</td>\n",
       "      <td>-0.013773</td>\n",
       "      <td>-0.008068</td>\n",
       "      <td>0.157666</td>\n",
       "    </tr>\n",
       "    <tr>\n",
       "      <th>rooms</th>\n",
       "      <td>0.052606</td>\n",
       "      <td>0.309599</td>\n",
       "      <td>0.727089</td>\n",
       "      <td>0.130244</td>\n",
       "      <td>-0.059763</td>\n",
       "      <td>1.000000</td>\n",
       "      <td>0.088188</td>\n",
       "      <td>-0.174892</td>\n",
       "      <td>-0.030660</td>\n",
       "      <td>0.817711</td>\n",
       "      <td>...</td>\n",
       "      <td>-0.114099</td>\n",
       "      <td>-0.049178</td>\n",
       "      <td>-0.070947</td>\n",
       "      <td>-0.076217</td>\n",
       "      <td>-0.157428</td>\n",
       "      <td>0.102496</td>\n",
       "      <td>-0.106674</td>\n",
       "      <td>-0.041837</td>\n",
       "      <td>-0.053037</td>\n",
       "      <td>-0.010148</td>\n",
       "    </tr>\n",
       "    <tr>\n",
       "      <th>kitchen_area</th>\n",
       "      <td>0.134417</td>\n",
       "      <td>0.474211</td>\n",
       "      <td>0.551974</td>\n",
       "      <td>0.095898</td>\n",
       "      <td>-0.034559</td>\n",
       "      <td>0.265420</td>\n",
       "      <td>0.083585</td>\n",
       "      <td>0.088737</td>\n",
       "      <td>0.117920</td>\n",
       "      <td>0.397357</td>\n",
       "      <td>...</td>\n",
       "      <td>NaN</td>\n",
       "      <td>NaN</td>\n",
       "      <td>0.088765</td>\n",
       "      <td>0.090782</td>\n",
       "      <td>-0.033822</td>\n",
       "      <td>0.076275</td>\n",
       "      <td>0.011699</td>\n",
       "      <td>0.043990</td>\n",
       "      <td>-0.052776</td>\n",
       "      <td>0.333415</td>\n",
       "    </tr>\n",
       "    <tr>\n",
       "      <th>living_area</th>\n",
       "      <td>0.083992</td>\n",
       "      <td>0.513047</td>\n",
       "      <td>0.941084</td>\n",
       "      <td>0.133361</td>\n",
       "      <td>-0.069025</td>\n",
       "      <td>0.817711</td>\n",
       "      <td>0.142818</td>\n",
       "      <td>-0.123382</td>\n",
       "      <td>0.023884</td>\n",
       "      <td>1.000000</td>\n",
       "      <td>...</td>\n",
       "      <td>-0.042402</td>\n",
       "      <td>-0.022387</td>\n",
       "      <td>-0.019180</td>\n",
       "      <td>-0.033739</td>\n",
       "      <td>-0.134662</td>\n",
       "      <td>0.138373</td>\n",
       "      <td>-0.095613</td>\n",
       "      <td>-0.000442</td>\n",
       "      <td>-0.060135</td>\n",
       "      <td>0.174795</td>\n",
       "    </tr>\n",
       "    <tr>\n",
       "      <th>total_area</th>\n",
       "      <td>0.097525</td>\n",
       "      <td>0.607617</td>\n",
       "      <td>1.000000</td>\n",
       "      <td>0.137839</td>\n",
       "      <td>-0.073918</td>\n",
       "      <td>0.727089</td>\n",
       "      <td>0.138123</td>\n",
       "      <td>-0.013085</td>\n",
       "      <td>0.110900</td>\n",
       "      <td>0.941084</td>\n",
       "      <td>...</td>\n",
       "      <td>-0.052036</td>\n",
       "      <td>0.004380</td>\n",
       "      <td>0.017224</td>\n",
       "      <td>0.022095</td>\n",
       "      <td>-0.072939</td>\n",
       "      <td>0.098824</td>\n",
       "      <td>-0.073218</td>\n",
       "      <td>-0.001368</td>\n",
       "      <td>-0.068779</td>\n",
       "      <td>0.235686</td>\n",
       "    </tr>\n",
       "    <tr>\n",
       "      <th>square_meter_cost</th>\n",
       "      <td>0.157666</td>\n",
       "      <td>0.794446</td>\n",
       "      <td>0.235686</td>\n",
       "      <td>0.029197</td>\n",
       "      <td>0.020730</td>\n",
       "      <td>-0.010148</td>\n",
       "      <td>0.051336</td>\n",
       "      <td>0.126007</td>\n",
       "      <td>0.135647</td>\n",
       "      <td>0.174795</td>\n",
       "      <td>...</td>\n",
       "      <td>-0.001129</td>\n",
       "      <td>-0.003433</td>\n",
       "      <td>0.130129</td>\n",
       "      <td>0.157266</td>\n",
       "      <td>-0.029459</td>\n",
       "      <td>0.132285</td>\n",
       "      <td>-0.016109</td>\n",
       "      <td>0.142252</td>\n",
       "      <td>-0.090647</td>\n",
       "      <td>1.000000</td>\n",
       "    </tr>\n",
       "    <tr>\n",
       "      <th>last_price</th>\n",
       "      <td>0.135650</td>\n",
       "      <td>1.000000</td>\n",
       "      <td>0.607617</td>\n",
       "      <td>0.060896</td>\n",
       "      <td>-0.037849</td>\n",
       "      <td>0.309599</td>\n",
       "      <td>0.101991</td>\n",
       "      <td>0.045979</td>\n",
       "      <td>0.122754</td>\n",
       "      <td>0.513047</td>\n",
       "      <td>...</td>\n",
       "      <td>-0.022218</td>\n",
       "      <td>0.002557</td>\n",
       "      <td>0.078151</td>\n",
       "      <td>0.090521</td>\n",
       "      <td>-0.042344</td>\n",
       "      <td>0.104603</td>\n",
       "      <td>-0.039536</td>\n",
       "      <td>0.090863</td>\n",
       "      <td>-0.073288</td>\n",
       "      <td>0.794446</td>\n",
       "    </tr>\n",
       "  </tbody>\n",
       "</table>\n",
       "<p>23 rows × 23 columns</p>\n",
       "</div>"
      ],
      "text/plain": [
       "                      total_images  last_price  total_area  days_exposition  \\\n",
       "kitchen_total_ratio       0.040806   -0.094341   -0.329160        -0.010794   \n",
       "ponds_nearest            -0.008068   -0.073288   -0.068779        -0.018412   \n",
       "city_centers_nearest     -0.021587   -0.042344   -0.072939        -0.038140   \n",
       "parks_nearest            -0.044498   -0.039536   -0.073218         0.011801   \n",
       "year_of_publication       0.140156   -0.037849   -0.073918        -0.660574   \n",
       "studio                   -0.024896   -0.022218   -0.052036        -0.037834   \n",
       "living_total_ratio       -0.020858   -0.009446    0.155701        -0.000724   \n",
       "open_plan                -0.033013    0.002557    0.004380        -0.027218   \n",
       "floors_total             -0.051399    0.045979   -0.013085         0.016761   \n",
       "days_exposition          -0.031762    0.060896    0.137839         1.000000   \n",
       "balcony                   0.025321    0.078151    0.017224         0.007659   \n",
       "airports_nearest          0.010388    0.090521    0.022095        -0.007112   \n",
       "ponds_around3000         -0.013773    0.090863   -0.001368         0.003850   \n",
       "ceiling_height            0.053196    0.101991    0.138123         0.058492   \n",
       "parks_around3000          0.052224    0.104603    0.098824         0.001375   \n",
       "floor                    -0.006351    0.122754    0.110900         0.028296   \n",
       "total_images              1.000000    0.135650    0.097525        -0.031762   \n",
       "rooms                     0.052606    0.309599    0.727089         0.130244   \n",
       "kitchen_area              0.134417    0.474211    0.551974         0.095898   \n",
       "living_area               0.083992    0.513047    0.941084         0.133361   \n",
       "total_area                0.097525    0.607617    1.000000         0.137839   \n",
       "square_meter_cost         0.157666    0.794446    0.235686         0.029197   \n",
       "last_price                0.135650    1.000000    0.607617         0.060896   \n",
       "\n",
       "                      year_of_publication     rooms  ceiling_height  \\\n",
       "kitchen_total_ratio              0.015965 -0.495131       -0.040649   \n",
       "ponds_nearest                    0.000837 -0.053037       -0.004778   \n",
       "city_centers_nearest             0.041934 -0.157428       -0.107286   \n",
       "parks_nearest                   -0.043041 -0.106674       -0.085369   \n",
       "year_of_publication              1.000000 -0.059763       -0.006300   \n",
       "studio                           0.009021 -0.114099        0.009362   \n",
       "living_total_ratio               0.006877  0.421449        0.052181   \n",
       "open_plan                       -0.018645 -0.049178        0.008185   \n",
       "floors_total                    -0.037010 -0.174892       -0.128675   \n",
       "days_exposition                 -0.660574  0.130244        0.058492   \n",
       "balcony                         -0.042558 -0.070947        0.031731   \n",
       "airports_nearest                 0.034829 -0.076217       -0.075136   \n",
       "ponds_around3000                -0.019320 -0.041837        0.050712   \n",
       "ceiling_height                  -0.006300  0.088188        1.000000   \n",
       "parks_around3000                -0.002039  0.102496        0.034277   \n",
       "floor                           -0.032682 -0.030660       -0.058688   \n",
       "total_images                     0.140156  0.052606        0.053196   \n",
       "rooms                           -0.059763  1.000000        0.088188   \n",
       "kitchen_area                    -0.034559  0.265420        0.083585   \n",
       "living_area                     -0.069025  0.817711        0.142818   \n",
       "total_area                      -0.073918  0.727089        0.138123   \n",
       "square_meter_cost                0.020730 -0.010148        0.051336   \n",
       "last_price                      -0.037849  0.309599        0.101991   \n",
       "\n",
       "                      floors_total     floor  living_area  ...    studio  \\\n",
       "kitchen_total_ratio       0.170961  0.046171    -0.459449  ...       NaN   \n",
       "ponds_nearest             0.060960  0.032623    -0.060135  ...  0.023943   \n",
       "city_centers_nearest      0.337280  0.208546    -0.134662  ...  0.008985   \n",
       "parks_nearest             0.223327  0.125587    -0.095613  ... -0.005851   \n",
       "year_of_publication      -0.037010 -0.032682    -0.069025  ...  0.009021   \n",
       "studio                   -0.004975 -0.021421    -0.042402  ...  1.000000   \n",
       "living_total_ratio       -0.344038 -0.200880     0.424649  ...  0.063591   \n",
       "open_plan                 0.003315 -0.008849    -0.022387  ... -0.002562   \n",
       "floors_total              1.000000  0.648537    -0.123382  ... -0.004975   \n",
       "days_exposition           0.016761  0.028296     0.133361  ... -0.037834   \n",
       "balcony                   0.357541  0.280753    -0.019180  ...  0.015817   \n",
       "airports_nearest          0.139943  0.075407    -0.033739  ...  0.007973   \n",
       "ponds_around3000         -0.041132 -0.048178    -0.000442  ...  0.006697   \n",
       "ceiling_height           -0.128675 -0.058688     0.142818  ...  0.009362   \n",
       "parks_around3000         -0.243920 -0.154728     0.138373  ... -0.039878   \n",
       "floor                     0.648537  1.000000     0.023884  ... -0.021421   \n",
       "total_images             -0.051399 -0.006351     0.083992  ... -0.024896   \n",
       "rooms                    -0.174892 -0.030660     0.817711  ... -0.114099   \n",
       "kitchen_area              0.088737  0.117920     0.397357  ...       NaN   \n",
       "living_area              -0.123382  0.023884     1.000000  ... -0.042402   \n",
       "total_area               -0.013085  0.110900     0.941084  ... -0.052036   \n",
       "square_meter_cost         0.126007  0.135647     0.174795  ... -0.001129   \n",
       "last_price                0.045979  0.122754     0.513047  ... -0.022218   \n",
       "\n",
       "                      open_plan   balcony  airports_nearest  \\\n",
       "kitchen_total_ratio         NaN  0.087838          0.106743   \n",
       "ponds_nearest         -0.002762  0.021193          0.101940   \n",
       "city_centers_nearest   0.008916  0.162614          0.405283   \n",
       "parks_nearest          0.002034  0.139194          0.025681   \n",
       "year_of_publication   -0.018645 -0.042558          0.034829   \n",
       "studio                -0.002562  0.015817          0.007973   \n",
       "living_total_ratio     0.057776 -0.152784         -0.125652   \n",
       "open_plan              1.000000 -0.017394         -0.016413   \n",
       "floors_total           0.003315  0.357541          0.139943   \n",
       "days_exposition       -0.027218  0.007659         -0.007112   \n",
       "balcony               -0.017394  1.000000          0.094119   \n",
       "airports_nearest      -0.016413  0.094119          1.000000   \n",
       "ponds_around3000      -0.004950  0.037279          0.022960   \n",
       "ceiling_height         0.008185  0.031731         -0.075136   \n",
       "parks_around3000       0.012702 -0.119108         -0.005969   \n",
       "floor                 -0.008849  0.280753          0.075407   \n",
       "total_images          -0.033013  0.025321          0.010388   \n",
       "rooms                 -0.049178 -0.070947         -0.076217   \n",
       "kitchen_area                NaN  0.088765          0.090782   \n",
       "living_area           -0.022387 -0.019180         -0.033739   \n",
       "total_area             0.004380  0.017224          0.022095   \n",
       "square_meter_cost     -0.003433  0.130129          0.157266   \n",
       "last_price             0.002557  0.078151          0.090521   \n",
       "\n",
       "                      city_centers_nearest  parks_around3000  parks_nearest  \\\n",
       "kitchen_total_ratio               0.085431         -0.039044       0.110661   \n",
       "ponds_nearest                     0.302756         -0.199587       0.081248   \n",
       "city_centers_nearest              1.000000         -0.212875       0.098903   \n",
       "parks_nearest                     0.098903         -0.295423       1.000000   \n",
       "year_of_publication               0.041934         -0.002039      -0.043041   \n",
       "studio                            0.008985         -0.039878      -0.005851   \n",
       "living_total_ratio               -0.158195          0.109217      -0.157327   \n",
       "open_plan                         0.008916          0.012702       0.002034   \n",
       "floors_total                      0.337280         -0.243920       0.223327   \n",
       "days_exposition                  -0.038140          0.001375       0.011801   \n",
       "balcony                           0.162614         -0.119108       0.139194   \n",
       "airports_nearest                  0.405283         -0.005969       0.025681   \n",
       "ponds_around3000                 -0.330575          0.152714      -0.008361   \n",
       "ceiling_height                   -0.107286          0.034277      -0.085369   \n",
       "parks_around3000                 -0.212875          1.000000      -0.295423   \n",
       "floor                             0.208546         -0.154728       0.125587   \n",
       "total_images                     -0.021587          0.052224      -0.044498   \n",
       "rooms                            -0.157428          0.102496      -0.106674   \n",
       "kitchen_area                     -0.033822          0.076275       0.011699   \n",
       "living_area                      -0.134662          0.138373      -0.095613   \n",
       "total_area                       -0.072939          0.098824      -0.073218   \n",
       "square_meter_cost                -0.029459          0.132285      -0.016109   \n",
       "last_price                       -0.042344          0.104603      -0.039536   \n",
       "\n",
       "                      ponds_around3000  ponds_nearest  square_meter_cost  \n",
       "kitchen_total_ratio           0.040570       0.030164           0.136043  \n",
       "ponds_nearest                -0.393716       1.000000          -0.090647  \n",
       "city_centers_nearest         -0.330575       0.302756          -0.029459  \n",
       "parks_nearest                -0.008361       0.081248          -0.016109  \n",
       "year_of_publication          -0.019320       0.000837           0.020730  \n",
       "studio                        0.006697       0.023943          -0.001129  \n",
       "living_total_ratio           -0.020792      -0.027557          -0.141365  \n",
       "open_plan                    -0.004950      -0.002762          -0.003433  \n",
       "floors_total                 -0.041132       0.060960           0.126007  \n",
       "days_exposition               0.003850      -0.018412           0.029197  \n",
       "balcony                       0.037279       0.021193           0.130129  \n",
       "airports_nearest              0.022960       0.101940           0.157266  \n",
       "ponds_around3000              1.000000      -0.393716           0.142252  \n",
       "ceiling_height                0.050712      -0.004778           0.051336  \n",
       "parks_around3000              0.152714      -0.199587           0.132285  \n",
       "floor                        -0.048178       0.032623           0.135647  \n",
       "total_images                 -0.013773      -0.008068           0.157666  \n",
       "rooms                        -0.041837      -0.053037          -0.010148  \n",
       "kitchen_area                  0.043990      -0.052776           0.333415  \n",
       "living_area                  -0.000442      -0.060135           0.174795  \n",
       "total_area                   -0.001368      -0.068779           0.235686  \n",
       "square_meter_cost             0.142252      -0.090647           1.000000  \n",
       "last_price                    0.090863      -0.073288           0.794446  \n",
       "\n",
       "[23 rows x 23 columns]"
      ]
     },
     "execution_count": 64,
     "metadata": {},
     "output_type": "execute_result"
    }
   ],
   "source": [
    "df_center_spb=df[df['city_centers_nearest']<7000]\n",
    "df_center_spb.corr().sort_values(by='last_price')"
   ]
  },
  {
   "cell_type": "markdown",
   "id": "a6537c09",
   "metadata": {},
   "source": [
    "\n",
    "На стоимость квартир в центре влияет:\n",
    "1. Стоимость квадратного метра (0.79)\n",
    "2. Общая площадь (0.60)\n",
    "3. Жилая площадь (0.51)\n",
    "4. площадь кухни (0.47)\n",
    "5. Количество комнат (0.3)\n",
    "</div> "
   ]
  },
  {
   "cell_type": "markdown",
   "id": "4d03dfc0",
   "metadata": {},
   "source": [
    "## Общий выводы:\n",
    "\n",
    "Площадь квартиры очень сильно влияет на конечную стоимость жилья <br>\n",
    "Чем больше комнат в квартире, тем выше будет цена<br>\n",
    "Чем выше стоимость квадратного метра, тем выше будет рыночная стоимость квартиры<br>\n",
    "Квартиры на первом этаже стоят дешевле <br>\n",
    "По мере отдаления от центра города квартиры стоят дешевле<br>\n",
    "В 2014 году был высокий спрос на квартиры, цены были высокими. В дальнейшем цены на недвижимость постепенно падали<br>\n",
    "Можно заметить, что люди выставляют более высокие цены на квартиры к концу года\n",
    "\n",
    "\n",
    "1. В начале работы были выявлены аномалии в данных (квартиры площадью 900кв.м., 19-комнатная квартира, квартира со 100 метровым потолком). От использования этих данных для анализа пришлось отказаться. \n",
    "2. Были выявлены причины, которые привели к пропускам данных: <br> \n",
    "    \n",
    "Отсутсвие необходимости заполнять все строки при подаче объявления <br>  \n",
    "-является объект апартаментами либо нет <br> \n",
    "-несвоевременное закрытие объявления (после фактической продажи)<br> \n",
    "-площадь кухни, площадь жилой зоны (по отдельности) <br> \n",
    "Отсутствие знаний клиента о некоторых параметрах жилья, которое он выставляет на продажу <br> \n",
    "Технические проблемы во время отправки данных и обработки данных системой (Геолокация, удалённость от различных объектов) <br> \n",
    "Возможно, некорректное указание данных расположения квартиры, что мешает подсчёту расстояний до различных объектов <br> \n",
    "\n",
    "3. Были сделаны определенные заключения во время анализа данных: <br> \n",
    "-В 2014 году был высокий спрос на квартиры, цены были высокими. В дальнейшем цены на недвижимость постепенно падали <br> \n",
    "-Было замечено, что люди выставляют более высокие цены на квартиры к концу года\n",
    "-Подавляющее количество квартир на рынке от 30 до 75 кв.м. <br> \n",
    "-Большинство квартир продаются за сумму от 2 до 7.5 млн.руб.<br> \n",
    "-Наибольшей популярностью пользуются 1,2,3 комнатные квартиры. Процент 4-комнатных квартир на рынке значительно ниже. Количество квартир с 5-ю комнатами и более несравнимо ниже.<br> \n",
    "-Реальная высота потолков начинается от двух метров и заканчивается на 4,5 метрах.<br> \n",
    "-Среднее время продажи квартиры занимает порядка 6 месяцев.<br> \n",
    "-Медианное время продажи квартиры занимает чуть больше 3-х месяцев.<br> \n",
    "-Можно утверждать, что если квартира продалась в течении 3-х месяцев, то продажу можно называть “быстрой”. Если прошло более 3х месяцев, то продажа - “медленная”.<br> \n",
    "-Стоимость квартир на первом этаже ниже стоимости квартир на последнем этаже и других этажах. Люди готовы платить большую сумму за квартиры, которые не находятся на первом либо последнем этажах.<br> \n",
    "Наиболее дорогие квартиры размещают на продажу в течении рабочих дней. В выходные дни размещают более дешевые квартиры.<br> \n",
    "-Цена на квартиры заметно снижается в начале лета, в июне. Также, можно заметить, что к концу года средняя стоимость квартир дорожает.<br> \n",
    "-Можно заметить, что средняя стоимость квартир была значительно дороже в 2014 году (последствия кризиса). После этого ситуация на рынке недвижимости постепенно нормализовалась и цены на квартиры начали спадать.<br> \n",
    "-В процессе анализа была выделена “центральная зона” в пределах 7км. <br> <br> \n",
    "\n",
    "Выводы сделанные из анализа сегмента квартир, находящихся в центре: <br> \n",
    "-Мы видим большее количество просторных квартир в центральной зоне. В основном представлены квартиры площадью от 30 до 120 квадратных метров.<br> \n",
    "-Стоимость квартир в центре варьируется от 4 до 12 миллионов рублей.<br> \n",
    "-Трехкомнатные квартиры наиболее популярны в центре. Чуть меньшим спросом пользуются двухкомнатные квартиры. Также, в центральной зоне больше объявлений, по которым можно приобрести четырехкомнатную или пятикомнатную квартиры (что не так популярно за пределами центра). Бюджетные однокомнатные квартиры представлены на рынке, но пользуются большим спросом за пределами центра.<br> \n",
    "-Наиболее популярны квартиры с высокими потолками, от 3 метров и более <br> \n",
    "-В среднем, квартиры в центре продаются медленнее. Это связано с тем, что стоимость недвижимости в центре дороже и люди дольше прицениваются и делают окончательный выбор. <br> \n",
    "-На стоимость квартир в центре влияет расстояние до центра,площадь,высота потолков,размер кухни,количество комнат. \n",
    "\n",
    "</div> "
   ]
  },
  {
   "cell_type": "code",
   "execution_count": null,
   "id": "39535c68",
   "metadata": {},
   "outputs": [],
   "source": []
  }
 ],
 "metadata": {
  "ExecuteTimeLog": [
   {
    "duration": 786,
    "start_time": "2022-04-24T15:28:57.361Z"
   },
   {
    "duration": 166,
    "start_time": "2022-04-24T15:28:58.150Z"
   },
   {
    "duration": 0,
    "start_time": "2022-04-24T15:28:58.319Z"
   },
   {
    "duration": 0,
    "start_time": "2022-04-24T15:28:58.320Z"
   },
   {
    "duration": 0,
    "start_time": "2022-04-24T15:28:58.321Z"
   },
   {
    "duration": 0,
    "start_time": "2022-04-24T15:28:58.322Z"
   },
   {
    "duration": 0,
    "start_time": "2022-04-24T15:28:58.324Z"
   },
   {
    "duration": 0,
    "start_time": "2022-04-24T15:28:58.325Z"
   },
   {
    "duration": 0,
    "start_time": "2022-04-24T15:28:58.325Z"
   },
   {
    "duration": 0,
    "start_time": "2022-04-24T15:28:58.326Z"
   },
   {
    "duration": 0,
    "start_time": "2022-04-24T15:28:58.327Z"
   },
   {
    "duration": 0,
    "start_time": "2022-04-24T15:28:58.328Z"
   },
   {
    "duration": 0,
    "start_time": "2022-04-24T15:28:58.329Z"
   },
   {
    "duration": 0,
    "start_time": "2022-04-24T15:28:58.330Z"
   },
   {
    "duration": 0,
    "start_time": "2022-04-24T15:28:58.331Z"
   },
   {
    "duration": 0,
    "start_time": "2022-04-24T15:28:58.332Z"
   },
   {
    "duration": 0,
    "start_time": "2022-04-24T15:28:58.333Z"
   },
   {
    "duration": 0,
    "start_time": "2022-04-24T15:28:58.334Z"
   },
   {
    "duration": 0,
    "start_time": "2022-04-24T15:28:58.335Z"
   },
   {
    "duration": 0,
    "start_time": "2022-04-24T15:28:58.336Z"
   },
   {
    "duration": 0,
    "start_time": "2022-04-24T15:28:58.337Z"
   },
   {
    "duration": 0,
    "start_time": "2022-04-24T15:28:58.338Z"
   },
   {
    "duration": 0,
    "start_time": "2022-04-24T15:28:58.339Z"
   },
   {
    "duration": 0,
    "start_time": "2022-04-24T15:28:58.375Z"
   },
   {
    "duration": 0,
    "start_time": "2022-04-24T15:28:58.377Z"
   },
   {
    "duration": 0,
    "start_time": "2022-04-24T15:28:58.378Z"
   },
   {
    "duration": 0,
    "start_time": "2022-04-24T15:28:58.385Z"
   },
   {
    "duration": 0,
    "start_time": "2022-04-24T15:28:58.388Z"
   },
   {
    "duration": 0,
    "start_time": "2022-04-24T15:28:58.390Z"
   },
   {
    "duration": 0,
    "start_time": "2022-04-24T15:28:58.395Z"
   },
   {
    "duration": 0,
    "start_time": "2022-04-24T15:28:58.396Z"
   },
   {
    "duration": 0,
    "start_time": "2022-04-24T15:28:58.398Z"
   },
   {
    "duration": 0,
    "start_time": "2022-04-24T15:28:58.399Z"
   },
   {
    "duration": 0,
    "start_time": "2022-04-24T15:28:58.399Z"
   },
   {
    "duration": 0,
    "start_time": "2022-04-24T15:28:58.400Z"
   },
   {
    "duration": 1,
    "start_time": "2022-04-24T15:28:58.402Z"
   },
   {
    "duration": 0,
    "start_time": "2022-04-24T15:28:58.404Z"
   },
   {
    "duration": 0,
    "start_time": "2022-04-24T15:28:58.405Z"
   },
   {
    "duration": 0,
    "start_time": "2022-04-24T15:28:58.406Z"
   },
   {
    "duration": 0,
    "start_time": "2022-04-24T15:28:58.407Z"
   },
   {
    "duration": 0,
    "start_time": "2022-04-24T15:28:58.408Z"
   },
   {
    "duration": 0,
    "start_time": "2022-04-24T15:28:58.409Z"
   },
   {
    "duration": 0,
    "start_time": "2022-04-24T15:28:58.414Z"
   },
   {
    "duration": 0,
    "start_time": "2022-04-24T15:28:58.415Z"
   },
   {
    "duration": 0,
    "start_time": "2022-04-24T15:28:58.416Z"
   },
   {
    "duration": 0,
    "start_time": "2022-04-24T15:28:58.417Z"
   },
   {
    "duration": 0,
    "start_time": "2022-04-24T15:28:58.418Z"
   },
   {
    "duration": 0,
    "start_time": "2022-04-24T15:28:58.420Z"
   },
   {
    "duration": 0,
    "start_time": "2022-04-24T15:28:58.421Z"
   },
   {
    "duration": 665,
    "start_time": "2022-04-24T15:29:48.990Z"
   },
   {
    "duration": 204,
    "start_time": "2022-04-24T15:29:49.657Z"
   },
   {
    "duration": 16,
    "start_time": "2022-04-24T15:29:49.863Z"
   },
   {
    "duration": 74,
    "start_time": "2022-04-24T15:29:49.881Z"
   },
   {
    "duration": 18,
    "start_time": "2022-04-24T15:29:49.958Z"
   },
   {
    "duration": 18,
    "start_time": "2022-04-24T15:29:49.977Z"
   },
   {
    "duration": 15,
    "start_time": "2022-04-24T15:29:49.997Z"
   },
   {
    "duration": 18,
    "start_time": "2022-04-24T15:29:50.014Z"
   },
   {
    "duration": 11,
    "start_time": "2022-04-24T15:29:50.034Z"
   },
   {
    "duration": 12,
    "start_time": "2022-04-24T15:29:50.048Z"
   },
   {
    "duration": 60,
    "start_time": "2022-04-24T15:29:50.062Z"
   },
   {
    "duration": 49,
    "start_time": "2022-04-24T15:29:50.125Z"
   },
   {
    "duration": 32,
    "start_time": "2022-04-24T15:29:50.178Z"
   },
   {
    "duration": 24,
    "start_time": "2022-04-24T15:29:50.214Z"
   },
   {
    "duration": 7,
    "start_time": "2022-04-24T15:29:50.240Z"
   },
   {
    "duration": 35,
    "start_time": "2022-04-24T15:29:50.249Z"
   },
   {
    "duration": 17,
    "start_time": "2022-04-24T15:29:50.286Z"
   },
   {
    "duration": 112,
    "start_time": "2022-04-24T15:29:50.305Z"
   },
   {
    "duration": 2,
    "start_time": "2022-04-24T15:29:50.419Z"
   },
   {
    "duration": 10,
    "start_time": "2022-04-24T15:29:50.423Z"
   },
   {
    "duration": 7,
    "start_time": "2022-04-24T15:29:50.435Z"
   },
   {
    "duration": 35,
    "start_time": "2022-04-24T15:29:50.444Z"
   },
   {
    "duration": 336,
    "start_time": "2022-04-24T15:29:50.481Z"
   },
   {
    "duration": 338,
    "start_time": "2022-04-24T15:29:50.820Z"
   },
   {
    "duration": 261,
    "start_time": "2022-04-24T15:29:51.160Z"
   },
   {
    "duration": 6,
    "start_time": "2022-04-24T15:29:51.423Z"
   },
   {
    "duration": 217,
    "start_time": "2022-04-24T15:29:51.431Z"
   },
   {
    "duration": 9,
    "start_time": "2022-04-24T15:29:51.649Z"
   },
   {
    "duration": 20,
    "start_time": "2022-04-24T15:29:51.660Z"
   },
   {
    "duration": 12,
    "start_time": "2022-04-24T15:29:51.686Z"
   },
   {
    "duration": 11,
    "start_time": "2022-04-24T15:29:51.699Z"
   },
   {
    "duration": 337,
    "start_time": "2022-04-24T15:29:51.712Z"
   },
   {
    "duration": 164,
    "start_time": "2022-04-24T15:29:52.051Z"
   },
   {
    "duration": 17,
    "start_time": "2022-04-24T15:29:52.217Z"
   },
   {
    "duration": 16,
    "start_time": "2022-04-24T15:29:52.236Z"
   },
   {
    "duration": 34,
    "start_time": "2022-04-24T15:29:52.254Z"
   },
   {
    "duration": 28,
    "start_time": "2022-04-24T15:29:52.292Z"
   },
   {
    "duration": 9,
    "start_time": "2022-04-24T15:29:52.321Z"
   },
   {
    "duration": 11,
    "start_time": "2022-04-24T15:29:52.331Z"
   },
   {
    "duration": 32,
    "start_time": "2022-04-24T15:29:52.343Z"
   },
   {
    "duration": 40,
    "start_time": "2022-04-24T15:29:52.382Z"
   },
   {
    "duration": 900,
    "start_time": "2022-04-24T15:29:52.424Z"
   },
   {
    "duration": 10,
    "start_time": "2022-04-24T15:29:53.325Z"
   },
   {
    "duration": 282,
    "start_time": "2022-04-24T15:29:53.336Z"
   },
   {
    "duration": 286,
    "start_time": "2022-04-24T15:29:53.620Z"
   },
   {
    "duration": 292,
    "start_time": "2022-04-24T15:29:53.908Z"
   },
   {
    "duration": 7,
    "start_time": "2022-04-24T15:29:54.202Z"
   },
   {
    "duration": 187,
    "start_time": "2022-04-24T15:29:54.211Z"
   },
   {
    "duration": 6,
    "start_time": "2022-04-24T15:29:54.400Z"
   },
   {
    "duration": 812,
    "start_time": "2022-04-24T15:40:15.758Z"
   },
   {
    "duration": 189,
    "start_time": "2022-04-24T15:40:16.573Z"
   },
   {
    "duration": 25,
    "start_time": "2022-04-24T15:40:16.764Z"
   },
   {
    "duration": 87,
    "start_time": "2022-04-24T15:40:16.792Z"
   },
   {
    "duration": 5,
    "start_time": "2022-04-24T15:40:16.882Z"
   },
   {
    "duration": 17,
    "start_time": "2022-04-24T15:40:16.889Z"
   },
   {
    "duration": 5,
    "start_time": "2022-04-24T15:40:16.908Z"
   },
   {
    "duration": 5,
    "start_time": "2022-04-24T15:40:16.915Z"
   },
   {
    "duration": 9,
    "start_time": "2022-04-24T15:40:16.922Z"
   },
   {
    "duration": 11,
    "start_time": "2022-04-24T15:40:16.934Z"
   },
   {
    "duration": 87,
    "start_time": "2022-04-24T15:40:16.948Z"
   },
   {
    "duration": 140,
    "start_time": "2022-04-24T15:40:17.041Z"
   },
   {
    "duration": 60,
    "start_time": "2022-04-24T15:40:17.183Z"
   },
   {
    "duration": 40,
    "start_time": "2022-04-24T15:40:17.245Z"
   },
   {
    "duration": 11,
    "start_time": "2022-04-24T15:40:17.294Z"
   },
   {
    "duration": 16,
    "start_time": "2022-04-24T15:40:17.307Z"
   },
   {
    "duration": 14,
    "start_time": "2022-04-24T15:40:17.326Z"
   },
   {
    "duration": 175,
    "start_time": "2022-04-24T15:40:17.342Z"
   },
   {
    "duration": 2,
    "start_time": "2022-04-24T15:40:17.519Z"
   },
   {
    "duration": 15,
    "start_time": "2022-04-24T15:40:17.523Z"
   },
   {
    "duration": 7,
    "start_time": "2022-04-24T15:40:17.541Z"
   },
   {
    "duration": 34,
    "start_time": "2022-04-24T15:40:17.550Z"
   },
   {
    "duration": 356,
    "start_time": "2022-04-24T15:40:17.586Z"
   },
   {
    "duration": 351,
    "start_time": "2022-04-24T15:40:17.945Z"
   },
   {
    "duration": 300,
    "start_time": "2022-04-24T15:40:18.299Z"
   },
   {
    "duration": 7,
    "start_time": "2022-04-24T15:40:18.601Z"
   },
   {
    "duration": 266,
    "start_time": "2022-04-24T15:40:18.610Z"
   },
   {
    "duration": 12,
    "start_time": "2022-04-24T15:40:18.883Z"
   },
   {
    "duration": 14,
    "start_time": "2022-04-24T15:40:18.897Z"
   },
   {
    "duration": 7,
    "start_time": "2022-04-24T15:40:18.913Z"
   },
   {
    "duration": 14,
    "start_time": "2022-04-24T15:40:18.922Z"
   },
   {
    "duration": 377,
    "start_time": "2022-04-24T15:40:18.938Z"
   },
   {
    "duration": 166,
    "start_time": "2022-04-24T15:40:19.317Z"
   },
   {
    "duration": 19,
    "start_time": "2022-04-24T15:40:19.486Z"
   },
   {
    "duration": 18,
    "start_time": "2022-04-24T15:40:19.507Z"
   },
   {
    "duration": 9,
    "start_time": "2022-04-24T15:40:19.527Z"
   },
   {
    "duration": 74,
    "start_time": "2022-04-24T15:40:19.538Z"
   },
   {
    "duration": 13,
    "start_time": "2022-04-24T15:40:19.615Z"
   },
   {
    "duration": 10,
    "start_time": "2022-04-24T15:40:19.630Z"
   },
   {
    "duration": 32,
    "start_time": "2022-04-24T15:40:19.642Z"
   },
   {
    "duration": 17,
    "start_time": "2022-04-24T15:40:19.677Z"
   },
   {
    "duration": 1593,
    "start_time": "2022-04-24T15:40:19.695Z"
   },
   {
    "duration": 11,
    "start_time": "2022-04-24T15:40:21.289Z"
   },
   {
    "duration": 907,
    "start_time": "2022-04-24T15:40:21.305Z"
   },
   {
    "duration": 548,
    "start_time": "2022-04-24T15:40:22.214Z"
   },
   {
    "duration": 332,
    "start_time": "2022-04-24T15:40:22.764Z"
   },
   {
    "duration": 7,
    "start_time": "2022-04-24T15:40:23.099Z"
   },
   {
    "duration": 202,
    "start_time": "2022-04-24T15:40:23.108Z"
   },
   {
    "duration": 7,
    "start_time": "2022-04-24T15:40:23.313Z"
   },
   {
    "duration": 47,
    "start_time": "2022-04-27T09:25:58.905Z"
   },
   {
    "duration": 779,
    "start_time": "2022-04-27T09:26:28.722Z"
   },
   {
    "duration": 165,
    "start_time": "2022-04-27T09:26:29.503Z"
   },
   {
    "duration": 15,
    "start_time": "2022-04-27T09:26:29.671Z"
   },
   {
    "duration": 82,
    "start_time": "2022-04-27T09:26:29.688Z"
   },
   {
    "duration": 5,
    "start_time": "2022-04-27T09:26:29.773Z"
   },
   {
    "duration": 5,
    "start_time": "2022-04-27T09:26:29.780Z"
   },
   {
    "duration": 5,
    "start_time": "2022-04-27T09:26:29.787Z"
   },
   {
    "duration": 8,
    "start_time": "2022-04-27T09:26:29.793Z"
   },
   {
    "duration": 7,
    "start_time": "2022-04-27T09:26:29.803Z"
   },
   {
    "duration": 42,
    "start_time": "2022-04-27T09:26:29.811Z"
   },
   {
    "duration": 29,
    "start_time": "2022-04-27T09:26:29.854Z"
   },
   {
    "duration": 36,
    "start_time": "2022-04-27T09:26:29.884Z"
   },
   {
    "duration": 47,
    "start_time": "2022-04-27T09:26:29.922Z"
   },
   {
    "duration": 21,
    "start_time": "2022-04-27T09:26:29.972Z"
   },
   {
    "duration": 8,
    "start_time": "2022-04-27T09:26:29.994Z"
   },
   {
    "duration": 9,
    "start_time": "2022-04-27T09:26:30.004Z"
   },
   {
    "duration": 38,
    "start_time": "2022-04-27T09:26:30.015Z"
   },
   {
    "duration": 102,
    "start_time": "2022-04-27T09:26:30.055Z"
   },
   {
    "duration": 2,
    "start_time": "2022-04-27T09:26:30.159Z"
   },
   {
    "duration": 24,
    "start_time": "2022-04-27T09:26:30.163Z"
   },
   {
    "duration": 19,
    "start_time": "2022-04-27T09:26:30.189Z"
   },
   {
    "duration": 25,
    "start_time": "2022-04-27T09:26:30.210Z"
   },
   {
    "duration": 305,
    "start_time": "2022-04-27T09:26:30.237Z"
   },
   {
    "duration": 269,
    "start_time": "2022-04-27T09:26:30.547Z"
   },
   {
    "duration": 223,
    "start_time": "2022-04-27T09:26:30.818Z"
   },
   {
    "duration": 9,
    "start_time": "2022-04-27T09:26:31.043Z"
   },
   {
    "duration": 287,
    "start_time": "2022-04-27T09:26:31.053Z"
   },
   {
    "duration": 9,
    "start_time": "2022-04-27T09:26:31.342Z"
   },
   {
    "duration": 10,
    "start_time": "2022-04-27T09:26:31.352Z"
   },
   {
    "duration": 7,
    "start_time": "2022-04-27T09:26:31.364Z"
   },
   {
    "duration": 10,
    "start_time": "2022-04-27T09:26:31.373Z"
   },
   {
    "duration": 483,
    "start_time": "2022-04-27T09:26:31.385Z"
   },
   {
    "duration": 4023,
    "start_time": "2022-04-27T09:26:31.870Z"
   },
   {
    "duration": 0,
    "start_time": "2022-04-27T09:26:35.895Z"
   },
   {
    "duration": 0,
    "start_time": "2022-04-27T09:26:35.897Z"
   },
   {
    "duration": 0,
    "start_time": "2022-04-27T09:26:35.898Z"
   },
   {
    "duration": 0,
    "start_time": "2022-04-27T09:26:35.899Z"
   },
   {
    "duration": 0,
    "start_time": "2022-04-27T09:26:35.900Z"
   },
   {
    "duration": 0,
    "start_time": "2022-04-27T09:26:35.901Z"
   },
   {
    "duration": 0,
    "start_time": "2022-04-27T09:26:35.902Z"
   },
   {
    "duration": 0,
    "start_time": "2022-04-27T09:26:35.903Z"
   },
   {
    "duration": 0,
    "start_time": "2022-04-27T09:26:35.904Z"
   },
   {
    "duration": 0,
    "start_time": "2022-04-27T09:26:35.905Z"
   },
   {
    "duration": 0,
    "start_time": "2022-04-27T09:26:35.906Z"
   },
   {
    "duration": 0,
    "start_time": "2022-04-27T09:26:35.907Z"
   },
   {
    "duration": 0,
    "start_time": "2022-04-27T09:26:35.908Z"
   },
   {
    "duration": 0,
    "start_time": "2022-04-27T09:26:35.909Z"
   },
   {
    "duration": 0,
    "start_time": "2022-04-27T09:26:35.910Z"
   },
   {
    "duration": 0,
    "start_time": "2022-04-27T09:26:35.911Z"
   },
   {
    "duration": 8279,
    "start_time": "2022-04-27T09:29:18.868Z"
   },
   {
    "duration": 8567,
    "start_time": "2022-04-27T09:29:31.176Z"
   },
   {
    "duration": 8031,
    "start_time": "2022-04-27T09:29:57.392Z"
   },
   {
    "duration": 1551,
    "start_time": "2022-04-27T09:30:42.140Z"
   },
   {
    "duration": 454,
    "start_time": "2022-04-27T09:31:26.547Z"
   },
   {
    "duration": 165,
    "start_time": "2022-04-27T09:33:13.157Z"
   },
   {
    "duration": 216,
    "start_time": "2022-04-27T09:33:45.811Z"
   },
   {
    "duration": 219,
    "start_time": "2022-04-27T09:33:56.000Z"
   },
   {
    "duration": 842,
    "start_time": "2022-05-04T19:43:37.390Z"
   },
   {
    "duration": 224,
    "start_time": "2022-05-04T19:43:38.234Z"
   },
   {
    "duration": 15,
    "start_time": "2022-05-04T19:43:38.460Z"
   },
   {
    "duration": 89,
    "start_time": "2022-05-04T19:43:38.477Z"
   },
   {
    "duration": 5,
    "start_time": "2022-05-04T19:43:38.569Z"
   },
   {
    "duration": 9,
    "start_time": "2022-05-04T19:43:38.576Z"
   },
   {
    "duration": 6,
    "start_time": "2022-05-04T19:43:38.587Z"
   },
   {
    "duration": 7,
    "start_time": "2022-05-04T19:43:38.595Z"
   },
   {
    "duration": 31,
    "start_time": "2022-05-04T19:43:38.604Z"
   },
   {
    "duration": 15,
    "start_time": "2022-05-04T19:43:38.637Z"
   },
   {
    "duration": 35,
    "start_time": "2022-05-04T19:43:38.655Z"
   },
   {
    "duration": 70,
    "start_time": "2022-05-04T19:43:38.692Z"
   },
   {
    "duration": 28,
    "start_time": "2022-05-04T19:43:38.765Z"
   },
   {
    "duration": 39,
    "start_time": "2022-05-04T19:43:38.796Z"
   },
   {
    "duration": 7,
    "start_time": "2022-05-04T19:43:38.837Z"
   },
   {
    "duration": 13,
    "start_time": "2022-05-04T19:43:38.845Z"
   },
   {
    "duration": 9,
    "start_time": "2022-05-04T19:43:38.860Z"
   },
   {
    "duration": 132,
    "start_time": "2022-05-04T19:43:38.871Z"
   },
   {
    "duration": 4,
    "start_time": "2022-05-04T19:43:39.004Z"
   },
   {
    "duration": 25,
    "start_time": "2022-05-04T19:43:39.010Z"
   },
   {
    "duration": 11,
    "start_time": "2022-05-04T19:43:39.037Z"
   },
   {
    "duration": 20,
    "start_time": "2022-05-04T19:43:39.050Z"
   },
   {
    "duration": 360,
    "start_time": "2022-05-04T19:43:39.073Z"
   },
   {
    "duration": 348,
    "start_time": "2022-05-04T19:43:39.435Z"
   },
   {
    "duration": 273,
    "start_time": "2022-05-04T19:43:39.785Z"
   },
   {
    "duration": 6,
    "start_time": "2022-05-04T19:43:40.060Z"
   },
   {
    "duration": 220,
    "start_time": "2022-05-04T19:43:40.068Z"
   },
   {
    "duration": 8,
    "start_time": "2022-05-04T19:43:40.289Z"
   },
   {
    "duration": 6,
    "start_time": "2022-05-04T19:43:40.298Z"
   },
   {
    "duration": 7,
    "start_time": "2022-05-04T19:43:40.305Z"
   },
   {
    "duration": 9,
    "start_time": "2022-05-04T19:43:40.334Z"
   },
   {
    "duration": 345,
    "start_time": "2022-05-04T19:43:40.345Z"
   },
   {
    "duration": 266,
    "start_time": "2022-05-04T19:43:40.691Z"
   },
   {
    "duration": 18,
    "start_time": "2022-05-04T19:43:40.958Z"
   },
   {
    "duration": 20,
    "start_time": "2022-05-04T19:43:40.977Z"
   },
   {
    "duration": 8,
    "start_time": "2022-05-04T19:43:40.999Z"
   },
   {
    "duration": 49,
    "start_time": "2022-05-04T19:43:41.009Z"
   },
   {
    "duration": 9,
    "start_time": "2022-05-04T19:43:41.060Z"
   },
   {
    "duration": 10,
    "start_time": "2022-05-04T19:43:41.070Z"
   },
   {
    "duration": 5,
    "start_time": "2022-05-04T19:43:41.081Z"
   },
   {
    "duration": 44,
    "start_time": "2022-05-04T19:43:41.090Z"
   },
   {
    "duration": 942,
    "start_time": "2022-05-04T19:43:41.136Z"
   },
   {
    "duration": 10,
    "start_time": "2022-05-04T19:43:42.079Z"
   },
   {
    "duration": 285,
    "start_time": "2022-05-04T19:43:42.091Z"
   },
   {
    "duration": 284,
    "start_time": "2022-05-04T19:43:42.378Z"
   },
   {
    "duration": 264,
    "start_time": "2022-05-04T19:43:42.665Z"
   },
   {
    "duration": 6,
    "start_time": "2022-05-04T19:43:42.934Z"
   },
   {
    "duration": 186,
    "start_time": "2022-05-04T19:43:42.942Z"
   },
   {
    "duration": 5,
    "start_time": "2022-05-04T19:43:43.133Z"
   },
   {
    "duration": 152,
    "start_time": "2022-05-04T19:44:13.869Z"
   },
   {
    "duration": 20,
    "start_time": "2022-05-04T19:45:55.342Z"
   },
   {
    "duration": 355,
    "start_time": "2022-05-04T20:10:02.410Z"
   },
   {
    "duration": 10,
    "start_time": "2022-05-04T20:12:09.787Z"
   },
   {
    "duration": 245,
    "start_time": "2022-05-04T20:13:30.815Z"
   },
   {
    "duration": 212,
    "start_time": "2022-05-04T20:13:45.234Z"
   },
   {
    "duration": 335,
    "start_time": "2022-05-04T20:14:06.706Z"
   },
   {
    "duration": 197,
    "start_time": "2022-05-04T20:15:20.053Z"
   },
   {
    "duration": 131,
    "start_time": "2022-05-04T20:19:18.445Z"
   },
   {
    "duration": 2,
    "start_time": "2022-05-04T20:19:35.152Z"
   },
   {
    "duration": 207,
    "start_time": "2022-05-04T20:20:22.901Z"
   },
   {
    "duration": 175,
    "start_time": "2022-05-04T20:23:19.939Z"
   },
   {
    "duration": 279,
    "start_time": "2022-05-04T20:32:56.791Z"
   },
   {
    "duration": 128,
    "start_time": "2022-05-04T20:33:44.818Z"
   },
   {
    "duration": 114,
    "start_time": "2022-05-04T20:33:54.667Z"
   },
   {
    "duration": 168,
    "start_time": "2022-05-04T20:34:03.997Z"
   },
   {
    "duration": 171,
    "start_time": "2022-05-04T20:36:34.593Z"
   },
   {
    "duration": 9,
    "start_time": "2022-05-04T20:42:39.675Z"
   },
   {
    "duration": 97,
    "start_time": "2022-05-04T20:42:46.729Z"
   },
   {
    "duration": 20,
    "start_time": "2022-05-04T20:43:02.933Z"
   },
   {
    "duration": 740,
    "start_time": "2022-05-04T20:46:27.783Z"
   },
   {
    "duration": 691,
    "start_time": "2022-05-04T20:46:35.018Z"
   },
   {
    "duration": 734,
    "start_time": "2022-05-04T20:46:39.133Z"
   },
   {
    "duration": 75,
    "start_time": "2022-05-04T20:50:10.007Z"
   },
   {
    "duration": 143,
    "start_time": "2022-05-06T13:29:43.840Z"
   },
   {
    "duration": 1190,
    "start_time": "2022-05-06T13:29:52.364Z"
   },
   {
    "duration": 221,
    "start_time": "2022-05-06T13:29:53.558Z"
   },
   {
    "duration": 22,
    "start_time": "2022-05-06T13:29:53.781Z"
   },
   {
    "duration": 126,
    "start_time": "2022-05-06T13:29:53.806Z"
   },
   {
    "duration": 10,
    "start_time": "2022-05-06T13:29:53.936Z"
   },
   {
    "duration": 9,
    "start_time": "2022-05-06T13:29:53.949Z"
   },
   {
    "duration": 15,
    "start_time": "2022-05-06T13:29:53.961Z"
   },
   {
    "duration": 12,
    "start_time": "2022-05-06T13:29:53.978Z"
   },
   {
    "duration": 10,
    "start_time": "2022-05-06T13:29:53.993Z"
   },
   {
    "duration": 15,
    "start_time": "2022-05-06T13:29:54.035Z"
   },
   {
    "duration": 94,
    "start_time": "2022-05-06T13:29:54.052Z"
   },
   {
    "duration": 83,
    "start_time": "2022-05-06T13:29:54.148Z"
   },
   {
    "duration": 63,
    "start_time": "2022-05-06T13:29:54.234Z"
   },
   {
    "duration": 83,
    "start_time": "2022-05-06T13:29:54.301Z"
   },
   {
    "duration": 15,
    "start_time": "2022-05-06T13:29:54.387Z"
   },
   {
    "duration": 37,
    "start_time": "2022-05-06T13:29:54.405Z"
   },
   {
    "duration": 23,
    "start_time": "2022-05-06T13:29:54.445Z"
   },
   {
    "duration": 191,
    "start_time": "2022-05-06T13:29:54.472Z"
   },
   {
    "duration": 4,
    "start_time": "2022-05-06T13:29:54.665Z"
   },
   {
    "duration": 13,
    "start_time": "2022-05-06T13:29:54.672Z"
   },
   {
    "duration": 10,
    "start_time": "2022-05-06T13:29:54.687Z"
   },
   {
    "duration": 47,
    "start_time": "2022-05-06T13:29:54.700Z"
   },
   {
    "duration": 592,
    "start_time": "2022-05-06T13:29:54.749Z"
   },
   {
    "duration": 563,
    "start_time": "2022-05-06T13:29:55.343Z"
   },
   {
    "duration": 559,
    "start_time": "2022-05-06T13:29:55.908Z"
   },
   {
    "duration": 11,
    "start_time": "2022-05-06T13:29:56.470Z"
   },
   {
    "duration": 406,
    "start_time": "2022-05-06T13:29:56.484Z"
   },
   {
    "duration": 11,
    "start_time": "2022-05-06T13:29:56.894Z"
   },
   {
    "duration": 24,
    "start_time": "2022-05-06T13:29:56.908Z"
   },
   {
    "duration": 21,
    "start_time": "2022-05-06T13:29:56.934Z"
   },
   {
    "duration": 14,
    "start_time": "2022-05-06T13:29:56.958Z"
   },
   {
    "duration": 792,
    "start_time": "2022-05-06T13:29:56.974Z"
   },
   {
    "duration": 12,
    "start_time": "2022-05-06T13:29:57.768Z"
   },
   {
    "duration": 265,
    "start_time": "2022-05-06T13:30:04.753Z"
   },
   {
    "duration": 10,
    "start_time": "2022-05-06T13:48:12.052Z"
   },
   {
    "duration": 318,
    "start_time": "2022-05-06T13:50:18.246Z"
   },
   {
    "duration": 8,
    "start_time": "2022-05-06T13:50:39.754Z"
   },
   {
    "duration": 5,
    "start_time": "2022-05-06T13:53:34.196Z"
   },
   {
    "duration": 5,
    "start_time": "2022-05-06T13:53:49.048Z"
   },
   {
    "duration": 427,
    "start_time": "2022-05-06T13:54:11.448Z"
   },
   {
    "duration": 7,
    "start_time": "2022-05-06T13:54:12.810Z"
   },
   {
    "duration": 364,
    "start_time": "2022-05-06T13:54:19.289Z"
   },
   {
    "duration": 5,
    "start_time": "2022-05-06T13:54:20.082Z"
   },
   {
    "duration": 302,
    "start_time": "2022-05-06T13:54:27.280Z"
   },
   {
    "duration": 5,
    "start_time": "2022-05-06T13:54:28.071Z"
   },
   {
    "duration": 332,
    "start_time": "2022-05-06T13:54:34.684Z"
   },
   {
    "duration": 5,
    "start_time": "2022-05-06T13:54:35.481Z"
   },
   {
    "duration": 7,
    "start_time": "2022-05-06T13:55:20.958Z"
   },
   {
    "duration": 6,
    "start_time": "2022-05-06T13:55:27.642Z"
   },
   {
    "duration": 5,
    "start_time": "2022-05-06T13:56:37.038Z"
   },
   {
    "duration": 44,
    "start_time": "2022-05-06T13:56:51.472Z"
   },
   {
    "duration": 383,
    "start_time": "2022-05-06T13:57:11.121Z"
   },
   {
    "duration": 5,
    "start_time": "2022-05-06T13:57:11.931Z"
   },
   {
    "duration": 284,
    "start_time": "2022-05-06T13:57:16.914Z"
   },
   {
    "duration": 6,
    "start_time": "2022-05-06T13:57:17.617Z"
   },
   {
    "duration": 263,
    "start_time": "2022-05-06T13:57:29.339Z"
   },
   {
    "duration": 6,
    "start_time": "2022-05-06T13:57:30.761Z"
   },
   {
    "duration": 5,
    "start_time": "2022-05-06T13:57:31.717Z"
   },
   {
    "duration": 324,
    "start_time": "2022-05-06T13:57:45.658Z"
   },
   {
    "duration": 5,
    "start_time": "2022-05-06T13:57:46.493Z"
   },
   {
    "duration": 5,
    "start_time": "2022-05-06T13:57:48.041Z"
   },
   {
    "duration": 7,
    "start_time": "2022-05-06T13:59:17.849Z"
   },
   {
    "duration": 312,
    "start_time": "2022-05-06T13:59:43.992Z"
   },
   {
    "duration": 8,
    "start_time": "2022-05-06T13:59:45.006Z"
   },
   {
    "duration": 492,
    "start_time": "2022-05-06T14:02:46.002Z"
   },
   {
    "duration": 17,
    "start_time": "2022-05-06T14:10:07.944Z"
   },
   {
    "duration": 5,
    "start_time": "2022-05-06T14:10:08.847Z"
   },
   {
    "duration": 5,
    "start_time": "2022-05-06T14:10:28.822Z"
   },
   {
    "duration": 5,
    "start_time": "2022-05-06T14:10:30.120Z"
   },
   {
    "duration": 18,
    "start_time": "2022-05-06T14:10:40.552Z"
   },
   {
    "duration": 6,
    "start_time": "2022-05-06T14:10:40.963Z"
   },
   {
    "duration": 19,
    "start_time": "2022-05-06T14:11:16.351Z"
   },
   {
    "duration": 6,
    "start_time": "2022-05-06T14:11:16.838Z"
   },
   {
    "duration": 20,
    "start_time": "2022-05-06T14:11:30.413Z"
   },
   {
    "duration": 6,
    "start_time": "2022-05-06T14:11:30.906Z"
   },
   {
    "duration": 16,
    "start_time": "2022-05-06T14:11:39.108Z"
   },
   {
    "duration": 6,
    "start_time": "2022-05-06T14:11:39.375Z"
   },
   {
    "duration": 14,
    "start_time": "2022-05-06T14:11:44.391Z"
   },
   {
    "duration": 7,
    "start_time": "2022-05-06T14:11:44.762Z"
   },
   {
    "duration": 15,
    "start_time": "2022-05-06T14:11:50.960Z"
   },
   {
    "duration": 5,
    "start_time": "2022-05-06T14:11:51.385Z"
   },
   {
    "duration": 15,
    "start_time": "2022-05-06T14:12:14.470Z"
   },
   {
    "duration": 5,
    "start_time": "2022-05-06T14:12:14.891Z"
   },
   {
    "duration": 128,
    "start_time": "2022-05-06T14:15:22.514Z"
   },
   {
    "duration": 91,
    "start_time": "2022-05-06T14:16:16.952Z"
   },
   {
    "duration": 538,
    "start_time": "2022-05-06T14:16:40.844Z"
   },
   {
    "duration": 455,
    "start_time": "2022-05-06T14:16:47.584Z"
   },
   {
    "duration": 1465,
    "start_time": "2022-05-06T14:21:58.824Z"
   },
   {
    "duration": 1431,
    "start_time": "2022-05-06T14:24:44.422Z"
   },
   {
    "duration": 1150,
    "start_time": "2022-05-06T14:25:11.120Z"
   },
   {
    "duration": 1300,
    "start_time": "2022-05-06T14:25:31.089Z"
   },
   {
    "duration": 876,
    "start_time": "2022-05-06T14:25:53.598Z"
   },
   {
    "duration": 255,
    "start_time": "2022-05-06T14:39:10.240Z"
   },
   {
    "duration": 409,
    "start_time": "2022-05-06T14:39:38.059Z"
   },
   {
    "duration": 1877,
    "start_time": "2022-05-06T14:42:20.296Z"
   },
   {
    "duration": 53,
    "start_time": "2022-05-06T14:42:31.238Z"
   },
   {
    "duration": 966,
    "start_time": "2022-05-06T15:10:30.109Z"
   },
   {
    "duration": 274,
    "start_time": "2022-05-06T15:10:31.078Z"
   },
   {
    "duration": 21,
    "start_time": "2022-05-06T15:10:31.355Z"
   },
   {
    "duration": 123,
    "start_time": "2022-05-06T15:10:31.379Z"
   },
   {
    "duration": 6,
    "start_time": "2022-05-06T15:10:31.505Z"
   },
   {
    "duration": 16,
    "start_time": "2022-05-06T15:10:31.526Z"
   },
   {
    "duration": 17,
    "start_time": "2022-05-06T15:10:31.545Z"
   },
   {
    "duration": 10,
    "start_time": "2022-05-06T15:10:31.565Z"
   },
   {
    "duration": 14,
    "start_time": "2022-05-06T15:10:31.577Z"
   },
   {
    "duration": 33,
    "start_time": "2022-05-06T15:10:31.597Z"
   },
   {
    "duration": 72,
    "start_time": "2022-05-06T15:10:31.632Z"
   },
   {
    "duration": 76,
    "start_time": "2022-05-06T15:10:31.706Z"
   },
   {
    "duration": 64,
    "start_time": "2022-05-06T15:10:31.784Z"
   },
   {
    "duration": 44,
    "start_time": "2022-05-06T15:10:31.851Z"
   },
   {
    "duration": 36,
    "start_time": "2022-05-06T15:10:31.897Z"
   },
   {
    "duration": 13,
    "start_time": "2022-05-06T15:10:31.941Z"
   },
   {
    "duration": 26,
    "start_time": "2022-05-06T15:10:31.956Z"
   },
   {
    "duration": 201,
    "start_time": "2022-05-06T15:10:31.984Z"
   },
   {
    "duration": 4,
    "start_time": "2022-05-06T15:10:32.187Z"
   },
   {
    "duration": 18,
    "start_time": "2022-05-06T15:10:32.193Z"
   },
   {
    "duration": 35,
    "start_time": "2022-05-06T15:10:32.214Z"
   },
   {
    "duration": 34,
    "start_time": "2022-05-06T15:10:32.251Z"
   },
   {
    "duration": 657,
    "start_time": "2022-05-06T15:10:32.288Z"
   },
   {
    "duration": 592,
    "start_time": "2022-05-06T15:10:32.947Z"
   },
   {
    "duration": 398,
    "start_time": "2022-05-06T15:10:33.542Z"
   },
   {
    "duration": 10,
    "start_time": "2022-05-06T15:10:33.942Z"
   },
   {
    "duration": 393,
    "start_time": "2022-05-06T15:10:33.954Z"
   },
   {
    "duration": 11,
    "start_time": "2022-05-06T15:10:34.353Z"
   },
   {
    "duration": 22,
    "start_time": "2022-05-06T15:10:34.366Z"
   },
   {
    "duration": 9,
    "start_time": "2022-05-06T15:10:34.390Z"
   },
   {
    "duration": 37,
    "start_time": "2022-05-06T15:10:34.402Z"
   },
   {
    "duration": 579,
    "start_time": "2022-05-06T15:10:34.442Z"
   },
   {
    "duration": 15,
    "start_time": "2022-05-06T15:10:35.024Z"
   },
   {
    "duration": 340,
    "start_time": "2022-05-06T15:10:35.042Z"
   },
   {
    "duration": 18,
    "start_time": "2022-05-06T15:10:35.385Z"
   },
   {
    "duration": 26,
    "start_time": "2022-05-06T15:10:35.405Z"
   },
   {
    "duration": 142,
    "start_time": "2022-05-06T15:10:35.436Z"
   },
   {
    "duration": 24,
    "start_time": "2022-05-06T15:10:35.580Z"
   },
   {
    "duration": 103,
    "start_time": "2022-05-06T15:10:35.607Z"
   },
   {
    "duration": 29,
    "start_time": "2022-05-06T15:10:35.725Z"
   },
   {
    "duration": 110,
    "start_time": "2022-05-06T15:10:35.757Z"
   },
   {
    "duration": 903,
    "start_time": "2022-05-06T15:10:35.869Z"
   },
   {
    "duration": 12,
    "start_time": "2022-05-06T15:10:36.774Z"
   },
   {
    "duration": 65,
    "start_time": "2022-05-06T15:10:36.788Z"
   },
   {
    "duration": 214,
    "start_time": "2022-05-06T15:10:36.855Z"
   },
   {
    "duration": 28,
    "start_time": "2022-05-06T15:10:37.072Z"
   },
   {
    "duration": 34,
    "start_time": "2022-05-06T15:10:37.103Z"
   },
   {
    "duration": 21,
    "start_time": "2022-05-06T15:10:37.140Z"
   },
   {
    "duration": 6,
    "start_time": "2022-05-06T15:10:37.163Z"
   },
   {
    "duration": 14,
    "start_time": "2022-05-06T15:10:37.171Z"
   },
   {
    "duration": 1511,
    "start_time": "2022-05-06T15:10:37.187Z"
   },
   {
    "duration": 32,
    "start_time": "2022-05-06T15:10:38.700Z"
   },
   {
    "duration": 432,
    "start_time": "2022-05-06T15:10:38.735Z"
   },
   {
    "duration": 457,
    "start_time": "2022-05-06T15:10:39.170Z"
   },
   {
    "duration": 306,
    "start_time": "2022-05-06T15:10:39.630Z"
   },
   {
    "duration": 8,
    "start_time": "2022-05-06T15:10:39.941Z"
   },
   {
    "duration": 284,
    "start_time": "2022-05-06T15:10:39.951Z"
   },
   {
    "duration": 7,
    "start_time": "2022-05-06T15:10:40.237Z"
   },
   {
    "duration": 133,
    "start_time": "2022-05-06T15:10:40.246Z"
   },
   {
    "duration": 0,
    "start_time": "2022-05-06T15:10:40.382Z"
   },
   {
    "duration": 29,
    "start_time": "2022-05-06T15:24:55.912Z"
   },
   {
    "duration": 17,
    "start_time": "2022-05-06T15:25:06.338Z"
   },
   {
    "duration": 26,
    "start_time": "2022-05-06T15:25:47.937Z"
   },
   {
    "duration": 19,
    "start_time": "2022-05-06T15:25:54.005Z"
   },
   {
    "duration": 40,
    "start_time": "2022-05-06T15:26:04.298Z"
   },
   {
    "duration": 32,
    "start_time": "2022-05-06T15:26:44.208Z"
   },
   {
    "duration": 26,
    "start_time": "2022-05-06T15:36:34.957Z"
   },
   {
    "duration": 287,
    "start_time": "2022-05-06T15:36:46.112Z"
   },
   {
    "duration": 18,
    "start_time": "2022-05-06T15:36:53.075Z"
   },
   {
    "duration": 31,
    "start_time": "2022-05-06T15:37:00.518Z"
   },
   {
    "duration": 24,
    "start_time": "2022-05-06T15:37:33.792Z"
   },
   {
    "duration": 24,
    "start_time": "2022-05-06T15:37:41.158Z"
   },
   {
    "duration": 19,
    "start_time": "2022-05-06T15:37:46.466Z"
   },
   {
    "duration": 50,
    "start_time": "2022-05-06T15:37:51.136Z"
   },
   {
    "duration": 2024,
    "start_time": "2022-05-06T15:39:09.970Z"
   },
   {
    "duration": 1990,
    "start_time": "2022-05-06T15:39:35.005Z"
   },
   {
    "duration": 593,
    "start_time": "2022-05-06T15:39:45.568Z"
   },
   {
    "duration": 490,
    "start_time": "2022-05-06T15:39:51.766Z"
   },
   {
    "duration": 407,
    "start_time": "2022-05-06T15:40:15.158Z"
   },
   {
    "duration": 492,
    "start_time": "2022-05-06T15:40:22.495Z"
   },
   {
    "duration": 13,
    "start_time": "2022-05-06T15:43:38.604Z"
   },
   {
    "duration": 26,
    "start_time": "2022-05-06T15:44:11.072Z"
   },
   {
    "duration": 38,
    "start_time": "2022-05-06T15:44:50.398Z"
   },
   {
    "duration": 39,
    "start_time": "2022-05-06T15:44:53.698Z"
   },
   {
    "duration": 31,
    "start_time": "2022-05-06T15:44:54.121Z"
   },
   {
    "duration": 25,
    "start_time": "2022-05-06T15:45:26.924Z"
   },
   {
    "duration": 32,
    "start_time": "2022-05-06T15:45:41.719Z"
   },
   {
    "duration": 195,
    "start_time": "2022-05-06T15:46:24.492Z"
   },
   {
    "duration": 11,
    "start_time": "2022-05-06T15:48:05.964Z"
   },
   {
    "duration": 10,
    "start_time": "2022-05-06T15:49:04.815Z"
   },
   {
    "duration": 6,
    "start_time": "2022-05-06T15:49:10.710Z"
   },
   {
    "duration": 29,
    "start_time": "2022-05-06T15:49:44.225Z"
   },
   {
    "duration": 30,
    "start_time": "2022-05-06T15:49:57.680Z"
   },
   {
    "duration": 911,
    "start_time": "2022-05-06T15:50:31.934Z"
   },
   {
    "duration": 658,
    "start_time": "2022-05-06T15:51:11.643Z"
   },
   {
    "duration": 62,
    "start_time": "2022-05-06T15:52:03.808Z"
   },
   {
    "duration": 865,
    "start_time": "2022-05-06T15:55:03.457Z"
   },
   {
    "duration": 1177,
    "start_time": "2022-05-06T15:58:48.162Z"
   },
   {
    "duration": 215,
    "start_time": "2022-05-06T15:58:49.342Z"
   },
   {
    "duration": 23,
    "start_time": "2022-05-06T15:58:49.559Z"
   },
   {
    "duration": 131,
    "start_time": "2022-05-06T15:58:49.585Z"
   },
   {
    "duration": 10,
    "start_time": "2022-05-06T15:58:49.723Z"
   },
   {
    "duration": 18,
    "start_time": "2022-05-06T15:58:49.738Z"
   },
   {
    "duration": 6,
    "start_time": "2022-05-06T15:58:49.758Z"
   },
   {
    "duration": 9,
    "start_time": "2022-05-06T15:58:49.766Z"
   },
   {
    "duration": 12,
    "start_time": "2022-05-06T15:58:49.777Z"
   },
   {
    "duration": 53,
    "start_time": "2022-05-06T15:58:49.794Z"
   },
   {
    "duration": 54,
    "start_time": "2022-05-06T15:58:49.850Z"
   },
   {
    "duration": 78,
    "start_time": "2022-05-06T15:58:49.906Z"
   },
   {
    "duration": 60,
    "start_time": "2022-05-06T15:58:49.987Z"
   },
   {
    "duration": 64,
    "start_time": "2022-05-06T15:58:50.050Z"
   },
   {
    "duration": 59,
    "start_time": "2022-05-06T15:58:50.120Z"
   },
   {
    "duration": 29,
    "start_time": "2022-05-06T15:58:50.181Z"
   },
   {
    "duration": 35,
    "start_time": "2022-05-06T15:58:50.212Z"
   },
   {
    "duration": 204,
    "start_time": "2022-05-06T15:58:50.249Z"
   },
   {
    "duration": 3,
    "start_time": "2022-05-06T15:58:50.455Z"
   },
   {
    "duration": 38,
    "start_time": "2022-05-06T15:58:50.461Z"
   },
   {
    "duration": 49,
    "start_time": "2022-05-06T15:58:50.502Z"
   },
   {
    "duration": 49,
    "start_time": "2022-05-06T15:58:50.554Z"
   },
   {
    "duration": 577,
    "start_time": "2022-05-06T15:58:50.606Z"
   },
   {
    "duration": 664,
    "start_time": "2022-05-06T15:58:51.186Z"
   },
   {
    "duration": 371,
    "start_time": "2022-05-06T15:58:51.853Z"
   },
   {
    "duration": 19,
    "start_time": "2022-05-06T15:58:52.227Z"
   },
   {
    "duration": 495,
    "start_time": "2022-05-06T15:58:52.249Z"
   },
   {
    "duration": 12,
    "start_time": "2022-05-06T15:58:52.752Z"
   },
   {
    "duration": 15,
    "start_time": "2022-05-06T15:58:52.766Z"
   },
   {
    "duration": 13,
    "start_time": "2022-05-06T15:58:52.784Z"
   },
   {
    "duration": 20,
    "start_time": "2022-05-06T15:58:52.831Z"
   },
   {
    "duration": 595,
    "start_time": "2022-05-06T15:58:52.854Z"
   },
   {
    "duration": 12,
    "start_time": "2022-05-06T15:58:53.451Z"
   },
   {
    "duration": 338,
    "start_time": "2022-05-06T15:58:53.465Z"
   },
   {
    "duration": 46,
    "start_time": "2022-05-06T15:58:53.806Z"
   },
   {
    "duration": 5,
    "start_time": "2022-05-06T15:58:53.855Z"
   },
   {
    "duration": 142,
    "start_time": "2022-05-06T15:58:53.863Z"
   },
   {
    "duration": 41,
    "start_time": "2022-05-06T15:58:54.007Z"
   },
   {
    "duration": 108,
    "start_time": "2022-05-06T15:58:54.050Z"
   },
   {
    "duration": 397,
    "start_time": "2022-05-06T15:58:54.160Z"
   },
   {
    "duration": 22,
    "start_time": "2022-05-06T15:58:54.560Z"
   },
   {
    "duration": 89,
    "start_time": "2022-05-06T15:58:54.584Z"
   },
   {
    "duration": 894,
    "start_time": "2022-05-06T15:58:54.675Z"
   },
   {
    "duration": 12,
    "start_time": "2022-05-06T15:58:55.571Z"
   },
   {
    "duration": 58,
    "start_time": "2022-05-06T15:58:55.585Z"
   },
   {
    "duration": 10,
    "start_time": "2022-05-06T15:58:55.646Z"
   },
   {
    "duration": 25,
    "start_time": "2022-05-06T15:58:55.658Z"
   },
   {
    "duration": 890,
    "start_time": "2022-05-06T15:58:55.685Z"
   },
   {
    "duration": 64,
    "start_time": "2022-05-06T15:58:56.578Z"
   },
   {
    "duration": 23,
    "start_time": "2022-05-06T15:58:56.644Z"
   },
   {
    "duration": 21,
    "start_time": "2022-05-06T15:58:56.669Z"
   },
   {
    "duration": 16,
    "start_time": "2022-05-06T15:58:56.692Z"
   },
   {
    "duration": 41,
    "start_time": "2022-05-06T15:58:56.710Z"
   },
   {
    "duration": 1505,
    "start_time": "2022-05-06T15:58:56.753Z"
   },
   {
    "duration": 10,
    "start_time": "2022-05-06T15:58:58.260Z"
   },
   {
    "duration": 442,
    "start_time": "2022-05-06T15:58:58.273Z"
   },
   {
    "duration": 454,
    "start_time": "2022-05-06T15:58:58.717Z"
   },
   {
    "duration": 312,
    "start_time": "2022-05-06T15:58:59.175Z"
   },
   {
    "duration": 9,
    "start_time": "2022-05-06T15:58:59.489Z"
   },
   {
    "duration": 291,
    "start_time": "2022-05-06T15:58:59.500Z"
   },
   {
    "duration": 8,
    "start_time": "2022-05-06T15:58:59.793Z"
   },
   {
    "duration": 983,
    "start_time": "2022-05-06T15:58:59.804Z"
   },
   {
    "duration": 134,
    "start_time": "2022-05-06T15:59:00.790Z"
   },
   {
    "duration": 0,
    "start_time": "2022-05-06T15:59:00.926Z"
   },
   {
    "duration": 14,
    "start_time": "2022-05-06T16:02:11.556Z"
   },
   {
    "duration": 7,
    "start_time": "2022-05-06T16:02:36.356Z"
   },
   {
    "duration": 11,
    "start_time": "2022-05-06T16:02:40.182Z"
   },
   {
    "duration": 6,
    "start_time": "2022-05-06T16:03:02.513Z"
   },
   {
    "duration": 18,
    "start_time": "2022-05-06T16:03:26.738Z"
   },
   {
    "duration": 426,
    "start_time": "2022-05-06T16:03:27.641Z"
   },
   {
    "duration": 184,
    "start_time": "2022-05-06T16:04:13.246Z"
   },
   {
    "duration": 264,
    "start_time": "2022-05-06T16:04:34.574Z"
   },
   {
    "duration": 404,
    "start_time": "2022-05-06T16:04:55.406Z"
   },
   {
    "duration": 885,
    "start_time": "2022-05-06T16:05:28.850Z"
   },
   {
    "duration": 228,
    "start_time": "2022-05-06T16:05:29.738Z"
   },
   {
    "duration": 23,
    "start_time": "2022-05-06T16:05:29.968Z"
   },
   {
    "duration": 129,
    "start_time": "2022-05-06T16:05:29.995Z"
   },
   {
    "duration": 10,
    "start_time": "2022-05-06T16:05:30.129Z"
   },
   {
    "duration": 19,
    "start_time": "2022-05-06T16:05:30.141Z"
   },
   {
    "duration": 26,
    "start_time": "2022-05-06T16:05:30.163Z"
   },
   {
    "duration": 18,
    "start_time": "2022-05-06T16:05:30.192Z"
   },
   {
    "duration": 35,
    "start_time": "2022-05-06T16:05:30.213Z"
   },
   {
    "duration": 14,
    "start_time": "2022-05-06T16:05:30.253Z"
   },
   {
    "duration": 60,
    "start_time": "2022-05-06T16:05:30.269Z"
   },
   {
    "duration": 66,
    "start_time": "2022-05-06T16:05:30.337Z"
   },
   {
    "duration": 53,
    "start_time": "2022-05-06T16:05:30.405Z"
   },
   {
    "duration": 61,
    "start_time": "2022-05-06T16:05:30.460Z"
   },
   {
    "duration": 42,
    "start_time": "2022-05-06T16:05:30.524Z"
   },
   {
    "duration": 24,
    "start_time": "2022-05-06T16:05:30.569Z"
   },
   {
    "duration": 46,
    "start_time": "2022-05-06T16:05:30.595Z"
   },
   {
    "duration": 181,
    "start_time": "2022-05-06T16:05:30.643Z"
   },
   {
    "duration": 4,
    "start_time": "2022-05-06T16:05:30.833Z"
   },
   {
    "duration": 14,
    "start_time": "2022-05-06T16:05:30.840Z"
   },
   {
    "duration": 13,
    "start_time": "2022-05-06T16:05:30.856Z"
   },
   {
    "duration": 31,
    "start_time": "2022-05-06T16:05:30.872Z"
   },
   {
    "duration": 596,
    "start_time": "2022-05-06T16:05:30.906Z"
   },
   {
    "duration": 573,
    "start_time": "2022-05-06T16:05:31.504Z"
   },
   {
    "duration": 391,
    "start_time": "2022-05-06T16:05:32.079Z"
   },
   {
    "duration": 10,
    "start_time": "2022-05-06T16:05:32.472Z"
   },
   {
    "duration": 403,
    "start_time": "2022-05-06T16:05:32.485Z"
   },
   {
    "duration": 30,
    "start_time": "2022-05-06T16:05:32.896Z"
   },
   {
    "duration": 16,
    "start_time": "2022-05-06T16:05:32.929Z"
   },
   {
    "duration": 12,
    "start_time": "2022-05-06T16:05:32.948Z"
   },
   {
    "duration": 17,
    "start_time": "2022-05-06T16:05:32.963Z"
   },
   {
    "duration": 591,
    "start_time": "2022-05-06T16:05:32.983Z"
   },
   {
    "duration": 13,
    "start_time": "2022-05-06T16:05:33.576Z"
   },
   {
    "duration": 344,
    "start_time": "2022-05-06T16:05:33.591Z"
   },
   {
    "duration": 18,
    "start_time": "2022-05-06T16:05:33.937Z"
   },
   {
    "duration": 7,
    "start_time": "2022-05-06T16:05:33.957Z"
   },
   {
    "duration": 152,
    "start_time": "2022-05-06T16:05:33.966Z"
   },
   {
    "duration": 130,
    "start_time": "2022-05-06T16:05:34.121Z"
   },
   {
    "duration": 109,
    "start_time": "2022-05-06T16:05:34.253Z"
   },
   {
    "duration": 393,
    "start_time": "2022-05-06T16:05:34.364Z"
   },
   {
    "duration": 23,
    "start_time": "2022-05-06T16:05:34.760Z"
   },
   {
    "duration": 88,
    "start_time": "2022-05-06T16:05:34.785Z"
   },
   {
    "duration": 879,
    "start_time": "2022-05-06T16:05:34.875Z"
   },
   {
    "duration": 12,
    "start_time": "2022-05-06T16:05:35.756Z"
   },
   {
    "duration": 68,
    "start_time": "2022-05-06T16:05:35.770Z"
   },
   {
    "duration": 12,
    "start_time": "2022-05-06T16:05:35.840Z"
   },
   {
    "duration": 33,
    "start_time": "2022-05-06T16:05:35.855Z"
   },
   {
    "duration": 908,
    "start_time": "2022-05-06T16:05:35.890Z"
   },
   {
    "duration": 48,
    "start_time": "2022-05-06T16:05:36.800Z"
   },
   {
    "duration": 12,
    "start_time": "2022-05-06T16:05:36.850Z"
   },
   {
    "duration": 22,
    "start_time": "2022-05-06T16:05:36.864Z"
   },
   {
    "duration": 17,
    "start_time": "2022-05-06T16:05:36.888Z"
   },
   {
    "duration": 33,
    "start_time": "2022-05-06T16:05:36.907Z"
   },
   {
    "duration": 1380,
    "start_time": "2022-05-06T16:05:36.942Z"
   },
   {
    "duration": 14,
    "start_time": "2022-05-06T16:05:38.325Z"
   },
   {
    "duration": 436,
    "start_time": "2022-05-06T16:05:38.342Z"
   },
   {
    "duration": 545,
    "start_time": "2022-05-06T16:05:38.780Z"
   },
   {
    "duration": 283,
    "start_time": "2022-05-06T16:05:39.329Z"
   },
   {
    "duration": 20,
    "start_time": "2022-05-06T16:05:39.614Z"
   },
   {
    "duration": 275,
    "start_time": "2022-05-06T16:05:39.637Z"
   },
   {
    "duration": 15,
    "start_time": "2022-05-06T16:05:39.914Z"
   },
   {
    "duration": 944,
    "start_time": "2022-05-06T16:05:39.931Z"
   },
   {
    "duration": 301,
    "start_time": "2022-05-06T16:05:40.877Z"
   },
   {
    "duration": 77,
    "start_time": "2022-05-06T16:05:41.180Z"
   },
   {
    "duration": 7,
    "start_time": "2022-05-06T16:06:02.450Z"
   },
   {
    "duration": 7,
    "start_time": "2022-05-06T16:06:21.062Z"
   },
   {
    "duration": 10,
    "start_time": "2022-05-06T16:06:42.426Z"
   },
   {
    "duration": 891,
    "start_time": "2022-05-06T16:06:49.541Z"
   },
   {
    "duration": 222,
    "start_time": "2022-05-06T16:06:50.436Z"
   },
   {
    "duration": 22,
    "start_time": "2022-05-06T16:06:50.660Z"
   },
   {
    "duration": 122,
    "start_time": "2022-05-06T16:06:50.684Z"
   },
   {
    "duration": 6,
    "start_time": "2022-05-06T16:06:50.809Z"
   },
   {
    "duration": 12,
    "start_time": "2022-05-06T16:06:50.825Z"
   },
   {
    "duration": 11,
    "start_time": "2022-05-06T16:06:50.840Z"
   },
   {
    "duration": 9,
    "start_time": "2022-05-06T16:06:50.853Z"
   },
   {
    "duration": 15,
    "start_time": "2022-05-06T16:06:50.864Z"
   },
   {
    "duration": 15,
    "start_time": "2022-05-06T16:06:50.881Z"
   },
   {
    "duration": 50,
    "start_time": "2022-05-06T16:06:50.931Z"
   },
   {
    "duration": 74,
    "start_time": "2022-05-06T16:06:50.983Z"
   },
   {
    "duration": 40,
    "start_time": "2022-05-06T16:06:51.060Z"
   },
   {
    "duration": 61,
    "start_time": "2022-05-06T16:06:51.105Z"
   },
   {
    "duration": 10,
    "start_time": "2022-05-06T16:06:51.169Z"
   },
   {
    "duration": 12,
    "start_time": "2022-05-06T16:06:51.181Z"
   },
   {
    "duration": 35,
    "start_time": "2022-05-06T16:06:51.196Z"
   },
   {
    "duration": 188,
    "start_time": "2022-05-06T16:06:51.233Z"
   },
   {
    "duration": 4,
    "start_time": "2022-05-06T16:06:51.427Z"
   },
   {
    "duration": 17,
    "start_time": "2022-05-06T16:06:51.433Z"
   },
   {
    "duration": 10,
    "start_time": "2022-05-06T16:06:51.452Z"
   },
   {
    "duration": 23,
    "start_time": "2022-05-06T16:06:51.464Z"
   },
   {
    "duration": 574,
    "start_time": "2022-05-06T16:06:51.489Z"
   },
   {
    "duration": 554,
    "start_time": "2022-05-06T16:06:52.065Z"
   },
   {
    "duration": 377,
    "start_time": "2022-05-06T16:06:52.633Z"
   },
   {
    "duration": 17,
    "start_time": "2022-05-06T16:06:53.012Z"
   },
   {
    "duration": 382,
    "start_time": "2022-05-06T16:06:53.031Z"
   },
   {
    "duration": 17,
    "start_time": "2022-05-06T16:06:53.416Z"
   },
   {
    "duration": 32,
    "start_time": "2022-05-06T16:06:53.436Z"
   },
   {
    "duration": 16,
    "start_time": "2022-05-06T16:06:53.471Z"
   },
   {
    "duration": 12,
    "start_time": "2022-05-06T16:06:53.489Z"
   },
   {
    "duration": 573,
    "start_time": "2022-05-06T16:06:53.504Z"
   },
   {
    "duration": 11,
    "start_time": "2022-05-06T16:06:54.079Z"
   },
   {
    "duration": 328,
    "start_time": "2022-05-06T16:06:54.092Z"
   },
   {
    "duration": 19,
    "start_time": "2022-05-06T16:06:54.425Z"
   },
   {
    "duration": 9,
    "start_time": "2022-05-06T16:06:54.446Z"
   },
   {
    "duration": 148,
    "start_time": "2022-05-06T16:06:54.457Z"
   },
   {
    "duration": 35,
    "start_time": "2022-05-06T16:06:54.607Z"
   },
   {
    "duration": 103,
    "start_time": "2022-05-06T16:06:54.644Z"
   },
   {
    "duration": 395,
    "start_time": "2022-05-06T16:06:54.750Z"
   },
   {
    "duration": 21,
    "start_time": "2022-05-06T16:06:55.153Z"
   },
   {
    "duration": 89,
    "start_time": "2022-05-06T16:06:55.177Z"
   },
   {
    "duration": 881,
    "start_time": "2022-05-06T16:06:55.268Z"
   },
   {
    "duration": 11,
    "start_time": "2022-05-06T16:06:56.152Z"
   },
   {
    "duration": 37,
    "start_time": "2022-05-06T16:06:56.165Z"
   },
   {
    "duration": 18,
    "start_time": "2022-05-06T16:06:56.225Z"
   },
   {
    "duration": 20,
    "start_time": "2022-05-06T16:06:56.245Z"
   },
   {
    "duration": 760,
    "start_time": "2022-05-06T16:06:56.267Z"
   },
   {
    "duration": 32,
    "start_time": "2022-05-06T16:06:57.030Z"
   },
   {
    "duration": 14,
    "start_time": "2022-05-06T16:06:57.064Z"
   },
   {
    "duration": 48,
    "start_time": "2022-05-06T16:06:57.080Z"
   },
   {
    "duration": 7,
    "start_time": "2022-05-06T16:06:57.131Z"
   },
   {
    "duration": 132,
    "start_time": "2022-05-06T16:06:57.140Z"
   },
   {
    "duration": 0,
    "start_time": "2022-05-06T16:06:57.275Z"
   },
   {
    "duration": 0,
    "start_time": "2022-05-06T16:06:57.277Z"
   },
   {
    "duration": 0,
    "start_time": "2022-05-06T16:06:57.280Z"
   },
   {
    "duration": 0,
    "start_time": "2022-05-06T16:06:57.282Z"
   },
   {
    "duration": 0,
    "start_time": "2022-05-06T16:06:57.284Z"
   },
   {
    "duration": 0,
    "start_time": "2022-05-06T16:06:57.286Z"
   },
   {
    "duration": 0,
    "start_time": "2022-05-06T16:06:57.289Z"
   },
   {
    "duration": 0,
    "start_time": "2022-05-06T16:06:57.291Z"
   },
   {
    "duration": 0,
    "start_time": "2022-05-06T16:06:57.325Z"
   },
   {
    "duration": 0,
    "start_time": "2022-05-06T16:06:57.334Z"
   },
   {
    "duration": 0,
    "start_time": "2022-05-06T16:06:57.336Z"
   },
   {
    "duration": 866,
    "start_time": "2022-05-06T16:10:22.729Z"
   },
   {
    "duration": 207,
    "start_time": "2022-05-06T16:10:23.598Z"
   },
   {
    "duration": 25,
    "start_time": "2022-05-06T16:10:23.808Z"
   },
   {
    "duration": 115,
    "start_time": "2022-05-06T16:10:23.836Z"
   },
   {
    "duration": 7,
    "start_time": "2022-05-06T16:10:23.953Z"
   },
   {
    "duration": 10,
    "start_time": "2022-05-06T16:10:23.962Z"
   },
   {
    "duration": 7,
    "start_time": "2022-05-06T16:10:23.974Z"
   },
   {
    "duration": 12,
    "start_time": "2022-05-06T16:10:23.983Z"
   },
   {
    "duration": 32,
    "start_time": "2022-05-06T16:10:23.997Z"
   },
   {
    "duration": 15,
    "start_time": "2022-05-06T16:10:24.033Z"
   },
   {
    "duration": 76,
    "start_time": "2022-05-06T16:10:24.050Z"
   },
   {
    "duration": 67,
    "start_time": "2022-05-06T16:10:24.128Z"
   },
   {
    "duration": 51,
    "start_time": "2022-05-06T16:10:24.198Z"
   },
   {
    "duration": 37,
    "start_time": "2022-05-06T16:10:24.252Z"
   },
   {
    "duration": 40,
    "start_time": "2022-05-06T16:10:24.292Z"
   },
   {
    "duration": 14,
    "start_time": "2022-05-06T16:10:24.335Z"
   },
   {
    "duration": 14,
    "start_time": "2022-05-06T16:10:24.352Z"
   },
   {
    "duration": 213,
    "start_time": "2022-05-06T16:10:24.369Z"
   },
   {
    "duration": 4,
    "start_time": "2022-05-06T16:10:24.584Z"
   },
   {
    "duration": 14,
    "start_time": "2022-05-06T16:10:24.591Z"
   },
   {
    "duration": 21,
    "start_time": "2022-05-06T16:10:24.607Z"
   },
   {
    "duration": 25,
    "start_time": "2022-05-06T16:10:24.630Z"
   },
   {
    "duration": 570,
    "start_time": "2022-05-06T16:10:24.657Z"
   },
   {
    "duration": 551,
    "start_time": "2022-05-06T16:10:25.230Z"
   },
   {
    "duration": 361,
    "start_time": "2022-05-06T16:10:25.783Z"
   },
   {
    "duration": 8,
    "start_time": "2022-05-06T16:10:26.146Z"
   },
   {
    "duration": 388,
    "start_time": "2022-05-06T16:10:26.156Z"
   },
   {
    "duration": 11,
    "start_time": "2022-05-06T16:10:26.551Z"
   },
   {
    "duration": 15,
    "start_time": "2022-05-06T16:10:26.564Z"
   },
   {
    "duration": 7,
    "start_time": "2022-05-06T16:10:26.581Z"
   },
   {
    "duration": 44,
    "start_time": "2022-05-06T16:10:26.590Z"
   },
   {
    "duration": 765,
    "start_time": "2022-05-06T16:10:26.636Z"
   },
   {
    "duration": 25,
    "start_time": "2022-05-06T16:10:27.403Z"
   },
   {
    "duration": 314,
    "start_time": "2022-05-06T16:10:27.431Z"
   },
   {
    "duration": 18,
    "start_time": "2022-05-06T16:10:27.747Z"
   },
   {
    "duration": 5,
    "start_time": "2022-05-06T16:10:27.767Z"
   },
   {
    "duration": 147,
    "start_time": "2022-05-06T16:10:27.774Z"
   },
   {
    "duration": 26,
    "start_time": "2022-05-06T16:10:27.924Z"
   },
   {
    "duration": 111,
    "start_time": "2022-05-06T16:10:27.953Z"
   },
   {
    "duration": 382,
    "start_time": "2022-05-06T16:10:28.067Z"
   },
   {
    "duration": 26,
    "start_time": "2022-05-06T16:10:28.452Z"
   },
   {
    "duration": 97,
    "start_time": "2022-05-06T16:10:28.480Z"
   },
   {
    "duration": 882,
    "start_time": "2022-05-06T16:10:28.580Z"
   },
   {
    "duration": 12,
    "start_time": "2022-05-06T16:10:29.464Z"
   },
   {
    "duration": 57,
    "start_time": "2022-05-06T16:10:29.478Z"
   },
   {
    "duration": 9,
    "start_time": "2022-05-06T16:10:29.537Z"
   },
   {
    "duration": 9,
    "start_time": "2022-05-06T16:10:29.548Z"
   },
   {
    "duration": 862,
    "start_time": "2022-05-06T16:10:29.558Z"
   },
   {
    "duration": 28,
    "start_time": "2022-05-06T16:10:30.424Z"
   },
   {
    "duration": 23,
    "start_time": "2022-05-06T16:10:30.454Z"
   },
   {
    "duration": 30,
    "start_time": "2022-05-06T16:10:30.479Z"
   },
   {
    "duration": 15,
    "start_time": "2022-05-06T16:10:30.511Z"
   },
   {
    "duration": 142,
    "start_time": "2022-05-06T16:10:30.528Z"
   },
   {
    "duration": 0,
    "start_time": "2022-05-06T16:10:30.672Z"
   },
   {
    "duration": 0,
    "start_time": "2022-05-06T16:10:30.674Z"
   },
   {
    "duration": 0,
    "start_time": "2022-05-06T16:10:30.676Z"
   },
   {
    "duration": 0,
    "start_time": "2022-05-06T16:10:30.677Z"
   },
   {
    "duration": 0,
    "start_time": "2022-05-06T16:10:30.678Z"
   },
   {
    "duration": 0,
    "start_time": "2022-05-06T16:10:30.679Z"
   },
   {
    "duration": 0,
    "start_time": "2022-05-06T16:10:30.681Z"
   },
   {
    "duration": 0,
    "start_time": "2022-05-06T16:10:30.682Z"
   },
   {
    "duration": 0,
    "start_time": "2022-05-06T16:10:30.684Z"
   },
   {
    "duration": 0,
    "start_time": "2022-05-06T16:10:30.685Z"
   },
   {
    "duration": 0,
    "start_time": "2022-05-06T16:10:30.686Z"
   },
   {
    "duration": 923,
    "start_time": "2022-05-07T06:46:59.520Z"
   },
   {
    "duration": 293,
    "start_time": "2022-05-07T06:47:00.445Z"
   },
   {
    "duration": 14,
    "start_time": "2022-05-07T06:47:00.740Z"
   },
   {
    "duration": 42,
    "start_time": "2022-05-07T06:47:00.756Z"
   },
   {
    "duration": 6,
    "start_time": "2022-05-07T06:47:00.800Z"
   },
   {
    "duration": 20,
    "start_time": "2022-05-07T06:47:00.807Z"
   },
   {
    "duration": 31,
    "start_time": "2022-05-07T06:47:00.829Z"
   },
   {
    "duration": 3130,
    "start_time": "2022-05-07T06:47:00.861Z"
   },
   {
    "duration": 0,
    "start_time": "2022-05-07T06:47:03.995Z"
   },
   {
    "duration": 0,
    "start_time": "2022-05-07T06:47:03.996Z"
   },
   {
    "duration": 0,
    "start_time": "2022-05-07T06:47:03.998Z"
   },
   {
    "duration": 0,
    "start_time": "2022-05-07T06:47:03.999Z"
   },
   {
    "duration": 0,
    "start_time": "2022-05-07T06:47:04.000Z"
   },
   {
    "duration": 0,
    "start_time": "2022-05-07T06:47:04.001Z"
   },
   {
    "duration": 0,
    "start_time": "2022-05-07T06:47:04.002Z"
   },
   {
    "duration": 0,
    "start_time": "2022-05-07T06:47:04.003Z"
   },
   {
    "duration": 0,
    "start_time": "2022-05-07T06:47:04.004Z"
   },
   {
    "duration": 1,
    "start_time": "2022-05-07T06:47:04.005Z"
   },
   {
    "duration": 0,
    "start_time": "2022-05-07T06:47:04.007Z"
   },
   {
    "duration": 0,
    "start_time": "2022-05-07T06:47:04.007Z"
   },
   {
    "duration": 0,
    "start_time": "2022-05-07T06:47:04.009Z"
   },
   {
    "duration": 0,
    "start_time": "2022-05-07T06:47:04.010Z"
   },
   {
    "duration": 0,
    "start_time": "2022-05-07T06:47:04.011Z"
   },
   {
    "duration": 0,
    "start_time": "2022-05-07T06:47:04.012Z"
   },
   {
    "duration": 0,
    "start_time": "2022-05-07T06:47:04.013Z"
   },
   {
    "duration": 0,
    "start_time": "2022-05-07T06:47:04.014Z"
   },
   {
    "duration": 0,
    "start_time": "2022-05-07T06:47:04.015Z"
   },
   {
    "duration": 0,
    "start_time": "2022-05-07T06:47:04.016Z"
   },
   {
    "duration": 0,
    "start_time": "2022-05-07T06:47:04.017Z"
   },
   {
    "duration": 0,
    "start_time": "2022-05-07T06:47:04.018Z"
   },
   {
    "duration": 0,
    "start_time": "2022-05-07T06:47:04.019Z"
   },
   {
    "duration": 0,
    "start_time": "2022-05-07T06:47:04.020Z"
   },
   {
    "duration": 0,
    "start_time": "2022-05-07T06:47:04.021Z"
   },
   {
    "duration": 0,
    "start_time": "2022-05-07T06:47:04.022Z"
   },
   {
    "duration": 0,
    "start_time": "2022-05-07T06:47:04.022Z"
   },
   {
    "duration": 0,
    "start_time": "2022-05-07T06:47:04.023Z"
   },
   {
    "duration": 0,
    "start_time": "2022-05-07T06:47:04.024Z"
   },
   {
    "duration": 0,
    "start_time": "2022-05-07T06:47:04.025Z"
   },
   {
    "duration": 0,
    "start_time": "2022-05-07T06:47:04.026Z"
   },
   {
    "duration": 0,
    "start_time": "2022-05-07T06:47:04.027Z"
   },
   {
    "duration": 1,
    "start_time": "2022-05-07T06:47:04.028Z"
   },
   {
    "duration": 0,
    "start_time": "2022-05-07T06:47:04.029Z"
   },
   {
    "duration": 0,
    "start_time": "2022-05-07T06:47:04.030Z"
   },
   {
    "duration": 0,
    "start_time": "2022-05-07T06:47:04.031Z"
   },
   {
    "duration": 0,
    "start_time": "2022-05-07T06:47:04.032Z"
   },
   {
    "duration": 0,
    "start_time": "2022-05-07T06:47:04.033Z"
   },
   {
    "duration": 0,
    "start_time": "2022-05-07T06:47:04.034Z"
   },
   {
    "duration": 0,
    "start_time": "2022-05-07T06:47:04.035Z"
   },
   {
    "duration": 0,
    "start_time": "2022-05-07T06:47:04.036Z"
   },
   {
    "duration": 0,
    "start_time": "2022-05-07T06:47:04.037Z"
   },
   {
    "duration": 0,
    "start_time": "2022-05-07T06:47:04.038Z"
   },
   {
    "duration": 0,
    "start_time": "2022-05-07T06:47:04.039Z"
   },
   {
    "duration": 0,
    "start_time": "2022-05-07T06:47:04.040Z"
   },
   {
    "duration": 0,
    "start_time": "2022-05-07T06:47:04.041Z"
   },
   {
    "duration": 0,
    "start_time": "2022-05-07T06:47:04.042Z"
   },
   {
    "duration": 0,
    "start_time": "2022-05-07T06:47:04.042Z"
   },
   {
    "duration": 0,
    "start_time": "2022-05-07T06:47:04.043Z"
   },
   {
    "duration": 0,
    "start_time": "2022-05-07T06:47:04.044Z"
   },
   {
    "duration": 0,
    "start_time": "2022-05-07T06:47:04.045Z"
   },
   {
    "duration": 0,
    "start_time": "2022-05-07T06:47:04.046Z"
   },
   {
    "duration": 0,
    "start_time": "2022-05-07T06:47:04.047Z"
   },
   {
    "duration": 1,
    "start_time": "2022-05-07T06:47:04.048Z"
   },
   {
    "duration": 0,
    "start_time": "2022-05-07T06:47:04.049Z"
   },
   {
    "duration": 0,
    "start_time": "2022-05-07T06:47:04.051Z"
   },
   {
    "duration": 675,
    "start_time": "2022-05-07T06:48:59.465Z"
   },
   {
    "duration": 375,
    "start_time": "2022-05-07T06:49:00.142Z"
   },
   {
    "duration": 17,
    "start_time": "2022-05-07T06:49:00.519Z"
   },
   {
    "duration": 67,
    "start_time": "2022-05-07T06:49:00.538Z"
   },
   {
    "duration": 15,
    "start_time": "2022-05-07T06:49:00.609Z"
   },
   {
    "duration": 16,
    "start_time": "2022-05-07T06:49:00.625Z"
   },
   {
    "duration": 38,
    "start_time": "2022-05-07T06:49:00.643Z"
   },
   {
    "duration": 33,
    "start_time": "2022-05-07T06:49:00.683Z"
   },
   {
    "duration": 17,
    "start_time": "2022-05-07T06:49:00.718Z"
   },
   {
    "duration": 24,
    "start_time": "2022-05-07T06:49:00.737Z"
   },
   {
    "duration": 53,
    "start_time": "2022-05-07T06:49:00.763Z"
   },
   {
    "duration": 45,
    "start_time": "2022-05-07T06:49:00.817Z"
   },
   {
    "duration": 28,
    "start_time": "2022-05-07T06:49:00.864Z"
   },
   {
    "duration": 38,
    "start_time": "2022-05-07T06:49:00.896Z"
   },
   {
    "duration": 36,
    "start_time": "2022-05-07T06:49:00.936Z"
   },
   {
    "duration": 32,
    "start_time": "2022-05-07T06:49:00.974Z"
   },
   {
    "duration": 18,
    "start_time": "2022-05-07T06:49:01.008Z"
   },
   {
    "duration": 115,
    "start_time": "2022-05-07T06:49:01.027Z"
   },
   {
    "duration": 2,
    "start_time": "2022-05-07T06:49:01.144Z"
   },
   {
    "duration": 18,
    "start_time": "2022-05-07T06:49:01.147Z"
   },
   {
    "duration": 27,
    "start_time": "2022-05-07T06:49:01.167Z"
   },
   {
    "duration": 32,
    "start_time": "2022-05-07T06:49:01.196Z"
   },
   {
    "duration": 332,
    "start_time": "2022-05-07T06:49:01.230Z"
   },
   {
    "duration": 299,
    "start_time": "2022-05-07T06:49:01.563Z"
   },
   {
    "duration": 244,
    "start_time": "2022-05-07T06:49:01.864Z"
   },
   {
    "duration": 6,
    "start_time": "2022-05-07T06:49:02.109Z"
   },
   {
    "duration": 203,
    "start_time": "2022-05-07T06:49:02.122Z"
   },
   {
    "duration": 8,
    "start_time": "2022-05-07T06:49:02.326Z"
   },
   {
    "duration": 17,
    "start_time": "2022-05-07T06:49:02.336Z"
   },
   {
    "duration": 27,
    "start_time": "2022-05-07T06:49:02.355Z"
   },
   {
    "duration": 23,
    "start_time": "2022-05-07T06:49:02.383Z"
   },
   {
    "duration": 314,
    "start_time": "2022-05-07T06:49:02.408Z"
   },
   {
    "duration": 9,
    "start_time": "2022-05-07T06:49:02.724Z"
   },
   {
    "duration": 187,
    "start_time": "2022-05-07T06:49:02.735Z"
   },
   {
    "duration": 13,
    "start_time": "2022-05-07T06:49:02.924Z"
   },
   {
    "duration": 14,
    "start_time": "2022-05-07T06:49:02.938Z"
   },
   {
    "duration": 89,
    "start_time": "2022-05-07T06:49:02.954Z"
   },
   {
    "duration": 17,
    "start_time": "2022-05-07T06:49:03.045Z"
   },
   {
    "duration": 71,
    "start_time": "2022-05-07T06:49:03.064Z"
   },
   {
    "duration": 238,
    "start_time": "2022-05-07T06:49:03.137Z"
   },
   {
    "duration": 15,
    "start_time": "2022-05-07T06:49:03.379Z"
   },
   {
    "duration": 60,
    "start_time": "2022-05-07T06:49:03.396Z"
   },
   {
    "duration": 768,
    "start_time": "2022-05-07T06:49:03.457Z"
   },
   {
    "duration": 8,
    "start_time": "2022-05-07T06:49:04.227Z"
   },
   {
    "duration": 27,
    "start_time": "2022-05-07T06:49:04.237Z"
   },
   {
    "duration": 61,
    "start_time": "2022-05-07T06:49:04.266Z"
   },
   {
    "duration": 6,
    "start_time": "2022-05-07T06:49:04.328Z"
   },
   {
    "duration": 895,
    "start_time": "2022-05-07T06:49:04.336Z"
   },
   {
    "duration": 19,
    "start_time": "2022-05-07T06:49:05.233Z"
   },
   {
    "duration": 9,
    "start_time": "2022-05-07T06:49:05.254Z"
   },
   {
    "duration": 64,
    "start_time": "2022-05-07T06:49:05.265Z"
   },
   {
    "duration": 5,
    "start_time": "2022-05-07T06:49:05.331Z"
   },
   {
    "duration": 186,
    "start_time": "2022-05-07T06:49:05.337Z"
   },
   {
    "duration": 0,
    "start_time": "2022-05-07T06:49:05.525Z"
   },
   {
    "duration": 0,
    "start_time": "2022-05-07T06:49:05.527Z"
   },
   {
    "duration": 0,
    "start_time": "2022-05-07T06:49:05.527Z"
   },
   {
    "duration": 0,
    "start_time": "2022-05-07T06:49:05.529Z"
   },
   {
    "duration": 1,
    "start_time": "2022-05-07T06:49:05.529Z"
   },
   {
    "duration": 0,
    "start_time": "2022-05-07T06:49:05.531Z"
   },
   {
    "duration": 0,
    "start_time": "2022-05-07T06:49:05.532Z"
   },
   {
    "duration": 0,
    "start_time": "2022-05-07T06:49:05.533Z"
   },
   {
    "duration": 0,
    "start_time": "2022-05-07T06:49:05.534Z"
   },
   {
    "duration": 0,
    "start_time": "2022-05-07T06:49:05.535Z"
   },
   {
    "duration": 0,
    "start_time": "2022-05-07T06:49:05.536Z"
   },
   {
    "duration": 717,
    "start_time": "2022-05-07T06:52:24.476Z"
   },
   {
    "duration": 258,
    "start_time": "2022-05-07T06:52:25.195Z"
   },
   {
    "duration": 15,
    "start_time": "2022-05-07T06:52:25.455Z"
   },
   {
    "duration": 74,
    "start_time": "2022-05-07T06:52:25.472Z"
   },
   {
    "duration": 4,
    "start_time": "2022-05-07T06:52:25.548Z"
   },
   {
    "duration": 6,
    "start_time": "2022-05-07T06:52:25.553Z"
   },
   {
    "duration": 6,
    "start_time": "2022-05-07T06:52:25.560Z"
   },
   {
    "duration": 4,
    "start_time": "2022-05-07T06:52:25.568Z"
   },
   {
    "duration": 8,
    "start_time": "2022-05-07T06:52:25.574Z"
   },
   {
    "duration": 9,
    "start_time": "2022-05-07T06:52:25.585Z"
   },
   {
    "duration": 53,
    "start_time": "2022-05-07T06:52:25.596Z"
   },
   {
    "duration": 39,
    "start_time": "2022-05-07T06:52:25.651Z"
   },
   {
    "duration": 50,
    "start_time": "2022-05-07T06:52:25.692Z"
   },
   {
    "duration": 23,
    "start_time": "2022-05-07T06:52:25.744Z"
   },
   {
    "duration": 6,
    "start_time": "2022-05-07T06:52:25.769Z"
   },
   {
    "duration": 9,
    "start_time": "2022-05-07T06:52:25.776Z"
   },
   {
    "duration": 7,
    "start_time": "2022-05-07T06:52:25.787Z"
   },
   {
    "duration": 108,
    "start_time": "2022-05-07T06:52:25.823Z"
   },
   {
    "duration": 3,
    "start_time": "2022-05-07T06:52:25.933Z"
   },
   {
    "duration": 7,
    "start_time": "2022-05-07T06:52:25.938Z"
   },
   {
    "duration": 4,
    "start_time": "2022-05-07T06:52:25.947Z"
   },
   {
    "duration": 17,
    "start_time": "2022-05-07T06:52:25.952Z"
   },
   {
    "duration": 323,
    "start_time": "2022-05-07T06:52:25.970Z"
   },
   {
    "duration": 307,
    "start_time": "2022-05-07T06:52:26.294Z"
   },
   {
    "duration": 243,
    "start_time": "2022-05-07T06:52:26.602Z"
   },
   {
    "duration": 5,
    "start_time": "2022-05-07T06:52:26.847Z"
   },
   {
    "duration": 200,
    "start_time": "2022-05-07T06:52:26.854Z"
   },
   {
    "duration": 7,
    "start_time": "2022-05-07T06:52:27.058Z"
   },
   {
    "duration": 8,
    "start_time": "2022-05-07T06:52:27.066Z"
   },
   {
    "duration": 5,
    "start_time": "2022-05-07T06:52:27.075Z"
   },
   {
    "duration": 8,
    "start_time": "2022-05-07T06:52:27.082Z"
   },
   {
    "duration": 358,
    "start_time": "2022-05-07T06:52:27.092Z"
   },
   {
    "duration": 9,
    "start_time": "2022-05-07T06:52:27.451Z"
   },
   {
    "duration": 194,
    "start_time": "2022-05-07T06:52:27.462Z"
   },
   {
    "duration": 16,
    "start_time": "2022-05-07T06:52:27.658Z"
   },
   {
    "duration": 4,
    "start_time": "2022-05-07T06:52:27.676Z"
   },
   {
    "duration": 101,
    "start_time": "2022-05-07T06:52:27.682Z"
   },
   {
    "duration": 17,
    "start_time": "2022-05-07T06:52:27.785Z"
   },
   {
    "duration": 71,
    "start_time": "2022-05-07T06:52:27.804Z"
   },
   {
    "duration": 235,
    "start_time": "2022-05-07T06:52:27.876Z"
   },
   {
    "duration": 16,
    "start_time": "2022-05-07T06:52:28.113Z"
   },
   {
    "duration": 61,
    "start_time": "2022-05-07T06:52:28.131Z"
   },
   {
    "duration": 530,
    "start_time": "2022-05-07T06:52:28.194Z"
   },
   {
    "duration": 9,
    "start_time": "2022-05-07T06:52:28.726Z"
   },
   {
    "duration": 26,
    "start_time": "2022-05-07T06:52:28.737Z"
   },
   {
    "duration": 7,
    "start_time": "2022-05-07T06:52:28.764Z"
   },
   {
    "duration": 6,
    "start_time": "2022-05-07T06:52:28.772Z"
   },
   {
    "duration": 453,
    "start_time": "2022-05-07T06:52:28.779Z"
   },
   {
    "duration": 17,
    "start_time": "2022-05-07T06:52:29.234Z"
   },
   {
    "duration": 11,
    "start_time": "2022-05-07T06:52:29.252Z"
   },
   {
    "duration": 8,
    "start_time": "2022-05-07T06:52:29.264Z"
   },
   {
    "duration": 4,
    "start_time": "2022-05-07T06:52:29.274Z"
   },
   {
    "duration": 96,
    "start_time": "2022-05-07T06:52:29.280Z"
   },
   {
    "duration": 0,
    "start_time": "2022-05-07T06:52:29.378Z"
   },
   {
    "duration": 0,
    "start_time": "2022-05-07T06:52:29.379Z"
   },
   {
    "duration": 0,
    "start_time": "2022-05-07T06:52:29.380Z"
   },
   {
    "duration": 0,
    "start_time": "2022-05-07T06:52:29.381Z"
   },
   {
    "duration": 0,
    "start_time": "2022-05-07T06:52:29.383Z"
   },
   {
    "duration": 0,
    "start_time": "2022-05-07T06:52:29.384Z"
   },
   {
    "duration": 0,
    "start_time": "2022-05-07T06:52:29.385Z"
   },
   {
    "duration": 0,
    "start_time": "2022-05-07T06:52:29.386Z"
   },
   {
    "duration": 0,
    "start_time": "2022-05-07T06:52:29.387Z"
   },
   {
    "duration": 0,
    "start_time": "2022-05-07T06:52:29.389Z"
   },
   {
    "duration": 0,
    "start_time": "2022-05-07T06:52:29.390Z"
   },
   {
    "duration": 734,
    "start_time": "2022-05-07T06:54:04.210Z"
   },
   {
    "duration": 297,
    "start_time": "2022-05-07T06:54:04.946Z"
   },
   {
    "duration": 17,
    "start_time": "2022-05-07T06:54:05.245Z"
   },
   {
    "duration": 95,
    "start_time": "2022-05-07T06:54:05.264Z"
   },
   {
    "duration": 5,
    "start_time": "2022-05-07T06:54:05.363Z"
   },
   {
    "duration": 12,
    "start_time": "2022-05-07T06:54:05.370Z"
   },
   {
    "duration": 5,
    "start_time": "2022-05-07T06:54:05.383Z"
   },
   {
    "duration": 7,
    "start_time": "2022-05-07T06:54:05.390Z"
   },
   {
    "duration": 30,
    "start_time": "2022-05-07T06:54:05.399Z"
   },
   {
    "duration": 17,
    "start_time": "2022-05-07T06:54:05.431Z"
   },
   {
    "duration": 73,
    "start_time": "2022-05-07T06:54:05.450Z"
   },
   {
    "duration": 60,
    "start_time": "2022-05-07T06:54:05.525Z"
   },
   {
    "duration": 57,
    "start_time": "2022-05-07T06:54:05.587Z"
   },
   {
    "duration": 38,
    "start_time": "2022-05-07T06:54:05.649Z"
   },
   {
    "duration": 9,
    "start_time": "2022-05-07T06:54:05.689Z"
   },
   {
    "duration": 10,
    "start_time": "2022-05-07T06:54:05.723Z"
   },
   {
    "duration": 9,
    "start_time": "2022-05-07T06:54:05.734Z"
   },
   {
    "duration": 199,
    "start_time": "2022-05-07T06:54:05.746Z"
   },
   {
    "duration": 3,
    "start_time": "2022-05-07T06:54:05.947Z"
   },
   {
    "duration": 9,
    "start_time": "2022-05-07T06:54:05.953Z"
   },
   {
    "duration": 6,
    "start_time": "2022-05-07T06:54:05.964Z"
   },
   {
    "duration": 50,
    "start_time": "2022-05-07T06:54:05.972Z"
   },
   {
    "duration": 531,
    "start_time": "2022-05-07T06:54:06.025Z"
   },
   {
    "duration": 519,
    "start_time": "2022-05-07T06:54:06.558Z"
   },
   {
    "duration": 393,
    "start_time": "2022-05-07T06:54:07.080Z"
   },
   {
    "duration": 8,
    "start_time": "2022-05-07T06:54:07.476Z"
   },
   {
    "duration": 341,
    "start_time": "2022-05-07T06:54:07.486Z"
   },
   {
    "duration": 10,
    "start_time": "2022-05-07T06:54:07.830Z"
   },
   {
    "duration": 6,
    "start_time": "2022-05-07T06:54:07.842Z"
   },
   {
    "duration": 6,
    "start_time": "2022-05-07T06:54:07.850Z"
   },
   {
    "duration": 12,
    "start_time": "2022-05-07T06:54:07.858Z"
   },
   {
    "duration": 549,
    "start_time": "2022-05-07T06:54:07.873Z"
   },
   {
    "duration": 11,
    "start_time": "2022-05-07T06:54:08.425Z"
   },
   {
    "duration": 209,
    "start_time": "2022-05-07T06:54:08.438Z"
   },
   {
    "duration": 15,
    "start_time": "2022-05-07T06:54:08.649Z"
   },
   {
    "duration": 4,
    "start_time": "2022-05-07T06:54:08.666Z"
   },
   {
    "duration": 108,
    "start_time": "2022-05-07T06:54:08.672Z"
   },
   {
    "duration": 18,
    "start_time": "2022-05-07T06:54:08.782Z"
   },
   {
    "duration": 82,
    "start_time": "2022-05-07T06:54:08.802Z"
   },
   {
    "duration": 261,
    "start_time": "2022-05-07T06:54:08.886Z"
   },
   {
    "duration": 16,
    "start_time": "2022-05-07T06:54:09.152Z"
   },
   {
    "duration": 65,
    "start_time": "2022-05-07T06:54:09.170Z"
   },
   {
    "duration": 544,
    "start_time": "2022-05-07T06:54:09.237Z"
   },
   {
    "duration": 10,
    "start_time": "2022-05-07T06:54:09.782Z"
   },
   {
    "duration": 43,
    "start_time": "2022-05-07T06:54:09.794Z"
   },
   {
    "duration": 8,
    "start_time": "2022-05-07T06:54:09.839Z"
   },
   {
    "duration": 9,
    "start_time": "2022-05-07T06:54:09.849Z"
   },
   {
    "duration": 462,
    "start_time": "2022-05-07T06:54:09.860Z"
   },
   {
    "duration": 18,
    "start_time": "2022-05-07T06:54:10.324Z"
   },
   {
    "duration": 11,
    "start_time": "2022-05-07T06:54:10.344Z"
   },
   {
    "duration": 24,
    "start_time": "2022-05-07T06:54:10.356Z"
   },
   {
    "duration": 5,
    "start_time": "2022-05-07T06:54:10.381Z"
   },
   {
    "duration": 95,
    "start_time": "2022-05-07T06:54:10.387Z"
   },
   {
    "duration": 0,
    "start_time": "2022-05-07T06:54:10.483Z"
   },
   {
    "duration": 0,
    "start_time": "2022-05-07T06:54:10.485Z"
   },
   {
    "duration": 0,
    "start_time": "2022-05-07T06:54:10.486Z"
   },
   {
    "duration": 0,
    "start_time": "2022-05-07T06:54:10.487Z"
   },
   {
    "duration": 0,
    "start_time": "2022-05-07T06:54:10.488Z"
   },
   {
    "duration": 0,
    "start_time": "2022-05-07T06:54:10.489Z"
   },
   {
    "duration": 0,
    "start_time": "2022-05-07T06:54:10.490Z"
   },
   {
    "duration": 0,
    "start_time": "2022-05-07T06:54:10.491Z"
   },
   {
    "duration": 0,
    "start_time": "2022-05-07T06:54:10.492Z"
   },
   {
    "duration": 0,
    "start_time": "2022-05-07T06:54:10.494Z"
   },
   {
    "duration": 0,
    "start_time": "2022-05-07T06:54:10.495Z"
   },
   {
    "duration": 8,
    "start_time": "2022-05-20T07:39:12.407Z"
   },
   {
    "duration": 744,
    "start_time": "2022-05-20T07:50:43.714Z"
   },
   {
    "duration": 138,
    "start_time": "2022-05-20T07:50:44.460Z"
   },
   {
    "duration": 13,
    "start_time": "2022-05-20T07:50:44.599Z"
   },
   {
    "duration": 31,
    "start_time": "2022-05-20T07:50:44.614Z"
   },
   {
    "duration": 4,
    "start_time": "2022-05-20T07:50:44.647Z"
   },
   {
    "duration": 12,
    "start_time": "2022-05-20T07:50:44.652Z"
   },
   {
    "duration": 11,
    "start_time": "2022-05-20T07:50:44.666Z"
   },
   {
    "duration": 114,
    "start_time": "2022-05-20T07:50:44.679Z"
   },
   {
    "duration": 0,
    "start_time": "2022-05-20T07:50:44.799Z"
   },
   {
    "duration": 0,
    "start_time": "2022-05-20T07:50:44.801Z"
   },
   {
    "duration": 0,
    "start_time": "2022-05-20T07:50:44.803Z"
   },
   {
    "duration": 0,
    "start_time": "2022-05-20T07:50:44.804Z"
   },
   {
    "duration": 0,
    "start_time": "2022-05-20T07:50:44.806Z"
   },
   {
    "duration": 0,
    "start_time": "2022-05-20T07:50:44.807Z"
   },
   {
    "duration": 0,
    "start_time": "2022-05-20T07:50:44.808Z"
   },
   {
    "duration": 0,
    "start_time": "2022-05-20T07:50:44.809Z"
   },
   {
    "duration": 0,
    "start_time": "2022-05-20T07:50:44.810Z"
   },
   {
    "duration": 0,
    "start_time": "2022-05-20T07:50:44.811Z"
   },
   {
    "duration": 0,
    "start_time": "2022-05-20T07:50:44.812Z"
   },
   {
    "duration": 0,
    "start_time": "2022-05-20T07:50:44.812Z"
   },
   {
    "duration": 0,
    "start_time": "2022-05-20T07:50:44.813Z"
   },
   {
    "duration": 0,
    "start_time": "2022-05-20T07:50:44.814Z"
   },
   {
    "duration": 0,
    "start_time": "2022-05-20T07:50:44.814Z"
   },
   {
    "duration": 0,
    "start_time": "2022-05-20T07:50:44.815Z"
   },
   {
    "duration": 0,
    "start_time": "2022-05-20T07:50:44.815Z"
   },
   {
    "duration": 0,
    "start_time": "2022-05-20T07:50:44.816Z"
   },
   {
    "duration": 0,
    "start_time": "2022-05-20T07:50:44.816Z"
   },
   {
    "duration": 0,
    "start_time": "2022-05-20T07:50:44.828Z"
   },
   {
    "duration": 0,
    "start_time": "2022-05-20T07:50:44.831Z"
   },
   {
    "duration": 0,
    "start_time": "2022-05-20T07:50:44.832Z"
   },
   {
    "duration": 0,
    "start_time": "2022-05-20T07:50:44.833Z"
   },
   {
    "duration": 0,
    "start_time": "2022-05-20T07:50:44.834Z"
   },
   {
    "duration": 0,
    "start_time": "2022-05-20T07:50:44.835Z"
   },
   {
    "duration": 0,
    "start_time": "2022-05-20T07:50:44.837Z"
   },
   {
    "duration": 0,
    "start_time": "2022-05-20T07:50:44.838Z"
   },
   {
    "duration": 0,
    "start_time": "2022-05-20T07:50:44.839Z"
   },
   {
    "duration": 0,
    "start_time": "2022-05-20T07:50:44.841Z"
   },
   {
    "duration": 0,
    "start_time": "2022-05-20T07:50:44.842Z"
   },
   {
    "duration": 0,
    "start_time": "2022-05-20T07:50:44.843Z"
   },
   {
    "duration": 0,
    "start_time": "2022-05-20T07:50:44.844Z"
   },
   {
    "duration": 0,
    "start_time": "2022-05-20T07:50:44.846Z"
   },
   {
    "duration": 0,
    "start_time": "2022-05-20T07:50:44.847Z"
   },
   {
    "duration": 0,
    "start_time": "2022-05-20T07:50:44.848Z"
   },
   {
    "duration": 0,
    "start_time": "2022-05-20T07:50:44.850Z"
   },
   {
    "duration": 0,
    "start_time": "2022-05-20T07:50:44.851Z"
   },
   {
    "duration": 0,
    "start_time": "2022-05-20T07:50:44.853Z"
   },
   {
    "duration": 0,
    "start_time": "2022-05-20T07:50:44.855Z"
   },
   {
    "duration": 0,
    "start_time": "2022-05-20T07:50:44.856Z"
   },
   {
    "duration": 0,
    "start_time": "2022-05-20T07:50:44.858Z"
   },
   {
    "duration": 0,
    "start_time": "2022-05-20T07:50:44.859Z"
   },
   {
    "duration": 0,
    "start_time": "2022-05-20T07:50:44.861Z"
   },
   {
    "duration": 0,
    "start_time": "2022-05-20T07:50:44.927Z"
   },
   {
    "duration": 0,
    "start_time": "2022-05-20T07:50:44.928Z"
   },
   {
    "duration": 0,
    "start_time": "2022-05-20T07:50:44.930Z"
   },
   {
    "duration": 0,
    "start_time": "2022-05-20T07:50:44.932Z"
   },
   {
    "duration": 0,
    "start_time": "2022-05-20T07:50:44.933Z"
   },
   {
    "duration": 0,
    "start_time": "2022-05-20T07:50:44.934Z"
   },
   {
    "duration": 0,
    "start_time": "2022-05-20T07:50:44.936Z"
   },
   {
    "duration": 0,
    "start_time": "2022-05-20T07:50:44.936Z"
   },
   {
    "duration": 0,
    "start_time": "2022-05-20T07:50:44.938Z"
   },
   {
    "duration": 0,
    "start_time": "2022-05-20T07:50:44.939Z"
   },
   {
    "duration": 0,
    "start_time": "2022-05-20T07:50:44.941Z"
   },
   {
    "duration": 0,
    "start_time": "2022-05-20T07:50:44.942Z"
   },
   {
    "duration": 0,
    "start_time": "2022-05-20T07:50:44.943Z"
   },
   {
    "duration": 766,
    "start_time": "2022-05-20T07:51:11.716Z"
   },
   {
    "duration": 148,
    "start_time": "2022-05-20T07:51:12.484Z"
   },
   {
    "duration": 13,
    "start_time": "2022-05-20T07:51:12.634Z"
   },
   {
    "duration": 111,
    "start_time": "2022-05-20T07:51:12.649Z"
   },
   {
    "duration": 4,
    "start_time": "2022-05-20T07:51:12.762Z"
   },
   {
    "duration": 17,
    "start_time": "2022-05-20T07:51:12.768Z"
   },
   {
    "duration": 20,
    "start_time": "2022-05-20T07:51:12.786Z"
   },
   {
    "duration": 7,
    "start_time": "2022-05-20T07:51:12.808Z"
   },
   {
    "duration": 11,
    "start_time": "2022-05-20T07:51:12.817Z"
   },
   {
    "duration": 10,
    "start_time": "2022-05-20T07:51:12.831Z"
   },
   {
    "duration": 33,
    "start_time": "2022-05-20T07:51:12.843Z"
   },
   {
    "duration": 53,
    "start_time": "2022-05-20T07:51:12.878Z"
   },
   {
    "duration": 29,
    "start_time": "2022-05-20T07:51:12.932Z"
   },
   {
    "duration": 34,
    "start_time": "2022-05-20T07:51:12.962Z"
   },
   {
    "duration": 9,
    "start_time": "2022-05-20T07:51:12.998Z"
   },
   {
    "duration": 10,
    "start_time": "2022-05-20T07:51:13.028Z"
   },
   {
    "duration": 14,
    "start_time": "2022-05-20T07:51:13.040Z"
   },
   {
    "duration": 116,
    "start_time": "2022-05-20T07:51:13.055Z"
   },
   {
    "duration": 2,
    "start_time": "2022-05-20T07:51:13.174Z"
   },
   {
    "duration": 13,
    "start_time": "2022-05-20T07:51:13.178Z"
   },
   {
    "duration": 5,
    "start_time": "2022-05-20T07:51:13.194Z"
   },
   {
    "duration": 38,
    "start_time": "2022-05-20T07:51:13.201Z"
   },
   {
    "duration": 363,
    "start_time": "2022-05-20T07:51:13.241Z"
   },
   {
    "duration": 347,
    "start_time": "2022-05-20T07:51:13.606Z"
   },
   {
    "duration": 198,
    "start_time": "2022-05-20T07:51:13.954Z"
   },
   {
    "duration": 6,
    "start_time": "2022-05-20T07:51:14.154Z"
   },
   {
    "duration": 223,
    "start_time": "2022-05-20T07:51:14.162Z"
   },
   {
    "duration": 11,
    "start_time": "2022-05-20T07:51:14.391Z"
   },
   {
    "duration": 24,
    "start_time": "2022-05-20T07:51:14.404Z"
   },
   {
    "duration": 15,
    "start_time": "2022-05-20T07:51:14.429Z"
   },
   {
    "duration": 28,
    "start_time": "2022-05-20T07:51:14.445Z"
   },
   {
    "duration": 340,
    "start_time": "2022-05-20T07:51:14.474Z"
   },
   {
    "duration": 22,
    "start_time": "2022-05-20T07:51:14.817Z"
   },
   {
    "duration": 309,
    "start_time": "2022-05-20T07:51:14.841Z"
   },
   {
    "duration": 12,
    "start_time": "2022-05-20T07:51:15.151Z"
   },
   {
    "duration": 27,
    "start_time": "2022-05-20T07:51:15.165Z"
   },
   {
    "duration": 116,
    "start_time": "2022-05-20T07:51:15.194Z"
   },
   {
    "duration": 20,
    "start_time": "2022-05-20T07:51:15.312Z"
   },
   {
    "duration": 77,
    "start_time": "2022-05-20T07:51:15.334Z"
   },
   {
    "duration": 262,
    "start_time": "2022-05-20T07:51:15.413Z"
   },
   {
    "duration": 15,
    "start_time": "2022-05-20T07:51:15.678Z"
   },
   {
    "duration": 86,
    "start_time": "2022-05-20T07:51:15.695Z"
   },
   {
    "duration": 633,
    "start_time": "2022-05-20T07:51:15.783Z"
   },
   {
    "duration": 19,
    "start_time": "2022-05-20T07:51:16.418Z"
   },
   {
    "duration": 60,
    "start_time": "2022-05-20T07:51:16.439Z"
   },
   {
    "duration": 16,
    "start_time": "2022-05-20T07:51:16.501Z"
   },
   {
    "duration": 39,
    "start_time": "2022-05-20T07:51:16.520Z"
   },
   {
    "duration": 424,
    "start_time": "2022-05-20T07:51:16.561Z"
   },
   {
    "duration": 40,
    "start_time": "2022-05-20T07:51:16.987Z"
   },
   {
    "duration": 11,
    "start_time": "2022-05-20T07:51:17.029Z"
   },
   {
    "duration": 32,
    "start_time": "2022-05-20T07:51:17.042Z"
   },
   {
    "duration": 23,
    "start_time": "2022-05-20T07:51:17.076Z"
   },
   {
    "duration": 115,
    "start_time": "2022-05-20T07:51:17.101Z"
   },
   {
    "duration": 0,
    "start_time": "2022-05-20T07:51:17.217Z"
   },
   {
    "duration": 0,
    "start_time": "2022-05-20T07:51:17.218Z"
   },
   {
    "duration": 0,
    "start_time": "2022-05-20T07:51:17.220Z"
   },
   {
    "duration": 0,
    "start_time": "2022-05-20T07:51:17.221Z"
   },
   {
    "duration": 0,
    "start_time": "2022-05-20T07:51:17.227Z"
   },
   {
    "duration": 0,
    "start_time": "2022-05-20T07:51:17.228Z"
   },
   {
    "duration": 0,
    "start_time": "2022-05-20T07:51:17.229Z"
   },
   {
    "duration": 0,
    "start_time": "2022-05-20T07:51:17.230Z"
   },
   {
    "duration": 0,
    "start_time": "2022-05-20T07:51:17.231Z"
   },
   {
    "duration": 0,
    "start_time": "2022-05-20T07:51:17.233Z"
   },
   {
    "duration": 0,
    "start_time": "2022-05-20T07:51:17.234Z"
   },
   {
    "duration": 796,
    "start_time": "2022-05-20T14:10:10.317Z"
   },
   {
    "duration": 364,
    "start_time": "2022-05-20T14:10:11.115Z"
   },
   {
    "duration": 15,
    "start_time": "2022-05-20T14:10:11.481Z"
   },
   {
    "duration": 101,
    "start_time": "2022-05-20T14:10:11.499Z"
   },
   {
    "duration": 5,
    "start_time": "2022-05-20T14:10:11.602Z"
   },
   {
    "duration": 17,
    "start_time": "2022-05-20T14:10:11.608Z"
   },
   {
    "duration": 8,
    "start_time": "2022-05-20T14:10:11.627Z"
   },
   {
    "duration": 7,
    "start_time": "2022-05-20T14:10:11.636Z"
   },
   {
    "duration": 16,
    "start_time": "2022-05-20T14:10:11.645Z"
   },
   {
    "duration": 24,
    "start_time": "2022-05-20T14:10:11.664Z"
   },
   {
    "duration": 39,
    "start_time": "2022-05-20T14:10:11.690Z"
   },
   {
    "duration": 43,
    "start_time": "2022-05-20T14:10:11.731Z"
   },
   {
    "duration": 24,
    "start_time": "2022-05-20T14:10:11.775Z"
   },
   {
    "duration": 24,
    "start_time": "2022-05-20T14:10:11.800Z"
   },
   {
    "duration": 6,
    "start_time": "2022-05-20T14:10:11.825Z"
   },
   {
    "duration": 31,
    "start_time": "2022-05-20T14:10:11.833Z"
   },
   {
    "duration": 10,
    "start_time": "2022-05-20T14:10:11.865Z"
   },
   {
    "duration": 109,
    "start_time": "2022-05-20T14:10:11.876Z"
   },
   {
    "duration": 3,
    "start_time": "2022-05-20T14:10:11.986Z"
   },
   {
    "duration": 9,
    "start_time": "2022-05-20T14:10:11.990Z"
   },
   {
    "duration": 8,
    "start_time": "2022-05-20T14:10:12.000Z"
   },
   {
    "duration": 17,
    "start_time": "2022-05-20T14:10:12.009Z"
   },
   {
    "duration": 313,
    "start_time": "2022-05-20T14:10:12.028Z"
   },
   {
    "duration": 287,
    "start_time": "2022-05-20T14:10:12.343Z"
   },
   {
    "duration": 189,
    "start_time": "2022-05-20T14:10:12.632Z"
   },
   {
    "duration": 5,
    "start_time": "2022-05-20T14:10:12.823Z"
   },
   {
    "duration": 197,
    "start_time": "2022-05-20T14:10:12.829Z"
   },
   {
    "duration": 7,
    "start_time": "2022-05-20T14:10:13.029Z"
   },
   {
    "duration": 10,
    "start_time": "2022-05-20T14:10:13.037Z"
   },
   {
    "duration": 5,
    "start_time": "2022-05-20T14:10:13.059Z"
   },
   {
    "duration": 10,
    "start_time": "2022-05-20T14:10:13.065Z"
   },
   {
    "duration": 300,
    "start_time": "2022-05-20T14:10:13.076Z"
   },
   {
    "duration": 9,
    "start_time": "2022-05-20T14:10:13.377Z"
   },
   {
    "duration": 257,
    "start_time": "2022-05-20T14:10:13.387Z"
   },
   {
    "duration": 18,
    "start_time": "2022-05-20T14:10:13.646Z"
   },
   {
    "duration": 4,
    "start_time": "2022-05-20T14:10:13.665Z"
   },
   {
    "duration": 97,
    "start_time": "2022-05-20T14:10:13.670Z"
   },
   {
    "duration": 15,
    "start_time": "2022-05-20T14:10:13.768Z"
   },
   {
    "duration": 55,
    "start_time": "2022-05-20T14:10:13.784Z"
   },
   {
    "duration": 239,
    "start_time": "2022-05-20T14:10:13.841Z"
   },
   {
    "duration": 14,
    "start_time": "2022-05-20T14:10:14.082Z"
   },
   {
    "duration": 61,
    "start_time": "2022-05-20T14:10:14.098Z"
   },
   {
    "duration": 517,
    "start_time": "2022-05-20T14:10:14.161Z"
   },
   {
    "duration": 7,
    "start_time": "2022-05-20T14:10:14.680Z"
   },
   {
    "duration": 24,
    "start_time": "2022-05-20T14:10:14.688Z"
   },
   {
    "duration": 6,
    "start_time": "2022-05-20T14:10:14.713Z"
   },
   {
    "duration": 6,
    "start_time": "2022-05-20T14:10:14.720Z"
   },
   {
    "duration": 357,
    "start_time": "2022-05-20T14:10:14.728Z"
   },
   {
    "duration": 18,
    "start_time": "2022-05-20T14:10:15.086Z"
   },
   {
    "duration": 12,
    "start_time": "2022-05-20T14:10:15.105Z"
   },
   {
    "duration": 7,
    "start_time": "2022-05-20T14:10:15.118Z"
   },
   {
    "duration": 4,
    "start_time": "2022-05-20T14:10:15.127Z"
   },
   {
    "duration": 100,
    "start_time": "2022-05-20T14:10:15.132Z"
   },
   {
    "duration": 0,
    "start_time": "2022-05-20T14:10:15.233Z"
   },
   {
    "duration": 0,
    "start_time": "2022-05-20T14:10:15.235Z"
   },
   {
    "duration": 0,
    "start_time": "2022-05-20T14:10:15.235Z"
   },
   {
    "duration": 0,
    "start_time": "2022-05-20T14:10:15.236Z"
   },
   {
    "duration": 0,
    "start_time": "2022-05-20T14:10:15.237Z"
   },
   {
    "duration": 0,
    "start_time": "2022-05-20T14:10:15.238Z"
   },
   {
    "duration": 0,
    "start_time": "2022-05-20T14:10:15.239Z"
   },
   {
    "duration": 0,
    "start_time": "2022-05-20T14:10:15.259Z"
   },
   {
    "duration": 0,
    "start_time": "2022-05-20T14:10:15.261Z"
   },
   {
    "duration": 0,
    "start_time": "2022-05-20T14:10:15.261Z"
   },
   {
    "duration": 0,
    "start_time": "2022-05-20T14:10:15.263Z"
   },
   {
    "duration": 900,
    "start_time": "2022-05-20T15:08:14.520Z"
   },
   {
    "duration": 177,
    "start_time": "2022-05-20T15:08:15.422Z"
   },
   {
    "duration": 16,
    "start_time": "2022-05-20T15:08:15.601Z"
   },
   {
    "duration": 78,
    "start_time": "2022-05-20T15:08:15.620Z"
   },
   {
    "duration": 5,
    "start_time": "2022-05-20T15:08:15.700Z"
   },
   {
    "duration": 5,
    "start_time": "2022-05-20T15:08:15.724Z"
   },
   {
    "duration": 7,
    "start_time": "2022-05-20T15:08:15.731Z"
   },
   {
    "duration": 11,
    "start_time": "2022-05-20T15:08:15.740Z"
   },
   {
    "duration": 10,
    "start_time": "2022-05-20T15:08:15.753Z"
   },
   {
    "duration": 14,
    "start_time": "2022-05-20T15:08:15.767Z"
   },
   {
    "duration": 58,
    "start_time": "2022-05-20T15:08:15.783Z"
   },
   {
    "duration": 45,
    "start_time": "2022-05-20T15:08:15.843Z"
   },
   {
    "duration": 48,
    "start_time": "2022-05-20T15:08:15.890Z"
   },
   {
    "duration": 31,
    "start_time": "2022-05-20T15:08:15.940Z"
   },
   {
    "duration": 10,
    "start_time": "2022-05-20T15:08:15.973Z"
   },
   {
    "duration": 37,
    "start_time": "2022-05-20T15:08:15.986Z"
   },
   {
    "duration": 10,
    "start_time": "2022-05-20T15:08:16.026Z"
   },
   {
    "duration": 128,
    "start_time": "2022-05-20T15:08:16.038Z"
   },
   {
    "duration": 2,
    "start_time": "2022-05-20T15:08:16.168Z"
   },
   {
    "duration": 14,
    "start_time": "2022-05-20T15:08:16.172Z"
   },
   {
    "duration": 11,
    "start_time": "2022-05-20T15:08:16.188Z"
   },
   {
    "duration": 23,
    "start_time": "2022-05-20T15:08:16.201Z"
   },
   {
    "duration": 419,
    "start_time": "2022-05-20T15:08:16.226Z"
   },
   {
    "duration": 338,
    "start_time": "2022-05-20T15:08:16.647Z"
   },
   {
    "duration": 210,
    "start_time": "2022-05-20T15:08:16.987Z"
   },
   {
    "duration": 7,
    "start_time": "2022-05-20T15:08:17.199Z"
   },
   {
    "duration": 248,
    "start_time": "2022-05-20T15:08:17.207Z"
   },
   {
    "duration": 10,
    "start_time": "2022-05-20T15:08:17.459Z"
   },
   {
    "duration": 10,
    "start_time": "2022-05-20T15:08:17.470Z"
   },
   {
    "duration": 8,
    "start_time": "2022-05-20T15:08:17.481Z"
   },
   {
    "duration": 14,
    "start_time": "2022-05-20T15:08:17.490Z"
   },
   {
    "duration": 324,
    "start_time": "2022-05-20T15:08:17.523Z"
   },
   {
    "duration": 11,
    "start_time": "2022-05-20T15:08:17.849Z"
   },
   {
    "duration": 306,
    "start_time": "2022-05-20T15:08:17.861Z"
   },
   {
    "duration": 12,
    "start_time": "2022-05-20T15:08:18.169Z"
   },
   {
    "duration": 3,
    "start_time": "2022-05-20T15:08:18.183Z"
   },
   {
    "duration": 105,
    "start_time": "2022-05-20T15:08:18.188Z"
   },
   {
    "duration": 30,
    "start_time": "2022-05-20T15:08:18.294Z"
   },
   {
    "duration": 61,
    "start_time": "2022-05-20T15:08:18.326Z"
   },
   {
    "duration": 262,
    "start_time": "2022-05-20T15:08:18.389Z"
   },
   {
    "duration": 16,
    "start_time": "2022-05-20T15:08:18.653Z"
   },
   {
    "duration": 65,
    "start_time": "2022-05-20T15:08:18.671Z"
   },
   {
    "duration": 602,
    "start_time": "2022-05-20T15:08:18.738Z"
   },
   {
    "duration": 9,
    "start_time": "2022-05-20T15:08:19.342Z"
   },
   {
    "duration": 29,
    "start_time": "2022-05-20T15:08:19.352Z"
   },
   {
    "duration": 7,
    "start_time": "2022-05-20T15:08:19.383Z"
   },
   {
    "duration": 7,
    "start_time": "2022-05-20T15:08:19.392Z"
   },
   {
    "duration": 398,
    "start_time": "2022-05-20T15:08:19.400Z"
   },
   {
    "duration": 33,
    "start_time": "2022-05-20T15:08:19.799Z"
   },
   {
    "duration": 12,
    "start_time": "2022-05-20T15:08:19.834Z"
   },
   {
    "duration": 8,
    "start_time": "2022-05-20T15:08:19.849Z"
   },
   {
    "duration": 4,
    "start_time": "2022-05-20T15:08:19.859Z"
   },
   {
    "duration": 11,
    "start_time": "2022-05-20T15:08:19.864Z"
   },
   {
    "duration": 883,
    "start_time": "2022-05-20T15:08:19.876Z"
   },
   {
    "duration": 9,
    "start_time": "2022-05-20T15:08:20.761Z"
   },
   {
    "duration": 372,
    "start_time": "2022-05-20T15:08:20.771Z"
   },
   {
    "duration": 266,
    "start_time": "2022-05-20T15:08:21.145Z"
   },
   {
    "duration": 191,
    "start_time": "2022-05-20T15:08:21.413Z"
   },
   {
    "duration": 18,
    "start_time": "2022-05-20T15:08:21.606Z"
   },
   {
    "duration": 167,
    "start_time": "2022-05-20T15:08:21.626Z"
   },
   {
    "duration": 6,
    "start_time": "2022-05-20T15:08:21.795Z"
   },
   {
    "duration": 570,
    "start_time": "2022-05-20T15:08:21.802Z"
   },
   {
    "duration": 209,
    "start_time": "2022-05-20T15:08:22.373Z"
   },
   {
    "duration": 70,
    "start_time": "2022-05-20T15:08:22.583Z"
   },
   {
    "duration": 755,
    "start_time": "2022-05-20T15:10:15.226Z"
   },
   {
    "duration": 129,
    "start_time": "2022-05-20T15:10:15.984Z"
   },
   {
    "duration": 17,
    "start_time": "2022-05-20T15:10:16.116Z"
   },
   {
    "duration": 74,
    "start_time": "2022-05-20T15:10:16.136Z"
   },
   {
    "duration": 4,
    "start_time": "2022-05-20T15:10:16.224Z"
   },
   {
    "duration": 7,
    "start_time": "2022-05-20T15:10:16.230Z"
   },
   {
    "duration": 5,
    "start_time": "2022-05-20T15:10:16.239Z"
   },
   {
    "duration": 6,
    "start_time": "2022-05-20T15:10:16.246Z"
   },
   {
    "duration": 9,
    "start_time": "2022-05-20T15:10:16.254Z"
   },
   {
    "duration": 10,
    "start_time": "2022-05-20T15:10:16.266Z"
   },
   {
    "duration": 62,
    "start_time": "2022-05-20T15:10:16.277Z"
   },
   {
    "duration": 45,
    "start_time": "2022-05-20T15:10:16.341Z"
   },
   {
    "duration": 48,
    "start_time": "2022-05-20T15:10:16.388Z"
   },
   {
    "duration": 25,
    "start_time": "2022-05-20T15:10:16.438Z"
   },
   {
    "duration": 9,
    "start_time": "2022-05-20T15:10:16.465Z"
   },
   {
    "duration": 19,
    "start_time": "2022-05-20T15:10:16.476Z"
   },
   {
    "duration": 12,
    "start_time": "2022-05-20T15:10:16.496Z"
   },
   {
    "duration": 113,
    "start_time": "2022-05-20T15:10:16.510Z"
   },
   {
    "duration": 2,
    "start_time": "2022-05-20T15:10:16.625Z"
   },
   {
    "duration": 12,
    "start_time": "2022-05-20T15:10:16.628Z"
   },
   {
    "duration": 6,
    "start_time": "2022-05-20T15:10:16.641Z"
   },
   {
    "duration": 21,
    "start_time": "2022-05-20T15:10:16.649Z"
   },
   {
    "duration": 348,
    "start_time": "2022-05-20T15:10:16.672Z"
   },
   {
    "duration": 325,
    "start_time": "2022-05-20T15:10:17.023Z"
   },
   {
    "duration": 193,
    "start_time": "2022-05-20T15:10:17.350Z"
   },
   {
    "duration": 7,
    "start_time": "2022-05-20T15:10:17.546Z"
   },
   {
    "duration": 220,
    "start_time": "2022-05-20T15:10:17.555Z"
   },
   {
    "duration": 8,
    "start_time": "2022-05-20T15:10:17.779Z"
   },
   {
    "duration": 15,
    "start_time": "2022-05-20T15:10:17.788Z"
   },
   {
    "duration": 22,
    "start_time": "2022-05-20T15:10:17.805Z"
   },
   {
    "duration": 17,
    "start_time": "2022-05-20T15:10:17.829Z"
   },
   {
    "duration": 344,
    "start_time": "2022-05-20T15:10:17.848Z"
   },
   {
    "duration": 10,
    "start_time": "2022-05-20T15:10:18.194Z"
   },
   {
    "duration": 280,
    "start_time": "2022-05-20T15:10:18.206Z"
   },
   {
    "duration": 12,
    "start_time": "2022-05-20T15:10:18.487Z"
   },
   {
    "duration": 7,
    "start_time": "2022-05-20T15:10:18.500Z"
   },
   {
    "duration": 87,
    "start_time": "2022-05-20T15:10:18.522Z"
   },
   {
    "duration": 17,
    "start_time": "2022-05-20T15:10:18.622Z"
   },
   {
    "duration": 61,
    "start_time": "2022-05-20T15:10:18.641Z"
   },
   {
    "duration": 271,
    "start_time": "2022-05-20T15:10:18.704Z"
   },
   {
    "duration": 17,
    "start_time": "2022-05-20T15:10:18.977Z"
   },
   {
    "duration": 73,
    "start_time": "2022-05-20T15:10:18.996Z"
   },
   {
    "duration": 573,
    "start_time": "2022-05-20T15:10:19.070Z"
   },
   {
    "duration": 8,
    "start_time": "2022-05-20T15:10:19.645Z"
   },
   {
    "duration": 30,
    "start_time": "2022-05-20T15:10:19.654Z"
   },
   {
    "duration": 6,
    "start_time": "2022-05-20T15:10:19.686Z"
   },
   {
    "duration": 8,
    "start_time": "2022-05-20T15:10:19.694Z"
   },
   {
    "duration": 420,
    "start_time": "2022-05-20T15:10:19.703Z"
   },
   {
    "duration": 19,
    "start_time": "2022-05-20T15:10:20.125Z"
   },
   {
    "duration": 27,
    "start_time": "2022-05-20T15:10:20.145Z"
   },
   {
    "duration": 8,
    "start_time": "2022-05-20T15:10:20.174Z"
   },
   {
    "duration": 5,
    "start_time": "2022-05-20T15:10:20.183Z"
   },
   {
    "duration": 10,
    "start_time": "2022-05-20T15:10:20.190Z"
   },
   {
    "duration": 896,
    "start_time": "2022-05-20T15:10:20.203Z"
   },
   {
    "duration": 11,
    "start_time": "2022-05-20T15:10:21.101Z"
   },
   {
    "duration": 370,
    "start_time": "2022-05-20T15:10:21.114Z"
   },
   {
    "duration": 269,
    "start_time": "2022-05-20T15:10:21.486Z"
   },
   {
    "duration": 174,
    "start_time": "2022-05-20T15:10:21.756Z"
   },
   {
    "duration": 6,
    "start_time": "2022-05-20T15:10:21.932Z"
   },
   {
    "duration": 196,
    "start_time": "2022-05-20T15:10:21.940Z"
   },
   {
    "duration": 5,
    "start_time": "2022-05-20T15:10:22.138Z"
   },
   {
    "duration": 588,
    "start_time": "2022-05-20T15:10:22.145Z"
   },
   {
    "duration": 224,
    "start_time": "2022-05-20T15:10:22.735Z"
   },
   {
    "duration": 41,
    "start_time": "2022-05-20T15:10:22.962Z"
   },
   {
    "duration": 858,
    "start_time": "2022-05-21T15:47:43.790Z"
   },
   {
    "duration": 340,
    "start_time": "2022-05-21T15:47:44.650Z"
   },
   {
    "duration": 16,
    "start_time": "2022-05-21T15:47:44.991Z"
   },
   {
    "duration": 71,
    "start_time": "2022-05-21T15:47:45.009Z"
   },
   {
    "duration": 4,
    "start_time": "2022-05-21T15:47:45.082Z"
   },
   {
    "duration": 9,
    "start_time": "2022-05-21T15:47:45.087Z"
   },
   {
    "duration": 15,
    "start_time": "2022-05-21T15:47:45.098Z"
   },
   {
    "duration": 8,
    "start_time": "2022-05-21T15:47:45.115Z"
   },
   {
    "duration": 9,
    "start_time": "2022-05-21T15:47:45.125Z"
   },
   {
    "duration": 12,
    "start_time": "2022-05-21T15:47:45.137Z"
   },
   {
    "duration": 34,
    "start_time": "2022-05-21T15:47:45.151Z"
   },
   {
    "duration": 63,
    "start_time": "2022-05-21T15:47:45.187Z"
   },
   {
    "duration": 25,
    "start_time": "2022-05-21T15:47:45.251Z"
   },
   {
    "duration": 40,
    "start_time": "2022-05-21T15:47:45.278Z"
   },
   {
    "duration": 15,
    "start_time": "2022-05-21T15:47:45.320Z"
   },
   {
    "duration": 9,
    "start_time": "2022-05-21T15:47:45.336Z"
   },
   {
    "duration": 9,
    "start_time": "2022-05-21T15:47:45.347Z"
   },
   {
    "duration": 113,
    "start_time": "2022-05-21T15:47:45.358Z"
   },
   {
    "duration": 3,
    "start_time": "2022-05-21T15:47:45.473Z"
   },
   {
    "duration": 13,
    "start_time": "2022-05-21T15:47:45.477Z"
   },
   {
    "duration": 5,
    "start_time": "2022-05-21T15:47:45.492Z"
   },
   {
    "duration": 25,
    "start_time": "2022-05-21T15:47:45.499Z"
   },
   {
    "duration": 315,
    "start_time": "2022-05-21T15:47:45.526Z"
   },
   {
    "duration": 304,
    "start_time": "2022-05-21T15:47:45.842Z"
   },
   {
    "duration": 191,
    "start_time": "2022-05-21T15:47:46.147Z"
   },
   {
    "duration": 5,
    "start_time": "2022-05-21T15:47:46.340Z"
   },
   {
    "duration": 204,
    "start_time": "2022-05-21T15:47:46.347Z"
   },
   {
    "duration": 10,
    "start_time": "2022-05-21T15:47:46.554Z"
   },
   {
    "duration": 24,
    "start_time": "2022-05-21T15:47:46.566Z"
   },
   {
    "duration": 8,
    "start_time": "2022-05-21T15:47:46.592Z"
   },
   {
    "duration": 17,
    "start_time": "2022-05-21T15:47:46.601Z"
   },
   {
    "duration": 404,
    "start_time": "2022-05-21T15:47:46.620Z"
   },
   {
    "duration": 10,
    "start_time": "2022-05-21T15:47:47.025Z"
   },
   {
    "duration": 214,
    "start_time": "2022-05-21T15:47:47.036Z"
   },
   {
    "duration": 13,
    "start_time": "2022-05-21T15:47:47.251Z"
   },
   {
    "duration": 14,
    "start_time": "2022-05-21T15:47:47.266Z"
   },
   {
    "duration": 102,
    "start_time": "2022-05-21T15:47:47.282Z"
   },
   {
    "duration": 14,
    "start_time": "2022-05-21T15:47:47.386Z"
   },
   {
    "duration": 59,
    "start_time": "2022-05-21T15:47:47.412Z"
   },
   {
    "duration": 261,
    "start_time": "2022-05-21T15:47:47.473Z"
   },
   {
    "duration": 15,
    "start_time": "2022-05-21T15:47:47.735Z"
   },
   {
    "duration": 87,
    "start_time": "2022-05-21T15:47:47.751Z"
   },
   {
    "duration": 1084,
    "start_time": "2022-05-21T15:47:47.840Z"
   },
   {
    "duration": 8,
    "start_time": "2022-05-21T15:47:48.925Z"
   },
   {
    "duration": 77,
    "start_time": "2022-05-21T15:47:48.935Z"
   },
   {
    "duration": 7,
    "start_time": "2022-05-21T15:47:49.014Z"
   },
   {
    "duration": 7,
    "start_time": "2022-05-21T15:47:49.022Z"
   },
   {
    "duration": 590,
    "start_time": "2022-05-21T15:47:49.031Z"
   },
   {
    "duration": 19,
    "start_time": "2022-05-21T15:47:49.622Z"
   },
   {
    "duration": 8,
    "start_time": "2022-05-21T15:47:49.643Z"
   },
   {
    "duration": 7,
    "start_time": "2022-05-21T15:47:49.653Z"
   },
   {
    "duration": 4,
    "start_time": "2022-05-21T15:47:49.662Z"
   },
   {
    "duration": 9,
    "start_time": "2022-05-21T15:47:49.667Z"
   },
   {
    "duration": 956,
    "start_time": "2022-05-21T15:47:49.680Z"
   },
   {
    "duration": 9,
    "start_time": "2022-05-21T15:47:50.638Z"
   },
   {
    "duration": 275,
    "start_time": "2022-05-21T15:47:50.648Z"
   },
   {
    "duration": 283,
    "start_time": "2022-05-21T15:47:50.924Z"
   },
   {
    "duration": 179,
    "start_time": "2022-05-21T15:47:51.211Z"
   },
   {
    "duration": 8,
    "start_time": "2022-05-21T15:47:51.392Z"
   },
   {
    "duration": 238,
    "start_time": "2022-05-21T15:47:51.412Z"
   },
   {
    "duration": 7,
    "start_time": "2022-05-21T15:47:51.652Z"
   },
   {
    "duration": 571,
    "start_time": "2022-05-21T15:47:51.661Z"
   },
   {
    "duration": 297,
    "start_time": "2022-05-21T15:47:52.234Z"
   },
   {
    "duration": 39,
    "start_time": "2022-05-21T15:47:52.533Z"
   }
  ],
  "kernelspec": {
   "display_name": "Python 3 (ipykernel)",
   "language": "python",
   "name": "python3"
  },
  "language_info": {
   "codemirror_mode": {
    "name": "ipython",
    "version": 3
   },
   "file_extension": ".py",
   "mimetype": "text/x-python",
   "name": "python",
   "nbconvert_exporter": "python",
   "pygments_lexer": "ipython3",
   "version": "3.10.4"
  },
  "toc": {
   "base_numbering": 1,
   "nav_menu": {},
   "number_sections": true,
   "sideBar": true,
   "skip_h1_title": true,
   "title_cell": "Table of Contents",
   "title_sidebar": "Contents",
   "toc_cell": false,
   "toc_position": {
    "height": "calc(100% - 180px)",
    "left": "10px",
    "top": "150px",
    "width": "438px"
   },
   "toc_section_display": true,
   "toc_window_display": true
  },
  "varInspector": {
   "cols": {
    "lenName": 16,
    "lenType": 16,
    "lenVar": 40
   },
   "kernels_config": {
    "python": {
     "delete_cmd_postfix": "",
     "delete_cmd_prefix": "del ",
     "library": "var_list.py",
     "varRefreshCmd": "print(var_dic_list())"
    },
    "r": {
     "delete_cmd_postfix": ") ",
     "delete_cmd_prefix": "rm(",
     "library": "var_list.r",
     "varRefreshCmd": "cat(var_dic_list()) "
    }
   },
   "types_to_exclude": [
    "module",
    "function",
    "builtin_function_or_method",
    "instance",
    "_Feature"
   ],
   "window_display": false
  }
 },
 "nbformat": 4,
 "nbformat_minor": 5
}
