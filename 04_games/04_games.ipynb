{
 "cells": [
  {
   "cell_type": "markdown",
   "metadata": {},
   "source": [
    "### Содержание:"
   ]
  },
  {
   "cell_type": "markdown",
   "metadata": {},
   "source": [
    "<a name=\"0.0\"></a>\n",
    "* [Описание проекта](#0.)\n",
    "    - [Описание данных](#0.1.)\n",
    "    - [Задачи проекта (план работы)](#0.2.)\n",
    "* [Шаг 1. Открываем файл и изучаем общую информацию](#1.)\n",
    "    - [Импорт библиотек](#1.1.)\n",
    "    - [Изучаем общую информацию](#1.2.)\n",
    "    - [Вывод](#1.3.)\n",
    "* [Шаг 2. Подготавливаем данные](#2.)\n",
    "    - [Обрабатываем пропуски](#2.2.)\n",
    "    - [Вывод](#2.3.)\n",
    "* [Шаг 3. Проводим исследовательский анализ данных](#3.)\n",
    "    - [Вывод](#3.4.)\n",
    "* [Шаг 4. Составляем портрет пользователя каждого региона](#4.)\n",
    "    - [Вывод](#4.1.)\n",
    "* [Шаг 5. Проверка гипотез](#5.)\n",
    "    - [Средние пользовательские рейтинги платформ Xbox One и PC одинаковые](#5.1.)\n",
    "    - [Средние пользовательские рейтинги жанров Action и Sports разные](#5.2.)\n",
    "    - [Вывод](#5.3.)\n",
    "* [Шаг 6. Общие выводы](#6.)"
   ]
  },
  {
   "cell_type": "markdown",
   "metadata": {},
   "source": [
    "### Описание проекта: "
   ]
  },
  {
   "cell_type": "markdown",
   "metadata": {},
   "source": [
    "Необходимо проанализировать данные о продаже компьютерных игр в 2016 году, выявить определяющие успешность игры закономерности, дать прогноз относительно игровых продуктов, которые должны пользоваться спросом среди геймеров в будущем. "
   ]
  },
  {
   "cell_type": "markdown",
   "metadata": {},
   "source": [
    "### Задачи проекта (план работы):"
   ]
  },
  {
   "cell_type": "markdown",
   "metadata": {},
   "source": [
    "<a name=\"0.2.\"></a>\n",
    "\n",
    "- Импортировать данные, ознакомиться с ними\n",
    "- Выявить столбцы, в которых есть наиболее количество пропусков, объяснить причины пропусков в данных\n",
    "- Подготовить данные для работы, привести названия столбцов к нижнему регистру\n",
    "- Ознакомиться с списком платформ и существующих рейтингов \n",
    "- Обработать имеющиеся пропуски, заполнить их данными, избавиться от не нужных столбцов\n",
    "- Преобразовать данные в нужные типы для удобства работы с ними\n",
    "- Проанализировать соотношение игр с оценкой и без оценки, отметить динамику изменений этого соотношения за анализируемые период \n",
    "- Сделать промежуточные выводы\n",
    "- Провести исследовательский анализ данных\n",
    "- Проанализировать суммарные объемы продаж (по годам, по платформам)\n",
    "- Проанализировать продажи наиболее популярных платформ по годам\n",
    "- Определить период высокого спроса для каждой из платформ\n",
    "- Определяем потенциально прибыльные платформы, визуализируем данные\n",
    "- Сортируем платформы по объёму суммарных продаж \n",
    "- Проанализировать продажи по всем годам для всех платформ\n",
    "- Сделать промежуточные выводы после проведенного исследовательского анализа данных\n",
    "- Составить портрет пользователя из каждого региона\n",
    "- Определить топ-5 платформ в Северной Америке, Европе, Японии, других странах\n",
    "- Визуализировать полученную статистику\n",
    "- Выявить наиболее популярные жанры (топ-5) в Северной Америке, Европе, Японии, других странах\n",
    "- Визуализировать полученные данные\n",
    "- Сделать промежуточные выводы\n",
    "- Проверить гипотезы, используя стандартный t-тест\n",
    "\t1. Средние пользовательские рейтинги платформ Xbox One и PC одинаковые;\n",
    "\t2. Средние пользовательские рейтинги жанров Action (англ. «действие», экшен-игры) и Sports (англ. «спортивные соревнования») разные.\n",
    "- Описать общие выводы по проекту\n",
    "\n",
    "<font size=\"2\">([Назад](#0.0))</font>"
   ]
  },
  {
   "cell_type": "markdown",
   "metadata": {},
   "source": [
    "### Описание данных:"
   ]
  },
  {
   "cell_type": "markdown",
   "metadata": {},
   "source": [
    "<a name=\"0.1.\"></a>\n",
    "Name — название игры <br>\n",
    "Platform — платформа<br>\n",
    "Year_of_Release — год выпуска<br>\n",
    "Genre — жанр игры<br>\n",
    "NA_sales — продажи в Северной Америке (миллионы проданных копий)<br>\n",
    "EU_sales — продажи в Европе (миллионы проданных копий)<br>\n",
    "JP_sales — продажи в Японии (миллионы проданных копий)<br>\n",
    "Other_sales — продажи в других странах (миллионы проданных копий)<br>\n",
    "Critic_Score — оценка критиков (максимум 100)<br>\n",
    "User_Score — оценка пользователей (максимум 10)<br>\n",
    "Rating — рейтинг от организации ESRB (англ. Entertainment Software Rating Board). Эта ассоциация определяет рейтинг компьютерных игр и присваивает им подходящую возрастную категорию.<br>\n",
    "Данные за 2016 год могут быть неполными.\n",
    "\n",
    "<font size=\"2\">([Назад](#0.0))</font>"
   ]
  },
  {
   "cell_type": "markdown",
   "metadata": {},
   "source": [
    "### <a name=\"1.\"></a>\n",
    "# Шаг 1. Открываем файл и изучаем общую информацию\n",
    "<font size=\"2\">([Назад](#0.0))</font>"
   ]
  },
  {
   "cell_type": "markdown",
   "metadata": {},
   "source": [
    "<a name=\"1.1.\"></a>\n",
    "## Импорт библиотек\n",
    "\n",
    "<font size=\"2\">([Назад](#0.0))</font>"
   ]
  },
  {
   "cell_type": "code",
   "execution_count": 1,
   "metadata": {},
   "outputs": [],
   "source": [
    "import pandas as pd\n",
    "import re\n",
    "import numpy as np\n",
    "import matplotlib.pyplot as plt\n",
    "import seaborn as sns\n",
    "from scipy import stats as st\n",
    "from datetime import datetime\n",
    "\n",
    "# import warnings\n",
    "# warnings.simplefilter(action=\"ignore\", category=FutureWarning)\n",
    "\n",
    "# pd.set_option('display.max_rows', 5001) \n"
   ]
  },
  {
   "cell_type": "code",
   "execution_count": 2,
   "metadata": {},
   "outputs": [],
   "source": [
    "# подгружаю данные\n",
    "try:\n",
    "    data=pd.read_csv('games.csv')\n",
    "except:\n",
    "    data=pd.read_csv('/datasets/games.csv')"
   ]
  },
  {
   "cell_type": "markdown",
   "metadata": {},
   "source": [
    "<a name=\"1.2.\"></a>\n",
    "## Изучаем общую информацию\n",
    "\n",
    "<font size=\"2\">([Назад](#0.0))</font>"
   ]
  },
  {
   "cell_type": "code",
   "execution_count": 3,
   "metadata": {},
   "outputs": [
    {
     "data": {
      "text/html": [
       "<div>\n",
       "<style scoped>\n",
       "    .dataframe tbody tr th:only-of-type {\n",
       "        vertical-align: middle;\n",
       "    }\n",
       "\n",
       "    .dataframe tbody tr th {\n",
       "        vertical-align: top;\n",
       "    }\n",
       "\n",
       "    .dataframe thead th {\n",
       "        text-align: right;\n",
       "    }\n",
       "</style>\n",
       "<table border=\"1\" class=\"dataframe\">\n",
       "  <thead>\n",
       "    <tr style=\"text-align: right;\">\n",
       "      <th></th>\n",
       "      <th>Name</th>\n",
       "      <th>Platform</th>\n",
       "      <th>Year_of_Release</th>\n",
       "      <th>Genre</th>\n",
       "      <th>NA_sales</th>\n",
       "      <th>EU_sales</th>\n",
       "      <th>JP_sales</th>\n",
       "      <th>Other_sales</th>\n",
       "      <th>Critic_Score</th>\n",
       "      <th>User_Score</th>\n",
       "      <th>Rating</th>\n",
       "    </tr>\n",
       "  </thead>\n",
       "  <tbody>\n",
       "    <tr>\n",
       "      <th>0</th>\n",
       "      <td>Wii Sports</td>\n",
       "      <td>Wii</td>\n",
       "      <td>2006.0</td>\n",
       "      <td>Sports</td>\n",
       "      <td>41.36</td>\n",
       "      <td>28.96</td>\n",
       "      <td>3.77</td>\n",
       "      <td>8.45</td>\n",
       "      <td>76.0</td>\n",
       "      <td>8</td>\n",
       "      <td>E</td>\n",
       "    </tr>\n",
       "    <tr>\n",
       "      <th>1</th>\n",
       "      <td>Super Mario Bros.</td>\n",
       "      <td>NES</td>\n",
       "      <td>1985.0</td>\n",
       "      <td>Platform</td>\n",
       "      <td>29.08</td>\n",
       "      <td>3.58</td>\n",
       "      <td>6.81</td>\n",
       "      <td>0.77</td>\n",
       "      <td>NaN</td>\n",
       "      <td>NaN</td>\n",
       "      <td>NaN</td>\n",
       "    </tr>\n",
       "    <tr>\n",
       "      <th>2</th>\n",
       "      <td>Mario Kart Wii</td>\n",
       "      <td>Wii</td>\n",
       "      <td>2008.0</td>\n",
       "      <td>Racing</td>\n",
       "      <td>15.68</td>\n",
       "      <td>12.76</td>\n",
       "      <td>3.79</td>\n",
       "      <td>3.29</td>\n",
       "      <td>82.0</td>\n",
       "      <td>8.3</td>\n",
       "      <td>E</td>\n",
       "    </tr>\n",
       "    <tr>\n",
       "      <th>3</th>\n",
       "      <td>Wii Sports Resort</td>\n",
       "      <td>Wii</td>\n",
       "      <td>2009.0</td>\n",
       "      <td>Sports</td>\n",
       "      <td>15.61</td>\n",
       "      <td>10.93</td>\n",
       "      <td>3.28</td>\n",
       "      <td>2.95</td>\n",
       "      <td>80.0</td>\n",
       "      <td>8</td>\n",
       "      <td>E</td>\n",
       "    </tr>\n",
       "    <tr>\n",
       "      <th>4</th>\n",
       "      <td>Pokemon Red/Pokemon Blue</td>\n",
       "      <td>GB</td>\n",
       "      <td>1996.0</td>\n",
       "      <td>Role-Playing</td>\n",
       "      <td>11.27</td>\n",
       "      <td>8.89</td>\n",
       "      <td>10.22</td>\n",
       "      <td>1.00</td>\n",
       "      <td>NaN</td>\n",
       "      <td>NaN</td>\n",
       "      <td>NaN</td>\n",
       "    </tr>\n",
       "  </tbody>\n",
       "</table>\n",
       "</div>"
      ],
      "text/plain": [
       "                       Name Platform  Year_of_Release         Genre  NA_sales  \\\n",
       "0                Wii Sports      Wii           2006.0        Sports     41.36   \n",
       "1         Super Mario Bros.      NES           1985.0      Platform     29.08   \n",
       "2            Mario Kart Wii      Wii           2008.0        Racing     15.68   \n",
       "3         Wii Sports Resort      Wii           2009.0        Sports     15.61   \n",
       "4  Pokemon Red/Pokemon Blue       GB           1996.0  Role-Playing     11.27   \n",
       "\n",
       "   EU_sales  JP_sales  Other_sales  Critic_Score User_Score Rating  \n",
       "0     28.96      3.77         8.45          76.0          8      E  \n",
       "1      3.58      6.81         0.77           NaN        NaN    NaN  \n",
       "2     12.76      3.79         3.29          82.0        8.3      E  \n",
       "3     10.93      3.28         2.95          80.0          8      E  \n",
       "4      8.89     10.22         1.00           NaN        NaN    NaN  "
      ]
     },
     "execution_count": 3,
     "metadata": {},
     "output_type": "execute_result"
    }
   ],
   "source": [
    "# Ознакомимся с данными\n",
    "data.head()"
   ]
  },
  {
   "cell_type": "code",
   "execution_count": 4,
   "metadata": {
    "scrolled": true
   },
   "outputs": [
    {
     "data": {
      "text/html": [
       "<div>\n",
       "<style scoped>\n",
       "    .dataframe tbody tr th:only-of-type {\n",
       "        vertical-align: middle;\n",
       "    }\n",
       "\n",
       "    .dataframe tbody tr th {\n",
       "        vertical-align: top;\n",
       "    }\n",
       "\n",
       "    .dataframe thead th {\n",
       "        text-align: right;\n",
       "    }\n",
       "</style>\n",
       "<table border=\"1\" class=\"dataframe\">\n",
       "  <thead>\n",
       "    <tr style=\"text-align: right;\">\n",
       "      <th></th>\n",
       "      <th>Year_of_Release</th>\n",
       "      <th>NA_sales</th>\n",
       "      <th>EU_sales</th>\n",
       "      <th>JP_sales</th>\n",
       "      <th>Other_sales</th>\n",
       "      <th>Critic_Score</th>\n",
       "    </tr>\n",
       "  </thead>\n",
       "  <tbody>\n",
       "    <tr>\n",
       "      <th>count</th>\n",
       "      <td>16446.000000</td>\n",
       "      <td>16715.000000</td>\n",
       "      <td>16715.000000</td>\n",
       "      <td>16715.000000</td>\n",
       "      <td>16715.000000</td>\n",
       "      <td>8137.000000</td>\n",
       "    </tr>\n",
       "    <tr>\n",
       "      <th>mean</th>\n",
       "      <td>2006.484616</td>\n",
       "      <td>0.263377</td>\n",
       "      <td>0.145060</td>\n",
       "      <td>0.077617</td>\n",
       "      <td>0.047342</td>\n",
       "      <td>68.967679</td>\n",
       "    </tr>\n",
       "    <tr>\n",
       "      <th>std</th>\n",
       "      <td>5.877050</td>\n",
       "      <td>0.813604</td>\n",
       "      <td>0.503339</td>\n",
       "      <td>0.308853</td>\n",
       "      <td>0.186731</td>\n",
       "      <td>13.938165</td>\n",
       "    </tr>\n",
       "    <tr>\n",
       "      <th>min</th>\n",
       "      <td>1980.000000</td>\n",
       "      <td>0.000000</td>\n",
       "      <td>0.000000</td>\n",
       "      <td>0.000000</td>\n",
       "      <td>0.000000</td>\n",
       "      <td>13.000000</td>\n",
       "    </tr>\n",
       "    <tr>\n",
       "      <th>25%</th>\n",
       "      <td>2003.000000</td>\n",
       "      <td>0.000000</td>\n",
       "      <td>0.000000</td>\n",
       "      <td>0.000000</td>\n",
       "      <td>0.000000</td>\n",
       "      <td>60.000000</td>\n",
       "    </tr>\n",
       "    <tr>\n",
       "      <th>50%</th>\n",
       "      <td>2007.000000</td>\n",
       "      <td>0.080000</td>\n",
       "      <td>0.020000</td>\n",
       "      <td>0.000000</td>\n",
       "      <td>0.010000</td>\n",
       "      <td>71.000000</td>\n",
       "    </tr>\n",
       "    <tr>\n",
       "      <th>75%</th>\n",
       "      <td>2010.000000</td>\n",
       "      <td>0.240000</td>\n",
       "      <td>0.110000</td>\n",
       "      <td>0.040000</td>\n",
       "      <td>0.030000</td>\n",
       "      <td>79.000000</td>\n",
       "    </tr>\n",
       "    <tr>\n",
       "      <th>max</th>\n",
       "      <td>2016.000000</td>\n",
       "      <td>41.360000</td>\n",
       "      <td>28.960000</td>\n",
       "      <td>10.220000</td>\n",
       "      <td>10.570000</td>\n",
       "      <td>98.000000</td>\n",
       "    </tr>\n",
       "  </tbody>\n",
       "</table>\n",
       "</div>"
      ],
      "text/plain": [
       "       Year_of_Release      NA_sales      EU_sales      JP_sales  \\\n",
       "count     16446.000000  16715.000000  16715.000000  16715.000000   \n",
       "mean       2006.484616      0.263377      0.145060      0.077617   \n",
       "std           5.877050      0.813604      0.503339      0.308853   \n",
       "min        1980.000000      0.000000      0.000000      0.000000   \n",
       "25%        2003.000000      0.000000      0.000000      0.000000   \n",
       "50%        2007.000000      0.080000      0.020000      0.000000   \n",
       "75%        2010.000000      0.240000      0.110000      0.040000   \n",
       "max        2016.000000     41.360000     28.960000     10.220000   \n",
       "\n",
       "        Other_sales  Critic_Score  \n",
       "count  16715.000000   8137.000000  \n",
       "mean       0.047342     68.967679  \n",
       "std        0.186731     13.938165  \n",
       "min        0.000000     13.000000  \n",
       "25%        0.000000     60.000000  \n",
       "50%        0.010000     71.000000  \n",
       "75%        0.030000     79.000000  \n",
       "max       10.570000     98.000000  "
      ]
     },
     "execution_count": 4,
     "metadata": {},
     "output_type": "execute_result"
    }
   ],
   "source": [
    "data.describe()"
   ]
  },
  {
   "cell_type": "code",
   "execution_count": 5,
   "metadata": {},
   "outputs": [
    {
     "name": "stdout",
     "output_type": "stream",
     "text": [
      "<class 'pandas.core.frame.DataFrame'>\n",
      "RangeIndex: 16715 entries, 0 to 16714\n",
      "Data columns (total 11 columns):\n",
      " #   Column           Non-Null Count  Dtype  \n",
      "---  ------           --------------  -----  \n",
      " 0   Name             16713 non-null  object \n",
      " 1   Platform         16715 non-null  object \n",
      " 2   Year_of_Release  16446 non-null  float64\n",
      " 3   Genre            16713 non-null  object \n",
      " 4   NA_sales         16715 non-null  float64\n",
      " 5   EU_sales         16715 non-null  float64\n",
      " 6   JP_sales         16715 non-null  float64\n",
      " 7   Other_sales      16715 non-null  float64\n",
      " 8   Critic_Score     8137 non-null   float64\n",
      " 9   User_Score       10014 non-null  object \n",
      " 10  Rating           9949 non-null   object \n",
      "dtypes: float64(6), object(5)\n",
      "memory usage: 1.4+ MB\n"
     ]
    }
   ],
   "source": [
    "data.info()"
   ]
  },
  {
   "cell_type": "code",
   "execution_count": 6,
   "metadata": {},
   "outputs": [
    {
     "data": {
      "text/plain": [
       "11560"
      ]
     },
     "execution_count": 6,
     "metadata": {},
     "output_type": "execute_result"
    }
   ],
   "source": [
    "# Количество уникальных названий игр в базе данных\n",
    "len(data['Name'].unique())"
   ]
  },
  {
   "cell_type": "code",
   "execution_count": 7,
   "metadata": {
    "scrolled": true
   },
   "outputs": [
    {
     "data": {
      "text/plain": [
       "PS2     2161\n",
       "DS      2151\n",
       "PS3     1331\n",
       "Wii     1320\n",
       "X360    1262\n",
       "PSP     1209\n",
       "PS      1197\n",
       "PC       974\n",
       "XB       824\n",
       "GBA      822\n",
       "GC       556\n",
       "3DS      520\n",
       "PSV      430\n",
       "PS4      392\n",
       "N64      319\n",
       "XOne     247\n",
       "SNES     239\n",
       "SAT      173\n",
       "WiiU     147\n",
       "2600     133\n",
       "NES       98\n",
       "GB        98\n",
       "DC        52\n",
       "GEN       29\n",
       "NG        12\n",
       "SCD        6\n",
       "WS         6\n",
       "3DO        3\n",
       "TG16       2\n",
       "GG         1\n",
       "PCFX       1\n",
       "Name: Platform, dtype: int64"
      ]
     },
     "execution_count": 7,
     "metadata": {},
     "output_type": "execute_result"
    }
   ],
   "source": [
    "# Количество выпущенных игр на разных платформах\n",
    "data['Platform'].value_counts()"
   ]
  },
  {
   "cell_type": "code",
   "execution_count": 8,
   "metadata": {},
   "outputs": [
    {
     "data": {
      "text/plain": [
       "Action          3369\n",
       "Sports          2348\n",
       "Misc            1750\n",
       "Role-Playing    1498\n",
       "Shooter         1323\n",
       "Adventure       1303\n",
       "Racing          1249\n",
       "Platform         888\n",
       "Simulation       873\n",
       "Fighting         849\n",
       "Strategy         683\n",
       "Puzzle           580\n",
       "Name: Genre, dtype: int64"
      ]
     },
     "execution_count": 8,
     "metadata": {},
     "output_type": "execute_result"
    }
   ],
   "source": [
    "# Количество выпущенных игр различных жанров\n",
    "data['Genre'].value_counts()"
   ]
  },
  {
   "cell_type": "code",
   "execution_count": 9,
   "metadata": {},
   "outputs": [
    {
     "data": {
      "text/plain": [
       "NaN    6701\n",
       "tbd    2424\n",
       "7.8     324\n",
       "8       290\n",
       "8.2     282\n",
       "       ... \n",
       "1.1       2\n",
       "1.9       2\n",
       "9.6       2\n",
       "0         1\n",
       "9.7       1\n",
       "Name: User_Score, Length: 97, dtype: int64"
      ]
     },
     "execution_count": 9,
     "metadata": {},
     "output_type": "execute_result"
    }
   ],
   "source": [
    "# Оценки игроков\n",
    "data['User_Score'].value_counts(dropna=False)"
   ]
  },
  {
   "cell_type": "code",
   "execution_count": 10,
   "metadata": {},
   "outputs": [
    {
     "data": {
      "text/plain": [
       "NaN     8578\n",
       "70.0     256\n",
       "71.0     254\n",
       "75.0     245\n",
       "78.0     240\n",
       "        ... \n",
       "20.0       3\n",
       "21.0       1\n",
       "17.0       1\n",
       "22.0       1\n",
       "13.0       1\n",
       "Name: Critic_Score, Length: 83, dtype: int64"
      ]
     },
     "execution_count": 10,
     "metadata": {},
     "output_type": "execute_result"
    }
   ],
   "source": [
    "# Оценки критиков\n",
    "data['Critic_Score'].value_counts(dropna=False)"
   ]
  },
  {
   "cell_type": "code",
   "execution_count": 11,
   "metadata": {},
   "outputs": [
    {
     "data": {
      "text/plain": [
       "NaN     6766\n",
       "E       3990\n",
       "T       2961\n",
       "M       1563\n",
       "E10+    1420\n",
       "EC         8\n",
       "K-A        3\n",
       "RP         3\n",
       "AO         1\n",
       "Name: Rating, dtype: int64"
      ]
     },
     "execution_count": 11,
     "metadata": {},
     "output_type": "execute_result"
    }
   ],
   "source": [
    "# Количество выпущенных для различных возрастных групп\n",
    "data['Rating'].value_counts(dropna=False)"
   ]
  },
  {
   "cell_type": "code",
   "execution_count": 12,
   "metadata": {},
   "outputs": [
    {
     "data": {
      "text/plain": [
       "0"
      ]
     },
     "execution_count": 12,
     "metadata": {},
     "output_type": "execute_result"
    }
   ],
   "source": [
    "# Проверка на дубликаты\n",
    "data.duplicated().sum()"
   ]
  },
  {
   "cell_type": "code",
   "execution_count": 13,
   "metadata": {},
   "outputs": [
    {
     "data": {
      "text/plain": [
       "5155"
      ]
     },
     "execution_count": 13,
     "metadata": {},
     "output_type": "execute_result"
    }
   ],
   "source": [
    "data_name_repeated = data[[\"Name\", \"Platform\"]]\n",
    "data_name_repeated.duplicated('Name').sum()"
   ]
  },
  {
   "cell_type": "markdown",
   "metadata": {},
   "source": [
    "Было выявлено 5155 повторов. Это связано с тем, что одни и те же игры выпускаются на различных платформах.</font></h5>    \n",
    "\n",
    "</div> "
   ]
  },
  {
   "cell_type": "markdown",
   "metadata": {},
   "source": [
    "### Вывод"
   ]
  },
  {
   "cell_type": "markdown",
   "metadata": {},
   "source": [
    "<a name=\"1.3.\"></a>\n",
    "Нам предстоит проанализировать данные из двумерной таблцы (16715 x 11), предположить причины возникновения пропусков (наиболее количество пропусков есть в столбцах “Critic_Score” и “Rating”. Должно быть, что это связано с тем, что не для всех игр была возможность сформировать рейтинг, так как старые игры потеряли свою актуальность и не пользуются большим спросом у геймеров, а вновь вышедшие игры ещё не успели получить обзор от критиков. Также, можно отметить, что большое количество нулевых значений обнаружено в столбце с количеством проданных копий. <br>\n",
    "\n",
    "Было выявлено 11560 уникальных названий игр. Наибольшее количество игр было выпущено для PS2, DS, PS3, Wii, X360. Наиболее популярными жанрами среди геймеров являются Action, Sports, Music. Выявлено 2424 записи tbd среди оценок пользователей. Подавляющее количество игр производится для возрастных групп: E, T, M. Дубликаты отсутствуют. \n",
    "<font size=\"2\">([Назад](#0.0))</font>"
   ]
  },
  {
   "cell_type": "markdown",
   "metadata": {},
   "source": [
    "Американское рейтинговое агенство заинтересовано в играх, которые популярны на территории Америки и Канады.</font></h5>  \n",
    "    \n",
    "В данных присутствует информация о компьютерных играх, выпущенных за период с 1980 по 2016 года, причем преобладает количество игр, выпущенных после 2000 года. Количество значений в столбцах продаж одинаковое, скорее всего пропуски содержаться в одних и тех же строках, значения варьируются от десятков тысяч до десятков миллионов (за игру). В столбцах Critic_Score, User_Score и Rating около половины пропущенных данных, это может быть связано с тем, что при первых играх не устанавливали различные рейтинги и отзывы, а также то, что непопулярные игры не привлекают внимания ни пользователей, ни критиков.\n",
    "\n",
    "</div> "
   ]
  },
  {
   "cell_type": "markdown",
   "metadata": {},
   "source": [
    "<a name=\"2.\"></a>\n",
    "# Шаг 2. Подготавливаем данные\n",
    "\n",
    "<font size=\"2\">([Назад](#0.0))</font>"
   ]
  },
  {
   "cell_type": "markdown",
   "metadata": {},
   "source": [
    "<a name=\"2.1.\"></a>\n",
    "## Приводим названия столбцов к нижнему регистру\n",
    "<font size=\"2\">([Назад](#0.0))</font>"
   ]
  },
  {
   "cell_type": "code",
   "execution_count": 14,
   "metadata": {},
   "outputs": [
    {
     "data": {
      "text/plain": [
       "Index(['name', 'platform', 'year_of_release', 'genre', 'na_sales', 'eu_sales',\n",
       "       'jp_sales', 'other_sales', 'critic_score', 'user_score', 'rating'],\n",
       "      dtype='object')"
      ]
     },
     "execution_count": 14,
     "metadata": {},
     "output_type": "execute_result"
    }
   ],
   "source": [
    "data.columns = data.columns.str.lower()\n",
    "data.columns"
   ]
  },
  {
   "cell_type": "code",
   "execution_count": 15,
   "metadata": {},
   "outputs": [
    {
     "data": {
      "text/plain": [
       "array(['Wii', 'NES', 'GB', 'DS', 'X360', 'PS3', 'PS2', 'SNES', 'GBA',\n",
       "       'PS4', '3DS', 'N64', 'PS', 'XB', 'PC', '2600', 'PSP', 'XOne',\n",
       "       'WiiU', 'GC', 'GEN', 'DC', 'PSV', 'SAT', 'SCD', 'WS', 'NG', 'TG16',\n",
       "       '3DO', 'GG', 'PCFX'], dtype=object)"
      ]
     },
     "execution_count": 15,
     "metadata": {},
     "output_type": "execute_result"
    }
   ],
   "source": [
    "# Список уникальных платформ\n",
    "data['platform'].unique()"
   ]
  },
  {
   "cell_type": "code",
   "execution_count": 16,
   "metadata": {},
   "outputs": [
    {
     "data": {
      "text/plain": [
       "array(['E', nan, 'M', 'T', 'E10+', 'K-A', 'AO', 'EC', 'RP'], dtype=object)"
      ]
     },
     "execution_count": 16,
     "metadata": {},
     "output_type": "execute_result"
    }
   ],
   "source": [
    "# Список уникальных рейтингов\n",
    "data['rating'].unique()"
   ]
  },
  {
   "cell_type": "code",
   "execution_count": 17,
   "metadata": {
    "scrolled": true
   },
   "outputs": [
    {
     "data": {
      "text/html": [
       "<div>\n",
       "<style scoped>\n",
       "    .dataframe tbody tr th:only-of-type {\n",
       "        vertical-align: middle;\n",
       "    }\n",
       "\n",
       "    .dataframe tbody tr th {\n",
       "        vertical-align: top;\n",
       "    }\n",
       "\n",
       "    .dataframe thead th {\n",
       "        text-align: right;\n",
       "    }\n",
       "</style>\n",
       "<table border=\"1\" class=\"dataframe\">\n",
       "  <thead>\n",
       "    <tr style=\"text-align: right;\">\n",
       "      <th></th>\n",
       "      <th>name</th>\n",
       "      <th>platform</th>\n",
       "      <th>year_of_release</th>\n",
       "      <th>genre</th>\n",
       "      <th>na_sales</th>\n",
       "      <th>eu_sales</th>\n",
       "      <th>jp_sales</th>\n",
       "      <th>other_sales</th>\n",
       "      <th>critic_score</th>\n",
       "      <th>user_score</th>\n",
       "      <th>rating</th>\n",
       "    </tr>\n",
       "  </thead>\n",
       "  <tbody>\n",
       "    <tr>\n",
       "      <th>659</th>\n",
       "      <td>NaN</td>\n",
       "      <td>GEN</td>\n",
       "      <td>1993.0</td>\n",
       "      <td>NaN</td>\n",
       "      <td>1.78</td>\n",
       "      <td>0.53</td>\n",
       "      <td>0.00</td>\n",
       "      <td>0.08</td>\n",
       "      <td>NaN</td>\n",
       "      <td>NaN</td>\n",
       "      <td>NaN</td>\n",
       "    </tr>\n",
       "    <tr>\n",
       "      <th>14244</th>\n",
       "      <td>NaN</td>\n",
       "      <td>GEN</td>\n",
       "      <td>1993.0</td>\n",
       "      <td>NaN</td>\n",
       "      <td>0.00</td>\n",
       "      <td>0.00</td>\n",
       "      <td>0.03</td>\n",
       "      <td>0.00</td>\n",
       "      <td>NaN</td>\n",
       "      <td>NaN</td>\n",
       "      <td>NaN</td>\n",
       "    </tr>\n",
       "  </tbody>\n",
       "</table>\n",
       "</div>"
      ],
      "text/plain": [
       "      name platform  year_of_release genre  na_sales  eu_sales  jp_sales  \\\n",
       "659    NaN      GEN           1993.0   NaN      1.78      0.53      0.00   \n",
       "14244  NaN      GEN           1993.0   NaN      0.00      0.00      0.03   \n",
       "\n",
       "       other_sales  critic_score user_score rating  \n",
       "659           0.08           NaN        NaN    NaN  \n",
       "14244         0.00           NaN        NaN    NaN  "
      ]
     },
     "execution_count": 17,
     "metadata": {},
     "output_type": "execute_result"
    }
   ],
   "source": [
    "# Найдём игры без названия\n",
    "data[data['name'].isnull()]"
   ]
  },
  {
   "cell_type": "markdown",
   "metadata": {},
   "source": [
    "<a name=\"2.2.\"></a>\n",
    "## Обрабатываем пропуски\n",
    "<font size=\"2\">([Назад](#0.0))</font>"
   ]
  },
  {
   "cell_type": "code",
   "execution_count": 18,
   "metadata": {},
   "outputs": [
    {
     "data": {
      "text/plain": [
       "name                  2\n",
       "platform              0\n",
       "year_of_release     269\n",
       "genre                 2\n",
       "na_sales              0\n",
       "eu_sales              0\n",
       "jp_sales              0\n",
       "other_sales           0\n",
       "critic_score       8578\n",
       "user_score         6701\n",
       "rating             6766\n",
       "dtype: int64"
      ]
     },
     "execution_count": 18,
     "metadata": {},
     "output_type": "execute_result"
    }
   ],
   "source": [
    "data.isna().sum()"
   ]
  },
  {
   "cell_type": "code",
   "execution_count": 19,
   "metadata": {},
   "outputs": [
    {
     "data": {
      "text/plain": [
       "(16715, 11)"
      ]
     },
     "execution_count": 19,
     "metadata": {},
     "output_type": "execute_result"
    }
   ],
   "source": [
    "data.shape"
   ]
  },
  {
   "cell_type": "code",
   "execution_count": 20,
   "metadata": {
    "scrolled": true
   },
   "outputs": [
    {
     "data": {
      "text/html": [
       "<div>\n",
       "<style scoped>\n",
       "    .dataframe tbody tr th:only-of-type {\n",
       "        vertical-align: middle;\n",
       "    }\n",
       "\n",
       "    .dataframe tbody tr th {\n",
       "        vertical-align: top;\n",
       "    }\n",
       "\n",
       "    .dataframe thead th {\n",
       "        text-align: right;\n",
       "    }\n",
       "</style>\n",
       "<table border=\"1\" class=\"dataframe\">\n",
       "  <thead>\n",
       "    <tr style=\"text-align: right;\">\n",
       "      <th></th>\n",
       "      <th>name</th>\n",
       "      <th>platform</th>\n",
       "      <th>year_of_release</th>\n",
       "      <th>genre</th>\n",
       "      <th>na_sales</th>\n",
       "      <th>eu_sales</th>\n",
       "      <th>jp_sales</th>\n",
       "      <th>other_sales</th>\n",
       "      <th>critic_score</th>\n",
       "      <th>user_score</th>\n",
       "      <th>rating</th>\n",
       "    </tr>\n",
       "  </thead>\n",
       "  <tbody>\n",
       "    <tr>\n",
       "      <th>659</th>\n",
       "      <td>NaN</td>\n",
       "      <td>GEN</td>\n",
       "      <td>1993.0</td>\n",
       "      <td>NaN</td>\n",
       "      <td>1.78</td>\n",
       "      <td>0.53</td>\n",
       "      <td>0.00</td>\n",
       "      <td>0.08</td>\n",
       "      <td>NaN</td>\n",
       "      <td>NaN</td>\n",
       "      <td>NaN</td>\n",
       "    </tr>\n",
       "    <tr>\n",
       "      <th>14244</th>\n",
       "      <td>NaN</td>\n",
       "      <td>GEN</td>\n",
       "      <td>1993.0</td>\n",
       "      <td>NaN</td>\n",
       "      <td>0.00</td>\n",
       "      <td>0.00</td>\n",
       "      <td>0.03</td>\n",
       "      <td>0.00</td>\n",
       "      <td>NaN</td>\n",
       "      <td>NaN</td>\n",
       "      <td>NaN</td>\n",
       "    </tr>\n",
       "  </tbody>\n",
       "</table>\n",
       "</div>"
      ],
      "text/plain": [
       "      name platform  year_of_release genre  na_sales  eu_sales  jp_sales  \\\n",
       "659    NaN      GEN           1993.0   NaN      1.78      0.53      0.00   \n",
       "14244  NaN      GEN           1993.0   NaN      0.00      0.00      0.03   \n",
       "\n",
       "       other_sales  critic_score user_score rating  \n",
       "659           0.08           NaN        NaN    NaN  \n",
       "14244         0.00           NaN        NaN    NaN  "
      ]
     },
     "execution_count": 20,
     "metadata": {},
     "output_type": "execute_result"
    }
   ],
   "source": [
    "# Найдём игры без названия, удалим эти строки\n",
    "data[data['name'].isnull()]"
   ]
  },
  {
   "cell_type": "code",
   "execution_count": 21,
   "metadata": {},
   "outputs": [],
   "source": [
    "data.dropna(subset=['name'], inplace=True)"
   ]
  },
  {
   "cell_type": "code",
   "execution_count": 22,
   "metadata": {},
   "outputs": [
    {
     "data": {
      "text/plain": [
       "(16713, 11)"
      ]
     },
     "execution_count": 22,
     "metadata": {},
     "output_type": "execute_result"
    }
   ],
   "source": [
    "data.shape"
   ]
  },
  {
   "cell_type": "code",
   "execution_count": 23,
   "metadata": {},
   "outputs": [],
   "source": [
    "data.reset_index(drop=True,inplace=True)"
   ]
  },
  {
   "cell_type": "code",
   "execution_count": 24,
   "metadata": {},
   "outputs": [
    {
     "name": "stdout",
     "output_type": "stream",
     "text": [
      "<class 'pandas.core.frame.DataFrame'>\n",
      "RangeIndex: 16713 entries, 0 to 16712\n",
      "Data columns (total 11 columns):\n",
      " #   Column           Non-Null Count  Dtype  \n",
      "---  ------           --------------  -----  \n",
      " 0   name             16713 non-null  object \n",
      " 1   platform         16713 non-null  object \n",
      " 2   year_of_release  16444 non-null  float64\n",
      " 3   genre            16713 non-null  object \n",
      " 4   na_sales         16713 non-null  float64\n",
      " 5   eu_sales         16713 non-null  float64\n",
      " 6   jp_sales         16713 non-null  float64\n",
      " 7   other_sales      16713 non-null  float64\n",
      " 8   critic_score     8137 non-null   float64\n",
      " 9   user_score       10014 non-null  object \n",
      " 10  rating           9949 non-null   object \n",
      "dtypes: float64(6), object(5)\n",
      "memory usage: 1.4+ MB\n"
     ]
    }
   ],
   "source": [
    "data.info()"
   ]
  },
  {
   "cell_type": "code",
   "execution_count": 25,
   "metadata": {
    "scrolled": true
   },
   "outputs": [
    {
     "data": {
      "text/html": [
       "<div>\n",
       "<style scoped>\n",
       "    .dataframe tbody tr th:only-of-type {\n",
       "        vertical-align: middle;\n",
       "    }\n",
       "\n",
       "    .dataframe tbody tr th {\n",
       "        vertical-align: top;\n",
       "    }\n",
       "\n",
       "    .dataframe thead th {\n",
       "        text-align: right;\n",
       "    }\n",
       "</style>\n",
       "<table border=\"1\" class=\"dataframe\">\n",
       "  <thead>\n",
       "    <tr style=\"text-align: right;\">\n",
       "      <th></th>\n",
       "      <th>name</th>\n",
       "      <th>platform</th>\n",
       "      <th>year_of_release</th>\n",
       "      <th>genre</th>\n",
       "      <th>na_sales</th>\n",
       "      <th>eu_sales</th>\n",
       "      <th>jp_sales</th>\n",
       "      <th>other_sales</th>\n",
       "      <th>critic_score</th>\n",
       "      <th>user_score</th>\n",
       "      <th>rating</th>\n",
       "    </tr>\n",
       "  </thead>\n",
       "  <tbody>\n",
       "    <tr>\n",
       "      <th>183</th>\n",
       "      <td>Madden NFL 2004</td>\n",
       "      <td>PS2</td>\n",
       "      <td>NaN</td>\n",
       "      <td>Sports</td>\n",
       "      <td>4.26</td>\n",
       "      <td>0.26</td>\n",
       "      <td>0.01</td>\n",
       "      <td>0.71</td>\n",
       "      <td>94.0</td>\n",
       "      <td>8.5</td>\n",
       "      <td>E</td>\n",
       "    </tr>\n",
       "    <tr>\n",
       "      <th>377</th>\n",
       "      <td>FIFA Soccer 2004</td>\n",
       "      <td>PS2</td>\n",
       "      <td>NaN</td>\n",
       "      <td>Sports</td>\n",
       "      <td>0.59</td>\n",
       "      <td>2.36</td>\n",
       "      <td>0.04</td>\n",
       "      <td>0.51</td>\n",
       "      <td>84.0</td>\n",
       "      <td>6.4</td>\n",
       "      <td>E</td>\n",
       "    </tr>\n",
       "    <tr>\n",
       "      <th>456</th>\n",
       "      <td>LEGO Batman: The Videogame</td>\n",
       "      <td>Wii</td>\n",
       "      <td>NaN</td>\n",
       "      <td>Action</td>\n",
       "      <td>1.80</td>\n",
       "      <td>0.97</td>\n",
       "      <td>0.00</td>\n",
       "      <td>0.29</td>\n",
       "      <td>74.0</td>\n",
       "      <td>7.9</td>\n",
       "      <td>E10+</td>\n",
       "    </tr>\n",
       "    <tr>\n",
       "      <th>475</th>\n",
       "      <td>wwe Smackdown vs. Raw 2006</td>\n",
       "      <td>PS2</td>\n",
       "      <td>NaN</td>\n",
       "      <td>Fighting</td>\n",
       "      <td>1.57</td>\n",
       "      <td>1.02</td>\n",
       "      <td>0.00</td>\n",
       "      <td>0.41</td>\n",
       "      <td>NaN</td>\n",
       "      <td>NaN</td>\n",
       "      <td>NaN</td>\n",
       "    </tr>\n",
       "    <tr>\n",
       "      <th>609</th>\n",
       "      <td>Space Invaders</td>\n",
       "      <td>2600</td>\n",
       "      <td>NaN</td>\n",
       "      <td>Shooter</td>\n",
       "      <td>2.36</td>\n",
       "      <td>0.14</td>\n",
       "      <td>0.00</td>\n",
       "      <td>0.03</td>\n",
       "      <td>NaN</td>\n",
       "      <td>NaN</td>\n",
       "      <td>NaN</td>\n",
       "    </tr>\n",
       "    <tr>\n",
       "      <th>...</th>\n",
       "      <td>...</td>\n",
       "      <td>...</td>\n",
       "      <td>...</td>\n",
       "      <td>...</td>\n",
       "      <td>...</td>\n",
       "      <td>...</td>\n",
       "      <td>...</td>\n",
       "      <td>...</td>\n",
       "      <td>...</td>\n",
       "      <td>...</td>\n",
       "      <td>...</td>\n",
       "    </tr>\n",
       "    <tr>\n",
       "      <th>16371</th>\n",
       "      <td>PDC World Championship Darts 2008</td>\n",
       "      <td>PSP</td>\n",
       "      <td>NaN</td>\n",
       "      <td>Sports</td>\n",
       "      <td>0.01</td>\n",
       "      <td>0.00</td>\n",
       "      <td>0.00</td>\n",
       "      <td>0.00</td>\n",
       "      <td>43.0</td>\n",
       "      <td>tbd</td>\n",
       "      <td>E10+</td>\n",
       "    </tr>\n",
       "    <tr>\n",
       "      <th>16403</th>\n",
       "      <td>Freaky Flyers</td>\n",
       "      <td>GC</td>\n",
       "      <td>NaN</td>\n",
       "      <td>Racing</td>\n",
       "      <td>0.01</td>\n",
       "      <td>0.00</td>\n",
       "      <td>0.00</td>\n",
       "      <td>0.00</td>\n",
       "      <td>69.0</td>\n",
       "      <td>6.5</td>\n",
       "      <td>T</td>\n",
       "    </tr>\n",
       "    <tr>\n",
       "      <th>16446</th>\n",
       "      <td>Inversion</td>\n",
       "      <td>PC</td>\n",
       "      <td>NaN</td>\n",
       "      <td>Shooter</td>\n",
       "      <td>0.01</td>\n",
       "      <td>0.00</td>\n",
       "      <td>0.00</td>\n",
       "      <td>0.00</td>\n",
       "      <td>59.0</td>\n",
       "      <td>6.7</td>\n",
       "      <td>M</td>\n",
       "    </tr>\n",
       "    <tr>\n",
       "      <th>16456</th>\n",
       "      <td>Hakuouki: Shinsengumi Kitan</td>\n",
       "      <td>PS3</td>\n",
       "      <td>NaN</td>\n",
       "      <td>Adventure</td>\n",
       "      <td>0.01</td>\n",
       "      <td>0.00</td>\n",
       "      <td>0.00</td>\n",
       "      <td>0.00</td>\n",
       "      <td>NaN</td>\n",
       "      <td>NaN</td>\n",
       "      <td>NaN</td>\n",
       "    </tr>\n",
       "    <tr>\n",
       "      <th>16520</th>\n",
       "      <td>Virtua Quest</td>\n",
       "      <td>GC</td>\n",
       "      <td>NaN</td>\n",
       "      <td>Role-Playing</td>\n",
       "      <td>0.01</td>\n",
       "      <td>0.00</td>\n",
       "      <td>0.00</td>\n",
       "      <td>0.00</td>\n",
       "      <td>55.0</td>\n",
       "      <td>5.5</td>\n",
       "      <td>T</td>\n",
       "    </tr>\n",
       "  </tbody>\n",
       "</table>\n",
       "<p>269 rows × 11 columns</p>\n",
       "</div>"
      ],
      "text/plain": [
       "                                    name platform  year_of_release  \\\n",
       "183                      Madden NFL 2004      PS2              NaN   \n",
       "377                     FIFA Soccer 2004      PS2              NaN   \n",
       "456           LEGO Batman: The Videogame      Wii              NaN   \n",
       "475           wwe Smackdown vs. Raw 2006      PS2              NaN   \n",
       "609                       Space Invaders     2600              NaN   \n",
       "...                                  ...      ...              ...   \n",
       "16371  PDC World Championship Darts 2008      PSP              NaN   \n",
       "16403                      Freaky Flyers       GC              NaN   \n",
       "16446                          Inversion       PC              NaN   \n",
       "16456        Hakuouki: Shinsengumi Kitan      PS3              NaN   \n",
       "16520                       Virtua Quest       GC              NaN   \n",
       "\n",
       "              genre  na_sales  eu_sales  jp_sales  other_sales  critic_score  \\\n",
       "183          Sports      4.26      0.26      0.01         0.71          94.0   \n",
       "377          Sports      0.59      2.36      0.04         0.51          84.0   \n",
       "456          Action      1.80      0.97      0.00         0.29          74.0   \n",
       "475        Fighting      1.57      1.02      0.00         0.41           NaN   \n",
       "609         Shooter      2.36      0.14      0.00         0.03           NaN   \n",
       "...             ...       ...       ...       ...          ...           ...   \n",
       "16371        Sports      0.01      0.00      0.00         0.00          43.0   \n",
       "16403        Racing      0.01      0.00      0.00         0.00          69.0   \n",
       "16446       Shooter      0.01      0.00      0.00         0.00          59.0   \n",
       "16456     Adventure      0.01      0.00      0.00         0.00           NaN   \n",
       "16520  Role-Playing      0.01      0.00      0.00         0.00          55.0   \n",
       "\n",
       "      user_score rating  \n",
       "183          8.5      E  \n",
       "377          6.4      E  \n",
       "456          7.9   E10+  \n",
       "475          NaN    NaN  \n",
       "609          NaN    NaN  \n",
       "...          ...    ...  \n",
       "16371        tbd   E10+  \n",
       "16403        6.5      T  \n",
       "16446        6.7      M  \n",
       "16456        NaN    NaN  \n",
       "16520        5.5      T  \n",
       "\n",
       "[269 rows x 11 columns]"
      ]
     },
     "execution_count": 25,
     "metadata": {},
     "output_type": "execute_result"
    }
   ],
   "source": [
    " # Не у всех игр указан год выпуска\n",
    "data[data['year_of_release'].isnull()]"
   ]
  },
  {
   "cell_type": "code",
   "execution_count": 26,
   "metadata": {},
   "outputs": [],
   "source": [
    "data.loc[data['user_score'] == 'tbd','user_score'] = -1\n",
    "data['user_score'].fillna(-1, inplace=True)\n",
    "data['rating'].fillna(-1, inplace=True)\n",
    "data['critic_score'].fillna(-1, inplace=True)"
   ]
  },
  {
   "cell_type": "markdown",
   "metadata": {},
   "source": [
    "Преобразуем типы данных для удобства работы"
   ]
  },
  {
   "cell_type": "code",
   "execution_count": 27,
   "metadata": {},
   "outputs": [],
   "source": [
    "data['year_of_release'] = data['year_of_release'].astype('Int64')\n",
    "data['critic_score'] = data['critic_score'].astype('Int64')\n",
    "data['user_score'] = data['user_score'].astype('float64')"
   ]
  },
  {
   "cell_type": "code",
   "execution_count": 28,
   "metadata": {},
   "outputs": [
    {
     "name": "stdout",
     "output_type": "stream",
     "text": [
      "<class 'pandas.core.frame.DataFrame'>\n",
      "RangeIndex: 16713 entries, 0 to 16712\n",
      "Data columns (total 11 columns):\n",
      " #   Column           Non-Null Count  Dtype  \n",
      "---  ------           --------------  -----  \n",
      " 0   name             16713 non-null  object \n",
      " 1   platform         16713 non-null  object \n",
      " 2   year_of_release  16444 non-null  Int64  \n",
      " 3   genre            16713 non-null  object \n",
      " 4   na_sales         16713 non-null  float64\n",
      " 5   eu_sales         16713 non-null  float64\n",
      " 6   jp_sales         16713 non-null  float64\n",
      " 7   other_sales      16713 non-null  float64\n",
      " 8   critic_score     16713 non-null  Int64  \n",
      " 9   user_score       16713 non-null  float64\n",
      " 10  rating           16713 non-null  object \n",
      "dtypes: Int64(2), float64(5), object(4)\n",
      "memory usage: 1.4+ MB\n"
     ]
    }
   ],
   "source": [
    "data.info()"
   ]
  },
  {
   "cell_type": "code",
   "execution_count": 29,
   "metadata": {},
   "outputs": [],
   "source": [
    "# Маркеры для дальнейшего анализа\n",
    "year_of_release_mark = 'year_of_release != -1'\n",
    "critic_score_mark = 'critic_score != -1'\n",
    "user_score_mark = 'user_score != -1'"
   ]
  },
  {
   "cell_type": "markdown",
   "metadata": {},
   "source": [
    "### Вывод"
   ]
  },
  {
   "cell_type": "markdown",
   "metadata": {},
   "source": [
    "<a name=\"2.3.\"></a>\n",
    "Мы выяснили, что в наших данных есть 11560 уникальных названий игр. Остальные строки являются повторами, так игры выходят на различных платформах. Было удалено две строки, в которых были игры без названия. <br>\n",
    "\n",
    "Есть 269 пропусков среди года выпуска игры, но этим можно пренебречь, так как это всего лишь 1,6% от общего количества данных. Значение tbd расшифровывается очень просто - To Be Determined, то есть \"Будет определено”, (выявлено 2424 таких записей, присвоено значение NaN). \n",
    "Остальные пропуски данных не было возможности заполнить корректными значениями. \n",
    "\n",
    "<font size=\"2\">([Назад](#0.0))</font>"
   ]
  },
  {
   "cell_type": "markdown",
   "metadata": {},
   "source": [
    "<a name=\"3.\"></a>\n",
    "# Шаг 3. Проводим исследовательский анализ данных\n",
    "\n",
    "<font size=\"2\">([Назад](#0.0))</font>"
   ]
  },
  {
   "cell_type": "markdown",
   "metadata": {},
   "source": [
    "- Суммарные продажи во всех регионах, записанные в отдельный столбец."
   ]
  },
  {
   "cell_type": "code",
   "execution_count": 30,
   "metadata": {
    "scrolled": true
   },
   "outputs": [
    {
     "data": {
      "text/html": [
       "<div>\n",
       "<style scoped>\n",
       "    .dataframe tbody tr th:only-of-type {\n",
       "        vertical-align: middle;\n",
       "    }\n",
       "\n",
       "    .dataframe tbody tr th {\n",
       "        vertical-align: top;\n",
       "    }\n",
       "\n",
       "    .dataframe thead th {\n",
       "        text-align: right;\n",
       "    }\n",
       "</style>\n",
       "<table border=\"1\" class=\"dataframe\">\n",
       "  <thead>\n",
       "    <tr style=\"text-align: right;\">\n",
       "      <th></th>\n",
       "      <th>name</th>\n",
       "      <th>platform</th>\n",
       "      <th>year_of_release</th>\n",
       "      <th>genre</th>\n",
       "      <th>na_sales</th>\n",
       "      <th>eu_sales</th>\n",
       "      <th>jp_sales</th>\n",
       "      <th>other_sales</th>\n",
       "      <th>critic_score</th>\n",
       "      <th>user_score</th>\n",
       "      <th>rating</th>\n",
       "      <th>total_sales</th>\n",
       "    </tr>\n",
       "  </thead>\n",
       "  <tbody>\n",
       "    <tr>\n",
       "      <th>0</th>\n",
       "      <td>Wii Sports</td>\n",
       "      <td>Wii</td>\n",
       "      <td>2006</td>\n",
       "      <td>Sports</td>\n",
       "      <td>41.36</td>\n",
       "      <td>28.96</td>\n",
       "      <td>3.77</td>\n",
       "      <td>8.45</td>\n",
       "      <td>76</td>\n",
       "      <td>8.0</td>\n",
       "      <td>E</td>\n",
       "      <td>111.50</td>\n",
       "    </tr>\n",
       "    <tr>\n",
       "      <th>1</th>\n",
       "      <td>Super Mario Bros.</td>\n",
       "      <td>NES</td>\n",
       "      <td>1985</td>\n",
       "      <td>Platform</td>\n",
       "      <td>29.08</td>\n",
       "      <td>3.58</td>\n",
       "      <td>6.81</td>\n",
       "      <td>0.77</td>\n",
       "      <td>-1</td>\n",
       "      <td>-1.0</td>\n",
       "      <td>-1</td>\n",
       "      <td>43.82</td>\n",
       "    </tr>\n",
       "    <tr>\n",
       "      <th>2</th>\n",
       "      <td>Mario Kart Wii</td>\n",
       "      <td>Wii</td>\n",
       "      <td>2008</td>\n",
       "      <td>Racing</td>\n",
       "      <td>15.68</td>\n",
       "      <td>12.76</td>\n",
       "      <td>3.79</td>\n",
       "      <td>3.29</td>\n",
       "      <td>82</td>\n",
       "      <td>8.3</td>\n",
       "      <td>E</td>\n",
       "      <td>48.28</td>\n",
       "    </tr>\n",
       "    <tr>\n",
       "      <th>3</th>\n",
       "      <td>Wii Sports Resort</td>\n",
       "      <td>Wii</td>\n",
       "      <td>2009</td>\n",
       "      <td>Sports</td>\n",
       "      <td>15.61</td>\n",
       "      <td>10.93</td>\n",
       "      <td>3.28</td>\n",
       "      <td>2.95</td>\n",
       "      <td>80</td>\n",
       "      <td>8.0</td>\n",
       "      <td>E</td>\n",
       "      <td>43.70</td>\n",
       "    </tr>\n",
       "    <tr>\n",
       "      <th>4</th>\n",
       "      <td>Pokemon Red/Pokemon Blue</td>\n",
       "      <td>GB</td>\n",
       "      <td>1996</td>\n",
       "      <td>Role-Playing</td>\n",
       "      <td>11.27</td>\n",
       "      <td>8.89</td>\n",
       "      <td>10.22</td>\n",
       "      <td>1.00</td>\n",
       "      <td>-1</td>\n",
       "      <td>-1.0</td>\n",
       "      <td>-1</td>\n",
       "      <td>40.27</td>\n",
       "    </tr>\n",
       "  </tbody>\n",
       "</table>\n",
       "</div>"
      ],
      "text/plain": [
       "                       name platform  year_of_release         genre  na_sales  \\\n",
       "0                Wii Sports      Wii             2006        Sports     41.36   \n",
       "1         Super Mario Bros.      NES             1985      Platform     29.08   \n",
       "2            Mario Kart Wii      Wii             2008        Racing     15.68   \n",
       "3         Wii Sports Resort      Wii             2009        Sports     15.61   \n",
       "4  Pokemon Red/Pokemon Blue       GB             1996  Role-Playing     11.27   \n",
       "\n",
       "   eu_sales  jp_sales  other_sales  critic_score  user_score rating  \\\n",
       "0     28.96      3.77         8.45            76         8.0      E   \n",
       "1      3.58      6.81         0.77            -1        -1.0     -1   \n",
       "2     12.76      3.79         3.29            82         8.3      E   \n",
       "3     10.93      3.28         2.95            80         8.0      E   \n",
       "4      8.89     10.22         1.00            -1        -1.0     -1   \n",
       "\n",
       "   total_sales  \n",
       "0       111.50  \n",
       "1        43.82  \n",
       "2        48.28  \n",
       "3        43.70  \n",
       "4        40.27  "
      ]
     },
     "execution_count": 30,
     "metadata": {},
     "output_type": "execute_result"
    }
   ],
   "source": [
    "data['total_sales'] = data.loc[:,['na_sales', 'eu_sales', 'eu_sales', 'jp_sales', 'other_sales']].sum(axis=1)\n",
    "data.head()"
   ]
  },
  {
   "cell_type": "markdown",
   "metadata": {},
   "source": [
    "Обращаем внимание на то сколько игр выпускалось в разные годы. Выделяем временной промежуток, которые наиболее актуален для анализа. "
   ]
  },
  {
   "cell_type": "code",
   "execution_count": 31,
   "metadata": {},
   "outputs": [],
   "source": [
    "games_per_year = data\n",
    "games_per_year = (\n",
    "    games_per_year[['name', 'year_of_release']]\n",
    "        .drop_duplicates()\n",
    "        .pivot_table(index='year_of_release', values='name', aggfunc='count')\n",
    "        .sort_values('year_of_release', ascending=False)\n",
    ")"
   ]
  },
  {
   "cell_type": "code",
   "execution_count": 32,
   "metadata": {},
   "outputs": [
    {
     "data": {
      "image/png": "[encoded data removed]",
      "text/plain": [
       "<Figure size 1080x360 with 1 Axes>"
      ]
     },
     "metadata": {
      "needs_background": "light"
     },
     "output_type": "display_data"
    }
   ],
   "source": [
    "(\n",
    "    games_per_year\n",
    "        .plot(legend=False,title='Количество игр по годам', figsize=(15,5))\n",
    "        .set(xlabel='Год релиза', ylabel='Кол-во')\n",
    ")\n",
    "\n",
    "plt.show()"
   ]
  },
  {
   "cell_type": "code",
   "execution_count": 33,
   "metadata": {},
   "outputs": [
    {
     "data": {
      "text/html": [
       "<div>\n",
       "<style scoped>\n",
       "    .dataframe tbody tr th:only-of-type {\n",
       "        vertical-align: middle;\n",
       "    }\n",
       "\n",
       "    .dataframe tbody tr th {\n",
       "        vertical-align: top;\n",
       "    }\n",
       "\n",
       "    .dataframe thead th {\n",
       "        text-align: right;\n",
       "    }\n",
       "</style>\n",
       "<table border=\"1\" class=\"dataframe\">\n",
       "  <thead>\n",
       "    <tr style=\"text-align: right;\">\n",
       "      <th></th>\n",
       "      <th>name</th>\n",
       "    </tr>\n",
       "    <tr>\n",
       "      <th>year_of_release</th>\n",
       "      <th></th>\n",
       "    </tr>\n",
       "  </thead>\n",
       "  <tbody>\n",
       "    <tr>\n",
       "      <th>2008</th>\n",
       "      <td>1039</td>\n",
       "    </tr>\n",
       "    <tr>\n",
       "      <th>2009</th>\n",
       "      <td>1001</td>\n",
       "    </tr>\n",
       "    <tr>\n",
       "      <th>2010</th>\n",
       "      <td>900</td>\n",
       "    </tr>\n",
       "    <tr>\n",
       "      <th>2007</th>\n",
       "      <td>884</td>\n",
       "    </tr>\n",
       "    <tr>\n",
       "      <th>2011</th>\n",
       "      <td>779</td>\n",
       "    </tr>\n",
       "    <tr>\n",
       "      <th>2006</th>\n",
       "      <td>773</td>\n",
       "    </tr>\n",
       "    <tr>\n",
       "      <th>2005</th>\n",
       "      <td>657</td>\n",
       "    </tr>\n",
       "    <tr>\n",
       "      <th>2002</th>\n",
       "      <td>631</td>\n",
       "    </tr>\n",
       "    <tr>\n",
       "      <th>2004</th>\n",
       "      <td>550</td>\n",
       "    </tr>\n",
       "    <tr>\n",
       "      <th>2003</th>\n",
       "      <td>546</td>\n",
       "    </tr>\n",
       "    <tr>\n",
       "      <th>2012</th>\n",
       "      <td>446</td>\n",
       "    </tr>\n",
       "    <tr>\n",
       "      <th>2001</th>\n",
       "      <td>428</td>\n",
       "    </tr>\n",
       "    <tr>\n",
       "      <th>1998</th>\n",
       "      <td>364</td>\n",
       "    </tr>\n",
       "    <tr>\n",
       "      <th>2015</th>\n",
       "      <td>362</td>\n",
       "    </tr>\n",
       "    <tr>\n",
       "      <th>2013</th>\n",
       "      <td>335</td>\n",
       "    </tr>\n",
       "    <tr>\n",
       "      <th>1999</th>\n",
       "      <td>326</td>\n",
       "    </tr>\n",
       "    <tr>\n",
       "      <th>2000</th>\n",
       "      <td>325</td>\n",
       "    </tr>\n",
       "    <tr>\n",
       "      <th>2014</th>\n",
       "      <td>319</td>\n",
       "    </tr>\n",
       "    <tr>\n",
       "      <th>2016</th>\n",
       "      <td>297</td>\n",
       "    </tr>\n",
       "    <tr>\n",
       "      <th>1997</th>\n",
       "      <td>282</td>\n",
       "    </tr>\n",
       "    <tr>\n",
       "      <th>1996</th>\n",
       "      <td>258</td>\n",
       "    </tr>\n",
       "    <tr>\n",
       "      <th>1995</th>\n",
       "      <td>215</td>\n",
       "    </tr>\n",
       "    <tr>\n",
       "      <th>1994</th>\n",
       "      <td>117</td>\n",
       "    </tr>\n",
       "    <tr>\n",
       "      <th>1993</th>\n",
       "      <td>59</td>\n",
       "    </tr>\n",
       "    <tr>\n",
       "      <th>1981</th>\n",
       "      <td>46</td>\n",
       "    </tr>\n",
       "    <tr>\n",
       "      <th>1992</th>\n",
       "      <td>41</td>\n",
       "    </tr>\n",
       "    <tr>\n",
       "      <th>1991</th>\n",
       "      <td>40</td>\n",
       "    </tr>\n",
       "    <tr>\n",
       "      <th>1982</th>\n",
       "      <td>36</td>\n",
       "    </tr>\n",
       "    <tr>\n",
       "      <th>1986</th>\n",
       "      <td>21</td>\n",
       "    </tr>\n",
       "    <tr>\n",
       "      <th>1983</th>\n",
       "      <td>17</td>\n",
       "    </tr>\n",
       "    <tr>\n",
       "      <th>1989</th>\n",
       "      <td>17</td>\n",
       "    </tr>\n",
       "    <tr>\n",
       "      <th>1990</th>\n",
       "      <td>16</td>\n",
       "    </tr>\n",
       "    <tr>\n",
       "      <th>1987</th>\n",
       "      <td>16</td>\n",
       "    </tr>\n",
       "    <tr>\n",
       "      <th>1988</th>\n",
       "      <td>15</td>\n",
       "    </tr>\n",
       "    <tr>\n",
       "      <th>1984</th>\n",
       "      <td>14</td>\n",
       "    </tr>\n",
       "    <tr>\n",
       "      <th>1985</th>\n",
       "      <td>14</td>\n",
       "    </tr>\n",
       "    <tr>\n",
       "      <th>1980</th>\n",
       "      <td>9</td>\n",
       "    </tr>\n",
       "  </tbody>\n",
       "</table>\n",
       "</div>"
      ],
      "text/plain": [
       "                 name\n",
       "year_of_release      \n",
       "2008             1039\n",
       "2009             1001\n",
       "2010              900\n",
       "2007              884\n",
       "2011              779\n",
       "2006              773\n",
       "2005              657\n",
       "2002              631\n",
       "2004              550\n",
       "2003              546\n",
       "2012              446\n",
       "2001              428\n",
       "1998              364\n",
       "2015              362\n",
       "2013              335\n",
       "1999              326\n",
       "2000              325\n",
       "2014              319\n",
       "2016              297\n",
       "1997              282\n",
       "1996              258\n",
       "1995              215\n",
       "1994              117\n",
       "1993               59\n",
       "1981               46\n",
       "1992               41\n",
       "1991               40\n",
       "1982               36\n",
       "1986               21\n",
       "1983               17\n",
       "1989               17\n",
       "1990               16\n",
       "1987               16\n",
       "1988               15\n",
       "1984               14\n",
       "1985               14\n",
       "1980                9"
      ]
     },
     "execution_count": 33,
     "metadata": {},
     "output_type": "execute_result"
    }
   ],
   "source": [
    "# Для большей точности вывожу числовые значения выпуска игр по годам\n",
    "games_per_year.sort_values(by='name', ascending=False).head(100)"
   ]
  },
  {
   "cell_type": "markdown",
   "metadata": {},
   "source": [
    "Наиболее целесообразным будет рассмотреть период с 2012. Именно анализ этого промежутка времени поможет нам построить прогнозы на 2017 год."
   ]
  },
  {
   "cell_type": "markdown",
   "metadata": {},
   "source": [
    "**Посмотрите, как менялись продажи по платформам. Выберите платформы с наибольшими суммарными продажами и постройте распределение по годам. За какой характерный срок появляются новые и исчезают старые платформы?**"
   ]
  },
  {
   "cell_type": "code",
   "execution_count": 34,
   "metadata": {},
   "outputs": [],
   "source": [
    "total_sales_per_platform = (data.groupby(['platform'],as_index = False)['total_sales'].sum()\n",
    "                                 .sort_values('total_sales',ascending = False)\n",
    "                           )"
   ]
  },
  {
   "cell_type": "code",
   "execution_count": 35,
   "metadata": {},
   "outputs": [
    {
     "data": {
      "image/png": "[encoded data removed]",
      "text/plain": [
       "<Figure size 1080x360 with 1 Axes>"
      ]
     },
     "metadata": {
      "needs_background": "light"
     },
     "output_type": "display_data"
    }
   ],
   "source": [
    "(total_sales_per_platform.plot(kind='bar',x='platform', y='total_sales',figsize=(15, 5),legend=False, color='g')\n",
    "                         .set(xlabel='Платформа', ylabel='Глобальные продажи')\n",
    ")\n",
    "plt.show()"
   ]
  },
  {
   "cell_type": "markdown",
   "metadata": {},
   "source": [
    "**Какие платформы лидируют по продажам, растут или падают? Выберите несколько потенциально прибыльных платформ**"
   ]
  },
  {
   "cell_type": "code",
   "execution_count": 36,
   "metadata": {},
   "outputs": [
    {
     "data": {
      "text/html": [
       "<div>\n",
       "<style scoped>\n",
       "    .dataframe tbody tr th:only-of-type {\n",
       "        vertical-align: middle;\n",
       "    }\n",
       "\n",
       "    .dataframe tbody tr th {\n",
       "        vertical-align: top;\n",
       "    }\n",
       "\n",
       "    .dataframe thead th {\n",
       "        text-align: right;\n",
       "    }\n",
       "</style>\n",
       "<table border=\"1\" class=\"dataframe\">\n",
       "  <thead>\n",
       "    <tr style=\"text-align: right;\">\n",
       "      <th></th>\n",
       "      <th>platform</th>\n",
       "      <th>total_sales</th>\n",
       "    </tr>\n",
       "  </thead>\n",
       "  <tbody>\n",
       "    <tr>\n",
       "      <th>4</th>\n",
       "      <td>PS4</td>\n",
       "      <td>455.23</td>\n",
       "    </tr>\n",
       "    <tr>\n",
       "      <th>3</th>\n",
       "      <td>PS3</td>\n",
       "      <td>395.65</td>\n",
       "    </tr>\n",
       "    <tr>\n",
       "      <th>9</th>\n",
       "      <td>X360</td>\n",
       "      <td>311.06</td>\n",
       "    </tr>\n",
       "    <tr>\n",
       "      <th>0</th>\n",
       "      <td>3DS</td>\n",
       "      <td>237.25</td>\n",
       "    </tr>\n",
       "    <tr>\n",
       "      <th>10</th>\n",
       "      <td>XOne</td>\n",
       "      <td>210.91</td>\n",
       "    </tr>\n",
       "    <tr>\n",
       "      <th>8</th>\n",
       "      <td>WiiU</td>\n",
       "      <td>107.32</td>\n",
       "    </tr>\n",
       "    <tr>\n",
       "      <th>2</th>\n",
       "      <td>PC</td>\n",
       "      <td>100.41</td>\n",
       "    </tr>\n",
       "    <tr>\n",
       "      <th>6</th>\n",
       "      <td>PSV</td>\n",
       "      <td>60.54</td>\n",
       "    </tr>\n",
       "    <tr>\n",
       "      <th>7</th>\n",
       "      <td>Wii</td>\n",
       "      <td>47.29</td>\n",
       "    </tr>\n",
       "    <tr>\n",
       "      <th>1</th>\n",
       "      <td>DS</td>\n",
       "      <td>16.08</td>\n",
       "    </tr>\n",
       "    <tr>\n",
       "      <th>5</th>\n",
       "      <td>PSP</td>\n",
       "      <td>11.61</td>\n",
       "    </tr>\n",
       "  </tbody>\n",
       "</table>\n",
       "</div>"
      ],
      "text/plain": [
       "   platform  total_sales\n",
       "4       PS4       455.23\n",
       "3       PS3       395.65\n",
       "9      X360       311.06\n",
       "0       3DS       237.25\n",
       "10     XOne       210.91\n",
       "8      WiiU       107.32\n",
       "2        PC       100.41\n",
       "6       PSV        60.54\n",
       "7       Wii        47.29\n",
       "1        DS        16.08\n",
       "5       PSP        11.61"
      ]
     },
     "execution_count": 36,
     "metadata": {},
     "output_type": "execute_result"
    }
   ],
   "source": [
    "# Анализируем данные за последние пять лет\n",
    "actual_platforms = data.query('year_of_release >= 2012')\n",
    "actual_platforms_search = (actual_platforms.groupby(['platform'],as_index = False)['total_sales'].sum()\n",
    "                                 .sort_values('total_sales',ascending = False)\n",
    "                           )\n",
    "actual_platforms_search"
   ]
  },
  {
   "cell_type": "code",
   "execution_count": 37,
   "metadata": {
    "scrolled": true
   },
   "outputs": [
    {
     "data": {
      "image/png": "[encoded data removed]",
      "text/plain": [
       "<Figure size 1080x360 with 1 Axes>"
      ]
     },
     "metadata": {
      "needs_background": "light"
     },
     "output_type": "display_data"
    }
   ],
   "source": [
    "(actual_platforms_search.plot(kind='bar',x='platform', y='total_sales',figsize=(15, 5),legend=False)\n",
    "                         .set(xlabel='Платформа', ylabel='Глобальные продажи')\n",
    ")\n",
    "plt.show()"
   ]
  },
  {
   "cell_type": "markdown",
   "metadata": {},
   "source": [
    "**Постройте график «ящик с усами» по глобальным продажам каждой игры и разбивкой по платформам. Велика ли разница в продажах? А в средних продажах на разных платформах? Опишите результат.**"
   ]
  },
  {
   "cell_type": "code",
   "execution_count": 38,
   "metadata": {},
   "outputs": [
    {
     "data": {
      "text/plain": [
       "[(0.0, 0.85)]"
      ]
     },
     "execution_count": 38,
     "metadata": {},
     "output_type": "execute_result"
    },
    {
     "data": {
      "image/png": "[encoded data removed]",
      "text/plain": [
       "<Figure size 1440x720 with 1 Axes>"
      ]
     },
     "metadata": {
      "needs_background": "light"
     },
     "output_type": "display_data"
    }
   ],
   "source": [
    "\n",
    "plt.figure(figsize=(20,10))\n",
    "ax = sns.boxplot(x=\"platform\", y=\"total_sales\", data=actual_platforms, palette=\"Set2\")\n",
    "ax.set(ylim=(0, 0.85))"
   ]
  },
  {
   "cell_type": "code",
   "execution_count": 39,
   "metadata": {
    "scrolled": true
   },
   "outputs": [
    {
     "data": {
      "text/html": [
       "<div>\n",
       "<style scoped>\n",
       "    .dataframe tbody tr th:only-of-type {\n",
       "        vertical-align: middle;\n",
       "    }\n",
       "\n",
       "    .dataframe tbody tr th {\n",
       "        vertical-align: top;\n",
       "    }\n",
       "\n",
       "    .dataframe thead th {\n",
       "        text-align: right;\n",
       "    }\n",
       "</style>\n",
       "<table border=\"1\" class=\"dataframe\">\n",
       "  <thead>\n",
       "    <tr style=\"text-align: right;\">\n",
       "      <th>platform</th>\n",
       "      <th>3DS</th>\n",
       "      <th>DS</th>\n",
       "      <th>PC</th>\n",
       "      <th>PS3</th>\n",
       "      <th>PS4</th>\n",
       "      <th>PSP</th>\n",
       "      <th>PSV</th>\n",
       "      <th>Wii</th>\n",
       "      <th>WiiU</th>\n",
       "      <th>X360</th>\n",
       "      <th>XOne</th>\n",
       "    </tr>\n",
       "  </thead>\n",
       "  <tbody>\n",
       "    <tr>\n",
       "      <th>total_sales</th>\n",
       "      <td>237.25</td>\n",
       "      <td>16.08</td>\n",
       "      <td>100.41</td>\n",
       "      <td>395.65</td>\n",
       "      <td>455.23</td>\n",
       "      <td>11.61</td>\n",
       "      <td>60.54</td>\n",
       "      <td>47.29</td>\n",
       "      <td>107.32</td>\n",
       "      <td>311.06</td>\n",
       "      <td>210.91</td>\n",
       "    </tr>\n",
       "  </tbody>\n",
       "</table>\n",
       "</div>"
      ],
      "text/plain": [
       "platform        3DS     DS      PC     PS3     PS4    PSP    PSV    Wii  \\\n",
       "total_sales  237.25  16.08  100.41  395.65  455.23  11.61  60.54  47.29   \n",
       "\n",
       "platform       WiiU    X360    XOne  \n",
       "total_sales  107.32  311.06  210.91  "
      ]
     },
     "execution_count": 39,
     "metadata": {},
     "output_type": "execute_result"
    }
   ],
   "source": [
    "actual_platfroms_total_sales = actual_platforms[['platform','total_sales']]\n",
    "actual_platfroms_total_sales.pivot_table(columns=[\"platform\"], aggfunc='sum')"
   ]
  },
  {
   "cell_type": "markdown",
   "metadata": {},
   "source": [
    "**Посмотрите, как влияют на продажи внутри одной популярной платформы отзывы пользователей и критиков. Постройте диаграмму рассеяния и посчитайте корреляцию между отзывами и продажами. Сформулируйте выводы.**"
   ]
  },
  {
   "cell_type": "code",
   "execution_count": 40,
   "metadata": {},
   "outputs": [],
   "source": [
    "ps4 = actual_platforms.query(\"platform == 'PS4'\")"
   ]
  },
  {
   "cell_type": "code",
   "execution_count": 41,
   "metadata": {},
   "outputs": [],
   "source": [
    "ps_4_analysis = ps4.query(f\"{critic_score_mark and user_score_mark}\")"
   ]
  },
  {
   "cell_type": "code",
   "execution_count": 42,
   "metadata": {},
   "outputs": [
    {
     "name": "stderr",
     "output_type": "stream",
     "text": [
      "/var/folders/kp/79zkfj3d33d9c72zqf_lzxvm0000gn/T/ipykernel_6633/182286615.py:6: FutureWarning: this method is deprecated in favour of `Styler.format(precision=..)`\n",
      "  .set_precision(2)\n"
     ]
    },
    {
     "data": {
      "text/html": [
       "<style type=\"text/css\">\n",
       "#T_d4b33_row0_col0, #T_d4b33_row1_col1, #T_d4b33_row2_col2 {\n",
       "  background-color: #2e8b57;\n",
       "  color: #f1f1f1;\n",
       "  max-width: 200px;\n",
       "  font-size: 12pt;\n",
       "}\n",
       "#T_d4b33_row0_col1 {\n",
       "  background-color: #9ec8b0;\n",
       "  color: #000000;\n",
       "  max-width: 200px;\n",
       "  font-size: 12pt;\n",
       "}\n",
       "#T_d4b33_row0_col2, #T_d4b33_row1_col2, #T_d4b33_row2_col0 {\n",
       "  background-color: #ebf3ed;\n",
       "  color: #000000;\n",
       "  max-width: 200px;\n",
       "  font-size: 12pt;\n",
       "}\n",
       "#T_d4b33_row1_col0 {\n",
       "  background-color: #ddebe2;\n",
       "  color: #000000;\n",
       "  max-width: 200px;\n",
       "  font-size: 12pt;\n",
       "}\n",
       "#T_d4b33_row2_col1 {\n",
       "  background-color: #a7cdb7;\n",
       "  color: #000000;\n",
       "  max-width: 200px;\n",
       "  font-size: 12pt;\n",
       "}\n",
       "</style>\n",
       "<table id=\"T_d4b33\">\n",
       "  <thead>\n",
       "    <tr>\n",
       "      <th class=\"blank level0\" >&nbsp;</th>\n",
       "      <th id=\"T_d4b33_level0_col0\" class=\"col_heading level0 col0\" >user_score</th>\n",
       "      <th id=\"T_d4b33_level0_col1\" class=\"col_heading level0 col1\" >critic_score</th>\n",
       "      <th id=\"T_d4b33_level0_col2\" class=\"col_heading level0 col2\" >total_sales</th>\n",
       "    </tr>\n",
       "  </thead>\n",
       "  <tbody>\n",
       "    <tr>\n",
       "      <th id=\"T_d4b33_level0_row0\" class=\"row_heading level0 row0\" >user_score</th>\n",
       "      <td id=\"T_d4b33_row0_col0\" class=\"data row0 col0\" >1.00</td>\n",
       "      <td id=\"T_d4b33_row0_col1\" class=\"data row0 col1\" >0.39</td>\n",
       "      <td id=\"T_d4b33_row0_col2\" class=\"data row0 col2\" >-0.04</td>\n",
       "    </tr>\n",
       "    <tr>\n",
       "      <th id=\"T_d4b33_level0_row1\" class=\"row_heading level0 row1\" >critic_score</th>\n",
       "      <td id=\"T_d4b33_row1_col0\" class=\"data row1 col0\" >0.39</td>\n",
       "      <td id=\"T_d4b33_row1_col1\" class=\"data row1 col1\" >1.00</td>\n",
       "      <td id=\"T_d4b33_row1_col2\" class=\"data row1 col2\" >0.34</td>\n",
       "    </tr>\n",
       "    <tr>\n",
       "      <th id=\"T_d4b33_level0_row2\" class=\"row_heading level0 row2\" >total_sales</th>\n",
       "      <td id=\"T_d4b33_row2_col0\" class=\"data row2 col0\" >-0.04</td>\n",
       "      <td id=\"T_d4b33_row2_col1\" class=\"data row2 col1\" >0.34</td>\n",
       "      <td id=\"T_d4b33_row2_col2\" class=\"data row2 col2\" >1.00</td>\n",
       "    </tr>\n",
       "  </tbody>\n",
       "</table>\n"
      ],
      "text/plain": [
       "<pandas.io.formats.style.Styler at 0x13273e560>"
      ]
     },
     "execution_count": 42,
     "metadata": {},
     "output_type": "execute_result"
    }
   ],
   "source": [
    "features = ['user_score', 'critic_score', 'total_sales']\n",
    "\n",
    "cmap= sns.light_palette(\"seagreen\", as_cmap=True)\n",
    "ps_4_analysis[features].corr().style.background_gradient(cmap, axis=1)\\\n",
    "    .set_properties(**{'max-width': '200px', 'font-size': '12pt'})\\\n",
    "    .set_precision(2)"
   ]
  },
  {
   "cell_type": "code",
   "execution_count": 43,
   "metadata": {},
   "outputs": [
    {
     "data": {
      "image/png": "[encoded data removed]",
      "text/plain": [
       "<Figure size 1080x360 with 1 Axes>"
      ]
     },
     "metadata": {
      "needs_background": "light"
     },
     "output_type": "display_data"
    }
   ],
   "source": [
    "ps_4_analysis.plot(x='user_score', y='total_sales', kind='scatter', title='PS4',figsize=(15, 5), color='g')\n",
    "plt.show()"
   ]
  },
  {
   "cell_type": "code",
   "execution_count": 44,
   "metadata": {},
   "outputs": [
    {
     "data": {
      "image/png": "[encoded data removed]",
      "text/plain": [
       "<Figure size 1080x360 with 1 Axes>"
      ]
     },
     "metadata": {
      "needs_background": "light"
     },
     "output_type": "display_data"
    }
   ],
   "source": [
    "ps_4_analysis.plot(x='critic_score', y='total_sales', kind='scatter', title='PS4',figsize=(15, 5), color='slategrey')\n",
    "plt.show()"
   ]
  },
  {
   "cell_type": "markdown",
   "metadata": {},
   "source": [
    "###### Оценки критиков демонстрируют прямую, средне-слабую корреляцию с \"цифрами\" продаж. Оценки пользователей корреляции с продажами не имеют. \n"
   ]
  },
  {
   "cell_type": "markdown",
   "metadata": {},
   "source": [
    "**Посмотрите на общее распределение игр по жанрам. Что можно сказать о самых прибыльных жанрах? Выделяются ли жанры с высокими и низкими продажами?**"
   ]
  },
  {
   "cell_type": "code",
   "execution_count": 45,
   "metadata": {},
   "outputs": [
    {
     "data": {
      "image/png": "[encoded data removed]",
      "text/plain": [
       "<Figure size 720x360 with 1 Axes>"
      ]
     },
     "metadata": {
      "needs_background": "light"
     },
     "output_type": "display_data"
    }
   ],
   "source": [
    "(actual_platforms\n",
    "    .pivot_table(index='genre', values='total_sales')\n",
    "    .sort_values('total_sales', ascending=False)\n",
    "    .plot(kind='bar', y='total_sales', figsize=(10, 5), legend=False,title = 'Перспективные жанры')\n",
    "    .set(xlabel='Жанр', ylabel='Глобальные продажи'))\n",
    "\n",
    "plt.show()"
   ]
  },
  {
   "cell_type": "markdown",
   "metadata": {},
   "source": [
    "В числе наиболее популярных жанров оказались Shooter, Platform, Sports, Racing. Наименьшей популярностью пользуются игры в жанрах Puzzle, Strategy и Adventure."
   ]
  },
  {
   "cell_type": "markdown",
   "metadata": {},
   "source": [
    "### Вывод"
   ]
  },
  {
   "cell_type": "markdown",
   "metadata": {},
   "source": [
    "<a name=\"3.4.\"></a>\n",
    "Медианное время жизни платформы составляет около 10 лет. К 2016 году заметно потеряли свою популярность такие платформы как Xbox360, Wii, DS, PS3, в то время как PS4 увеличила свои продажи. Можно заметить, что жизненный цикл портативных платформ отличается в меньшую сторону (Nintendo 3ds, PSP, PS vita, wiiU) и не стоит рассчитывать, что к этим девайсам вернётся популярность в будущем. Конкурентоспособными платформами являются PS4, 3ds, xbox one, PC, wiiU. Наиболее популярной платформой на тот момент является PS4,  именно ей стоит уделить особое внимание во время анализа. <br>\n",
    "\n",
    "В числе наиболее популярных жанров оказались Shooter, Platform, Sports, Racing. Наименьшей популярностью пользуются игры в жанрах Puzzle, Strategy и Adventure.\n",
    "\n",
    "<font size=\"2\">([Назад](#0.0))</font>"
   ]
  },
  {
   "cell_type": "markdown",
   "metadata": {},
   "source": [
    "<a name=\"4.\"></a>\n",
    "# Шаг 4. Составьте портрет пользователя каждого региона\n",
    "\n",
    "Определяем для пользователя каждого региона (NA, EU, JP):\n",
    "\n",
    "- Самые популярные платформы (топ-5)\n",
    "- Самые популярные жанры (топ-5)\n",
    "- Влияет ли рейтинг ESRB на продажи\n",
    "\n",
    "<font size=\"2\">([Назад](#0.0))</font>"
   ]
  },
  {
   "cell_type": "code",
   "execution_count": 46,
   "metadata": {},
   "outputs": [
    {
     "name": "stdout",
     "output_type": "stream",
     "text": [
      "Топ-5 наиболее популярных платформ в Северной Америке :\n",
      "platform\n",
      "X360    13.690726\n",
      "PS2     13.267372\n",
      "Wii     11.291719\n",
      "PS3      8.941796\n",
      "DS       8.689783\n",
      "Name: na_sales, dtype: float64\n",
      "----------------------------------------\n",
      "\n",
      "Топ-5 наиболее популярных платформ в Европе :\n",
      "platform\n",
      "PS2     13.996304\n",
      "PS3     13.625038\n",
      "X360    11.169322\n",
      "Wii     10.816620\n",
      "PS       8.811785\n",
      "Name: eu_sales, dtype: float64\n",
      "----------------------------------------\n",
      "\n",
      "Топ-5 наиболее популярных платформ в Японии :\n",
      "platform\n",
      "DS      13.533075\n",
      "PS      10.777437\n",
      "PS2     10.729647\n",
      "SNES     8.983767\n",
      "3DS      7.759724\n",
      "Name: jp_sales, dtype: float64\n",
      "----------------------------------------\n",
      "\n",
      "Топ-5 наиболее популярных платформ в других странах :\n",
      "platform\n",
      "PS2     24.447702\n",
      "PS3     17.147768\n",
      "X360    10.838684\n",
      "Wii      9.993175\n",
      "DS       7.489510\n",
      "Name: other_sales, dtype: float64\n",
      "----------------------------------------\n",
      "\n"
     ]
    }
   ],
   "source": [
    "# Самые популярные платформы (топ-5)\n",
    "places = ['na_sales',\n",
    "          'eu_sales',\n",
    "          'jp_sales',\n",
    "          'other_sales']\n",
    "place_name = ['Северной Америке',\n",
    "              'Европе',\n",
    "              'Японии', \n",
    "              'других странах']\n",
    "for_visualize=pd.DataFrame()\n",
    "for place in places:\n",
    "    print('Топ-5 наиболее популярных платформ в', place_name[places.index(place)],':')\n",
    "    data_local=data.groupby(\n",
    "        'platform'\n",
    "    )[place].sum().sort_values().sort_values(ascending=False)\n",
    "    result = data_local[:5] / data_local.sum() * 100\n",
    "    print(result)\n",
    "    for_visualize = pd.merge(for_visualize, result, how='outer',\n",
    "                             left_index=True, right_index=True)\n",
    "    print('-' * 40, end='\\n\\n')\n"
   ]
  },
  {
   "cell_type": "code",
   "execution_count": 47,
   "metadata": {},
   "outputs": [],
   "source": [
    "# Заполним пропуски нулями\n",
    "for_visualize.fillna(0, inplace=True)"
   ]
  },
  {
   "cell_type": "code",
   "execution_count": 48,
   "metadata": {},
   "outputs": [
    {
     "data": {
      "text/html": [
       "<div>\n",
       "<style scoped>\n",
       "    .dataframe tbody tr th:only-of-type {\n",
       "        vertical-align: middle;\n",
       "    }\n",
       "\n",
       "    .dataframe tbody tr th {\n",
       "        vertical-align: top;\n",
       "    }\n",
       "\n",
       "    .dataframe thead th {\n",
       "        text-align: right;\n",
       "    }\n",
       "</style>\n",
       "<table border=\"1\" class=\"dataframe\">\n",
       "  <thead>\n",
       "    <tr style=\"text-align: right;\">\n",
       "      <th></th>\n",
       "      <th>na_sales</th>\n",
       "      <th>eu_sales</th>\n",
       "      <th>jp_sales</th>\n",
       "      <th>other_sales</th>\n",
       "    </tr>\n",
       "    <tr>\n",
       "      <th>platform</th>\n",
       "      <th></th>\n",
       "      <th></th>\n",
       "      <th></th>\n",
       "      <th></th>\n",
       "    </tr>\n",
       "  </thead>\n",
       "  <tbody>\n",
       "    <tr>\n",
       "      <th>3DS</th>\n",
       "      <td>0.000000</td>\n",
       "      <td>0.000000</td>\n",
       "      <td>7.759724</td>\n",
       "      <td>0.000000</td>\n",
       "    </tr>\n",
       "    <tr>\n",
       "      <th>DS</th>\n",
       "      <td>8.689783</td>\n",
       "      <td>0.000000</td>\n",
       "      <td>13.533075</td>\n",
       "      <td>7.489510</td>\n",
       "    </tr>\n",
       "    <tr>\n",
       "      <th>PS</th>\n",
       "      <td>0.000000</td>\n",
       "      <td>8.811785</td>\n",
       "      <td>10.777437</td>\n",
       "      <td>0.000000</td>\n",
       "    </tr>\n",
       "    <tr>\n",
       "      <th>PS2</th>\n",
       "      <td>13.267372</td>\n",
       "      <td>13.996304</td>\n",
       "      <td>10.729647</td>\n",
       "      <td>24.447702</td>\n",
       "    </tr>\n",
       "    <tr>\n",
       "      <th>PS3</th>\n",
       "      <td>8.941796</td>\n",
       "      <td>13.625038</td>\n",
       "      <td>0.000000</td>\n",
       "      <td>17.147768</td>\n",
       "    </tr>\n",
       "    <tr>\n",
       "      <th>SNES</th>\n",
       "      <td>0.000000</td>\n",
       "      <td>0.000000</td>\n",
       "      <td>8.983767</td>\n",
       "      <td>0.000000</td>\n",
       "    </tr>\n",
       "    <tr>\n",
       "      <th>Wii</th>\n",
       "      <td>11.291719</td>\n",
       "      <td>10.816620</td>\n",
       "      <td>0.000000</td>\n",
       "      <td>9.993175</td>\n",
       "    </tr>\n",
       "    <tr>\n",
       "      <th>X360</th>\n",
       "      <td>13.690726</td>\n",
       "      <td>11.169322</td>\n",
       "      <td>0.000000</td>\n",
       "      <td>10.838684</td>\n",
       "    </tr>\n",
       "  </tbody>\n",
       "</table>\n",
       "</div>"
      ],
      "text/plain": [
       "           na_sales   eu_sales   jp_sales  other_sales\n",
       "platform                                              \n",
       "3DS        0.000000   0.000000   7.759724     0.000000\n",
       "DS         8.689783   0.000000  13.533075     7.489510\n",
       "PS         0.000000   8.811785  10.777437     0.000000\n",
       "PS2       13.267372  13.996304  10.729647    24.447702\n",
       "PS3        8.941796  13.625038   0.000000    17.147768\n",
       "SNES       0.000000   0.000000   8.983767     0.000000\n",
       "Wii       11.291719  10.816620   0.000000     9.993175\n",
       "X360      13.690726  11.169322   0.000000    10.838684"
      ]
     },
     "execution_count": 48,
     "metadata": {},
     "output_type": "execute_result"
    }
   ],
   "source": [
    "# Взглянем на получившуюся таблицу\n",
    "for_visualize"
   ]
  },
  {
   "cell_type": "code",
   "execution_count": 49,
   "metadata": {},
   "outputs": [
    {
     "data": {
      "image/png": "[encoded data removed]",
      "text/plain": [
       "<Figure size 1440x720 with 1 Axes>"
      ]
     },
     "metadata": {
      "needs_background": "light"
     },
     "output_type": "display_data"
    }
   ],
   "source": [
    "# Визуализируем эту статистику\n",
    "for_visualize.T.plot(kind='bar', \n",
    "                    figsize=(20,10),\n",
    "                    stacked=True,\n",
    "                    colormap= 'hot')\n",
    "\n",
    "plt.title('Топ 5 платформ в различных странах')\n",
    "plt.ylabel('Доля платформ (%)')\n",
    "locs, _ = plt.xticks()\n",
    "plt.xticks(locs, ['Северная Америка', 'Европа', 'Япония', 'Другая страна'], rotation=45)\n",
    "plt.show()"
   ]
  },
  {
   "cell_type": "code",
   "execution_count": 50,
   "metadata": {},
   "outputs": [
    {
     "name": "stdout",
     "output_type": "stream",
     "text": [
      "Наиболее популярные Топ-5 жанров в Северной Америке :\n",
      "genre\n",
      "Action      19.974912\n",
      "Sports      15.553212\n",
      "Shooter     13.458257\n",
      "Platform    10.123689\n",
      "Misc         9.254937\n",
      "Name: na_sales, dtype: float64\n",
      "----------------------------------------\n",
      "\n",
      "Наиболее популярные Топ-5 жанров в Европе :\n",
      "genre\n",
      "Action     21.415017\n",
      "Sports     15.543244\n",
      "Shooter    13.090828\n",
      "Racing      9.756450\n",
      "Misc        8.775896\n",
      "Name: eu_sales, dtype: float64\n",
      "----------------------------------------\n",
      "\n",
      "Наиболее популярные Топ-5 жанров в Японии :\n",
      "genre\n",
      "Role-Playing    27.395286\n",
      "Action          12.443153\n",
      "Sports          10.447531\n",
      "Platform        10.084481\n",
      "Misc             8.333205\n",
      "Name: jp_sales, dtype: float64\n",
      "----------------------------------------\n",
      "\n",
      "Наиболее популярные Топ-5 жанров в других странах :\n",
      "genre\n",
      "Action     23.330469\n",
      "Sports     16.999899\n",
      "Shooter    13.157828\n",
      "Racing      9.617815\n",
      "Misc        9.401699\n",
      "Name: other_sales, dtype: float64\n",
      "----------------------------------------\n",
      "\n"
     ]
    }
   ],
   "source": [
    "# Самые популярные жанры\n",
    "places = ['na_sales',\n",
    "          'eu_sales',\n",
    "          'jp_sales',\n",
    "          'other_sales']\n",
    "place_name = ['Северной Америке',\n",
    "              'Европе',\n",
    "              'Японии',\n",
    "              'других странах']\n",
    "for_visualize = pd.DataFrame()\n",
    "for place in places:\n",
    "    print('Наиболее популярные Топ-5 жанров в', place_name[places.index(place)],':')\n",
    "    data_local=data.groupby(\n",
    "        'genre'\n",
    "    )[place].sum().sort_values().sort_values(ascending=False)\n",
    "    result = data_local[:5] / data_local.sum() * 100\n",
    "    print(result)\n",
    "    for_visualize = pd.merge(for_visualize, result, how='outer',\n",
    "                             left_index=True, right_index=True)\n",
    "    print('-' * 40, end='\\n\\n')\n"
   ]
  },
  {
   "cell_type": "code",
   "execution_count": 51,
   "metadata": {},
   "outputs": [
    {
     "data": {
      "text/html": [
       "<div>\n",
       "<style scoped>\n",
       "    .dataframe tbody tr th:only-of-type {\n",
       "        vertical-align: middle;\n",
       "    }\n",
       "\n",
       "    .dataframe tbody tr th {\n",
       "        vertical-align: top;\n",
       "    }\n",
       "\n",
       "    .dataframe thead th {\n",
       "        text-align: right;\n",
       "    }\n",
       "</style>\n",
       "<table border=\"1\" class=\"dataframe\">\n",
       "  <thead>\n",
       "    <tr style=\"text-align: right;\">\n",
       "      <th></th>\n",
       "      <th>na_sales</th>\n",
       "      <th>eu_sales</th>\n",
       "      <th>jp_sales</th>\n",
       "      <th>other_sales</th>\n",
       "    </tr>\n",
       "    <tr>\n",
       "      <th>genre</th>\n",
       "      <th></th>\n",
       "      <th></th>\n",
       "      <th></th>\n",
       "      <th></th>\n",
       "    </tr>\n",
       "  </thead>\n",
       "  <tbody>\n",
       "    <tr>\n",
       "      <th>Action</th>\n",
       "      <td>19.974912</td>\n",
       "      <td>21.415017</td>\n",
       "      <td>12.443153</td>\n",
       "      <td>23.330469</td>\n",
       "    </tr>\n",
       "    <tr>\n",
       "      <th>Misc</th>\n",
       "      <td>9.254937</td>\n",
       "      <td>8.775896</td>\n",
       "      <td>8.333205</td>\n",
       "      <td>9.401699</td>\n",
       "    </tr>\n",
       "    <tr>\n",
       "      <th>Platform</th>\n",
       "      <td>10.123689</td>\n",
       "      <td>NaN</td>\n",
       "      <td>10.084481</td>\n",
       "      <td>NaN</td>\n",
       "    </tr>\n",
       "    <tr>\n",
       "      <th>Racing</th>\n",
       "      <td>NaN</td>\n",
       "      <td>9.756450</td>\n",
       "      <td>NaN</td>\n",
       "      <td>9.617815</td>\n",
       "    </tr>\n",
       "    <tr>\n",
       "      <th>Role-Playing</th>\n",
       "      <td>NaN</td>\n",
       "      <td>NaN</td>\n",
       "      <td>27.395286</td>\n",
       "      <td>NaN</td>\n",
       "    </tr>\n",
       "    <tr>\n",
       "      <th>Shooter</th>\n",
       "      <td>13.458257</td>\n",
       "      <td>13.090828</td>\n",
       "      <td>NaN</td>\n",
       "      <td>13.157828</td>\n",
       "    </tr>\n",
       "    <tr>\n",
       "      <th>Sports</th>\n",
       "      <td>15.553212</td>\n",
       "      <td>15.543244</td>\n",
       "      <td>10.447531</td>\n",
       "      <td>16.999899</td>\n",
       "    </tr>\n",
       "  </tbody>\n",
       "</table>\n",
       "</div>"
      ],
      "text/plain": [
       "               na_sales   eu_sales   jp_sales  other_sales\n",
       "genre                                                     \n",
       "Action        19.974912  21.415017  12.443153    23.330469\n",
       "Misc           9.254937   8.775896   8.333205     9.401699\n",
       "Platform      10.123689        NaN  10.084481          NaN\n",
       "Racing              NaN   9.756450        NaN     9.617815\n",
       "Role-Playing        NaN        NaN  27.395286          NaN\n",
       "Shooter       13.458257  13.090828        NaN    13.157828\n",
       "Sports        15.553212  15.543244  10.447531    16.999899"
      ]
     },
     "execution_count": 51,
     "metadata": {},
     "output_type": "execute_result"
    }
   ],
   "source": [
    "for_visualize"
   ]
  },
  {
   "cell_type": "code",
   "execution_count": 52,
   "metadata": {},
   "outputs": [
    {
     "data": {
      "image/png": "[encoded data removed]",
      "text/plain": [
       "<Figure size 1440x720 with 1 Axes>"
      ]
     },
     "metadata": {
      "needs_background": "light"
     },
     "output_type": "display_data"
    }
   ],
   "source": [
    "# Визуализируем эту статистику\n",
    "for_visualize.T.plot(kind='bar', \n",
    "                    figsize=(20,10),\n",
    "                    stacked=True,\n",
    "                    colormap= 'hot')\n",
    "\n",
    "\n",
    "plt.title('Топ 5 жанров в различных странах')\n",
    "plt.ylabel('Доля игровых жанров (%)')\n",
    "locs, _ = plt.xticks()\n",
    "plt.xticks(locs,['Северная Америка', 'Европа', 'Япония', 'Другая страна'], rotation=45)\n",
    "plt.show()"
   ]
  },
  {
   "cell_type": "code",
   "execution_count": 53,
   "metadata": {},
   "outputs": [],
   "source": [
    "# Влияет ли рейтинг ESRB на продажи в отдельном регионе?\n",
    "group_rating = data[\n",
    "    ~data.rating.isnull()\n",
    "    ].pivot_table(index='rating',\n",
    "                  values=places,\n",
    "                  aggfunc='sum')\n",
    "common_sums = group_rating.sum()"
   ]
  },
  {
   "cell_type": "code",
   "execution_count": 54,
   "metadata": {},
   "outputs": [],
   "source": [
    "group_rating = group_rating / common_sums * 100"
   ]
  },
  {
   "cell_type": "code",
   "execution_count": 55,
   "metadata": {},
   "outputs": [
    {
     "data": {
      "text/html": [
       "<div>\n",
       "<style scoped>\n",
       "    .dataframe tbody tr th:only-of-type {\n",
       "        vertical-align: middle;\n",
       "    }\n",
       "\n",
       "    .dataframe tbody tr th {\n",
       "        vertical-align: top;\n",
       "    }\n",
       "\n",
       "    .dataframe thead th {\n",
       "        text-align: right;\n",
       "    }\n",
       "</style>\n",
       "<table border=\"1\" class=\"dataframe\">\n",
       "  <thead>\n",
       "    <tr style=\"text-align: right;\">\n",
       "      <th></th>\n",
       "      <th>eu_sales</th>\n",
       "      <th>jp_sales</th>\n",
       "      <th>na_sales</th>\n",
       "      <th>other_sales</th>\n",
       "    </tr>\n",
       "    <tr>\n",
       "      <th>rating</th>\n",
       "      <th></th>\n",
       "      <th></th>\n",
       "      <th></th>\n",
       "      <th></th>\n",
       "    </tr>\n",
       "  </thead>\n",
       "  <tbody>\n",
       "    <tr>\n",
       "      <th>-1</th>\n",
       "      <td>25.299694</td>\n",
       "      <td>64.896635</td>\n",
       "      <td>28.193620</td>\n",
       "      <td>19.083969</td>\n",
       "    </tr>\n",
       "    <tr>\n",
       "      <th>AO</th>\n",
       "      <td>0.025164</td>\n",
       "      <td>0.000000</td>\n",
       "      <td>0.028633</td>\n",
       "      <td>0.011375</td>\n",
       "    </tr>\n",
       "    <tr>\n",
       "      <th>E</th>\n",
       "      <td>29.299050</td>\n",
       "      <td>15.270477</td>\n",
       "      <td>29.382330</td>\n",
       "      <td>29.595319</td>\n",
       "    </tr>\n",
       "    <tr>\n",
       "      <th>E10+</th>\n",
       "      <td>7.776779</td>\n",
       "      <td>3.098648</td>\n",
       "      <td>8.028960</td>\n",
       "      <td>9.296800</td>\n",
       "    </tr>\n",
       "    <tr>\n",
       "      <th>EC</th>\n",
       "      <td>0.004538</td>\n",
       "      <td>0.000000</td>\n",
       "      <td>0.034768</td>\n",
       "      <td>0.013902</td>\n",
       "    </tr>\n",
       "    <tr>\n",
       "      <th>K-A</th>\n",
       "      <td>0.011138</td>\n",
       "      <td>0.112538</td>\n",
       "      <td>0.058174</td>\n",
       "      <td>0.003792</td>\n",
       "    </tr>\n",
       "    <tr>\n",
       "      <th>M</th>\n",
       "      <td>19.964606</td>\n",
       "      <td>4.951670</td>\n",
       "      <td>17.008706</td>\n",
       "      <td>22.382589</td>\n",
       "    </tr>\n",
       "    <tr>\n",
       "      <th>RP</th>\n",
       "      <td>0.003300</td>\n",
       "      <td>0.000000</td>\n",
       "      <td>0.000000</td>\n",
       "      <td>0.001264</td>\n",
       "    </tr>\n",
       "    <tr>\n",
       "      <th>T</th>\n",
       "      <td>17.615732</td>\n",
       "      <td>11.670033</td>\n",
       "      <td>17.264809</td>\n",
       "      <td>19.610990</td>\n",
       "    </tr>\n",
       "  </tbody>\n",
       "</table>\n",
       "</div>"
      ],
      "text/plain": [
       "         eu_sales   jp_sales   na_sales  other_sales\n",
       "rating                                              \n",
       "-1      25.299694  64.896635  28.193620    19.083969\n",
       "AO       0.025164   0.000000   0.028633     0.011375\n",
       "E       29.299050  15.270477  29.382330    29.595319\n",
       "E10+     7.776779   3.098648   8.028960     9.296800\n",
       "EC       0.004538   0.000000   0.034768     0.013902\n",
       "K-A      0.011138   0.112538   0.058174     0.003792\n",
       "M       19.964606   4.951670  17.008706    22.382589\n",
       "RP       0.003300   0.000000   0.000000     0.001264\n",
       "T       17.615732  11.670033  17.264809    19.610990"
      ]
     },
     "execution_count": 55,
     "metadata": {},
     "output_type": "execute_result"
    }
   ],
   "source": [
    "group_rating"
   ]
  },
  {
   "cell_type": "code",
   "execution_count": 56,
   "metadata": {},
   "outputs": [
    {
     "data": {
      "image/png": "[encoded data removed]",
      "text/plain": [
       "<Figure size 1440x720 with 1 Axes>"
      ]
     },
     "metadata": {
      "needs_background": "light"
     },
     "output_type": "display_data"
    }
   ],
   "source": [
    "# Визуализируем эту статистику\n",
    "group_rating.T.plot(kind='bar',\n",
    "                       figsize=(20,10),\n",
    "                       stacked=True,\n",
    "                       colormap= 'hot')\n",
    "\n",
    "\n",
    "plt.title('Доля продаж в зависимости от рейтинга')\n",
    "plt.ylabel('Доля продаж (%)')\n",
    "locs, _ = plt.xticks()\n",
    "plt.xticks(locs,['Европа', 'Япония', 'Северная Америка',  'Другая страна'],\n",
    "           rotation=0)\n",
    "plt.show()"
   ]
  },
  {
   "cell_type": "code",
   "execution_count": null,
   "metadata": {},
   "outputs": [],
   "source": []
  },
  {
   "cell_type": "markdown",
   "metadata": {},
   "source": [
    "### Вывод"
   ]
  },
  {
   "cell_type": "markdown",
   "metadata": {},
   "source": [
    "<a name=\"4.1.\"></a>\n",
    "Геймеры по всему миру предпочитают пользоваться настольными компьютерами для игр. Япония является единственной страной со своей спецификой. Там большей популярностью пользуются портативные консоли. Наиболее популярными жанрами по всему миру являются action, музыкальные и спортивные игры. В Японии пользуется популярностью игры в жанре Adventure, в то время как в Европе геймеры отдают предпочтение играм в жанре Racing. <br>\n",
    "\n",
    "<font size=\"2\">([Назад](#0.0))</font>"
   ]
  },
  {
   "cell_type": "markdown",
   "metadata": {},
   "source": [
    "<a name=\"5.\"></a>\n",
    "# Шаг 5. Проверка гипотез\n",
    "\n",
    "<font size=\"2\">([Назад](#0.0))</font>"
   ]
  },
  {
   "cell_type": "markdown",
   "metadata": {},
   "source": [
    "###### Гипотеза 1. Средние пользовательские рейтинги платформ Xbox One и PC одинаковые;\n"
   ]
  },
  {
   "cell_type": "markdown",
   "metadata": {},
   "source": [
    "Нулевая гипотеза H0: Средние пользовательские рейтинги платформ Xbox One и PC одинаковые; <br>\n",
    "Альтернативная гипотеза H1: Средние пользовательские рейтинги платформ Xbox One и PC разные;"
   ]
  },
  {
   "cell_type": "code",
   "execution_count": 57,
   "metadata": {},
   "outputs": [],
   "source": [
    "actual_platforms = actual_platforms.dropna(subset = ['user_score'])"
   ]
  },
  {
   "cell_type": "code",
   "execution_count": 58,
   "metadata": {},
   "outputs": [
    {
     "name": "stdout",
     "output_type": "stream",
     "text": [
      "p-value:  0.05619765758385681\n",
      "Не получилось отвергнуть нулевую гипотезу\n"
     ]
    }
   ],
   "source": [
    "alpha = .05\n",
    "\n",
    "results = st.ttest_ind(\n",
    "    actual_platforms.query('platform == \"XOne\"')['user_score'],\n",
    "    actual_platforms.query('platform == \"PC\"')['user_score'],\n",
    "    equal_var = False)\n",
    "\n",
    "print('p-value: ', results.pvalue)\n",
    "\n",
    "if results.pvalue < alpha:\n",
    "    print('Отвергаем нулевую гипотезу')\n",
    "else:\n",
    "    print('Не получилось отвергнуть нулевую гипотезу')"
   ]
  },
  {
   "cell_type": "markdown",
   "metadata": {},
   "source": [
    "Нулевая гипотеза подтвердилась. Средние пользовательские рейтинги платформ Xbox One и PC одинаковые."
   ]
  },
  {
   "cell_type": "markdown",
   "metadata": {},
   "source": [
    "###### Гипотеза 2. Средние пользовательские рейтинги жанров Action и Sports разные.\n"
   ]
  },
  {
   "cell_type": "markdown",
   "metadata": {},
   "source": [
    "Нулевая гипотеза H0: Средние пользовательские рейтинги жанров Action и Sports одинаковые. <br>\n",
    "Альтернативная гипотеза H1: Средние пользовательские рейтинги жанров Action и Sports разные."
   ]
  },
  {
   "cell_type": "code",
   "execution_count": 59,
   "metadata": {},
   "outputs": [
    {
     "name": "stdout",
     "output_type": "stream",
     "text": [
      "p-value:  0.0020018209559324713\n",
      "Отвергаем нулевую гипотезу\n"
     ]
    }
   ],
   "source": [
    "alpha = .05\n",
    "\n",
    "results = st.ttest_ind(\n",
    "    actual_platforms.query('genre == \"Action\"')['user_score'],\n",
    "    actual_platforms.query('genre == \"Sports\"')['user_score'],\n",
    "    equal_var = False)\n",
    "\n",
    "print('p-value: ', results.pvalue)\n",
    "\n",
    "if results.pvalue < alpha:\n",
    "    print('Отвергаем нулевую гипотезу')\n",
    "else:\n",
    "    print('Не получилось отвергнуть нулевую гипотезу')"
   ]
  },
  {
   "cell_type": "markdown",
   "metadata": {},
   "source": [
    "Отвергаем нулевую гипотезу. Средние пользовательские рейтинги жанров Action и Sports разные."
   ]
  },
  {
   "cell_type": "markdown",
   "metadata": {},
   "source": [
    "# Шаг 6. Общие выводы"
   ]
  },
  {
   "cell_type": "markdown",
   "metadata": {},
   "source": [
    "<a name=\"6.\"></a>\n",
    "\n",
    "Было необходимо проанализировать данные из двумерной таблцы (16715 x 11), предположить причины возникновения пропусков (наибольшее количество пропусков есть в столбцах “Critic_Score” и “Rating”. Должно быть, что это связано с тем, что не для всех игр была возможность сформировать рейтинг, так как старые игры потеряли свою актуальность и не пользуются большим спросом у геймеров, а вновь вышедшие игры ещё не успели получить обзор от критиков. Также, можно отметить, что большое количество нулевых значений обнаружено в столбце с количеством проданных копий. \n",
    "\n",
    "Мы выяснили, что в наших данных есть 11560 уникальных названий игр. Остальные строки являются повторами, так игры выходят на различных платформах. Было удалено две строки, в которых были игры без названия. \n",
    "\n",
    "Медианное время жизни платформы составляет около 10 лет. К 2016 году заметно потеряли свою популярность такие платформы как Xbox360, Wii, DS, PS3, в то время как PS4 увеличила свои продажи. Можно заметить, что жизненный цикл портативных платформ отличается в меньшую сторону (Nintendo 3ds, PSP, PS vita, wiiU) и не стоит рассчитывать, что к этим девайсам вернётся популярность в будущем. Конкурентоспособными платформами являются PS4, 3ds, xbox one, PC, wiiU. Наиболее популярной платформой на тот момент является PS4, именно ей стоит уделить особое внимание во время анализа. \n",
    "\n",
    "Геймеры по всему миру предпочитают пользоваться настольными компьютерами для игр. Япония является единственной страной со своей спецификой. Там большей популярностью пользуются портативные консоли. Наиболее популярными жанрами по всему миру являются action, музыкальные и спортивные игры. В Японии пользуется популярностью игры в жанре Adventure, в то время как в Европе геймеры отдают предпочтение играм в жанре Racing. \n",
    "\n",
    "Для проверки гипотез будет использоваться стандартный t-тест. \n",
    "\n",
    "**Гипотеза 1.** Средние пользовательские рейтинги платформ Xbox One и PC одинаковые; <br>\n",
    "Нулевая гипотеза H0: Средние пользовательские рейтинги платформ Xbox One и PC одинаковые; <br>\n",
    "Альтернативная гипотеза H1: Средние пользовательские рейтинги платформ Xbox One и PC разные;<br>\n",
    "p-value:  0.05619765758385681<br>\n",
    "Не получилось отвергнуть нулевую гипотезу<br>\n",
    "**Нулевая гипотеза подтвердилась. Средние пользовательские рейтинги платформ Xbox One и PC одинаковые.**<br>\n",
    "<br>\n",
    "**Гипотеза 2.** Средние пользовательские рейтинги жанров Action и Sports разные.<br>\n",
    "Нулевая гипотеза H0: Средние пользовательские рейтинги жанров Action и Sports одинаковые. <br>\n",
    "Альтернативная гипотеза H1: Средние пользовательские рейтинги жанров Action и Sports разные.<br>\n",
    "p-value:  0.0020018209559324713<br>\n",
    "**Отвергаем нулевую гипотезу. Средние пользовательские рейтинги жанров Action и Sports разные.**<br>\n",
    "<br>\n",
    "Потенциально выгодно разработать игру для рынка Европы и Америки на для PS4 либо Xbox One в жанре Shooter/Action. Японский рынок отличается своей спецификой и предпочтениями среди геймеров. При разработке игры для этого сегмента нужно обратить внимание на портативные консоли и игры в жанре RPG. \n",
    "\n",
    "<font size=\"2\">([Назад](#0.0))</font>"
   ]
  }
 ],
 "metadata": {
  "ExecuteTimeLog": [
   {
    "duration": 1208,
    "start_time": "2022-06-03T10:39:21.602Z"
   },
   {
    "duration": 69,
    "start_time": "2022-06-03T10:39:22.812Z"
   },
   {
    "duration": 18,
    "start_time": "2022-06-03T10:39:22.883Z"
   },
   {
    "duration": 36,
    "start_time": "2022-06-03T10:39:22.903Z"
   },
   {
    "duration": 20,
    "start_time": "2022-06-03T10:39:22.942Z"
   },
   {
    "duration": 7,
    "start_time": "2022-06-03T10:39:22.964Z"
   },
   {
    "duration": 23,
    "start_time": "2022-06-03T10:39:22.973Z"
   },
   {
    "duration": 13,
    "start_time": "2022-06-03T10:39:22.998Z"
   },
   {
    "duration": 30,
    "start_time": "2022-06-03T10:39:23.012Z"
   },
   {
    "duration": 20,
    "start_time": "2022-06-03T10:39:23.045Z"
   },
   {
    "duration": 22,
    "start_time": "2022-06-03T10:39:23.066Z"
   },
   {
    "duration": 5,
    "start_time": "2022-06-03T10:39:23.090Z"
   },
   {
    "duration": 9,
    "start_time": "2022-06-03T10:39:23.096Z"
   },
   {
    "duration": 10,
    "start_time": "2022-06-03T10:39:23.107Z"
   },
   {
    "duration": 27,
    "start_time": "2022-06-03T10:39:23.119Z"
   },
   {
    "duration": 20,
    "start_time": "2022-06-03T10:39:23.149Z"
   },
   {
    "duration": 20,
    "start_time": "2022-06-03T10:39:23.170Z"
   },
   {
    "duration": 20,
    "start_time": "2022-06-03T10:39:23.192Z"
   },
   {
    "duration": 3,
    "start_time": "2022-06-03T10:39:23.214Z"
   },
   {
    "duration": 26,
    "start_time": "2022-06-03T10:39:23.219Z"
   },
   {
    "duration": 32,
    "start_time": "2022-06-03T10:39:23.249Z"
   },
   {
    "duration": 20,
    "start_time": "2022-06-03T10:39:23.283Z"
   },
   {
    "duration": 29,
    "start_time": "2022-06-03T10:39:23.305Z"
   },
   {
    "duration": 16,
    "start_time": "2022-06-03T10:39:23.337Z"
   },
   {
    "duration": 19,
    "start_time": "2022-06-03T10:39:23.355Z"
   },
   {
    "duration": 3,
    "start_time": "2022-06-03T10:39:23.375Z"
   },
   {
    "duration": 32,
    "start_time": "2022-06-03T10:39:23.380Z"
   },
   {
    "duration": 37,
    "start_time": "2022-06-03T10:39:23.414Z"
   },
   {
    "duration": 222,
    "start_time": "2022-06-03T10:39:23.453Z"
   },
   {
    "duration": 7,
    "start_time": "2022-06-03T10:39:23.676Z"
   },
   {
    "duration": 446,
    "start_time": "2022-06-03T10:39:23.684Z"
   },
   {
    "duration": 23,
    "start_time": "2022-06-03T10:39:24.132Z"
   },
   {
    "duration": 190,
    "start_time": "2022-06-03T10:39:24.156Z"
   },
   {
    "duration": 252,
    "start_time": "2022-06-03T10:39:24.348Z"
   },
   {
    "duration": 7,
    "start_time": "2022-06-03T10:39:24.602Z"
   },
   {
    "duration": 34,
    "start_time": "2022-06-03T10:39:24.612Z"
   },
   {
    "duration": 105,
    "start_time": "2022-06-03T10:39:24.648Z"
   },
   {
    "duration": 167,
    "start_time": "2022-06-03T10:39:24.754Z"
   },
   {
    "duration": 178,
    "start_time": "2022-06-03T10:39:24.928Z"
   },
   {
    "duration": 45,
    "start_time": "2022-06-03T10:39:25.107Z"
   },
   {
    "duration": 206,
    "start_time": "2022-06-03T10:39:25.156Z"
   },
   {
    "duration": 26,
    "start_time": "2022-06-03T10:39:25.363Z"
   },
   {
    "duration": 3,
    "start_time": "2022-06-03T10:39:25.391Z"
   },
   {
    "duration": 12,
    "start_time": "2022-06-03T10:39:25.396Z"
   },
   {
    "duration": 326,
    "start_time": "2022-06-03T10:39:25.436Z"
   },
   {
    "duration": 25,
    "start_time": "2022-06-03T10:39:25.764Z"
   },
   {
    "duration": 8,
    "start_time": "2022-06-03T10:39:25.791Z"
   },
   {
    "duration": 327,
    "start_time": "2022-06-03T10:39:25.800Z"
   },
   {
    "duration": 20,
    "start_time": "2022-06-03T10:39:26.130Z"
   },
   {
    "duration": 11,
    "start_time": "2022-06-03T10:39:26.152Z"
   },
   {
    "duration": 23,
    "start_time": "2022-06-03T10:39:26.165Z"
   },
   {
    "duration": 504,
    "start_time": "2022-06-03T10:39:26.191Z"
   },
   {
    "duration": 11,
    "start_time": "2022-06-03T10:39:26.696Z"
   },
   {
    "duration": 23,
    "start_time": "2022-06-03T10:39:26.708Z"
   },
   {
    "duration": 664,
    "start_time": "2022-06-03T10:40:52.731Z"
   },
   {
    "duration": 4,
    "start_time": "2022-06-03T10:41:00.673Z"
   },
   {
    "duration": 168,
    "start_time": "2022-06-03T10:41:00.679Z"
   },
   {
    "duration": 18,
    "start_time": "2022-06-03T10:41:00.855Z"
   },
   {
    "duration": 47,
    "start_time": "2022-06-03T10:41:00.874Z"
   },
   {
    "duration": 15,
    "start_time": "2022-06-03T10:41:00.923Z"
   },
   {
    "duration": 18,
    "start_time": "2022-06-03T10:41:00.941Z"
   },
   {
    "duration": 6,
    "start_time": "2022-06-03T10:41:09.458Z"
   },
   {
    "duration": 5,
    "start_time": "2022-06-03T10:41:24.747Z"
   },
   {
    "duration": 95,
    "start_time": "2022-06-03T10:41:24.754Z"
   },
   {
    "duration": 17,
    "start_time": "2022-06-03T10:41:24.851Z"
   },
   {
    "duration": 39,
    "start_time": "2022-06-03T10:41:24.870Z"
   },
   {
    "duration": 30,
    "start_time": "2022-06-03T10:41:24.911Z"
   },
   {
    "duration": 13,
    "start_time": "2022-06-03T10:41:24.944Z"
   },
   {
    "duration": 14,
    "start_time": "2022-06-03T10:41:24.958Z"
   },
   {
    "duration": 4,
    "start_time": "2022-06-03T10:48:54.700Z"
   },
   {
    "duration": 89,
    "start_time": "2022-06-03T10:48:54.706Z"
   },
   {
    "duration": 14,
    "start_time": "2022-06-03T10:48:54.797Z"
   },
   {
    "duration": 39,
    "start_time": "2022-06-03T10:48:54.813Z"
   },
   {
    "duration": 19,
    "start_time": "2022-06-03T10:48:54.856Z"
   },
   {
    "duration": 38,
    "start_time": "2022-06-03T10:48:54.877Z"
   },
   {
    "duration": 39,
    "start_time": "2022-06-03T10:48:54.917Z"
   },
   {
    "duration": 10,
    "start_time": "2022-06-03T10:48:54.957Z"
   },
   {
    "duration": 10,
    "start_time": "2022-06-03T10:48:54.968Z"
   },
   {
    "duration": 50,
    "start_time": "2022-06-03T10:48:54.980Z"
   },
   {
    "duration": 38,
    "start_time": "2022-06-03T10:48:55.032Z"
   },
   {
    "duration": 5,
    "start_time": "2022-06-03T10:48:55.071Z"
   },
   {
    "duration": 59,
    "start_time": "2022-06-03T10:48:55.078Z"
   },
   {
    "duration": 21,
    "start_time": "2022-06-03T10:48:55.140Z"
   },
   {
    "duration": 33,
    "start_time": "2022-06-03T10:48:55.163Z"
   },
   {
    "duration": 19,
    "start_time": "2022-06-03T10:48:55.198Z"
   },
   {
    "duration": 30,
    "start_time": "2022-06-03T10:48:55.219Z"
   },
   {
    "duration": 17,
    "start_time": "2022-06-03T10:48:55.251Z"
   },
   {
    "duration": 7,
    "start_time": "2022-06-03T10:48:55.270Z"
   },
   {
    "duration": 63,
    "start_time": "2022-06-03T10:48:55.279Z"
   },
   {
    "duration": 84,
    "start_time": "2022-06-03T10:48:55.345Z"
   },
   {
    "duration": 41,
    "start_time": "2022-06-03T10:48:55.432Z"
   },
   {
    "duration": 7,
    "start_time": "2022-06-03T10:48:55.474Z"
   },
   {
    "duration": 12,
    "start_time": "2022-06-03T10:48:55.528Z"
   },
   {
    "duration": 25,
    "start_time": "2022-06-03T10:48:55.543Z"
   },
   {
    "duration": 3,
    "start_time": "2022-06-03T10:48:55.570Z"
   },
   {
    "duration": 83,
    "start_time": "2022-06-03T10:48:55.574Z"
   },
   {
    "duration": 6,
    "start_time": "2022-06-03T10:49:29.489Z"
   },
   {
    "duration": 1226,
    "start_time": "2022-06-08T08:34:55.917Z"
   },
   {
    "duration": 55,
    "start_time": "2022-06-08T08:34:57.145Z"
   },
   {
    "duration": 17,
    "start_time": "2022-06-08T08:34:57.202Z"
   },
   {
    "duration": 29,
    "start_time": "2022-06-08T08:34:57.221Z"
   },
   {
    "duration": 13,
    "start_time": "2022-06-08T08:34:57.251Z"
   },
   {
    "duration": 28,
    "start_time": "2022-06-08T08:34:57.266Z"
   },
   {
    "duration": 8,
    "start_time": "2022-06-08T08:34:57.296Z"
   },
   {
    "duration": 10,
    "start_time": "2022-06-08T08:34:57.306Z"
   },
   {
    "duration": 11,
    "start_time": "2022-06-08T08:34:57.317Z"
   },
   {
    "duration": 10,
    "start_time": "2022-06-08T08:34:57.330Z"
   },
   {
    "duration": 11,
    "start_time": "2022-06-08T08:34:57.341Z"
   },
   {
    "duration": 42,
    "start_time": "2022-06-08T08:34:57.353Z"
   },
   {
    "duration": 9,
    "start_time": "2022-06-08T08:34:57.397Z"
   },
   {
    "duration": 9,
    "start_time": "2022-06-08T08:34:57.408Z"
   },
   {
    "duration": 10,
    "start_time": "2022-06-08T08:34:57.418Z"
   },
   {
    "duration": 8,
    "start_time": "2022-06-08T08:34:57.430Z"
   },
   {
    "duration": 20,
    "start_time": "2022-06-08T08:34:57.440Z"
   },
   {
    "duration": 34,
    "start_time": "2022-06-08T08:34:57.461Z"
   },
   {
    "duration": 4,
    "start_time": "2022-06-08T08:34:57.497Z"
   },
   {
    "duration": 18,
    "start_time": "2022-06-08T08:34:57.502Z"
   },
   {
    "duration": 9,
    "start_time": "2022-06-08T08:34:57.522Z"
   },
   {
    "duration": 7,
    "start_time": "2022-06-08T08:34:57.532Z"
   },
   {
    "duration": 9,
    "start_time": "2022-06-08T08:34:57.541Z"
   },
   {
    "duration": 19,
    "start_time": "2022-06-08T08:34:57.551Z"
   },
   {
    "duration": 44,
    "start_time": "2022-06-08T08:34:57.571Z"
   },
   {
    "duration": 40,
    "start_time": "2022-06-08T08:34:57.616Z"
   },
   {
    "duration": 7,
    "start_time": "2022-06-08T08:34:57.658Z"
   },
   {
    "duration": 13,
    "start_time": "2022-06-08T08:34:57.668Z"
   },
   {
    "duration": 3,
    "start_time": "2022-06-08T08:34:57.683Z"
   },
   {
    "duration": 32,
    "start_time": "2022-06-08T08:34:57.687Z"
   },
   {
    "duration": 14,
    "start_time": "2022-06-08T08:34:57.721Z"
   },
   {
    "duration": 173,
    "start_time": "2022-06-08T08:34:57.737Z"
   },
   {
    "duration": 9,
    "start_time": "2022-06-08T08:34:57.911Z"
   },
   {
    "duration": 10,
    "start_time": "2022-06-08T08:34:57.921Z"
   },
   {
    "duration": 364,
    "start_time": "2022-06-08T08:34:57.932Z"
   },
   {
    "duration": 17,
    "start_time": "2022-06-08T08:34:58.297Z"
   },
   {
    "duration": 184,
    "start_time": "2022-06-08T08:34:58.316Z"
   },
   {
    "duration": 317,
    "start_time": "2022-06-08T08:34:58.502Z"
   },
   {
    "duration": 20,
    "start_time": "2022-06-08T08:34:58.821Z"
   },
   {
    "duration": 9,
    "start_time": "2022-06-08T08:34:58.843Z"
   },
   {
    "duration": 13,
    "start_time": "2022-06-08T08:34:58.853Z"
   },
   {
    "duration": 91,
    "start_time": "2022-06-08T08:34:58.868Z"
   },
   {
    "duration": 39,
    "start_time": "2022-06-08T08:34:58.961Z"
   }
  ],
  "kernelspec": {
   "display_name": "Python 3 (ipykernel)",
   "language": "python",
   "name": "python3"
  },
  "language_info": {
   "codemirror_mode": {
    "name": "ipython",
    "version": 3
   },
   "file_extension": ".py",
   "mimetype": "text/x-python",
   "name": "python",
   "nbconvert_exporter": "python",
   "pygments_lexer": "ipython3",
   "version": "3.10.4"
  },
  "toc": {
   "base_numbering": 1,
   "nav_menu": {},
   "number_sections": false,
   "sideBar": true,
   "skip_h1_title": true,
   "title_cell": "Table of Contents",
   "title_sidebar": "Contents",
   "toc_cell": false,
   "toc_position": {
    "height": "1294px",
    "left": "2132px",
    "top": "137px",
    "width": "464.3125px"
   },
   "toc_section_display": true,
   "toc_window_display": true
  },
  "varInspector": {
   "cols": {
    "lenName": 16,
    "lenType": 16,
    "lenVar": 40
   },
   "kernels_config": {
    "python": {
     "delete_cmd_postfix": "",
     "delete_cmd_prefix": "del ",
     "library": "var_list.py",
     "varRefreshCmd": "print(var_dic_list())"
    },
    "r": {
     "delete_cmd_postfix": ") ",
     "delete_cmd_prefix": "rm(",
     "library": "var_list.r",
     "varRefreshCmd": "cat(var_dic_list()) "
    }
   },
   "types_to_exclude": [
    "module",
    "function",
    "builtin_function_or_method",
    "instance",
    "_Feature"
   ],
   "window_display": false
  }
 },
 "nbformat": 4,
 "nbformat_minor": 4
}
