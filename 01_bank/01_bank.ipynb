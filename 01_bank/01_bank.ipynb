{
 "cells": [
  {
   "cell_type": "markdown",
   "id": "b90189ef",
   "metadata": {},
   "source": [
    "# Исследование надежности заемщиков.\n",
    "\n",
    "## Описание проекта.<br>\n",
    "\n",
    "<b>Заказчик</b> — кредитный отдел банка.<br>\n",
    "<b>Входные данные от банка</b> — статистика о платёжеспособности клиентов.<br>\n",
    "<b>Задача исследования -</b> найти зависимость между семейным положением и количеством детей заёмщика и его возможностей погошать кредиты в срок.<br>\n",
    "<b>Применение результатов исследования -</b> построение модели кредитного скоринга.<br>\n"
   ]
  },
  {
   "cell_type": "markdown",
   "id": "e705b909",
   "metadata": {},
   "source": [
    "### Шаг 1. Обзор данных"
   ]
  },
  {
   "cell_type": "code",
   "execution_count": 1,
   "id": "24ea0e8f",
   "metadata": {},
   "outputs": [],
   "source": [
    "import pandas as pd\n",
    "pd.set_option('display.max_rows', None) # Добавляю условие, для отмены ограничения на показ строк"
   ]
  },
  {
   "cell_type": "code",
   "execution_count": 2,
   "id": "cca09130",
   "metadata": {},
   "outputs": [],
   "source": [
    "df = pd.read_csv('data.csv')"
   ]
  },
  {
   "cell_type": "code",
   "execution_count": 3,
   "id": "b43ed4ee",
   "metadata": {
    "scrolled": true
   },
   "outputs": [
    {
     "data": {
      "text/html": [
       "<div>\n",
       "<style scoped>\n",
       "    .dataframe tbody tr th:only-of-type {\n",
       "        vertical-align: middle;\n",
       "    }\n",
       "\n",
       "    .dataframe tbody tr th {\n",
       "        vertical-align: top;\n",
       "    }\n",
       "\n",
       "    .dataframe thead th {\n",
       "        text-align: right;\n",
       "    }\n",
       "</style>\n",
       "<table border=\"1\" class=\"dataframe\">\n",
       "  <thead>\n",
       "    <tr style=\"text-align: right;\">\n",
       "      <th></th>\n",
       "      <th>children</th>\n",
       "      <th>days_employed</th>\n",
       "      <th>dob_years</th>\n",
       "      <th>education</th>\n",
       "      <th>education_id</th>\n",
       "      <th>family_status</th>\n",
       "      <th>family_status_id</th>\n",
       "      <th>gender</th>\n",
       "      <th>income_type</th>\n",
       "      <th>debt</th>\n",
       "      <th>total_income</th>\n",
       "      <th>purpose</th>\n",
       "    </tr>\n",
       "  </thead>\n",
       "  <tbody>\n",
       "    <tr>\n",
       "      <th>0</th>\n",
       "      <td>1</td>\n",
       "      <td>-8437.673028</td>\n",
       "      <td>42</td>\n",
       "      <td>высшее</td>\n",
       "      <td>0</td>\n",
       "      <td>женат / замужем</td>\n",
       "      <td>0</td>\n",
       "      <td>F</td>\n",
       "      <td>сотрудник</td>\n",
       "      <td>0</td>\n",
       "      <td>253875.639453</td>\n",
       "      <td>покупка жилья</td>\n",
       "    </tr>\n",
       "    <tr>\n",
       "      <th>1</th>\n",
       "      <td>1</td>\n",
       "      <td>-4024.803754</td>\n",
       "      <td>36</td>\n",
       "      <td>среднее</td>\n",
       "      <td>1</td>\n",
       "      <td>женат / замужем</td>\n",
       "      <td>0</td>\n",
       "      <td>F</td>\n",
       "      <td>сотрудник</td>\n",
       "      <td>0</td>\n",
       "      <td>112080.014102</td>\n",
       "      <td>приобретение автомобиля</td>\n",
       "    </tr>\n",
       "    <tr>\n",
       "      <th>2</th>\n",
       "      <td>0</td>\n",
       "      <td>-5623.422610</td>\n",
       "      <td>33</td>\n",
       "      <td>Среднее</td>\n",
       "      <td>1</td>\n",
       "      <td>женат / замужем</td>\n",
       "      <td>0</td>\n",
       "      <td>M</td>\n",
       "      <td>сотрудник</td>\n",
       "      <td>0</td>\n",
       "      <td>145885.952297</td>\n",
       "      <td>покупка жилья</td>\n",
       "    </tr>\n",
       "    <tr>\n",
       "      <th>3</th>\n",
       "      <td>3</td>\n",
       "      <td>-4124.747207</td>\n",
       "      <td>32</td>\n",
       "      <td>среднее</td>\n",
       "      <td>1</td>\n",
       "      <td>женат / замужем</td>\n",
       "      <td>0</td>\n",
       "      <td>M</td>\n",
       "      <td>сотрудник</td>\n",
       "      <td>0</td>\n",
       "      <td>267628.550329</td>\n",
       "      <td>дополнительное образование</td>\n",
       "    </tr>\n",
       "    <tr>\n",
       "      <th>4</th>\n",
       "      <td>0</td>\n",
       "      <td>340266.072047</td>\n",
       "      <td>53</td>\n",
       "      <td>среднее</td>\n",
       "      <td>1</td>\n",
       "      <td>гражданский брак</td>\n",
       "      <td>1</td>\n",
       "      <td>F</td>\n",
       "      <td>пенсионер</td>\n",
       "      <td>0</td>\n",
       "      <td>158616.077870</td>\n",
       "      <td>сыграть свадьбу</td>\n",
       "    </tr>\n",
       "    <tr>\n",
       "      <th>5</th>\n",
       "      <td>0</td>\n",
       "      <td>-926.185831</td>\n",
       "      <td>27</td>\n",
       "      <td>высшее</td>\n",
       "      <td>0</td>\n",
       "      <td>гражданский брак</td>\n",
       "      <td>1</td>\n",
       "      <td>M</td>\n",
       "      <td>компаньон</td>\n",
       "      <td>0</td>\n",
       "      <td>255763.565419</td>\n",
       "      <td>покупка жилья</td>\n",
       "    </tr>\n",
       "    <tr>\n",
       "      <th>6</th>\n",
       "      <td>0</td>\n",
       "      <td>-2879.202052</td>\n",
       "      <td>43</td>\n",
       "      <td>высшее</td>\n",
       "      <td>0</td>\n",
       "      <td>женат / замужем</td>\n",
       "      <td>0</td>\n",
       "      <td>F</td>\n",
       "      <td>компаньон</td>\n",
       "      <td>0</td>\n",
       "      <td>240525.971920</td>\n",
       "      <td>операции с жильем</td>\n",
       "    </tr>\n",
       "    <tr>\n",
       "      <th>7</th>\n",
       "      <td>0</td>\n",
       "      <td>-152.779569</td>\n",
       "      <td>50</td>\n",
       "      <td>СРЕДНЕЕ</td>\n",
       "      <td>1</td>\n",
       "      <td>женат / замужем</td>\n",
       "      <td>0</td>\n",
       "      <td>M</td>\n",
       "      <td>сотрудник</td>\n",
       "      <td>0</td>\n",
       "      <td>135823.934197</td>\n",
       "      <td>образование</td>\n",
       "    </tr>\n",
       "    <tr>\n",
       "      <th>8</th>\n",
       "      <td>2</td>\n",
       "      <td>-6929.865299</td>\n",
       "      <td>35</td>\n",
       "      <td>ВЫСШЕЕ</td>\n",
       "      <td>0</td>\n",
       "      <td>гражданский брак</td>\n",
       "      <td>1</td>\n",
       "      <td>F</td>\n",
       "      <td>сотрудник</td>\n",
       "      <td>0</td>\n",
       "      <td>95856.832424</td>\n",
       "      <td>на проведение свадьбы</td>\n",
       "    </tr>\n",
       "    <tr>\n",
       "      <th>9</th>\n",
       "      <td>0</td>\n",
       "      <td>-2188.756445</td>\n",
       "      <td>41</td>\n",
       "      <td>среднее</td>\n",
       "      <td>1</td>\n",
       "      <td>женат / замужем</td>\n",
       "      <td>0</td>\n",
       "      <td>M</td>\n",
       "      <td>сотрудник</td>\n",
       "      <td>0</td>\n",
       "      <td>144425.938277</td>\n",
       "      <td>покупка жилья для семьи</td>\n",
       "    </tr>\n",
       "  </tbody>\n",
       "</table>\n",
       "</div>"
      ],
      "text/plain": [
       "   children  days_employed  dob_years education  education_id  \\\n",
       "0         1   -8437.673028         42    высшее             0   \n",
       "1         1   -4024.803754         36   среднее             1   \n",
       "2         0   -5623.422610         33   Среднее             1   \n",
       "3         3   -4124.747207         32   среднее             1   \n",
       "4         0  340266.072047         53   среднее             1   \n",
       "5         0    -926.185831         27    высшее             0   \n",
       "6         0   -2879.202052         43    высшее             0   \n",
       "7         0    -152.779569         50   СРЕДНЕЕ             1   \n",
       "8         2   -6929.865299         35    ВЫСШЕЕ             0   \n",
       "9         0   -2188.756445         41   среднее             1   \n",
       "\n",
       "      family_status  family_status_id gender income_type  debt   total_income  \\\n",
       "0   женат / замужем                 0      F   сотрудник     0  253875.639453   \n",
       "1   женат / замужем                 0      F   сотрудник     0  112080.014102   \n",
       "2   женат / замужем                 0      M   сотрудник     0  145885.952297   \n",
       "3   женат / замужем                 0      M   сотрудник     0  267628.550329   \n",
       "4  гражданский брак                 1      F   пенсионер     0  158616.077870   \n",
       "5  гражданский брак                 1      M   компаньон     0  255763.565419   \n",
       "6   женат / замужем                 0      F   компаньон     0  240525.971920   \n",
       "7   женат / замужем                 0      M   сотрудник     0  135823.934197   \n",
       "8  гражданский брак                 1      F   сотрудник     0   95856.832424   \n",
       "9   женат / замужем                 0      M   сотрудник     0  144425.938277   \n",
       "\n",
       "                      purpose  \n",
       "0               покупка жилья  \n",
       "1     приобретение автомобиля  \n",
       "2               покупка жилья  \n",
       "3  дополнительное образование  \n",
       "4             сыграть свадьбу  \n",
       "5               покупка жилья  \n",
       "6           операции с жильем  \n",
       "7                 образование  \n",
       "8       на проведение свадьбы  \n",
       "9     покупка жилья для семьи  "
      ]
     },
     "execution_count": 3,
     "metadata": {},
     "output_type": "execute_result"
    }
   ],
   "source": [
    "df.head(10) # Ознакамливаюсь с данными"
   ]
  },
  {
   "cell_type": "code",
   "execution_count": 4,
   "id": "8dc5987f",
   "metadata": {
    "scrolled": true
   },
   "outputs": [
    {
     "name": "stdout",
     "output_type": "stream",
     "text": [
      "<class 'pandas.core.frame.DataFrame'>\n",
      "RangeIndex: 21525 entries, 0 to 21524\n",
      "Data columns (total 12 columns):\n",
      " #   Column            Non-Null Count  Dtype  \n",
      "---  ------            --------------  -----  \n",
      " 0   children          21525 non-null  int64  \n",
      " 1   days_employed     19351 non-null  float64\n",
      " 2   dob_years         21525 non-null  int64  \n",
      " 3   education         21525 non-null  object \n",
      " 4   education_id      21525 non-null  int64  \n",
      " 5   family_status     21525 non-null  object \n",
      " 6   family_status_id  21525 non-null  int64  \n",
      " 7   gender            21525 non-null  object \n",
      " 8   income_type       21525 non-null  object \n",
      " 9   debt              21525 non-null  int64  \n",
      " 10  total_income      19351 non-null  float64\n",
      " 11  purpose           21525 non-null  object \n",
      "dtypes: float64(2), int64(5), object(5)\n",
      "memory usage: 2.0+ MB\n"
     ]
    }
   ],
   "source": [
    "df.info() # Получаю информацию о количестве незаполненных строк, узнаю в каких столбцах есть проблемы"
   ]
  },
  {
   "cell_type": "markdown",
   "id": "cb04ad66",
   "metadata": {},
   "source": [
    "Во время предобработки данных мне удалось найти пропуски в столбцах \"days_employed\" и \"total_income\"."
   ]
  },
  {
   "cell_type": "code",
   "execution_count": 5,
   "id": "e08460dd",
   "metadata": {},
   "outputs": [
    {
     "data": {
      "text/plain": [
       "children               0\n",
       "days_employed       2174\n",
       "dob_years              0\n",
       "education              0\n",
       "education_id           0\n",
       "family_status          0\n",
       "family_status_id       0\n",
       "gender                 0\n",
       "income_type            0\n",
       "debt                   0\n",
       "total_income        2174\n",
       "purpose                0\n",
       "dtype: int64"
      ]
     },
     "execution_count": 5,
     "metadata": {},
     "output_type": "execute_result"
    }
   ],
   "source": [
    "df.isna().sum() # Подсчитываю количество ячеек с пропусками в столбцах"
   ]
  },
  {
   "cell_type": "code",
   "execution_count": 6,
   "id": "5a1c5fe2",
   "metadata": {},
   "outputs": [
    {
     "name": "stdout",
     "output_type": "stream",
     "text": [
      "10.1 %\n"
     ]
    }
   ],
   "source": [
    "# Узнаю процентное соотношение количества строк с пропусками к общему количеству строк в столбце days_employed\n",
    "# Значение также верно для столбца total_income, так как количество пропусков совпадает\n",
    "\n",
    "print(round(df['days_employed'].isna().sum()/len(df['days_employed']) * 100, 1),'%')"
   ]
  },
  {
   "cell_type": "code",
   "execution_count": 7,
   "id": "d0a02b6c",
   "metadata": {},
   "outputs": [
    {
     "data": {
      "text/plain": [
       "children            0.000000\n",
       "days_employed       0.100999\n",
       "dob_years           0.000000\n",
       "education           0.000000\n",
       "education_id        0.000000\n",
       "family_status       0.000000\n",
       "family_status_id    0.000000\n",
       "gender              0.000000\n",
       "income_type         0.000000\n",
       "debt                0.000000\n",
       "total_income        0.100999\n",
       "purpose             0.000000\n",
       "dtype: float64"
      ]
     },
     "execution_count": 7,
     "metadata": {},
     "output_type": "execute_result"
    }
   ],
   "source": [
    "df.isna().mean()"
   ]
  },
  {
   "cell_type": "markdown",
   "id": "a9de9503",
   "metadata": {},
   "source": [
    "**Возможные причины появления пропусков в данных:**\n",
    "- Человеческий фактор\n",
    "- Частичная потеря данных по техническим причинам\n",
    "\n",
    "**Пропуски необходимо заполнить медианным значением, потому что выбросы не смогут сильно исказить данные**"
   ]
  },
  {
   "cell_type": "markdown",
   "id": "49e8288d",
   "metadata": {},
   "source": [
    "### Шаг 2.1 Заполнение пропусков"
   ]
  },
  {
   "cell_type": "code",
   "execution_count": 8,
   "id": "9273f750",
   "metadata": {
    "scrolled": true
   },
   "outputs": [],
   "source": [
    "df['days_employed'] = df['days_employed'].abs() # Меняю все значения в столбце на положительные числа\n",
    "days_employed_median = df['days_employed'].median() # Подсчитываю медианное значение в столбце\n",
    "df['days_employed'] = df['days_employed'].fillna(days_employed_median) # Заполняю пропущенные ячейки медианным значением\n",
    "\n",
    "\n",
    "total_income_median = df['total_income'].median() # Подсчитываю медианное значение в столбце\n",
    "df['total_income'] = df['total_income'].fillna(total_income_median) # Заполняю пропущенные ячейки медианным значением "
   ]
  },
  {
   "cell_type": "code",
   "execution_count": 9,
   "id": "a6a28d55",
   "metadata": {},
   "outputs": [
    {
     "name": "stdout",
     "output_type": "stream",
     "text": [
      "<class 'pandas.core.frame.DataFrame'>\n",
      "RangeIndex: 21525 entries, 0 to 21524\n",
      "Data columns (total 12 columns):\n",
      " #   Column            Non-Null Count  Dtype  \n",
      "---  ------            --------------  -----  \n",
      " 0   children          21525 non-null  int64  \n",
      " 1   days_employed     21525 non-null  float64\n",
      " 2   dob_years         21525 non-null  int64  \n",
      " 3   education         21525 non-null  object \n",
      " 4   education_id      21525 non-null  int64  \n",
      " 5   family_status     21525 non-null  object \n",
      " 6   family_status_id  21525 non-null  int64  \n",
      " 7   gender            21525 non-null  object \n",
      " 8   income_type       21525 non-null  object \n",
      " 9   debt              21525 non-null  int64  \n",
      " 10  total_income      21525 non-null  float64\n",
      " 11  purpose           21525 non-null  object \n",
      "dtypes: float64(2), int64(5), object(5)\n",
      "memory usage: 2.0+ MB\n"
     ]
    }
   ],
   "source": [
    "df.info() # Обращаю внимание на произведённые изменения"
   ]
  },
  {
   "cell_type": "code",
   "execution_count": 10,
   "id": "35a21808",
   "metadata": {},
   "outputs": [
    {
     "data": {
      "text/html": [
       "<div>\n",
       "<style scoped>\n",
       "    .dataframe tbody tr th:only-of-type {\n",
       "        vertical-align: middle;\n",
       "    }\n",
       "\n",
       "    .dataframe tbody tr th {\n",
       "        vertical-align: top;\n",
       "    }\n",
       "\n",
       "    .dataframe thead th {\n",
       "        text-align: right;\n",
       "    }\n",
       "</style>\n",
       "<table border=\"1\" class=\"dataframe\">\n",
       "  <thead>\n",
       "    <tr style=\"text-align: right;\">\n",
       "      <th></th>\n",
       "      <th>children</th>\n",
       "      <th>days_employed</th>\n",
       "      <th>dob_years</th>\n",
       "      <th>education</th>\n",
       "      <th>education_id</th>\n",
       "      <th>family_status</th>\n",
       "      <th>family_status_id</th>\n",
       "      <th>gender</th>\n",
       "      <th>income_type</th>\n",
       "      <th>debt</th>\n",
       "      <th>total_income</th>\n",
       "      <th>purpose</th>\n",
       "    </tr>\n",
       "  </thead>\n",
       "  <tbody>\n",
       "    <tr>\n",
       "      <th>0</th>\n",
       "      <td>1</td>\n",
       "      <td>8437.673028</td>\n",
       "      <td>42</td>\n",
       "      <td>высшее</td>\n",
       "      <td>0</td>\n",
       "      <td>женат / замужем</td>\n",
       "      <td>0</td>\n",
       "      <td>F</td>\n",
       "      <td>сотрудник</td>\n",
       "      <td>0</td>\n",
       "      <td>253875.639453</td>\n",
       "      <td>покупка жилья</td>\n",
       "    </tr>\n",
       "    <tr>\n",
       "      <th>1</th>\n",
       "      <td>1</td>\n",
       "      <td>4024.803754</td>\n",
       "      <td>36</td>\n",
       "      <td>среднее</td>\n",
       "      <td>1</td>\n",
       "      <td>женат / замужем</td>\n",
       "      <td>0</td>\n",
       "      <td>F</td>\n",
       "      <td>сотрудник</td>\n",
       "      <td>0</td>\n",
       "      <td>112080.014102</td>\n",
       "      <td>приобретение автомобиля</td>\n",
       "    </tr>\n",
       "    <tr>\n",
       "      <th>2</th>\n",
       "      <td>0</td>\n",
       "      <td>5623.422610</td>\n",
       "      <td>33</td>\n",
       "      <td>Среднее</td>\n",
       "      <td>1</td>\n",
       "      <td>женат / замужем</td>\n",
       "      <td>0</td>\n",
       "      <td>M</td>\n",
       "      <td>сотрудник</td>\n",
       "      <td>0</td>\n",
       "      <td>145885.952297</td>\n",
       "      <td>покупка жилья</td>\n",
       "    </tr>\n",
       "    <tr>\n",
       "      <th>3</th>\n",
       "      <td>3</td>\n",
       "      <td>4124.747207</td>\n",
       "      <td>32</td>\n",
       "      <td>среднее</td>\n",
       "      <td>1</td>\n",
       "      <td>женат / замужем</td>\n",
       "      <td>0</td>\n",
       "      <td>M</td>\n",
       "      <td>сотрудник</td>\n",
       "      <td>0</td>\n",
       "      <td>267628.550329</td>\n",
       "      <td>дополнительное образование</td>\n",
       "    </tr>\n",
       "    <tr>\n",
       "      <th>4</th>\n",
       "      <td>0</td>\n",
       "      <td>340266.072047</td>\n",
       "      <td>53</td>\n",
       "      <td>среднее</td>\n",
       "      <td>1</td>\n",
       "      <td>гражданский брак</td>\n",
       "      <td>1</td>\n",
       "      <td>F</td>\n",
       "      <td>пенсионер</td>\n",
       "      <td>0</td>\n",
       "      <td>158616.077870</td>\n",
       "      <td>сыграть свадьбу</td>\n",
       "    </tr>\n",
       "    <tr>\n",
       "      <th>5</th>\n",
       "      <td>0</td>\n",
       "      <td>926.185831</td>\n",
       "      <td>27</td>\n",
       "      <td>высшее</td>\n",
       "      <td>0</td>\n",
       "      <td>гражданский брак</td>\n",
       "      <td>1</td>\n",
       "      <td>M</td>\n",
       "      <td>компаньон</td>\n",
       "      <td>0</td>\n",
       "      <td>255763.565419</td>\n",
       "      <td>покупка жилья</td>\n",
       "    </tr>\n",
       "    <tr>\n",
       "      <th>6</th>\n",
       "      <td>0</td>\n",
       "      <td>2879.202052</td>\n",
       "      <td>43</td>\n",
       "      <td>высшее</td>\n",
       "      <td>0</td>\n",
       "      <td>женат / замужем</td>\n",
       "      <td>0</td>\n",
       "      <td>F</td>\n",
       "      <td>компаньон</td>\n",
       "      <td>0</td>\n",
       "      <td>240525.971920</td>\n",
       "      <td>операции с жильем</td>\n",
       "    </tr>\n",
       "    <tr>\n",
       "      <th>7</th>\n",
       "      <td>0</td>\n",
       "      <td>152.779569</td>\n",
       "      <td>50</td>\n",
       "      <td>СРЕДНЕЕ</td>\n",
       "      <td>1</td>\n",
       "      <td>женат / замужем</td>\n",
       "      <td>0</td>\n",
       "      <td>M</td>\n",
       "      <td>сотрудник</td>\n",
       "      <td>0</td>\n",
       "      <td>135823.934197</td>\n",
       "      <td>образование</td>\n",
       "    </tr>\n",
       "    <tr>\n",
       "      <th>8</th>\n",
       "      <td>2</td>\n",
       "      <td>6929.865299</td>\n",
       "      <td>35</td>\n",
       "      <td>ВЫСШЕЕ</td>\n",
       "      <td>0</td>\n",
       "      <td>гражданский брак</td>\n",
       "      <td>1</td>\n",
       "      <td>F</td>\n",
       "      <td>сотрудник</td>\n",
       "      <td>0</td>\n",
       "      <td>95856.832424</td>\n",
       "      <td>на проведение свадьбы</td>\n",
       "    </tr>\n",
       "    <tr>\n",
       "      <th>9</th>\n",
       "      <td>0</td>\n",
       "      <td>2188.756445</td>\n",
       "      <td>41</td>\n",
       "      <td>среднее</td>\n",
       "      <td>1</td>\n",
       "      <td>женат / замужем</td>\n",
       "      <td>0</td>\n",
       "      <td>M</td>\n",
       "      <td>сотрудник</td>\n",
       "      <td>0</td>\n",
       "      <td>144425.938277</td>\n",
       "      <td>покупка жилья для семьи</td>\n",
       "    </tr>\n",
       "  </tbody>\n",
       "</table>\n",
       "</div>"
      ],
      "text/plain": [
       "   children  days_employed  dob_years education  education_id  \\\n",
       "0         1    8437.673028         42    высшее             0   \n",
       "1         1    4024.803754         36   среднее             1   \n",
       "2         0    5623.422610         33   Среднее             1   \n",
       "3         3    4124.747207         32   среднее             1   \n",
       "4         0  340266.072047         53   среднее             1   \n",
       "5         0     926.185831         27    высшее             0   \n",
       "6         0    2879.202052         43    высшее             0   \n",
       "7         0     152.779569         50   СРЕДНЕЕ             1   \n",
       "8         2    6929.865299         35    ВЫСШЕЕ             0   \n",
       "9         0    2188.756445         41   среднее             1   \n",
       "\n",
       "      family_status  family_status_id gender income_type  debt   total_income  \\\n",
       "0   женат / замужем                 0      F   сотрудник     0  253875.639453   \n",
       "1   женат / замужем                 0      F   сотрудник     0  112080.014102   \n",
       "2   женат / замужем                 0      M   сотрудник     0  145885.952297   \n",
       "3   женат / замужем                 0      M   сотрудник     0  267628.550329   \n",
       "4  гражданский брак                 1      F   пенсионер     0  158616.077870   \n",
       "5  гражданский брак                 1      M   компаньон     0  255763.565419   \n",
       "6   женат / замужем                 0      F   компаньон     0  240525.971920   \n",
       "7   женат / замужем                 0      M   сотрудник     0  135823.934197   \n",
       "8  гражданский брак                 1      F   сотрудник     0   95856.832424   \n",
       "9   женат / замужем                 0      M   сотрудник     0  144425.938277   \n",
       "\n",
       "                      purpose  \n",
       "0               покупка жилья  \n",
       "1     приобретение автомобиля  \n",
       "2               покупка жилья  \n",
       "3  дополнительное образование  \n",
       "4             сыграть свадьбу  \n",
       "5               покупка жилья  \n",
       "6           операции с жильем  \n",
       "7                 образование  \n",
       "8       на проведение свадьбы  \n",
       "9     покупка жилья для семьи  "
      ]
     },
     "execution_count": 10,
     "metadata": {},
     "output_type": "execute_result"
    }
   ],
   "source": [
    "df.head(10)"
   ]
  },
  {
   "cell_type": "code",
   "execution_count": 11,
   "id": "cfdd80a9",
   "metadata": {},
   "outputs": [
    {
     "data": {
      "text/plain": [
       "children            0\n",
       "days_employed       0\n",
       "dob_years           0\n",
       "education           0\n",
       "education_id        0\n",
       "family_status       0\n",
       "family_status_id    0\n",
       "gender              0\n",
       "income_type         0\n",
       "debt                0\n",
       "total_income        0\n",
       "purpose             0\n",
       "dtype: int64"
      ]
     },
     "execution_count": 11,
     "metadata": {},
     "output_type": "execute_result"
    }
   ],
   "source": [
    "df.isna().sum() # Проверяю, что все пропуски были заполнены "
   ]
  },
  {
   "cell_type": "code",
   "execution_count": 12,
   "id": "0b95a0cf",
   "metadata": {
    "scrolled": true
   },
   "outputs": [
    {
     "data": {
      "text/html": [
       "<div>\n",
       "<style scoped>\n",
       "    .dataframe tbody tr th:only-of-type {\n",
       "        vertical-align: middle;\n",
       "    }\n",
       "\n",
       "    .dataframe tbody tr th {\n",
       "        vertical-align: top;\n",
       "    }\n",
       "\n",
       "    .dataframe thead th {\n",
       "        text-align: right;\n",
       "    }\n",
       "</style>\n",
       "<table border=\"1\" class=\"dataframe\">\n",
       "  <thead>\n",
       "    <tr style=\"text-align: right;\">\n",
       "      <th></th>\n",
       "      <th>children</th>\n",
       "      <th>days_employed</th>\n",
       "      <th>dob_years</th>\n",
       "      <th>education</th>\n",
       "      <th>education_id</th>\n",
       "      <th>family_status</th>\n",
       "      <th>family_status_id</th>\n",
       "      <th>gender</th>\n",
       "      <th>income_type</th>\n",
       "      <th>debt</th>\n",
       "      <th>total_income</th>\n",
       "      <th>purpose</th>\n",
       "    </tr>\n",
       "  </thead>\n",
       "  <tbody>\n",
       "    <tr>\n",
       "      <th>0</th>\n",
       "      <td>1</td>\n",
       "      <td>8437.673028</td>\n",
       "      <td>42</td>\n",
       "      <td>высшее</td>\n",
       "      <td>0</td>\n",
       "      <td>женат / замужем</td>\n",
       "      <td>0</td>\n",
       "      <td>F</td>\n",
       "      <td>сотрудник</td>\n",
       "      <td>0</td>\n",
       "      <td>253875.639453</td>\n",
       "      <td>покупка жилья</td>\n",
       "    </tr>\n",
       "    <tr>\n",
       "      <th>1</th>\n",
       "      <td>1</td>\n",
       "      <td>4024.803754</td>\n",
       "      <td>36</td>\n",
       "      <td>среднее</td>\n",
       "      <td>1</td>\n",
       "      <td>женат / замужем</td>\n",
       "      <td>0</td>\n",
       "      <td>F</td>\n",
       "      <td>сотрудник</td>\n",
       "      <td>0</td>\n",
       "      <td>112080.014102</td>\n",
       "      <td>приобретение автомобиля</td>\n",
       "    </tr>\n",
       "    <tr>\n",
       "      <th>2</th>\n",
       "      <td>0</td>\n",
       "      <td>5623.422610</td>\n",
       "      <td>33</td>\n",
       "      <td>Среднее</td>\n",
       "      <td>1</td>\n",
       "      <td>женат / замужем</td>\n",
       "      <td>0</td>\n",
       "      <td>M</td>\n",
       "      <td>сотрудник</td>\n",
       "      <td>0</td>\n",
       "      <td>145885.952297</td>\n",
       "      <td>покупка жилья</td>\n",
       "    </tr>\n",
       "    <tr>\n",
       "      <th>3</th>\n",
       "      <td>3</td>\n",
       "      <td>4124.747207</td>\n",
       "      <td>32</td>\n",
       "      <td>среднее</td>\n",
       "      <td>1</td>\n",
       "      <td>женат / замужем</td>\n",
       "      <td>0</td>\n",
       "      <td>M</td>\n",
       "      <td>сотрудник</td>\n",
       "      <td>0</td>\n",
       "      <td>267628.550329</td>\n",
       "      <td>дополнительное образование</td>\n",
       "    </tr>\n",
       "    <tr>\n",
       "      <th>4</th>\n",
       "      <td>0</td>\n",
       "      <td>340266.072047</td>\n",
       "      <td>53</td>\n",
       "      <td>среднее</td>\n",
       "      <td>1</td>\n",
       "      <td>гражданский брак</td>\n",
       "      <td>1</td>\n",
       "      <td>F</td>\n",
       "      <td>пенсионер</td>\n",
       "      <td>0</td>\n",
       "      <td>158616.077870</td>\n",
       "      <td>сыграть свадьбу</td>\n",
       "    </tr>\n",
       "    <tr>\n",
       "      <th>5</th>\n",
       "      <td>0</td>\n",
       "      <td>926.185831</td>\n",
       "      <td>27</td>\n",
       "      <td>высшее</td>\n",
       "      <td>0</td>\n",
       "      <td>гражданский брак</td>\n",
       "      <td>1</td>\n",
       "      <td>M</td>\n",
       "      <td>компаньон</td>\n",
       "      <td>0</td>\n",
       "      <td>255763.565419</td>\n",
       "      <td>покупка жилья</td>\n",
       "    </tr>\n",
       "    <tr>\n",
       "      <th>6</th>\n",
       "      <td>0</td>\n",
       "      <td>2879.202052</td>\n",
       "      <td>43</td>\n",
       "      <td>высшее</td>\n",
       "      <td>0</td>\n",
       "      <td>женат / замужем</td>\n",
       "      <td>0</td>\n",
       "      <td>F</td>\n",
       "      <td>компаньон</td>\n",
       "      <td>0</td>\n",
       "      <td>240525.971920</td>\n",
       "      <td>операции с жильем</td>\n",
       "    </tr>\n",
       "    <tr>\n",
       "      <th>7</th>\n",
       "      <td>0</td>\n",
       "      <td>152.779569</td>\n",
       "      <td>50</td>\n",
       "      <td>СРЕДНЕЕ</td>\n",
       "      <td>1</td>\n",
       "      <td>женат / замужем</td>\n",
       "      <td>0</td>\n",
       "      <td>M</td>\n",
       "      <td>сотрудник</td>\n",
       "      <td>0</td>\n",
       "      <td>135823.934197</td>\n",
       "      <td>образование</td>\n",
       "    </tr>\n",
       "    <tr>\n",
       "      <th>8</th>\n",
       "      <td>2</td>\n",
       "      <td>6929.865299</td>\n",
       "      <td>35</td>\n",
       "      <td>ВЫСШЕЕ</td>\n",
       "      <td>0</td>\n",
       "      <td>гражданский брак</td>\n",
       "      <td>1</td>\n",
       "      <td>F</td>\n",
       "      <td>сотрудник</td>\n",
       "      <td>0</td>\n",
       "      <td>95856.832424</td>\n",
       "      <td>на проведение свадьбы</td>\n",
       "    </tr>\n",
       "    <tr>\n",
       "      <th>9</th>\n",
       "      <td>0</td>\n",
       "      <td>2188.756445</td>\n",
       "      <td>41</td>\n",
       "      <td>среднее</td>\n",
       "      <td>1</td>\n",
       "      <td>женат / замужем</td>\n",
       "      <td>0</td>\n",
       "      <td>M</td>\n",
       "      <td>сотрудник</td>\n",
       "      <td>0</td>\n",
       "      <td>144425.938277</td>\n",
       "      <td>покупка жилья для семьи</td>\n",
       "    </tr>\n",
       "  </tbody>\n",
       "</table>\n",
       "</div>"
      ],
      "text/plain": [
       "   children  days_employed  dob_years education  education_id  \\\n",
       "0         1    8437.673028         42    высшее             0   \n",
       "1         1    4024.803754         36   среднее             1   \n",
       "2         0    5623.422610         33   Среднее             1   \n",
       "3         3    4124.747207         32   среднее             1   \n",
       "4         0  340266.072047         53   среднее             1   \n",
       "5         0     926.185831         27    высшее             0   \n",
       "6         0    2879.202052         43    высшее             0   \n",
       "7         0     152.779569         50   СРЕДНЕЕ             1   \n",
       "8         2    6929.865299         35    ВЫСШЕЕ             0   \n",
       "9         0    2188.756445         41   среднее             1   \n",
       "\n",
       "      family_status  family_status_id gender income_type  debt   total_income  \\\n",
       "0   женат / замужем                 0      F   сотрудник     0  253875.639453   \n",
       "1   женат / замужем                 0      F   сотрудник     0  112080.014102   \n",
       "2   женат / замужем                 0      M   сотрудник     0  145885.952297   \n",
       "3   женат / замужем                 0      M   сотрудник     0  267628.550329   \n",
       "4  гражданский брак                 1      F   пенсионер     0  158616.077870   \n",
       "5  гражданский брак                 1      M   компаньон     0  255763.565419   \n",
       "6   женат / замужем                 0      F   компаньон     0  240525.971920   \n",
       "7   женат / замужем                 0      M   сотрудник     0  135823.934197   \n",
       "8  гражданский брак                 1      F   сотрудник     0   95856.832424   \n",
       "9   женат / замужем                 0      M   сотрудник     0  144425.938277   \n",
       "\n",
       "                      purpose  \n",
       "0               покупка жилья  \n",
       "1     приобретение автомобиля  \n",
       "2               покупка жилья  \n",
       "3  дополнительное образование  \n",
       "4             сыграть свадьбу  \n",
       "5               покупка жилья  \n",
       "6           операции с жильем  \n",
       "7                 образование  \n",
       "8       на проведение свадьбы  \n",
       "9     покупка жилья для семьи  "
      ]
     },
     "execution_count": 12,
     "metadata": {},
     "output_type": "execute_result"
    }
   ],
   "source": [
    "df.head(10)"
   ]
  },
  {
   "cell_type": "markdown",
   "id": "b80b175f",
   "metadata": {},
   "source": [
    "### Шаг 2.2 Проверка данных на аномалии и исправления."
   ]
  },
  {
   "cell_type": "markdown",
   "id": "e9a25080",
   "metadata": {},
   "source": [
    "### Шаг 2.3. Изменение типов данных."
   ]
  },
  {
   "cell_type": "code",
   "execution_count": 13,
   "id": "704e8b71",
   "metadata": {},
   "outputs": [],
   "source": [
    "df['total_income'] = df['total_income'].astype(int)"
   ]
  },
  {
   "cell_type": "markdown",
   "id": "10ddbeab",
   "metadata": {},
   "source": [
    "### Шаг 2.4. Удаление дубликатов."
   ]
  },
  {
   "cell_type": "code",
   "execution_count": 14,
   "id": "76185a27",
   "metadata": {},
   "outputs": [
    {
     "data": {
      "text/plain": [
       "54"
      ]
     },
     "execution_count": 14,
     "metadata": {},
     "output_type": "execute_result"
    }
   ],
   "source": [
    "df.duplicated().sum() # Нахожу количество неявных дубликатов"
   ]
  },
  {
   "cell_type": "code",
   "execution_count": 15,
   "id": "8047e177",
   "metadata": {},
   "outputs": [],
   "source": [
    "df = df.drop_duplicates().reset_index(drop = True) # Удаляю неявные дубликаты"
   ]
  },
  {
   "cell_type": "code",
   "execution_count": 16,
   "id": "2cc5ed61",
   "metadata": {},
   "outputs": [
    {
     "data": {
      "text/plain": [
       "0"
      ]
     },
     "execution_count": 16,
     "metadata": {},
     "output_type": "execute_result"
    }
   ],
   "source": [
    "df.duplicated().sum() # Проверяю, что неявных дубликатов не осталось"
   ]
  },
  {
   "cell_type": "code",
   "execution_count": 17,
   "id": "d0a86199",
   "metadata": {},
   "outputs": [
    {
     "data": {
      "text/plain": [
       "array(['ВЫСШЕЕ', 'Высшее', 'НАЧАЛЬНОЕ', 'НЕОКОНЧЕННОЕ ВЫСШЕЕ',\n",
       "       'Начальное', 'Неоконченное высшее', 'СРЕДНЕЕ', 'Среднее',\n",
       "       'УЧЕНАЯ СТЕПЕНЬ', 'Ученая степень', 'высшее', 'начальное',\n",
       "       'неоконченное высшее', 'среднее', 'ученая степень'], dtype=object)"
      ]
     },
     "execution_count": 17,
     "metadata": {},
     "output_type": "execute_result"
    }
   ],
   "source": [
    "# Исправление данных в столбце education:\n",
    "df['education'].sort_values().unique() # Нахожу все уникальные значения в столбце"
   ]
  },
  {
   "cell_type": "code",
   "execution_count": 18,
   "id": "a41af7c0",
   "metadata": {},
   "outputs": [],
   "source": [
    "df['education'] = df['education'].str.lower() # Привожу все значения в столбцу к единому стилю"
   ]
  },
  {
   "cell_type": "code",
   "execution_count": 19,
   "id": "64971e25",
   "metadata": {
    "scrolled": true
   },
   "outputs": [
    {
     "data": {
      "text/plain": [
       "array(['высшее', 'начальное', 'неоконченное высшее', 'среднее',\n",
       "       'ученая степень'], dtype=object)"
      ]
     },
     "execution_count": 19,
     "metadata": {},
     "output_type": "execute_result"
    }
   ],
   "source": [
    "df['education'].sort_values().unique() # Проверяю, что все значения были приведены к единому стилю"
   ]
  },
  {
   "cell_type": "markdown",
   "id": "e7a4d670",
   "metadata": {},
   "source": [
    "**Проверяю другие столбцы на возможность присутствия аномалий**"
   ]
  },
  {
   "cell_type": "code",
   "execution_count": 20,
   "id": "ecf0c717",
   "metadata": {},
   "outputs": [
    {
     "data": {
      "text/plain": [
       "array(['Не женат / не замужем', 'в разводе', 'вдовец / вдова',\n",
       "       'гражданский брак', 'женат / замужем'], dtype=object)"
      ]
     },
     "execution_count": 20,
     "metadata": {},
     "output_type": "execute_result"
    }
   ],
   "source": [
    "df['family_status'].sort_values().unique() # Аномалии отсутствуют"
   ]
  },
  {
   "cell_type": "code",
   "execution_count": 21,
   "id": "424526be",
   "metadata": {
    "scrolled": false
   },
   "outputs": [
    {
     "data": {
      "text/plain": [
       "array(['безработный', 'в декрете', 'госслужащий', 'компаньон',\n",
       "       'пенсионер', 'предприниматель', 'сотрудник', 'студент'],\n",
       "      dtype=object)"
      ]
     },
     "execution_count": 21,
     "metadata": {},
     "output_type": "execute_result"
    }
   ],
   "source": [
    "df['income_type'].sort_values().unique() # Аномалии отсутствуют"
   ]
  },
  {
   "cell_type": "code",
   "execution_count": 22,
   "id": "2b525c76",
   "metadata": {},
   "outputs": [
    {
     "data": {
      "text/plain": [
       "array([-1,  0,  1,  2,  3,  4,  5, 20])"
      ]
     },
     "execution_count": 22,
     "metadata": {},
     "output_type": "execute_result"
    }
   ],
   "source": [
    "df['children'].sort_values().unique() "
   ]
  },
  {
   "cell_type": "code",
   "execution_count": 23,
   "id": "c6cb96e7",
   "metadata": {},
   "outputs": [
    {
     "data": {
      "text/plain": [
       "children\n",
       "-1        47\n",
       " 0     14107\n",
       " 1      4809\n",
       " 2      2052\n",
       " 3       330\n",
       " 4        41\n",
       " 5         9\n",
       " 20       76\n",
       "dtype: int64"
      ]
     },
     "execution_count": 23,
     "metadata": {},
     "output_type": "execute_result"
    }
   ],
   "source": [
    "df.groupby(['children']).size()"
   ]
  },
  {
   "cell_type": "markdown",
   "id": "752b408c",
   "metadata": {},
   "source": [
    "**Есть аномалии.**\n",
    "\n",
    "Значение в столбце не может принимать значения \"-1\" (47 строк с таким значением)<br>\n",
    "Также высока вероятность человеческой ошибки во время ввода значения \"20\" (76 строк с таким значением).\n",
    "\n",
    "Значение \"20\" необходимо заменить на \"2\"<br>\n",
    "Значение \"-1\" необходимо заменить на \"1\""
   ]
  },
  {
   "cell_type": "code",
   "execution_count": 24,
   "id": "c4e53498",
   "metadata": {},
   "outputs": [],
   "source": [
    "df['children'] = df['children'].replace(-1, 1)\n",
    "df['children'] = df['children'].replace(20, 2)"
   ]
  },
  {
   "cell_type": "code",
   "execution_count": 25,
   "id": "6b0f9e47",
   "metadata": {},
   "outputs": [
    {
     "data": {
      "text/plain": [
       "array([0, 1, 2, 3, 4, 5])"
      ]
     },
     "execution_count": 25,
     "metadata": {},
     "output_type": "execute_result"
    }
   ],
   "source": [
    "# Проверяю, что всё аномалии были заменены на корректные значения\n",
    "df['children'].sort_values().unique()"
   ]
  },
  {
   "cell_type": "code",
   "execution_count": 26,
   "id": "71971c0c",
   "metadata": {
    "scrolled": false
   },
   "outputs": [
    {
     "data": {
      "text/plain": [
       "array(['автомобили', 'автомобиль', 'высшее образование',\n",
       "       'дополнительное образование', 'жилье',\n",
       "       'заняться высшим образованием', 'заняться образованием',\n",
       "       'на покупку автомобиля', 'на покупку подержанного автомобиля',\n",
       "       'на покупку своего автомобиля', 'на проведение свадьбы',\n",
       "       'недвижимость', 'образование', 'операции с жильем',\n",
       "       'операции с коммерческой недвижимостью',\n",
       "       'операции с недвижимостью', 'операции со своей недвижимостью',\n",
       "       'покупка жилой недвижимости', 'покупка жилья',\n",
       "       'покупка жилья для сдачи', 'покупка жилья для семьи',\n",
       "       'покупка коммерческой недвижимости', 'покупка недвижимости',\n",
       "       'покупка своего жилья', 'получение высшего образования',\n",
       "       'получение дополнительного образования', 'получение образования',\n",
       "       'приобретение автомобиля', 'профильное образование',\n",
       "       'ремонт жилью', 'свадьба', 'свой автомобиль',\n",
       "       'сделка с автомобилем', 'сделка с подержанным автомобилем',\n",
       "       'строительство жилой недвижимости', 'строительство недвижимости',\n",
       "       'строительство собственной недвижимости', 'сыграть свадьбу'],\n",
       "      dtype=object)"
      ]
     },
     "execution_count": 26,
     "metadata": {},
     "output_type": "execute_result"
    }
   ],
   "source": [
    "df['purpose'].sort_values().unique() # Необходимо разбить эти значения по нескольким категориям для удобства работы"
   ]
  },
  {
   "cell_type": "markdown",
   "id": "e21c2ac4",
   "metadata": {},
   "source": [
    "\n",
    "### Шаг 2.5. Формирование дополнительных датафреймов словарей, декомпозиция исходного датафрейма."
   ]
  },
  {
   "cell_type": "code",
   "execution_count": 27,
   "id": "1b9f34ca",
   "metadata": {
    "scrolled": true
   },
   "outputs": [
    {
     "data": {
      "text/html": [
       "<div>\n",
       "<style scoped>\n",
       "    .dataframe tbody tr th:only-of-type {\n",
       "        vertical-align: middle;\n",
       "    }\n",
       "\n",
       "    .dataframe tbody tr th {\n",
       "        vertical-align: top;\n",
       "    }\n",
       "\n",
       "    .dataframe thead th {\n",
       "        text-align: right;\n",
       "    }\n",
       "</style>\n",
       "<table border=\"1\" class=\"dataframe\">\n",
       "  <thead>\n",
       "    <tr style=\"text-align: right;\">\n",
       "      <th></th>\n",
       "      <th>education</th>\n",
       "      <th>education_id</th>\n",
       "    </tr>\n",
       "  </thead>\n",
       "  <tbody>\n",
       "    <tr>\n",
       "      <th>0</th>\n",
       "      <td>высшее</td>\n",
       "      <td>0</td>\n",
       "    </tr>\n",
       "    <tr>\n",
       "      <th>1</th>\n",
       "      <td>среднее</td>\n",
       "      <td>1</td>\n",
       "    </tr>\n",
       "    <tr>\n",
       "      <th>2</th>\n",
       "      <td>неоконченное высшее</td>\n",
       "      <td>2</td>\n",
       "    </tr>\n",
       "    <tr>\n",
       "      <th>3</th>\n",
       "      <td>начальное</td>\n",
       "      <td>3</td>\n",
       "    </tr>\n",
       "    <tr>\n",
       "      <th>4</th>\n",
       "      <td>ученая степень</td>\n",
       "      <td>4</td>\n",
       "    </tr>\n",
       "  </tbody>\n",
       "</table>\n",
       "</div>"
      ],
      "text/plain": [
       "             education  education_id\n",
       "0               высшее             0\n",
       "1              среднее             1\n",
       "2  неоконченное высшее             2\n",
       "3            начальное             3\n",
       "4       ученая степень             4"
      ]
     },
     "metadata": {},
     "output_type": "display_data"
    }
   ],
   "source": [
    "# Необходимо сопоставить данные из столбцов \n",
    "\n",
    "df_1 = df.loc[:, ['education', 'education_id']] #\n",
    "display(df_1.drop_duplicates().reset_index(drop = True))\n"
   ]
  },
  {
   "cell_type": "code",
   "execution_count": 28,
   "id": "ac2e57a6",
   "metadata": {},
   "outputs": [
    {
     "data": {
      "text/plain": [
       "{0: 'высшее',\n",
       " 1: 'среднее',\n",
       " 2: 'неоконченное высшее',\n",
       " 3: 'начальное',\n",
       " 4: 'ученая степень'}"
      ]
     },
     "execution_count": 28,
     "metadata": {},
     "output_type": "execute_result"
    }
   ],
   "source": [
    "# Создаю словарь \n",
    "education_dictionary = pd.Series(df_1.education.values,index=df_1.education_id).to_dict()\n",
    "education_dictionary"
   ]
  },
  {
   "cell_type": "code",
   "execution_count": 29,
   "id": "fefe43ee",
   "metadata": {
    "scrolled": true
   },
   "outputs": [
    {
     "data": {
      "text/html": [
       "<div>\n",
       "<style scoped>\n",
       "    .dataframe tbody tr th:only-of-type {\n",
       "        vertical-align: middle;\n",
       "    }\n",
       "\n",
       "    .dataframe tbody tr th {\n",
       "        vertical-align: top;\n",
       "    }\n",
       "\n",
       "    .dataframe thead th {\n",
       "        text-align: right;\n",
       "    }\n",
       "</style>\n",
       "<table border=\"1\" class=\"dataframe\">\n",
       "  <thead>\n",
       "    <tr style=\"text-align: right;\">\n",
       "      <th></th>\n",
       "      <th>family_status</th>\n",
       "      <th>family_status_id</th>\n",
       "    </tr>\n",
       "  </thead>\n",
       "  <tbody>\n",
       "    <tr>\n",
       "      <th>0</th>\n",
       "      <td>женат / замужем</td>\n",
       "      <td>0</td>\n",
       "    </tr>\n",
       "    <tr>\n",
       "      <th>1</th>\n",
       "      <td>гражданский брак</td>\n",
       "      <td>1</td>\n",
       "    </tr>\n",
       "    <tr>\n",
       "      <th>2</th>\n",
       "      <td>вдовец / вдова</td>\n",
       "      <td>2</td>\n",
       "    </tr>\n",
       "    <tr>\n",
       "      <th>3</th>\n",
       "      <td>в разводе</td>\n",
       "      <td>3</td>\n",
       "    </tr>\n",
       "    <tr>\n",
       "      <th>4</th>\n",
       "      <td>Не женат / не замужем</td>\n",
       "      <td>4</td>\n",
       "    </tr>\n",
       "  </tbody>\n",
       "</table>\n",
       "</div>"
      ],
      "text/plain": [
       "           family_status  family_status_id\n",
       "0        женат / замужем                 0\n",
       "1       гражданский брак                 1\n",
       "2         вдовец / вдова                 2\n",
       "3              в разводе                 3\n",
       "4  Не женат / не замужем                 4"
      ]
     },
     "metadata": {},
     "output_type": "display_data"
    }
   ],
   "source": [
    "# Необходимо сопоставить данные из столбцов \n",
    "\n",
    "df_2 = df.loc[:, ['family_status', 'family_status_id']]\n",
    "df_2 = df_2.drop_duplicates().reset_index(drop = True)\n",
    "display(df_2)"
   ]
  },
  {
   "cell_type": "code",
   "execution_count": 30,
   "id": "bb970e1f",
   "metadata": {},
   "outputs": [
    {
     "data": {
      "text/plain": [
       "{0: 'женат / замужем',\n",
       " 1: 'гражданский брак',\n",
       " 2: 'вдовец / вдова',\n",
       " 3: 'в разводе',\n",
       " 4: 'Не женат / не замужем'}"
      ]
     },
     "execution_count": 30,
     "metadata": {},
     "output_type": "execute_result"
    }
   ],
   "source": [
    "# Создаю словарь \n",
    "family_status_dictionary = pd.Series(df_2.family_status.values,index=df_2.family_status_id).to_dict()\n",
    "family_status_dictionary"
   ]
  },
  {
   "cell_type": "markdown",
   "id": "9fcd6a7f",
   "metadata": {},
   "source": [
    "### Шаг 2.6. Категоризация дохода."
   ]
  },
  {
   "cell_type": "code",
   "execution_count": 31,
   "id": "999c69c2",
   "metadata": {},
   "outputs": [],
   "source": [
    "def apply_income_category(row):\n",
    "    \n",
    "    total_income = row['total_income']\n",
    "    \n",
    "    if total_income < 30000:\n",
    "        return 'E'\n",
    "    if total_income < 50000:\n",
    "        return 'D'\n",
    "    if total_income < 200000:\n",
    "        return 'C'\n",
    "    if total_income < 1000000:\n",
    "        return 'B'\n",
    "    if total_income > 1000000:\n",
    "        return 'A'\n",
    "    \n",
    "    return 'категория не определена'\n",
    "\n",
    "df['income_category'] = df.apply(apply_income_category, axis=1)"
   ]
  },
  {
   "cell_type": "code",
   "execution_count": 32,
   "id": "a9d8a9e2",
   "metadata": {
    "scrolled": false
   },
   "outputs": [
    {
     "data": {
      "text/html": [
       "<div>\n",
       "<style scoped>\n",
       "    .dataframe tbody tr th:only-of-type {\n",
       "        vertical-align: middle;\n",
       "    }\n",
       "\n",
       "    .dataframe tbody tr th {\n",
       "        vertical-align: top;\n",
       "    }\n",
       "\n",
       "    .dataframe thead th {\n",
       "        text-align: right;\n",
       "    }\n",
       "</style>\n",
       "<table border=\"1\" class=\"dataframe\">\n",
       "  <thead>\n",
       "    <tr style=\"text-align: right;\">\n",
       "      <th></th>\n",
       "      <th>children</th>\n",
       "      <th>days_employed</th>\n",
       "      <th>dob_years</th>\n",
       "      <th>education</th>\n",
       "      <th>education_id</th>\n",
       "      <th>family_status</th>\n",
       "      <th>family_status_id</th>\n",
       "      <th>gender</th>\n",
       "      <th>income_type</th>\n",
       "      <th>debt</th>\n",
       "      <th>total_income</th>\n",
       "      <th>purpose</th>\n",
       "      <th>income_category</th>\n",
       "    </tr>\n",
       "  </thead>\n",
       "  <tbody>\n",
       "    <tr>\n",
       "      <th>0</th>\n",
       "      <td>1</td>\n",
       "      <td>8437.673028</td>\n",
       "      <td>42</td>\n",
       "      <td>высшее</td>\n",
       "      <td>0</td>\n",
       "      <td>женат / замужем</td>\n",
       "      <td>0</td>\n",
       "      <td>F</td>\n",
       "      <td>сотрудник</td>\n",
       "      <td>0</td>\n",
       "      <td>253875</td>\n",
       "      <td>покупка жилья</td>\n",
       "      <td>B</td>\n",
       "    </tr>\n",
       "    <tr>\n",
       "      <th>1</th>\n",
       "      <td>1</td>\n",
       "      <td>4024.803754</td>\n",
       "      <td>36</td>\n",
       "      <td>среднее</td>\n",
       "      <td>1</td>\n",
       "      <td>женат / замужем</td>\n",
       "      <td>0</td>\n",
       "      <td>F</td>\n",
       "      <td>сотрудник</td>\n",
       "      <td>0</td>\n",
       "      <td>112080</td>\n",
       "      <td>приобретение автомобиля</td>\n",
       "      <td>C</td>\n",
       "    </tr>\n",
       "    <tr>\n",
       "      <th>2</th>\n",
       "      <td>0</td>\n",
       "      <td>5623.422610</td>\n",
       "      <td>33</td>\n",
       "      <td>среднее</td>\n",
       "      <td>1</td>\n",
       "      <td>женат / замужем</td>\n",
       "      <td>0</td>\n",
       "      <td>M</td>\n",
       "      <td>сотрудник</td>\n",
       "      <td>0</td>\n",
       "      <td>145885</td>\n",
       "      <td>покупка жилья</td>\n",
       "      <td>C</td>\n",
       "    </tr>\n",
       "    <tr>\n",
       "      <th>3</th>\n",
       "      <td>3</td>\n",
       "      <td>4124.747207</td>\n",
       "      <td>32</td>\n",
       "      <td>среднее</td>\n",
       "      <td>1</td>\n",
       "      <td>женат / замужем</td>\n",
       "      <td>0</td>\n",
       "      <td>M</td>\n",
       "      <td>сотрудник</td>\n",
       "      <td>0</td>\n",
       "      <td>267628</td>\n",
       "      <td>дополнительное образование</td>\n",
       "      <td>B</td>\n",
       "    </tr>\n",
       "    <tr>\n",
       "      <th>4</th>\n",
       "      <td>0</td>\n",
       "      <td>340266.072047</td>\n",
       "      <td>53</td>\n",
       "      <td>среднее</td>\n",
       "      <td>1</td>\n",
       "      <td>гражданский брак</td>\n",
       "      <td>1</td>\n",
       "      <td>F</td>\n",
       "      <td>пенсионер</td>\n",
       "      <td>0</td>\n",
       "      <td>158616</td>\n",
       "      <td>сыграть свадьбу</td>\n",
       "      <td>C</td>\n",
       "    </tr>\n",
       "  </tbody>\n",
       "</table>\n",
       "</div>"
      ],
      "text/plain": [
       "   children  days_employed  dob_years education  education_id  \\\n",
       "0         1    8437.673028         42    высшее             0   \n",
       "1         1    4024.803754         36   среднее             1   \n",
       "2         0    5623.422610         33   среднее             1   \n",
       "3         3    4124.747207         32   среднее             1   \n",
       "4         0  340266.072047         53   среднее             1   \n",
       "\n",
       "      family_status  family_status_id gender income_type  debt  total_income  \\\n",
       "0   женат / замужем                 0      F   сотрудник     0        253875   \n",
       "1   женат / замужем                 0      F   сотрудник     0        112080   \n",
       "2   женат / замужем                 0      M   сотрудник     0        145885   \n",
       "3   женат / замужем                 0      M   сотрудник     0        267628   \n",
       "4  гражданский брак                 1      F   пенсионер     0        158616   \n",
       "\n",
       "                      purpose income_category  \n",
       "0               покупка жилья               B  \n",
       "1     приобретение автомобиля               C  \n",
       "2               покупка жилья               C  \n",
       "3  дополнительное образование               B  \n",
       "4             сыграть свадьбу               C  "
      ]
     },
     "execution_count": 32,
     "metadata": {},
     "output_type": "execute_result"
    }
   ],
   "source": [
    "df.head() # Проверяю, что функция отработала"
   ]
  },
  {
   "cell_type": "markdown",
   "id": "eb4a9e15",
   "metadata": {},
   "source": [
    "### Шаг 2.7. Категоризация целей кредита."
   ]
  },
  {
   "cell_type": "code",
   "execution_count": 33,
   "id": "03bcc5ae",
   "metadata": {},
   "outputs": [],
   "source": [
    "def change_purpose(row):\n",
    "    \n",
    "    purpose = row['purpose']\n",
    "    \n",
    "    if 'авто' in purpose:\n",
    "        return 'операции с автомобилем'\n",
    "    if 'образов' in purpose:\n",
    "        return 'получение образования'\n",
    "    if 'свадьб' in purpose:\n",
    "        return 'проведение свадьбы'\n",
    "    if 'недвиж' in purpose:\n",
    "        return 'операции с недвижимостью'\n",
    "    if 'жиль' in purpose:\n",
    "        return 'операции с недвижимостью'\n",
    "    \n",
    "    return 'категория не определена'\n",
    "\n",
    "df['purpose_category'] = df.apply(change_purpose, axis=1)"
   ]
  },
  {
   "cell_type": "code",
   "execution_count": 34,
   "id": "f5d3d30c",
   "metadata": {
    "scrolled": false
   },
   "outputs": [
    {
     "data": {
      "text/html": [
       "<div>\n",
       "<style scoped>\n",
       "    .dataframe tbody tr th:only-of-type {\n",
       "        vertical-align: middle;\n",
       "    }\n",
       "\n",
       "    .dataframe tbody tr th {\n",
       "        vertical-align: top;\n",
       "    }\n",
       "\n",
       "    .dataframe thead th {\n",
       "        text-align: right;\n",
       "    }\n",
       "</style>\n",
       "<table border=\"1\" class=\"dataframe\">\n",
       "  <thead>\n",
       "    <tr style=\"text-align: right;\">\n",
       "      <th></th>\n",
       "      <th>children</th>\n",
       "      <th>days_employed</th>\n",
       "      <th>dob_years</th>\n",
       "      <th>education</th>\n",
       "      <th>education_id</th>\n",
       "      <th>family_status</th>\n",
       "      <th>family_status_id</th>\n",
       "      <th>gender</th>\n",
       "      <th>income_type</th>\n",
       "      <th>debt</th>\n",
       "      <th>total_income</th>\n",
       "      <th>purpose</th>\n",
       "      <th>income_category</th>\n",
       "      <th>purpose_category</th>\n",
       "    </tr>\n",
       "  </thead>\n",
       "  <tbody>\n",
       "    <tr>\n",
       "      <th>0</th>\n",
       "      <td>1</td>\n",
       "      <td>8437.673028</td>\n",
       "      <td>42</td>\n",
       "      <td>высшее</td>\n",
       "      <td>0</td>\n",
       "      <td>женат / замужем</td>\n",
       "      <td>0</td>\n",
       "      <td>F</td>\n",
       "      <td>сотрудник</td>\n",
       "      <td>0</td>\n",
       "      <td>253875</td>\n",
       "      <td>покупка жилья</td>\n",
       "      <td>B</td>\n",
       "      <td>операции с недвижимостью</td>\n",
       "    </tr>\n",
       "    <tr>\n",
       "      <th>1</th>\n",
       "      <td>1</td>\n",
       "      <td>4024.803754</td>\n",
       "      <td>36</td>\n",
       "      <td>среднее</td>\n",
       "      <td>1</td>\n",
       "      <td>женат / замужем</td>\n",
       "      <td>0</td>\n",
       "      <td>F</td>\n",
       "      <td>сотрудник</td>\n",
       "      <td>0</td>\n",
       "      <td>112080</td>\n",
       "      <td>приобретение автомобиля</td>\n",
       "      <td>C</td>\n",
       "      <td>операции с автомобилем</td>\n",
       "    </tr>\n",
       "    <tr>\n",
       "      <th>2</th>\n",
       "      <td>0</td>\n",
       "      <td>5623.422610</td>\n",
       "      <td>33</td>\n",
       "      <td>среднее</td>\n",
       "      <td>1</td>\n",
       "      <td>женат / замужем</td>\n",
       "      <td>0</td>\n",
       "      <td>M</td>\n",
       "      <td>сотрудник</td>\n",
       "      <td>0</td>\n",
       "      <td>145885</td>\n",
       "      <td>покупка жилья</td>\n",
       "      <td>C</td>\n",
       "      <td>операции с недвижимостью</td>\n",
       "    </tr>\n",
       "    <tr>\n",
       "      <th>3</th>\n",
       "      <td>3</td>\n",
       "      <td>4124.747207</td>\n",
       "      <td>32</td>\n",
       "      <td>среднее</td>\n",
       "      <td>1</td>\n",
       "      <td>женат / замужем</td>\n",
       "      <td>0</td>\n",
       "      <td>M</td>\n",
       "      <td>сотрудник</td>\n",
       "      <td>0</td>\n",
       "      <td>267628</td>\n",
       "      <td>дополнительное образование</td>\n",
       "      <td>B</td>\n",
       "      <td>получение образования</td>\n",
       "    </tr>\n",
       "    <tr>\n",
       "      <th>4</th>\n",
       "      <td>0</td>\n",
       "      <td>340266.072047</td>\n",
       "      <td>53</td>\n",
       "      <td>среднее</td>\n",
       "      <td>1</td>\n",
       "      <td>гражданский брак</td>\n",
       "      <td>1</td>\n",
       "      <td>F</td>\n",
       "      <td>пенсионер</td>\n",
       "      <td>0</td>\n",
       "      <td>158616</td>\n",
       "      <td>сыграть свадьбу</td>\n",
       "      <td>C</td>\n",
       "      <td>проведение свадьбы</td>\n",
       "    </tr>\n",
       "  </tbody>\n",
       "</table>\n",
       "</div>"
      ],
      "text/plain": [
       "   children  days_employed  dob_years education  education_id  \\\n",
       "0         1    8437.673028         42    высшее             0   \n",
       "1         1    4024.803754         36   среднее             1   \n",
       "2         0    5623.422610         33   среднее             1   \n",
       "3         3    4124.747207         32   среднее             1   \n",
       "4         0  340266.072047         53   среднее             1   \n",
       "\n",
       "      family_status  family_status_id gender income_type  debt  total_income  \\\n",
       "0   женат / замужем                 0      F   сотрудник     0        253875   \n",
       "1   женат / замужем                 0      F   сотрудник     0        112080   \n",
       "2   женат / замужем                 0      M   сотрудник     0        145885   \n",
       "3   женат / замужем                 0      M   сотрудник     0        267628   \n",
       "4  гражданский брак                 1      F   пенсионер     0        158616   \n",
       "\n",
       "                      purpose income_category          purpose_category  \n",
       "0               покупка жилья               B  операции с недвижимостью  \n",
       "1     приобретение автомобиля               C    операции с автомобилем  \n",
       "2               покупка жилья               C  операции с недвижимостью  \n",
       "3  дополнительное образование               B     получение образования  \n",
       "4             сыграть свадьбу               C        проведение свадьбы  "
      ]
     },
     "execution_count": 34,
     "metadata": {},
     "output_type": "execute_result"
    }
   ],
   "source": [
    "df.head() # Проверяю, что функция отработала"
   ]
  },
  {
   "cell_type": "markdown",
   "id": "9937ad18",
   "metadata": {},
   "source": [
    "### Ответы на вопросы.\n"
   ]
  },
  {
   "cell_type": "markdown",
   "id": "43d26019",
   "metadata": {},
   "source": [
    "##### Вопрос 1:\n",
    "**Есть ли зависимость между количеством детей и возвратом кредита в срок?**<br>"
   ]
  },
  {
   "cell_type": "code",
   "execution_count": 35,
   "id": "cc6caabe",
   "metadata": {},
   "outputs": [
    {
     "data": {
      "text/plain": [
       "array([0, 1, 2, 3, 4, 5])"
      ]
     },
     "execution_count": 35,
     "metadata": {},
     "output_type": "execute_result"
    }
   ],
   "source": [
    "df['children'].sort_values().unique()"
   ]
  },
  {
   "cell_type": "code",
   "execution_count": 36,
   "id": "4bcf0620",
   "metadata": {},
   "outputs": [
    {
     "data": {
      "text/html": [
       "<div>\n",
       "<style scoped>\n",
       "    .dataframe tbody tr th:only-of-type {\n",
       "        vertical-align: middle;\n",
       "    }\n",
       "\n",
       "    .dataframe tbody tr th {\n",
       "        vertical-align: top;\n",
       "    }\n",
       "\n",
       "    .dataframe thead tr th {\n",
       "        text-align: left;\n",
       "    }\n",
       "\n",
       "    .dataframe thead tr:last-of-type th {\n",
       "        text-align: right;\n",
       "    }\n",
       "</style>\n",
       "<table border=\"1\" class=\"dataframe\">\n",
       "  <thead>\n",
       "    <tr>\n",
       "      <th></th>\n",
       "      <th>sum</th>\n",
       "      <th>count</th>\n",
       "      <th>mean</th>\n",
       "    </tr>\n",
       "    <tr>\n",
       "      <th></th>\n",
       "      <th>debt</th>\n",
       "      <th>debt</th>\n",
       "      <th>debt</th>\n",
       "    </tr>\n",
       "    <tr>\n",
       "      <th>children</th>\n",
       "      <th></th>\n",
       "      <th></th>\n",
       "      <th></th>\n",
       "    </tr>\n",
       "  </thead>\n",
       "  <tbody>\n",
       "    <tr>\n",
       "      <th>0</th>\n",
       "      <td>1063</td>\n",
       "      <td>14107</td>\n",
       "      <td>0.075353</td>\n",
       "    </tr>\n",
       "    <tr>\n",
       "      <th>1</th>\n",
       "      <td>445</td>\n",
       "      <td>4856</td>\n",
       "      <td>0.091639</td>\n",
       "    </tr>\n",
       "    <tr>\n",
       "      <th>2</th>\n",
       "      <td>202</td>\n",
       "      <td>2128</td>\n",
       "      <td>0.094925</td>\n",
       "    </tr>\n",
       "    <tr>\n",
       "      <th>3</th>\n",
       "      <td>27</td>\n",
       "      <td>330</td>\n",
       "      <td>0.081818</td>\n",
       "    </tr>\n",
       "    <tr>\n",
       "      <th>4</th>\n",
       "      <td>4</td>\n",
       "      <td>41</td>\n",
       "      <td>0.097561</td>\n",
       "    </tr>\n",
       "    <tr>\n",
       "      <th>5</th>\n",
       "      <td>0</td>\n",
       "      <td>9</td>\n",
       "      <td>0.000000</td>\n",
       "    </tr>\n",
       "    <tr>\n",
       "      <th>All</th>\n",
       "      <td>1741</td>\n",
       "      <td>21471</td>\n",
       "      <td>0.081086</td>\n",
       "    </tr>\n",
       "  </tbody>\n",
       "</table>\n",
       "</div>"
      ],
      "text/plain": [
       "           sum  count      mean\n",
       "          debt   debt      debt\n",
       "children                       \n",
       "0         1063  14107  0.075353\n",
       "1          445   4856  0.091639\n",
       "2          202   2128  0.094925\n",
       "3           27    330  0.081818\n",
       "4            4     41  0.097561\n",
       "5            0      9  0.000000\n",
       "All       1741  21471  0.081086"
      ]
     },
     "execution_count": 36,
     "metadata": {},
     "output_type": "execute_result"
    }
   ],
   "source": [
    "pivot_children_debt = pd.pivot_table(df,index=['children'],values=['debt'], aggfunc=['sum','count', 'mean'], margins=True)\n",
    "pivot_children_debt"
   ]
  },
  {
   "cell_type": "markdown",
   "id": "af9900aa",
   "metadata": {},
   "source": [
    "## Вывод 1:\n",
    "\n",
    "Трудно говорить о какой-либо зависимости между колчеством детей в семье и вероятностью выплаты долга в срок. Средняя доля неплательщиков в каждой из групп составляет в среднем 8%. (Семьи с 5 детьми не стоит рассматривать, так как таких семей всего 9 в нашей выборке. Этим можно пренебречь."
   ]
  },
  {
   "cell_type": "markdown",
   "id": "b4510dca",
   "metadata": {},
   "source": [
    "##### Вопрос 2:\n",
    "**Есть ли зависимость между семейным положением и возвратом кредита в срок?**"
   ]
  },
  {
   "cell_type": "code",
   "execution_count": 37,
   "id": "97031581",
   "metadata": {},
   "outputs": [
    {
     "name": "stdout",
     "output_type": "stream",
     "text": [
      "['Не женат / не замужем' 'в разводе' 'вдовец / вдова' 'гражданский брак'\n",
      " 'женат / замужем']\n"
     ]
    },
    {
     "data": {
      "text/html": [
       "<div>\n",
       "<style scoped>\n",
       "    .dataframe tbody tr th:only-of-type {\n",
       "        vertical-align: middle;\n",
       "    }\n",
       "\n",
       "    .dataframe tbody tr th {\n",
       "        vertical-align: top;\n",
       "    }\n",
       "\n",
       "    .dataframe thead tr th {\n",
       "        text-align: left;\n",
       "    }\n",
       "\n",
       "    .dataframe thead tr:last-of-type th {\n",
       "        text-align: right;\n",
       "    }\n",
       "</style>\n",
       "<table border=\"1\" class=\"dataframe\">\n",
       "  <thead>\n",
       "    <tr>\n",
       "      <th></th>\n",
       "      <th>sum</th>\n",
       "      <th>count</th>\n",
       "      <th>mean</th>\n",
       "    </tr>\n",
       "    <tr>\n",
       "      <th></th>\n",
       "      <th>debt</th>\n",
       "      <th>debt</th>\n",
       "      <th>debt</th>\n",
       "    </tr>\n",
       "    <tr>\n",
       "      <th>family_status</th>\n",
       "      <th></th>\n",
       "      <th></th>\n",
       "      <th></th>\n",
       "    </tr>\n",
       "  </thead>\n",
       "  <tbody>\n",
       "    <tr>\n",
       "      <th>Не женат / не замужем</th>\n",
       "      <td>274</td>\n",
       "      <td>2810</td>\n",
       "      <td>0.097509</td>\n",
       "    </tr>\n",
       "    <tr>\n",
       "      <th>в разводе</th>\n",
       "      <td>85</td>\n",
       "      <td>1195</td>\n",
       "      <td>0.071130</td>\n",
       "    </tr>\n",
       "    <tr>\n",
       "      <th>вдовец / вдова</th>\n",
       "      <td>63</td>\n",
       "      <td>959</td>\n",
       "      <td>0.065693</td>\n",
       "    </tr>\n",
       "    <tr>\n",
       "      <th>гражданский брак</th>\n",
       "      <td>388</td>\n",
       "      <td>4163</td>\n",
       "      <td>0.093202</td>\n",
       "    </tr>\n",
       "    <tr>\n",
       "      <th>женат / замужем</th>\n",
       "      <td>931</td>\n",
       "      <td>12344</td>\n",
       "      <td>0.075421</td>\n",
       "    </tr>\n",
       "    <tr>\n",
       "      <th>All</th>\n",
       "      <td>1741</td>\n",
       "      <td>21471</td>\n",
       "      <td>0.081086</td>\n",
       "    </tr>\n",
       "  </tbody>\n",
       "</table>\n",
       "</div>"
      ],
      "text/plain": [
       "                        sum  count      mean\n",
       "                       debt   debt      debt\n",
       "family_status                               \n",
       "Не женат / не замужем   274   2810  0.097509\n",
       "в разводе                85   1195  0.071130\n",
       "вдовец / вдова           63    959  0.065693\n",
       "гражданский брак        388   4163  0.093202\n",
       "женат / замужем         931  12344  0.075421\n",
       "All                    1741  21471  0.081086"
      ]
     },
     "execution_count": 37,
     "metadata": {},
     "output_type": "execute_result"
    }
   ],
   "source": [
    "print(df['family_status'].sort_values().unique())\n",
    "pivot_children_debt = pd.pivot_table(df,index=['family_status'],values=['debt'], aggfunc=['sum','count', 'mean'], margins=True)\n",
    "pivot_children_debt"
   ]
  },
  {
   "cell_type": "markdown",
   "id": "8e8b2ab3",
   "metadata": {},
   "source": [
    "##### Вывод 2:\n",
    "Сильной корреляции между семейным положением и возврата кредита в срок нельзя увидеть. Можно заметить, что наиболишее количество неплательщиков находятся в группе \"Не женат / не замужем\" (около 10 процентов). Наиболее ответственно к своим обязательствам относятся заёмщики из группы \"вдовец / вдова\"."
   ]
  },
  {
   "cell_type": "markdown",
   "id": "f881c68a",
   "metadata": {},
   "source": [
    "##### Вопрос 3:\n",
    "**Есть ли зависимость между уровнем дохода и возвратом кредита в срок?**<br>"
   ]
  },
  {
   "cell_type": "code",
   "execution_count": 38,
   "id": "0142406c",
   "metadata": {
    "scrolled": false
   },
   "outputs": [
    {
     "name": "stdout",
     "output_type": "stream",
     "text": [
      "['A' 'B' 'C' 'D' 'E']\n"
     ]
    },
    {
     "data": {
      "text/html": [
       "<div>\n",
       "<style scoped>\n",
       "    .dataframe tbody tr th:only-of-type {\n",
       "        vertical-align: middle;\n",
       "    }\n",
       "\n",
       "    .dataframe tbody tr th {\n",
       "        vertical-align: top;\n",
       "    }\n",
       "\n",
       "    .dataframe thead tr th {\n",
       "        text-align: left;\n",
       "    }\n",
       "\n",
       "    .dataframe thead tr:last-of-type th {\n",
       "        text-align: right;\n",
       "    }\n",
       "</style>\n",
       "<table border=\"1\" class=\"dataframe\">\n",
       "  <thead>\n",
       "    <tr>\n",
       "      <th></th>\n",
       "      <th>sum</th>\n",
       "      <th>count</th>\n",
       "      <th>mean</th>\n",
       "    </tr>\n",
       "    <tr>\n",
       "      <th></th>\n",
       "      <th>debt</th>\n",
       "      <th>debt</th>\n",
       "      <th>debt</th>\n",
       "    </tr>\n",
       "    <tr>\n",
       "      <th>income_category</th>\n",
       "      <th></th>\n",
       "      <th></th>\n",
       "      <th></th>\n",
       "    </tr>\n",
       "  </thead>\n",
       "  <tbody>\n",
       "    <tr>\n",
       "      <th>A</th>\n",
       "      <td>2</td>\n",
       "      <td>25</td>\n",
       "      <td>0.080000</td>\n",
       "    </tr>\n",
       "    <tr>\n",
       "      <th>B</th>\n",
       "      <td>356</td>\n",
       "      <td>5041</td>\n",
       "      <td>0.070621</td>\n",
       "    </tr>\n",
       "    <tr>\n",
       "      <th>C</th>\n",
       "      <td>1360</td>\n",
       "      <td>16033</td>\n",
       "      <td>0.084825</td>\n",
       "    </tr>\n",
       "    <tr>\n",
       "      <th>D</th>\n",
       "      <td>21</td>\n",
       "      <td>350</td>\n",
       "      <td>0.060000</td>\n",
       "    </tr>\n",
       "    <tr>\n",
       "      <th>E</th>\n",
       "      <td>2</td>\n",
       "      <td>22</td>\n",
       "      <td>0.090909</td>\n",
       "    </tr>\n",
       "    <tr>\n",
       "      <th>All</th>\n",
       "      <td>1741</td>\n",
       "      <td>21471</td>\n",
       "      <td>0.081086</td>\n",
       "    </tr>\n",
       "  </tbody>\n",
       "</table>\n",
       "</div>"
      ],
      "text/plain": [
       "                  sum  count      mean\n",
       "                 debt   debt      debt\n",
       "income_category                       \n",
       "A                   2     25  0.080000\n",
       "B                 356   5041  0.070621\n",
       "C                1360  16033  0.084825\n",
       "D                  21    350  0.060000\n",
       "E                   2     22  0.090909\n",
       "All              1741  21471  0.081086"
      ]
     },
     "execution_count": 38,
     "metadata": {},
     "output_type": "execute_result"
    }
   ],
   "source": [
    "print(df['income_category'].sort_values().unique())\n",
    "pivot_children_debt = pd.pivot_table(df,index=['income_category'],values=['debt'], aggfunc=['sum','count', 'mean'], margins=True)\n",
    "pivot_children_debt"
   ]
  },
  {
   "cell_type": "markdown",
   "id": "407d9952",
   "metadata": {},
   "source": [
    "##### Вывод 3:\n",
    "Подавляющее число заёмщиков находятся в категориях \"В\" и \"С\". Количество должников, которые не возвращают кредит в срок порядка 7-8 процентов. Граждане из категории \"D\" более ответственно относятся к выплате своих обязательств в срок. Процент невозврата кредитов среди заёмщиков с доходом более одного миллиона рублей выши остальных групп (около 9 процентов, правда, в данную группу входит только 22 заёмщика). "
   ]
  },
  {
   "cell_type": "markdown",
   "id": "2d085a43",
   "metadata": {},
   "source": [
    "##### Вопрос 4:\n",
    "**Как разные цели кредита влияют на его возврат в срок?**<br>"
   ]
  },
  {
   "cell_type": "code",
   "execution_count": 39,
   "id": "03d840a9",
   "metadata": {},
   "outputs": [
    {
     "name": "stdout",
     "output_type": "stream",
     "text": [
      "['операции с автомобилем' 'операции с недвижимостью'\n",
      " 'получение образования' 'проведение свадьбы']\n"
     ]
    },
    {
     "data": {
      "text/html": [
       "<div>\n",
       "<style scoped>\n",
       "    .dataframe tbody tr th:only-of-type {\n",
       "        vertical-align: middle;\n",
       "    }\n",
       "\n",
       "    .dataframe tbody tr th {\n",
       "        vertical-align: top;\n",
       "    }\n",
       "\n",
       "    .dataframe thead tr th {\n",
       "        text-align: left;\n",
       "    }\n",
       "\n",
       "    .dataframe thead tr:last-of-type th {\n",
       "        text-align: right;\n",
       "    }\n",
       "</style>\n",
       "<table border=\"1\" class=\"dataframe\">\n",
       "  <thead>\n",
       "    <tr>\n",
       "      <th></th>\n",
       "      <th>sum</th>\n",
       "      <th>count</th>\n",
       "      <th>mean</th>\n",
       "    </tr>\n",
       "    <tr>\n",
       "      <th></th>\n",
       "      <th>debt</th>\n",
       "      <th>debt</th>\n",
       "      <th>debt</th>\n",
       "    </tr>\n",
       "    <tr>\n",
       "      <th>purpose_category</th>\n",
       "      <th></th>\n",
       "      <th></th>\n",
       "      <th></th>\n",
       "    </tr>\n",
       "  </thead>\n",
       "  <tbody>\n",
       "    <tr>\n",
       "      <th>операции с автомобилем</th>\n",
       "      <td>403</td>\n",
       "      <td>4308</td>\n",
       "      <td>0.093547</td>\n",
       "    </tr>\n",
       "    <tr>\n",
       "      <th>операции с недвижимостью</th>\n",
       "      <td>782</td>\n",
       "      <td>10814</td>\n",
       "      <td>0.072314</td>\n",
       "    </tr>\n",
       "    <tr>\n",
       "      <th>получение образования</th>\n",
       "      <td>370</td>\n",
       "      <td>4014</td>\n",
       "      <td>0.092177</td>\n",
       "    </tr>\n",
       "    <tr>\n",
       "      <th>проведение свадьбы</th>\n",
       "      <td>186</td>\n",
       "      <td>2335</td>\n",
       "      <td>0.079657</td>\n",
       "    </tr>\n",
       "    <tr>\n",
       "      <th>All</th>\n",
       "      <td>1741</td>\n",
       "      <td>21471</td>\n",
       "      <td>0.081086</td>\n",
       "    </tr>\n",
       "  </tbody>\n",
       "</table>\n",
       "</div>"
      ],
      "text/plain": [
       "                           sum  count      mean\n",
       "                          debt   debt      debt\n",
       "purpose_category                               \n",
       "операции с автомобилем     403   4308  0.093547\n",
       "операции с недвижимостью   782  10814  0.072314\n",
       "получение образования      370   4014  0.092177\n",
       "проведение свадьбы         186   2335  0.079657\n",
       "All                       1741  21471  0.081086"
      ]
     },
     "execution_count": 39,
     "metadata": {},
     "output_type": "execute_result"
    }
   ],
   "source": [
    "print(df['purpose_category'].sort_values().unique())\n",
    "pivot_children_debt = pd.pivot_table(df,index=['purpose_category'],values=['debt'], aggfunc=['sum','count', 'mean'], margins=True)\n",
    "pivot_children_debt"
   ]
  },
  {
   "cell_type": "markdown",
   "id": "f2d13588",
   "metadata": {},
   "source": [
    "##### Вывод 4:\n",
    "Наиболее ответственно к выплате кредитов в срок относятся заёмщики, которые берут кредит с целью покупки недвижимости. (Процент невозвратов около 7 процентов). Реже отдают кредиты в срок люди, которые брали кредит на свадьбу (около 8 процентов). Наибольшие проблемы с возвратом наблюдаются в группах людей, которые брали кредит на покупку автомобиля, либо на получение образования (более 9 процентов)"
   ]
  },
  {
   "cell_type": "markdown",
   "id": "ee668e9c",
   "metadata": {},
   "source": [
    "## Общий вывод:"
   ]
  },
  {
   "cell_type": "markdown",
   "id": "466c94fe",
   "metadata": {},
   "source": [
    "В ходе исследования мне удалось установить, что:\n",
    "\n",
    "1. Трудно говорить о какой-либо зависимости между колчеством детей в семье и вероятностью выплаты долга в срок. \n",
    "2. Сильной корреляции между семейным положением и возврата кредита в срок нельзя увидеть. Можно заметить, что наибольшее количество неплательщиков находятся в группе \"Не женат / не замужем\" (около 10 процентов). Наиболее ответственно к своим обязательствам относятся заёмщики из группы \"вдовец / вдова\" (около 6 процентов).\n",
    "3. Подавляющее число заёмщиков находятся в категориях \"В\" и \"С\" (люди, уровень дохода которых от 50тр до 1млн). Количество должников, которые не возвращают кредит в срок порядка 7-8 процентов. Граждане из категории \"D\" более ответственно относятся к выплате своих обязательств в срок. Процентом невозврата кредитов среди наболее бедной и богатой групп можно пренебречь, так как в эту выборку входит очень малое количество заёмщиков.\n",
    "4. Наиболее ответственно к выплате кредитов в срок относятся заёмщики, которые берут кредит с целью покупки недвижимости. (Процент невозвратов около 7 процентов). Реже отдают кредиты в срок люди, которые брали кредит на свадьбу (около 8 процентов). Наибольшие проблемы с возвратом наблюдаются в группах людей, которые брали кредит на покупку автомобиля, либо на получение образования (более 9 процентов)\n",
    "\n"
   ]
  }
 ],
 "metadata": {
  "ExecuteTimeLog": [
   {
    "duration": 461,
    "start_time": "2022-03-23T20:59:21.583Z"
   },
   {
    "duration": 71,
    "start_time": "2022-03-23T21:00:04.898Z"
   },
   {
    "duration": 11,
    "start_time": "2022-03-23T21:02:05.908Z"
   },
   {
    "duration": 12,
    "start_time": "2022-03-23T21:02:14.443Z"
   },
   {
    "duration": 5,
    "start_time": "2022-03-23T21:02:14.457Z"
   },
   {
    "duration": 12,
    "start_time": "2022-03-23T21:02:57.342Z"
   },
   {
    "duration": 4,
    "start_time": "2022-03-23T21:02:57.355Z"
   },
   {
    "duration": 11,
    "start_time": "2022-03-23T21:03:12.463Z"
   },
   {
    "duration": 34,
    "start_time": "2022-03-23T21:03:12.476Z"
   },
   {
    "duration": 92,
    "start_time": "2022-03-23T21:03:27.811Z"
   },
   {
    "duration": 16,
    "start_time": "2022-03-23T21:03:27.906Z"
   },
   {
    "duration": 7,
    "start_time": "2022-03-23T21:03:27.924Z"
   },
   {
    "duration": 14,
    "start_time": "2022-03-23T21:06:47.442Z"
   },
   {
    "duration": 17,
    "start_time": "2022-03-23T21:08:11.980Z"
   },
   {
    "duration": 14,
    "start_time": "2022-03-23T21:08:22.666Z"
   },
   {
    "duration": 71,
    "start_time": "2022-03-23T21:09:19.378Z"
   },
   {
    "duration": 71,
    "start_time": "2022-03-23T21:09:22.512Z"
   },
   {
    "duration": 74,
    "start_time": "2022-03-23T21:09:47.517Z"
   },
   {
    "duration": 176,
    "start_time": "2022-03-29T12:01:26.237Z"
   },
   {
    "duration": 283,
    "start_time": "2022-03-29T12:01:30.021Z"
   },
   {
    "duration": 195,
    "start_time": "2022-03-29T12:01:37.731Z"
   },
   {
    "duration": 1,
    "start_time": "2022-03-29T12:01:37.928Z"
   },
   {
    "duration": 0,
    "start_time": "2022-03-29T12:01:37.930Z"
   },
   {
    "duration": 0,
    "start_time": "2022-03-29T12:01:37.931Z"
   },
   {
    "duration": 0,
    "start_time": "2022-03-29T12:01:37.932Z"
   },
   {
    "duration": 0,
    "start_time": "2022-03-29T12:01:37.934Z"
   },
   {
    "duration": 2,
    "start_time": "2022-03-29T12:07:47.572Z"
   },
   {
    "duration": 499,
    "start_time": "2022-03-29T12:07:47.576Z"
   },
   {
    "duration": 17,
    "start_time": "2022-03-29T12:07:48.078Z"
   },
   {
    "duration": 16,
    "start_time": "2022-03-29T12:07:48.097Z"
   },
   {
    "duration": 11,
    "start_time": "2022-03-29T12:07:48.116Z"
   },
   {
    "duration": 10,
    "start_time": "2022-03-29T12:17:55.086Z"
   },
   {
    "duration": 3,
    "start_time": "2022-03-29T12:18:00.472Z"
   },
   {
    "duration": 103,
    "start_time": "2022-03-29T12:18:00.477Z"
   },
   {
    "duration": 15,
    "start_time": "2022-03-29T12:18:00.582Z"
   },
   {
    "duration": 18,
    "start_time": "2022-03-29T12:18:00.600Z"
   },
   {
    "duration": 15,
    "start_time": "2022-03-29T12:18:00.620Z"
   },
   {
    "duration": 33,
    "start_time": "2022-03-29T12:18:00.638Z"
   },
   {
    "duration": 46,
    "start_time": "2022-03-29T12:18:00.673Z"
   },
   {
    "duration": 21,
    "start_time": "2022-03-29T12:18:43.415Z"
   },
   {
    "duration": 27,
    "start_time": "2022-03-29T12:20:01.223Z"
   },
   {
    "duration": 119,
    "start_time": "2022-03-29T12:27:47.571Z"
   },
   {
    "duration": 70,
    "start_time": "2022-03-29T12:27:52.377Z"
   },
   {
    "duration": 15,
    "start_time": "2022-03-29T12:28:04.458Z"
   },
   {
    "duration": 20,
    "start_time": "2022-03-29T12:28:35.396Z"
   },
   {
    "duration": 20,
    "start_time": "2022-03-29T12:28:42.720Z"
   },
   {
    "duration": 20,
    "start_time": "2022-03-29T12:28:43.490Z"
   },
   {
    "duration": 15,
    "start_time": "2022-03-29T12:28:54.464Z"
   },
   {
    "duration": 18,
    "start_time": "2022-03-29T12:30:00.572Z"
   },
   {
    "duration": 3,
    "start_time": "2022-03-29T12:30:04.409Z"
   },
   {
    "duration": 71,
    "start_time": "2022-03-29T12:30:04.414Z"
   },
   {
    "duration": 15,
    "start_time": "2022-03-29T12:30:04.487Z"
   },
   {
    "duration": 11,
    "start_time": "2022-03-29T12:30:04.504Z"
   },
   {
    "duration": 21,
    "start_time": "2022-03-29T12:30:04.517Z"
   },
   {
    "duration": 6,
    "start_time": "2022-03-29T12:30:04.539Z"
   },
   {
    "duration": 14,
    "start_time": "2022-03-29T12:30:04.547Z"
   },
   {
    "duration": 25,
    "start_time": "2022-03-29T12:30:04.563Z"
   },
   {
    "duration": 49,
    "start_time": "2022-03-29T12:30:04.590Z"
   },
   {
    "duration": 26,
    "start_time": "2022-03-29T12:30:04.641Z"
   },
   {
    "duration": 17,
    "start_time": "2022-03-29T12:30:04.669Z"
   },
   {
    "duration": 6,
    "start_time": "2022-03-29T12:30:22.429Z"
   },
   {
    "duration": 10,
    "start_time": "2022-03-29T12:40:07.081Z"
   },
   {
    "duration": 2,
    "start_time": "2022-03-29T12:40:37.751Z"
   },
   {
    "duration": 178,
    "start_time": "2022-03-29T12:40:37.755Z"
   },
   {
    "duration": 15,
    "start_time": "2022-03-29T12:40:37.935Z"
   },
   {
    "duration": 10,
    "start_time": "2022-03-29T12:40:37.952Z"
   },
   {
    "duration": 3,
    "start_time": "2022-03-29T12:40:37.964Z"
   },
   {
    "duration": 10,
    "start_time": "2022-03-29T12:40:41.694Z"
   },
   {
    "duration": 11,
    "start_time": "2022-03-29T12:40:42.787Z"
   },
   {
    "duration": 12,
    "start_time": "2022-03-29T12:41:09.208Z"
   },
   {
    "duration": 12,
    "start_time": "2022-03-29T12:41:11.056Z"
   },
   {
    "duration": 12,
    "start_time": "2022-03-29T12:41:12.559Z"
   },
   {
    "duration": 2,
    "start_time": "2022-03-29T12:53:31.773Z"
   },
   {
    "duration": 94,
    "start_time": "2022-03-29T12:53:31.777Z"
   },
   {
    "duration": 15,
    "start_time": "2022-03-29T12:53:31.872Z"
   },
   {
    "duration": 38,
    "start_time": "2022-03-29T12:53:31.889Z"
   },
   {
    "duration": 21,
    "start_time": "2022-03-29T12:53:31.929Z"
   },
   {
    "duration": 43,
    "start_time": "2022-03-29T12:53:31.953Z"
   },
   {
    "duration": 27,
    "start_time": "2022-03-29T12:53:31.998Z"
   },
   {
    "duration": 12,
    "start_time": "2022-03-29T12:56:01.914Z"
   },
   {
    "duration": 13,
    "start_time": "2022-03-29T12:56:09.389Z"
   },
   {
    "duration": 11,
    "start_time": "2022-03-29T12:56:32.799Z"
   },
   {
    "duration": 14,
    "start_time": "2022-03-29T12:56:58.193Z"
   },
   {
    "duration": 13,
    "start_time": "2022-03-29T12:57:01.371Z"
   },
   {
    "duration": 66,
    "start_time": "2022-03-29T13:16:12.801Z"
   },
   {
    "duration": 68,
    "start_time": "2022-03-29T13:17:22.506Z"
   },
   {
    "duration": 67,
    "start_time": "2022-03-29T13:17:25.698Z"
   },
   {
    "duration": 66,
    "start_time": "2022-03-29T13:17:33.692Z"
   },
   {
    "duration": 67,
    "start_time": "2022-03-29T13:17:36.358Z"
   },
   {
    "duration": 346,
    "start_time": "2022-03-29T13:17:42.968Z"
   },
   {
    "duration": 80,
    "start_time": "2022-03-29T13:20:22.781Z"
   },
   {
    "duration": 29,
    "start_time": "2022-03-29T13:20:47.736Z"
   },
   {
    "duration": 7,
    "start_time": "2022-03-29T13:21:08.511Z"
   },
   {
    "duration": 29,
    "start_time": "2022-03-29T13:21:11.063Z"
   },
   {
    "duration": 6,
    "start_time": "2022-03-29T13:21:34.154Z"
   },
   {
    "duration": 29,
    "start_time": "2022-03-29T13:21:35.359Z"
   },
   {
    "duration": 10,
    "start_time": "2022-03-29T13:21:57.357Z"
   },
   {
    "duration": 2,
    "start_time": "2022-03-29T13:22:04.943Z"
   },
   {
    "duration": 86,
    "start_time": "2022-03-29T13:22:04.949Z"
   },
   {
    "duration": 17,
    "start_time": "2022-03-29T13:22:05.038Z"
   },
   {
    "duration": 10,
    "start_time": "2022-03-29T13:22:05.057Z"
   },
   {
    "duration": 7,
    "start_time": "2022-03-29T13:22:05.069Z"
   },
   {
    "duration": 12,
    "start_time": "2022-03-29T13:22:05.079Z"
   },
   {
    "duration": 50,
    "start_time": "2022-03-29T13:22:05.093Z"
   },
   {
    "duration": 13,
    "start_time": "2022-03-29T13:22:05.145Z"
   },
   {
    "duration": 36,
    "start_time": "2022-03-29T13:22:05.159Z"
   },
   {
    "duration": 46,
    "start_time": "2022-03-29T13:22:05.197Z"
   },
   {
    "duration": 24,
    "start_time": "2022-03-29T13:22:05.245Z"
   },
   {
    "duration": 20,
    "start_time": "2022-03-29T13:22:05.271Z"
   },
   {
    "duration": 13,
    "start_time": "2022-03-29T13:23:34.371Z"
   },
   {
    "duration": 12,
    "start_time": "2022-03-29T13:23:42.840Z"
   },
   {
    "duration": 29,
    "start_time": "2022-03-29T13:23:43.760Z"
   },
   {
    "duration": 12,
    "start_time": "2022-03-29T13:23:48.394Z"
   },
   {
    "duration": 12,
    "start_time": "2022-03-29T13:30:07.256Z"
   },
   {
    "duration": 12,
    "start_time": "2022-03-29T13:30:27.065Z"
   },
   {
    "duration": 2,
    "start_time": "2022-03-29T13:30:38.164Z"
   },
   {
    "duration": 80,
    "start_time": "2022-03-29T13:30:38.170Z"
   },
   {
    "duration": 15,
    "start_time": "2022-03-29T13:30:38.252Z"
   },
   {
    "duration": 9,
    "start_time": "2022-03-29T13:30:38.269Z"
   },
   {
    "duration": 6,
    "start_time": "2022-03-29T13:30:38.280Z"
   },
   {
    "duration": 11,
    "start_time": "2022-03-29T13:30:38.288Z"
   },
   {
    "duration": 14,
    "start_time": "2022-03-29T13:30:41.222Z"
   },
   {
    "duration": 29,
    "start_time": "2022-03-29T13:31:51.803Z"
   },
   {
    "duration": 7,
    "start_time": "2022-03-29T13:33:27.222Z"
   },
   {
    "duration": 31,
    "start_time": "2022-03-29T13:33:29.324Z"
   },
   {
    "duration": 2,
    "start_time": "2022-03-29T13:33:33.118Z"
   },
   {
    "duration": 89,
    "start_time": "2022-03-29T13:33:33.123Z"
   },
   {
    "duration": 15,
    "start_time": "2022-03-29T13:33:33.214Z"
   },
   {
    "duration": 11,
    "start_time": "2022-03-29T13:33:33.237Z"
   },
   {
    "duration": 12,
    "start_time": "2022-03-29T13:33:33.250Z"
   },
   {
    "duration": 14,
    "start_time": "2022-03-29T13:33:33.265Z"
   },
   {
    "duration": 67,
    "start_time": "2022-03-29T13:33:33.281Z"
   },
   {
    "duration": 8,
    "start_time": "2022-03-29T13:34:02.273Z"
   },
   {
    "duration": 2,
    "start_time": "2022-03-29T13:34:39.861Z"
   },
   {
    "duration": 86,
    "start_time": "2022-03-29T13:34:39.876Z"
   },
   {
    "duration": 16,
    "start_time": "2022-03-29T13:34:39.964Z"
   },
   {
    "duration": 11,
    "start_time": "2022-03-29T13:34:39.982Z"
   },
   {
    "duration": 8,
    "start_time": "2022-03-29T13:34:39.995Z"
   },
   {
    "duration": 5,
    "start_time": "2022-03-29T13:34:44.134Z"
   },
   {
    "duration": 33,
    "start_time": "2022-03-29T13:34:45.407Z"
   },
   {
    "duration": 7,
    "start_time": "2022-03-29T13:35:09.989Z"
   },
   {
    "duration": 34,
    "start_time": "2022-03-29T13:35:12.023Z"
   },
   {
    "duration": 26,
    "start_time": "2022-03-29T13:35:28.033Z"
   },
   {
    "duration": 19,
    "start_time": "2022-03-29T13:36:13.554Z"
   },
   {
    "duration": 30,
    "start_time": "2022-03-29T13:36:17.833Z"
   },
   {
    "duration": 8,
    "start_time": "2022-03-29T13:41:35.716Z"
   },
   {
    "duration": 15,
    "start_time": "2022-03-29T13:41:38.928Z"
   },
   {
    "duration": 31,
    "start_time": "2022-03-29T13:41:40.756Z"
   },
   {
    "duration": 77,
    "start_time": "2022-03-29T20:10:22.861Z"
   },
   {
    "duration": 8,
    "start_time": "2022-03-29T20:10:46.814Z"
   },
   {
    "duration": 3,
    "start_time": "2022-03-29T20:10:53.533Z"
   },
   {
    "duration": 694,
    "start_time": "2022-03-29T20:10:53.541Z"
   },
   {
    "duration": 21,
    "start_time": "2022-03-29T20:10:54.238Z"
   },
   {
    "duration": 12,
    "start_time": "2022-03-29T20:10:56.818Z"
   },
   {
    "duration": 14,
    "start_time": "2022-03-29T20:11:53.791Z"
   },
   {
    "duration": 14,
    "start_time": "2022-03-29T20:13:15.459Z"
   },
   {
    "duration": 9,
    "start_time": "2022-03-29T20:14:52.900Z"
   },
   {
    "duration": 165,
    "start_time": "2022-03-29T20:17:34.886Z"
   },
   {
    "duration": 8,
    "start_time": "2022-03-29T20:18:49.756Z"
   },
   {
    "duration": 7,
    "start_time": "2022-03-29T20:18:56.653Z"
   },
   {
    "duration": 45,
    "start_time": "2022-03-29T20:20:22.791Z"
   },
   {
    "duration": 12,
    "start_time": "2022-03-29T20:20:27.614Z"
   },
   {
    "duration": 133,
    "start_time": "2022-03-29T20:20:45.077Z"
   },
   {
    "duration": 5,
    "start_time": "2022-03-29T20:20:53.483Z"
   },
   {
    "duration": 5,
    "start_time": "2022-03-29T20:20:57.826Z"
   },
   {
    "duration": 6,
    "start_time": "2022-03-29T20:21:06.749Z"
   },
   {
    "duration": 5,
    "start_time": "2022-03-29T20:21:10.850Z"
   },
   {
    "duration": 6,
    "start_time": "2022-03-29T20:21:24.307Z"
   },
   {
    "duration": 5,
    "start_time": "2022-03-29T20:21:34.884Z"
   },
   {
    "duration": 7,
    "start_time": "2022-03-29T20:23:24.823Z"
   },
   {
    "duration": 129,
    "start_time": "2022-03-29T20:28:17.705Z"
   },
   {
    "duration": 8027,
    "start_time": "2022-03-29T20:36:50.989Z"
   },
   {
    "duration": 3,
    "start_time": "2022-03-29T20:36:59.019Z"
   },
   {
    "duration": 264,
    "start_time": "2022-03-29T20:36:59.024Z"
   },
   {
    "duration": 22,
    "start_time": "2022-03-29T20:36:59.291Z"
   },
   {
    "duration": 70,
    "start_time": "2022-03-29T20:36:59.315Z"
   },
   {
    "duration": 7,
    "start_time": "2022-03-29T20:36:59.387Z"
   },
   {
    "duration": 12,
    "start_time": "2022-03-29T20:36:59.396Z"
   },
   {
    "duration": 4,
    "start_time": "2022-03-29T20:36:59.410Z"
   },
   {
    "duration": 10,
    "start_time": "2022-03-29T20:36:59.416Z"
   },
   {
    "duration": 79,
    "start_time": "2022-03-29T20:36:59.429Z"
   },
   {
    "duration": 108,
    "start_time": "2022-03-29T20:36:59.509Z"
   },
   {
    "duration": 378,
    "start_time": "2022-03-29T20:36:59.619Z"
   },
   {
    "duration": 108,
    "start_time": "2022-03-29T20:36:59.999Z"
   },
   {
    "duration": 14,
    "start_time": "2022-03-29T20:37:00.109Z"
   },
   {
    "duration": 27,
    "start_time": "2022-03-29T20:37:00.126Z"
   },
   {
    "duration": 41,
    "start_time": "2022-03-29T20:37:00.156Z"
   },
   {
    "duration": 30,
    "start_time": "2022-03-29T20:37:00.199Z"
   },
   {
    "duration": 27,
    "start_time": "2022-03-29T20:37:00.232Z"
   },
   {
    "duration": 81,
    "start_time": "2022-03-29T20:37:34.694Z"
   },
   {
    "duration": 5,
    "start_time": "2022-03-29T20:43:36.115Z"
   },
   {
    "duration": 20,
    "start_time": "2022-03-29T20:43:39.855Z"
   },
   {
    "duration": 4,
    "start_time": "2022-03-29T20:48:53.162Z"
   },
   {
    "duration": 196,
    "start_time": "2022-03-29T20:48:53.173Z"
   },
   {
    "duration": 41,
    "start_time": "2022-03-29T20:48:53.373Z"
   },
   {
    "duration": 22,
    "start_time": "2022-03-29T20:48:53.417Z"
   },
   {
    "duration": 6,
    "start_time": "2022-03-29T20:48:53.444Z"
   },
   {
    "duration": 8,
    "start_time": "2022-03-29T20:48:53.485Z"
   },
   {
    "duration": 15,
    "start_time": "2022-03-29T20:48:53.496Z"
   },
   {
    "duration": 17,
    "start_time": "2022-03-29T20:48:53.514Z"
   },
   {
    "duration": 34,
    "start_time": "2022-03-29T20:48:53.534Z"
   },
   {
    "duration": 54,
    "start_time": "2022-03-29T20:48:53.585Z"
   },
   {
    "duration": 40,
    "start_time": "2022-03-29T20:48:53.645Z"
   },
   {
    "duration": 53,
    "start_time": "2022-03-29T20:48:53.688Z"
   },
   {
    "duration": 8,
    "start_time": "2022-03-29T20:48:53.744Z"
   },
   {
    "duration": 34,
    "start_time": "2022-03-29T20:48:53.754Z"
   },
   {
    "duration": 30,
    "start_time": "2022-03-29T20:48:53.790Z"
   },
   {
    "duration": 28,
    "start_time": "2022-03-29T20:48:53.823Z"
   },
   {
    "duration": 51,
    "start_time": "2022-03-29T20:48:53.853Z"
   },
   {
    "duration": 19,
    "start_time": "2022-03-29T20:48:53.906Z"
   },
   {
    "duration": 5,
    "start_time": "2022-03-29T20:48:53.927Z"
   },
   {
    "duration": 14,
    "start_time": "2022-03-29T20:48:53.934Z"
   },
   {
    "duration": 21,
    "start_time": "2022-03-29T20:48:56.108Z"
   },
   {
    "duration": 13,
    "start_time": "2022-03-29T21:02:48.022Z"
   },
   {
    "duration": 4,
    "start_time": "2022-03-29T21:03:15.926Z"
   },
   {
    "duration": 123,
    "start_time": "2022-03-29T21:03:15.932Z"
   },
   {
    "duration": 29,
    "start_time": "2022-03-29T21:03:16.058Z"
   },
   {
    "duration": 14,
    "start_time": "2022-03-29T21:03:16.090Z"
   },
   {
    "duration": 6,
    "start_time": "2022-03-29T21:03:16.106Z"
   },
   {
    "duration": 10,
    "start_time": "2022-03-29T21:03:16.115Z"
   },
   {
    "duration": 7,
    "start_time": "2022-03-29T21:03:16.127Z"
   },
   {
    "duration": 48,
    "start_time": "2022-03-29T21:03:16.136Z"
   },
   {
    "duration": 21,
    "start_time": "2022-03-29T21:03:16.186Z"
   },
   {
    "duration": 50,
    "start_time": "2022-03-29T21:03:16.209Z"
   },
   {
    "duration": 34,
    "start_time": "2022-03-29T21:03:16.261Z"
   },
   {
    "duration": 52,
    "start_time": "2022-03-29T21:03:16.297Z"
   },
   {
    "duration": 32,
    "start_time": "2022-03-29T21:03:16.352Z"
   },
   {
    "duration": 5,
    "start_time": "2022-03-29T21:03:16.386Z"
   },
   {
    "duration": 30,
    "start_time": "2022-03-29T21:03:16.394Z"
   },
   {
    "duration": 63,
    "start_time": "2022-03-29T21:03:16.427Z"
   },
   {
    "duration": 30,
    "start_time": "2022-03-29T21:03:16.492Z"
   },
   {
    "duration": 23,
    "start_time": "2022-03-29T21:03:16.524Z"
   },
   {
    "duration": 11,
    "start_time": "2022-03-29T21:03:18.529Z"
   },
   {
    "duration": 325,
    "start_time": "2022-03-29T21:04:39.103Z"
   },
   {
    "duration": 12,
    "start_time": "2022-03-29T21:05:20.130Z"
   },
   {
    "duration": 29,
    "start_time": "2022-03-29T21:05:23.007Z"
   },
   {
    "duration": 74,
    "start_time": "2022-03-29T21:08:08.411Z"
   },
   {
    "duration": 72,
    "start_time": "2022-03-29T21:08:31.482Z"
   },
   {
    "duration": 72,
    "start_time": "2022-03-29T21:09:02.054Z"
   },
   {
    "duration": 74,
    "start_time": "2022-03-29T21:09:22.783Z"
   },
   {
    "duration": 75,
    "start_time": "2022-03-29T21:09:31.510Z"
   },
   {
    "duration": 75,
    "start_time": "2022-03-29T21:09:59.693Z"
   },
   {
    "duration": 72,
    "start_time": "2022-03-29T21:10:17.701Z"
   },
   {
    "duration": 23,
    "start_time": "2022-03-29T21:13:43.900Z"
   },
   {
    "duration": 113,
    "start_time": "2022-03-29T21:31:20.701Z"
   },
   {
    "duration": 7,
    "start_time": "2022-03-29T21:32:00.385Z"
   },
   {
    "duration": 8,
    "start_time": "2022-03-29T21:32:09.999Z"
   },
   {
    "duration": 28,
    "start_time": "2022-03-29T21:32:16.193Z"
   },
   {
    "duration": 24,
    "start_time": "2022-03-29T21:32:35.878Z"
   },
   {
    "duration": 24,
    "start_time": "2022-03-29T21:33:39.589Z"
   },
   {
    "duration": 1959,
    "start_time": "2022-03-29T21:39:55.664Z"
   },
   {
    "duration": 1719,
    "start_time": "2022-03-29T21:40:16.770Z"
   },
   {
    "duration": 1813,
    "start_time": "2022-03-29T21:40:23.590Z"
   },
   {
    "duration": 50,
    "start_time": "2022-03-29T21:59:28.264Z"
   },
   {
    "duration": 20,
    "start_time": "2022-03-29T22:24:31.221Z"
   },
   {
    "duration": 8,
    "start_time": "2022-03-29T22:28:11.800Z"
   },
   {
    "duration": 8,
    "start_time": "2022-03-29T22:28:14.508Z"
   },
   {
    "duration": 51,
    "start_time": "2022-03-29T22:28:41.225Z"
   },
   {
    "duration": 48,
    "start_time": "2022-03-30T15:13:55.522Z"
   },
   {
    "duration": 2,
    "start_time": "2022-03-30T15:14:02.886Z"
   },
   {
    "duration": 508,
    "start_time": "2022-03-30T15:14:02.893Z"
   },
   {
    "duration": 16,
    "start_time": "2022-03-30T15:14:03.404Z"
   },
   {
    "duration": 10,
    "start_time": "2022-03-30T15:14:03.421Z"
   },
   {
    "duration": 7,
    "start_time": "2022-03-30T15:14:03.432Z"
   },
   {
    "duration": 5,
    "start_time": "2022-03-30T15:14:03.441Z"
   },
   {
    "duration": 4,
    "start_time": "2022-03-30T15:14:03.448Z"
   },
   {
    "duration": 8,
    "start_time": "2022-03-30T15:14:03.453Z"
   },
   {
    "duration": 21,
    "start_time": "2022-03-30T15:14:03.462Z"
   },
   {
    "duration": 53,
    "start_time": "2022-03-30T15:14:03.485Z"
   },
   {
    "duration": 13,
    "start_time": "2022-03-30T15:14:03.540Z"
   },
   {
    "duration": 29,
    "start_time": "2022-03-30T15:14:03.554Z"
   },
   {
    "duration": 28,
    "start_time": "2022-03-30T15:14:03.585Z"
   },
   {
    "duration": 6,
    "start_time": "2022-03-30T15:14:03.614Z"
   },
   {
    "duration": 18,
    "start_time": "2022-03-30T15:14:03.623Z"
   },
   {
    "duration": 19,
    "start_time": "2022-03-30T15:14:03.642Z"
   },
   {
    "duration": 17,
    "start_time": "2022-03-30T15:14:03.663Z"
   },
   {
    "duration": 40,
    "start_time": "2022-03-30T15:14:03.682Z"
   },
   {
    "duration": 11,
    "start_time": "2022-03-30T15:14:03.724Z"
   },
   {
    "duration": 21,
    "start_time": "2022-03-30T15:14:03.737Z"
   },
   {
    "duration": 15,
    "start_time": "2022-03-30T15:14:03.760Z"
   },
   {
    "duration": 41,
    "start_time": "2022-03-30T15:14:03.777Z"
   },
   {
    "duration": 18,
    "start_time": "2022-03-30T15:14:03.819Z"
   },
   {
    "duration": 28,
    "start_time": "2022-03-30T15:14:05.506Z"
   },
   {
    "duration": 256,
    "start_time": "2022-03-30T15:14:30.593Z"
   },
   {
    "duration": 141,
    "start_time": "2022-03-30T15:21:14.264Z"
   },
   {
    "duration": 51,
    "start_time": "2022-03-30T15:21:16.458Z"
   },
   {
    "duration": 133,
    "start_time": "2022-03-30T15:29:31.981Z"
   },
   {
    "duration": 31,
    "start_time": "2022-03-30T15:29:42.780Z"
   },
   {
    "duration": 8,
    "start_time": "2022-03-30T15:30:11.259Z"
   },
   {
    "duration": 44,
    "start_time": "2022-03-30T15:31:00.078Z"
   },
   {
    "duration": 2,
    "start_time": "2022-03-30T15:33:59.005Z"
   },
   {
    "duration": 91,
    "start_time": "2022-03-30T15:33:59.009Z"
   },
   {
    "duration": 20,
    "start_time": "2022-03-30T15:33:59.101Z"
   },
   {
    "duration": 9,
    "start_time": "2022-03-30T15:33:59.122Z"
   },
   {
    "duration": 4,
    "start_time": "2022-03-30T15:33:59.133Z"
   },
   {
    "duration": 5,
    "start_time": "2022-03-30T15:33:59.139Z"
   },
   {
    "duration": 2,
    "start_time": "2022-03-30T15:33:59.146Z"
   },
   {
    "duration": 8,
    "start_time": "2022-03-30T15:33:59.150Z"
   },
   {
    "duration": 57,
    "start_time": "2022-03-30T15:33:59.159Z"
   },
   {
    "duration": 29,
    "start_time": "2022-03-30T15:33:59.218Z"
   },
   {
    "duration": 11,
    "start_time": "2022-03-30T15:33:59.249Z"
   },
   {
    "duration": 49,
    "start_time": "2022-03-30T15:33:59.261Z"
   },
   {
    "duration": 4,
    "start_time": "2022-03-30T15:33:59.313Z"
   },
   {
    "duration": 5,
    "start_time": "2022-03-30T15:33:59.318Z"
   },
   {
    "duration": 19,
    "start_time": "2022-03-30T15:33:59.325Z"
   },
   {
    "duration": 18,
    "start_time": "2022-03-30T15:33:59.345Z"
   },
   {
    "duration": 45,
    "start_time": "2022-03-30T15:33:59.364Z"
   },
   {
    "duration": 14,
    "start_time": "2022-03-30T15:33:59.411Z"
   },
   {
    "duration": 10,
    "start_time": "2022-03-30T15:33:59.427Z"
   },
   {
    "duration": 20,
    "start_time": "2022-03-30T15:33:59.439Z"
   },
   {
    "duration": 14,
    "start_time": "2022-03-30T15:33:59.460Z"
   },
   {
    "duration": 39,
    "start_time": "2022-03-30T15:33:59.476Z"
   },
   {
    "duration": 17,
    "start_time": "2022-03-30T15:33:59.517Z"
   },
   {
    "duration": 144,
    "start_time": "2022-03-30T15:33:59.536Z"
   },
   {
    "duration": 34,
    "start_time": "2022-03-30T15:33:59.682Z"
   },
   {
    "duration": 140,
    "start_time": "2022-03-30T15:33:59.717Z"
   },
   {
    "duration": 52,
    "start_time": "2022-03-30T15:33:59.858Z"
   },
   {
    "duration": 32,
    "start_time": "2022-03-30T15:33:59.912Z"
   },
   {
    "duration": 12,
    "start_time": "2022-03-30T15:33:59.946Z"
   },
   {
    "duration": 4,
    "start_time": "2022-03-30T15:33:59.960Z"
   },
   {
    "duration": 56,
    "start_time": "2022-03-30T15:33:59.966Z"
   },
   {
    "duration": 2,
    "start_time": "2022-03-30T15:36:31.662Z"
   },
   {
    "duration": 398,
    "start_time": "2022-03-30T15:37:03.331Z"
   },
   {
    "duration": 0,
    "start_time": "2022-03-30T15:37:03.731Z"
   },
   {
    "duration": 0,
    "start_time": "2022-03-30T15:37:03.732Z"
   },
   {
    "duration": 0,
    "start_time": "2022-03-30T15:37:03.733Z"
   },
   {
    "duration": 0,
    "start_time": "2022-03-30T15:37:03.734Z"
   },
   {
    "duration": 0,
    "start_time": "2022-03-30T15:37:03.736Z"
   },
   {
    "duration": 106,
    "start_time": "2022-03-30T15:37:09.457Z"
   },
   {
    "duration": 70,
    "start_time": "2022-03-30T15:37:28.417Z"
   },
   {
    "duration": 2,
    "start_time": "2022-03-30T15:39:14.576Z"
   },
   {
    "duration": 89,
    "start_time": "2022-03-30T15:39:14.580Z"
   },
   {
    "duration": 16,
    "start_time": "2022-03-30T15:39:14.671Z"
   },
   {
    "duration": 23,
    "start_time": "2022-03-30T15:39:14.689Z"
   },
   {
    "duration": 5,
    "start_time": "2022-03-30T15:39:14.714Z"
   },
   {
    "duration": 6,
    "start_time": "2022-03-30T15:39:14.720Z"
   },
   {
    "duration": 5,
    "start_time": "2022-03-30T15:39:14.727Z"
   },
   {
    "duration": 8,
    "start_time": "2022-03-30T15:39:14.734Z"
   },
   {
    "duration": 15,
    "start_time": "2022-03-30T15:39:14.744Z"
   },
   {
    "duration": 64,
    "start_time": "2022-03-30T15:39:14.762Z"
   },
   {
    "duration": 11,
    "start_time": "2022-03-30T15:39:14.827Z"
   },
   {
    "duration": 31,
    "start_time": "2022-03-30T15:39:14.839Z"
   },
   {
    "duration": 3,
    "start_time": "2022-03-30T15:39:14.872Z"
   },
   {
    "duration": 32,
    "start_time": "2022-03-30T15:39:14.877Z"
   },
   {
    "duration": 19,
    "start_time": "2022-03-30T15:39:14.910Z"
   },
   {
    "duration": 18,
    "start_time": "2022-03-30T15:39:14.930Z"
   },
   {
    "duration": 16,
    "start_time": "2022-03-30T15:39:14.950Z"
   },
   {
    "duration": 42,
    "start_time": "2022-03-30T15:39:14.967Z"
   },
   {
    "duration": 12,
    "start_time": "2022-03-30T15:39:15.010Z"
   },
   {
    "duration": 35,
    "start_time": "2022-03-30T15:39:15.024Z"
   },
   {
    "duration": 16,
    "start_time": "2022-03-30T15:39:15.061Z"
   },
   {
    "duration": 34,
    "start_time": "2022-03-30T15:39:15.079Z"
   },
   {
    "duration": 18,
    "start_time": "2022-03-30T15:39:15.115Z"
   },
   {
    "duration": 156,
    "start_time": "2022-03-30T15:39:15.135Z"
   },
   {
    "duration": 39,
    "start_time": "2022-03-30T15:39:15.293Z"
   },
   {
    "duration": 151,
    "start_time": "2022-03-30T15:39:15.335Z"
   },
   {
    "duration": 51,
    "start_time": "2022-03-30T15:39:15.488Z"
   },
   {
    "duration": 32,
    "start_time": "2022-03-30T15:39:15.542Z"
   },
   {
    "duration": 33,
    "start_time": "2022-03-30T15:39:15.576Z"
   },
   {
    "duration": 6,
    "start_time": "2022-03-30T15:39:15.611Z"
   },
   {
    "duration": 45,
    "start_time": "2022-03-30T15:39:15.619Z"
   },
   {
    "duration": 290,
    "start_time": "2022-03-30T15:51:21.576Z"
   },
   {
    "duration": 13,
    "start_time": "2022-03-30T15:51:48.835Z"
   },
   {
    "duration": 12,
    "start_time": "2022-03-30T15:52:58.228Z"
   },
   {
    "duration": 217,
    "start_time": "2022-03-30T16:00:41.382Z"
   },
   {
    "duration": 14,
    "start_time": "2022-03-30T16:01:15.694Z"
   },
   {
    "duration": 40,
    "start_time": "2022-03-30T16:01:28.570Z"
   },
   {
    "duration": 16,
    "start_time": "2022-03-30T16:19:07.724Z"
   },
   {
    "duration": 16,
    "start_time": "2022-03-30T16:19:22.626Z"
   },
   {
    "duration": 12,
    "start_time": "2022-03-30T16:20:27.999Z"
   },
   {
    "duration": 14,
    "start_time": "2022-03-30T16:20:40.319Z"
   },
   {
    "duration": 11,
    "start_time": "2022-03-30T16:21:03.043Z"
   },
   {
    "duration": 13,
    "start_time": "2022-03-30T16:21:09.933Z"
   },
   {
    "duration": 5,
    "start_time": "2022-03-30T16:21:21.805Z"
   },
   {
    "duration": 13,
    "start_time": "2022-03-30T16:21:48.680Z"
   },
   {
    "duration": 7,
    "start_time": "2022-03-30T16:21:56.280Z"
   },
   {
    "duration": 8,
    "start_time": "2022-03-30T16:22:07.658Z"
   },
   {
    "duration": 7,
    "start_time": "2022-03-30T16:22:36.330Z"
   },
   {
    "duration": 8,
    "start_time": "2022-03-30T16:27:00.245Z"
   },
   {
    "duration": 9,
    "start_time": "2022-03-30T16:27:47.095Z"
   },
   {
    "duration": 13,
    "start_time": "2022-03-30T16:28:37.789Z"
   },
   {
    "duration": 82,
    "start_time": "2022-03-30T16:28:50.380Z"
   },
   {
    "duration": 15,
    "start_time": "2022-03-30T16:28:50.463Z"
   },
   {
    "duration": 10,
    "start_time": "2022-03-30T16:28:50.479Z"
   },
   {
    "duration": 17,
    "start_time": "2022-03-30T16:28:50.491Z"
   },
   {
    "duration": 13,
    "start_time": "2022-03-30T16:28:50.510Z"
   },
   {
    "duration": 14,
    "start_time": "2022-03-30T16:28:50.524Z"
   },
   {
    "duration": 12,
    "start_time": "2022-03-30T16:28:50.539Z"
   },
   {
    "duration": 20,
    "start_time": "2022-03-30T16:28:50.552Z"
   },
   {
    "duration": 16,
    "start_time": "2022-03-30T16:28:50.574Z"
   },
   {
    "duration": 18,
    "start_time": "2022-03-30T16:28:50.591Z"
   },
   {
    "duration": 21,
    "start_time": "2022-03-30T16:28:50.611Z"
   },
   {
    "duration": 16,
    "start_time": "2022-03-30T16:28:50.634Z"
   },
   {
    "duration": 15,
    "start_time": "2022-03-30T16:28:50.652Z"
   },
   {
    "duration": 15,
    "start_time": "2022-03-30T16:28:50.669Z"
   },
   {
    "duration": 10,
    "start_time": "2022-03-30T16:28:50.709Z"
   },
   {
    "duration": 26,
    "start_time": "2022-03-30T16:28:50.720Z"
   },
   {
    "duration": 15,
    "start_time": "2022-03-30T16:28:50.748Z"
   },
   {
    "duration": 15,
    "start_time": "2022-03-30T16:28:50.765Z"
   },
   {
    "duration": 38,
    "start_time": "2022-03-30T16:28:50.781Z"
   },
   {
    "duration": 12,
    "start_time": "2022-03-30T16:28:52.873Z"
   },
   {
    "duration": 8,
    "start_time": "2022-03-30T16:28:53.911Z"
   },
   {
    "duration": 10,
    "start_time": "2022-03-30T16:29:07.623Z"
   },
   {
    "duration": 13,
    "start_time": "2022-03-30T16:29:14.328Z"
   },
   {
    "duration": 11,
    "start_time": "2022-03-30T16:29:37.104Z"
   },
   {
    "duration": 41,
    "start_time": "2022-03-30T20:09:21.199Z"
   },
   {
    "duration": 5,
    "start_time": "2022-03-30T20:09:29.621Z"
   },
   {
    "duration": 472,
    "start_time": "2022-03-30T20:09:35.987Z"
   },
   {
    "duration": 13,
    "start_time": "2022-03-30T20:09:36.461Z"
   },
   {
    "duration": 11,
    "start_time": "2022-03-30T20:09:36.476Z"
   },
   {
    "duration": 4,
    "start_time": "2022-03-30T20:09:36.488Z"
   },
   {
    "duration": 12,
    "start_time": "2022-03-30T20:09:36.494Z"
   },
   {
    "duration": 16,
    "start_time": "2022-03-30T20:09:36.508Z"
   },
   {
    "duration": 18,
    "start_time": "2022-03-30T20:09:36.525Z"
   },
   {
    "duration": 10,
    "start_time": "2022-03-30T20:09:36.545Z"
   },
   {
    "duration": 27,
    "start_time": "2022-03-30T20:09:36.556Z"
   },
   {
    "duration": 4,
    "start_time": "2022-03-30T20:09:36.585Z"
   },
   {
    "duration": 19,
    "start_time": "2022-03-30T20:09:36.590Z"
   },
   {
    "duration": 18,
    "start_time": "2022-03-30T20:09:36.610Z"
   },
   {
    "duration": 15,
    "start_time": "2022-03-30T20:09:36.629Z"
   },
   {
    "duration": 35,
    "start_time": "2022-03-30T20:09:36.646Z"
   },
   {
    "duration": 11,
    "start_time": "2022-03-30T20:09:36.683Z"
   },
   {
    "duration": 22,
    "start_time": "2022-03-30T20:09:36.695Z"
   },
   {
    "duration": 15,
    "start_time": "2022-03-30T20:09:36.719Z"
   },
   {
    "duration": 15,
    "start_time": "2022-03-30T20:09:36.735Z"
   },
   {
    "duration": 41,
    "start_time": "2022-03-30T20:09:36.751Z"
   },
   {
    "duration": 10,
    "start_time": "2022-03-30T20:09:36.794Z"
   },
   {
    "duration": 10,
    "start_time": "2022-03-30T20:09:36.806Z"
   },
   {
    "duration": 6,
    "start_time": "2022-03-30T20:09:39.245Z"
   },
   {
    "duration": 11,
    "start_time": "2022-03-30T20:10:04.715Z"
   },
   {
    "duration": 6,
    "start_time": "2022-03-30T20:10:07.865Z"
   },
   {
    "duration": 5,
    "start_time": "2022-03-30T20:10:52.355Z"
   },
   {
    "duration": 4,
    "start_time": "2022-03-30T20:11:05.549Z"
   },
   {
    "duration": 3,
    "start_time": "2022-03-30T20:11:51.982Z"
   },
   {
    "duration": 4,
    "start_time": "2022-03-30T20:12:00.372Z"
   },
   {
    "duration": 7,
    "start_time": "2022-03-30T20:13:33.000Z"
   },
   {
    "duration": 10,
    "start_time": "2022-03-30T20:13:35.873Z"
   },
   {
    "duration": 8,
    "start_time": "2022-03-30T20:13:42.149Z"
   },
   {
    "duration": 3,
    "start_time": "2022-03-30T20:13:49.825Z"
   },
   {
    "duration": 4,
    "start_time": "2022-03-30T20:13:54.646Z"
   },
   {
    "duration": 6,
    "start_time": "2022-03-30T20:16:00.028Z"
   },
   {
    "duration": 10,
    "start_time": "2022-03-30T20:16:38.197Z"
   },
   {
    "duration": 6,
    "start_time": "2022-03-30T20:17:27.939Z"
   },
   {
    "duration": 188,
    "start_time": "2022-03-30T20:18:14.770Z"
   },
   {
    "duration": 5,
    "start_time": "2022-03-30T20:19:53.274Z"
   },
   {
    "duration": 15,
    "start_time": "2022-03-30T20:22:38.152Z"
   },
   {
    "duration": 25,
    "start_time": "2022-03-30T20:25:51.627Z"
   },
   {
    "duration": 4,
    "start_time": "2022-03-30T20:27:22.278Z"
   },
   {
    "duration": 5,
    "start_time": "2022-03-30T20:27:24.354Z"
   },
   {
    "duration": 11,
    "start_time": "2022-03-30T20:27:42.323Z"
   },
   {
    "duration": 5,
    "start_time": "2022-03-30T20:27:59.357Z"
   },
   {
    "duration": 4,
    "start_time": "2022-03-30T20:31:29.986Z"
   },
   {
    "duration": 208,
    "start_time": "2022-03-30T20:31:37.597Z"
   },
   {
    "duration": 10,
    "start_time": "2022-03-30T20:33:37.490Z"
   },
   {
    "duration": 14,
    "start_time": "2022-03-30T20:34:00.100Z"
   },
   {
    "duration": 13,
    "start_time": "2022-03-30T20:34:16.262Z"
   },
   {
    "duration": 15,
    "start_time": "2022-03-30T20:35:30.815Z"
   },
   {
    "duration": 13,
    "start_time": "2022-03-30T20:35:56.597Z"
   },
   {
    "duration": 8,
    "start_time": "2022-03-30T20:36:02.379Z"
   },
   {
    "duration": 6,
    "start_time": "2022-03-30T20:36:12.075Z"
   },
   {
    "duration": 6,
    "start_time": "2022-03-30T20:36:58.857Z"
   },
   {
    "duration": 81,
    "start_time": "2022-03-30T20:37:09.885Z"
   },
   {
    "duration": 16,
    "start_time": "2022-03-30T20:37:09.967Z"
   },
   {
    "duration": 12,
    "start_time": "2022-03-30T20:37:09.985Z"
   },
   {
    "duration": 4,
    "start_time": "2022-03-30T20:37:09.998Z"
   },
   {
    "duration": 17,
    "start_time": "2022-03-30T20:37:10.004Z"
   },
   {
    "duration": 32,
    "start_time": "2022-03-30T20:37:10.023Z"
   },
   {
    "duration": 12,
    "start_time": "2022-03-30T20:37:10.056Z"
   },
   {
    "duration": 22,
    "start_time": "2022-03-30T20:37:10.070Z"
   },
   {
    "duration": 16,
    "start_time": "2022-03-30T20:37:10.093Z"
   },
   {
    "duration": 31,
    "start_time": "2022-03-30T20:37:10.110Z"
   },
   {
    "duration": 25,
    "start_time": "2022-03-30T20:37:10.143Z"
   },
   {
    "duration": 17,
    "start_time": "2022-03-30T20:37:10.170Z"
   },
   {
    "duration": 23,
    "start_time": "2022-03-30T20:37:10.189Z"
   },
   {
    "duration": 13,
    "start_time": "2022-03-30T20:37:10.214Z"
   },
   {
    "duration": 10,
    "start_time": "2022-03-30T20:37:10.229Z"
   },
   {
    "duration": 32,
    "start_time": "2022-03-30T20:37:10.240Z"
   },
   {
    "duration": 20,
    "start_time": "2022-03-30T20:37:10.274Z"
   },
   {
    "duration": 17,
    "start_time": "2022-03-30T20:37:10.295Z"
   },
   {
    "duration": 12,
    "start_time": "2022-03-30T20:37:10.313Z"
   },
   {
    "duration": 5,
    "start_time": "2022-03-30T20:37:12.256Z"
   },
   {
    "duration": 87,
    "start_time": "2022-03-30T20:40:00.737Z"
   },
   {
    "duration": 178,
    "start_time": "2022-03-30T20:40:14.252Z"
   },
   {
    "duration": 2711,
    "start_time": "2022-03-30T20:40:39.295Z"
   },
   {
    "duration": 4,
    "start_time": "2022-03-30T20:42:01.184Z"
   },
   {
    "duration": 4,
    "start_time": "2022-03-30T20:42:16.292Z"
   },
   {
    "duration": 207,
    "start_time": "2022-03-30T20:42:23.831Z"
   },
   {
    "duration": 4,
    "start_time": "2022-03-30T20:42:28.752Z"
   },
   {
    "duration": 4,
    "start_time": "2022-03-30T20:42:34.422Z"
   },
   {
    "duration": 168,
    "start_time": "2022-03-30T20:43:50.351Z"
   },
   {
    "duration": 15,
    "start_time": "2022-03-30T20:46:24.241Z"
   },
   {
    "duration": 13,
    "start_time": "2022-03-30T20:46:58.369Z"
   },
   {
    "duration": 12,
    "start_time": "2022-03-30T20:47:49.885Z"
   },
   {
    "duration": 12,
    "start_time": "2022-03-30T20:47:57.734Z"
   },
   {
    "duration": 85,
    "start_time": "2022-03-30T20:48:03.375Z"
   },
   {
    "duration": 26,
    "start_time": "2022-03-30T20:48:03.462Z"
   },
   {
    "duration": 9,
    "start_time": "2022-03-30T20:48:03.489Z"
   },
   {
    "duration": 5,
    "start_time": "2022-03-30T20:48:03.499Z"
   },
   {
    "duration": 7,
    "start_time": "2022-03-30T20:48:03.506Z"
   },
   {
    "duration": 13,
    "start_time": "2022-03-30T20:48:03.515Z"
   },
   {
    "duration": 11,
    "start_time": "2022-03-30T20:48:03.530Z"
   },
   {
    "duration": 42,
    "start_time": "2022-03-30T20:48:03.543Z"
   },
   {
    "duration": 11,
    "start_time": "2022-03-30T20:48:03.586Z"
   },
   {
    "duration": 9,
    "start_time": "2022-03-30T20:48:03.599Z"
   },
   {
    "duration": 18,
    "start_time": "2022-03-30T20:48:03.610Z"
   },
   {
    "duration": 16,
    "start_time": "2022-03-30T20:48:03.629Z"
   },
   {
    "duration": 15,
    "start_time": "2022-03-30T20:48:03.646Z"
   },
   {
    "duration": 13,
    "start_time": "2022-03-30T20:48:03.680Z"
   },
   {
    "duration": 9,
    "start_time": "2022-03-30T20:48:03.695Z"
   },
   {
    "duration": 21,
    "start_time": "2022-03-30T20:48:03.706Z"
   },
   {
    "duration": 15,
    "start_time": "2022-03-30T20:48:03.728Z"
   },
   {
    "duration": 39,
    "start_time": "2022-03-30T20:48:03.744Z"
   },
   {
    "duration": 4,
    "start_time": "2022-03-30T20:48:03.784Z"
   },
   {
    "duration": 7,
    "start_time": "2022-03-30T20:48:03.790Z"
   },
   {
    "duration": 7,
    "start_time": "2022-03-30T20:48:03.798Z"
   },
   {
    "duration": 8,
    "start_time": "2022-03-30T20:48:03.806Z"
   },
   {
    "duration": 15,
    "start_time": "2022-03-30T20:48:03.816Z"
   },
   {
    "duration": 10,
    "start_time": "2022-03-30T20:48:03.832Z"
   },
   {
    "duration": 7,
    "start_time": "2022-03-30T20:48:03.844Z"
   },
   {
    "duration": 37,
    "start_time": "2022-03-30T20:48:03.852Z"
   },
   {
    "duration": 4,
    "start_time": "2022-03-30T20:48:03.891Z"
   },
   {
    "duration": 132,
    "start_time": "2022-03-30T20:48:03.896Z"
   },
   {
    "duration": 10,
    "start_time": "2022-03-30T20:48:04.030Z"
   },
   {
    "duration": 126,
    "start_time": "2022-03-30T20:48:04.042Z"
   },
   {
    "duration": 15,
    "start_time": "2022-03-30T20:48:04.169Z"
   },
   {
    "duration": 7,
    "start_time": "2022-03-30T20:48:04.186Z"
   },
   {
    "duration": 12,
    "start_time": "2022-03-30T20:48:05.894Z"
   },
   {
    "duration": 12,
    "start_time": "2022-03-30T20:48:57.251Z"
   },
   {
    "duration": 14,
    "start_time": "2022-03-30T20:49:24.339Z"
   },
   {
    "duration": 3,
    "start_time": "2022-03-30T20:49:57.309Z"
   },
   {
    "duration": 5,
    "start_time": "2022-03-30T20:50:41.361Z"
   },
   {
    "duration": 4,
    "start_time": "2022-03-30T20:51:04.319Z"
   },
   {
    "duration": 4,
    "start_time": "2022-03-30T20:51:08.781Z"
   },
   {
    "duration": 4,
    "start_time": "2022-03-30T20:51:13.800Z"
   },
   {
    "duration": 638,
    "start_time": "2022-03-30T20:53:49.953Z"
   },
   {
    "duration": 112,
    "start_time": "2022-03-30T20:54:24.129Z"
   },
   {
    "duration": 100,
    "start_time": "2022-03-30T20:54:59.887Z"
   },
   {
    "duration": 93,
    "start_time": "2022-03-30T20:55:30.879Z"
   },
   {
    "duration": 141,
    "start_time": "2022-03-30T20:55:35.321Z"
   },
   {
    "duration": 100,
    "start_time": "2022-03-30T20:55:39.200Z"
   },
   {
    "duration": 191,
    "start_time": "2022-03-30T20:55:42.128Z"
   },
   {
    "duration": 117,
    "start_time": "2022-03-30T20:55:46.365Z"
   },
   {
    "duration": 114,
    "start_time": "2022-03-30T20:55:49.614Z"
   },
   {
    "duration": 112,
    "start_time": "2022-03-30T20:56:01.249Z"
   },
   {
    "duration": 125,
    "start_time": "2022-03-30T20:56:08.127Z"
   },
   {
    "duration": 117,
    "start_time": "2022-03-30T20:56:47.688Z"
   },
   {
    "duration": 95,
    "start_time": "2022-03-30T20:56:54.875Z"
   },
   {
    "duration": 171,
    "start_time": "2022-03-30T20:57:08.243Z"
   },
   {
    "duration": 11,
    "start_time": "2022-03-30T20:59:49.887Z"
   },
   {
    "duration": 3667,
    "start_time": "2022-03-30T20:59:56.096Z"
   },
   {
    "duration": 3791,
    "start_time": "2022-03-30T21:00:09.606Z"
   },
   {
    "duration": 17,
    "start_time": "2022-03-30T21:03:47.741Z"
   },
   {
    "duration": 3,
    "start_time": "2022-03-30T21:04:46.954Z"
   },
   {
    "duration": 329,
    "start_time": "2022-03-30T21:05:55.714Z"
   },
   {
    "duration": 6,
    "start_time": "2022-03-30T21:06:04.112Z"
   },
   {
    "duration": 8,
    "start_time": "2022-03-30T21:06:13.218Z"
   },
   {
    "duration": 5,
    "start_time": "2022-03-30T21:06:37.065Z"
   },
   {
    "duration": 7,
    "start_time": "2022-03-30T21:06:38.642Z"
   },
   {
    "duration": 5,
    "start_time": "2022-03-30T21:07:23.765Z"
   },
   {
    "duration": 6,
    "start_time": "2022-03-30T21:07:51.248Z"
   },
   {
    "duration": 21,
    "start_time": "2022-03-30T21:08:10.693Z"
   },
   {
    "duration": 4,
    "start_time": "2022-03-30T21:08:24.781Z"
   },
   {
    "duration": 5,
    "start_time": "2022-03-30T21:09:32.757Z"
   },
   {
    "duration": 6,
    "start_time": "2022-03-30T21:09:36.662Z"
   },
   {
    "duration": 6,
    "start_time": "2022-03-30T21:09:46.191Z"
   },
   {
    "duration": 205,
    "start_time": "2022-03-30T21:14:28.382Z"
   },
   {
    "duration": 3,
    "start_time": "2022-03-30T21:14:37.261Z"
   },
   {
    "duration": 196,
    "start_time": "2022-03-30T21:16:18.323Z"
   },
   {
    "duration": 181,
    "start_time": "2022-03-30T21:16:23.484Z"
   },
   {
    "duration": 179,
    "start_time": "2022-03-30T21:16:37.807Z"
   },
   {
    "duration": 321,
    "start_time": "2022-03-30T21:18:22.936Z"
   },
   {
    "duration": 191,
    "start_time": "2022-03-30T21:19:39.410Z"
   },
   {
    "duration": 9,
    "start_time": "2022-03-30T21:19:44.815Z"
   },
   {
    "duration": 12,
    "start_time": "2022-03-30T21:20:00.650Z"
   },
   {
    "duration": 13,
    "start_time": "2022-03-30T21:20:55.100Z"
   },
   {
    "duration": 191,
    "start_time": "2022-03-30T21:23:35.258Z"
   },
   {
    "duration": 13,
    "start_time": "2022-03-30T21:23:40.724Z"
   },
   {
    "duration": 77,
    "start_time": "2022-03-30T21:23:51.660Z"
   },
   {
    "duration": 13,
    "start_time": "2022-03-30T21:23:51.739Z"
   },
   {
    "duration": 29,
    "start_time": "2022-03-30T21:23:51.753Z"
   },
   {
    "duration": 9,
    "start_time": "2022-03-30T21:23:51.784Z"
   },
   {
    "duration": 7,
    "start_time": "2022-03-30T21:23:51.795Z"
   },
   {
    "duration": 13,
    "start_time": "2022-03-30T21:23:51.803Z"
   },
   {
    "duration": 13,
    "start_time": "2022-03-30T21:23:51.817Z"
   },
   {
    "duration": 13,
    "start_time": "2022-03-30T21:23:51.832Z"
   },
   {
    "duration": 12,
    "start_time": "2022-03-30T21:23:51.846Z"
   },
   {
    "duration": 3,
    "start_time": "2022-03-30T21:23:51.881Z"
   },
   {
    "duration": 19,
    "start_time": "2022-03-30T21:23:51.886Z"
   },
   {
    "duration": 16,
    "start_time": "2022-03-30T21:23:51.906Z"
   },
   {
    "duration": 16,
    "start_time": "2022-03-30T21:23:51.923Z"
   },
   {
    "duration": 13,
    "start_time": "2022-03-30T21:23:51.940Z"
   },
   {
    "duration": 29,
    "start_time": "2022-03-30T21:23:51.954Z"
   },
   {
    "duration": 20,
    "start_time": "2022-03-30T21:23:51.985Z"
   },
   {
    "duration": 15,
    "start_time": "2022-03-30T21:23:52.007Z"
   },
   {
    "duration": 15,
    "start_time": "2022-03-30T21:23:52.023Z"
   },
   {
    "duration": 6,
    "start_time": "2022-03-30T21:23:52.039Z"
   },
   {
    "duration": 36,
    "start_time": "2022-03-30T21:23:52.046Z"
   },
   {
    "duration": 5,
    "start_time": "2022-03-30T21:23:52.083Z"
   },
   {
    "duration": 6,
    "start_time": "2022-03-30T21:23:52.089Z"
   },
   {
    "duration": 17,
    "start_time": "2022-03-30T21:23:52.096Z"
   },
   {
    "duration": 11,
    "start_time": "2022-03-30T21:23:52.114Z"
   },
   {
    "duration": 8,
    "start_time": "2022-03-30T21:23:52.127Z"
   },
   {
    "duration": 46,
    "start_time": "2022-03-30T21:23:52.137Z"
   },
   {
    "duration": 5,
    "start_time": "2022-03-30T21:23:52.185Z"
   },
   {
    "duration": 134,
    "start_time": "2022-03-30T21:23:52.194Z"
   },
   {
    "duration": 14,
    "start_time": "2022-03-30T21:23:52.330Z"
   },
   {
    "duration": 132,
    "start_time": "2022-03-30T21:23:52.345Z"
   },
   {
    "duration": 10,
    "start_time": "2022-03-30T21:23:52.481Z"
   },
   {
    "duration": 8,
    "start_time": "2022-03-30T21:23:52.492Z"
   },
   {
    "duration": 11,
    "start_time": "2022-03-30T21:23:52.501Z"
   },
   {
    "duration": 5,
    "start_time": "2022-03-30T21:23:52.513Z"
   },
   {
    "duration": 13,
    "start_time": "2022-03-30T21:23:54.212Z"
   },
   {
    "duration": 16,
    "start_time": "2022-03-30T21:24:19.170Z"
   },
   {
    "duration": 14,
    "start_time": "2022-03-30T21:26:59.317Z"
   },
   {
    "duration": 13,
    "start_time": "2022-03-30T21:27:08.793Z"
   },
   {
    "duration": 13,
    "start_time": "2022-03-30T21:27:13.561Z"
   },
   {
    "duration": 12,
    "start_time": "2022-03-30T21:27:38.699Z"
   },
   {
    "duration": 12,
    "start_time": "2022-03-30T21:27:41.755Z"
   },
   {
    "duration": 13,
    "start_time": "2022-03-30T21:27:52.857Z"
   },
   {
    "duration": 12,
    "start_time": "2022-03-30T21:29:24.740Z"
   },
   {
    "duration": 12,
    "start_time": "2022-03-30T21:29:33.366Z"
   },
   {
    "duration": 15,
    "start_time": "2022-03-30T21:29:38.865Z"
   },
   {
    "duration": 12,
    "start_time": "2022-03-30T21:29:46.644Z"
   },
   {
    "duration": 13,
    "start_time": "2022-03-30T21:30:03.512Z"
   },
   {
    "duration": 13,
    "start_time": "2022-03-30T21:30:25.816Z"
   },
   {
    "duration": 13,
    "start_time": "2022-03-30T21:30:56.628Z"
   },
   {
    "duration": 14,
    "start_time": "2022-03-30T21:31:05.823Z"
   },
   {
    "duration": 13,
    "start_time": "2022-03-30T21:31:25.830Z"
   },
   {
    "duration": 14,
    "start_time": "2022-03-30T21:31:29.335Z"
   },
   {
    "duration": 14,
    "start_time": "2022-03-30T21:32:27.392Z"
   },
   {
    "duration": 13,
    "start_time": "2022-03-30T21:32:52.395Z"
   },
   {
    "duration": 13,
    "start_time": "2022-03-30T21:33:05.508Z"
   },
   {
    "duration": 14,
    "start_time": "2022-03-30T21:33:19.356Z"
   },
   {
    "duration": 13,
    "start_time": "2022-03-30T21:33:58.437Z"
   },
   {
    "duration": 14,
    "start_time": "2022-03-30T21:34:50.600Z"
   },
   {
    "duration": 15,
    "start_time": "2022-03-30T21:34:57.128Z"
   },
   {
    "duration": 15,
    "start_time": "2022-03-30T21:36:45.534Z"
   },
   {
    "duration": 15,
    "start_time": "2022-03-30T21:36:48.883Z"
   },
   {
    "duration": 78,
    "start_time": "2022-03-30T21:37:02.721Z"
   },
   {
    "duration": 12,
    "start_time": "2022-03-30T21:37:02.801Z"
   },
   {
    "duration": 9,
    "start_time": "2022-03-30T21:37:02.815Z"
   },
   {
    "duration": 4,
    "start_time": "2022-03-30T21:37:02.825Z"
   },
   {
    "duration": 7,
    "start_time": "2022-03-30T21:37:02.830Z"
   },
   {
    "duration": 21,
    "start_time": "2022-03-30T21:37:02.838Z"
   },
   {
    "duration": 27,
    "start_time": "2022-03-30T21:37:02.860Z"
   },
   {
    "duration": 10,
    "start_time": "2022-03-30T21:37:02.889Z"
   },
   {
    "duration": 11,
    "start_time": "2022-03-30T21:37:02.900Z"
   },
   {
    "duration": 6,
    "start_time": "2022-03-30T21:37:02.914Z"
   },
   {
    "duration": 16,
    "start_time": "2022-03-30T21:37:02.921Z"
   },
   {
    "duration": 16,
    "start_time": "2022-03-30T21:37:02.938Z"
   },
   {
    "duration": 40,
    "start_time": "2022-03-30T21:37:02.955Z"
   },
   {
    "duration": 13,
    "start_time": "2022-03-30T21:37:02.997Z"
   },
   {
    "duration": 8,
    "start_time": "2022-03-30T21:37:03.012Z"
   },
   {
    "duration": 20,
    "start_time": "2022-03-30T21:37:03.022Z"
   },
   {
    "duration": 38,
    "start_time": "2022-03-30T21:37:03.043Z"
   },
   {
    "duration": 13,
    "start_time": "2022-03-30T21:37:03.082Z"
   },
   {
    "duration": 5,
    "start_time": "2022-03-30T21:37:03.096Z"
   },
   {
    "duration": 8,
    "start_time": "2022-03-30T21:37:03.102Z"
   },
   {
    "duration": 4,
    "start_time": "2022-03-30T21:37:03.111Z"
   },
   {
    "duration": 7,
    "start_time": "2022-03-30T21:37:03.117Z"
   },
   {
    "duration": 19,
    "start_time": "2022-03-30T21:37:03.125Z"
   },
   {
    "duration": 10,
    "start_time": "2022-03-30T21:37:03.145Z"
   },
   {
    "duration": 8,
    "start_time": "2022-03-30T21:37:03.180Z"
   },
   {
    "duration": 18,
    "start_time": "2022-03-30T21:37:03.189Z"
   },
   {
    "duration": 4,
    "start_time": "2022-03-30T21:37:03.209Z"
   },
   {
    "duration": 134,
    "start_time": "2022-03-30T21:37:03.215Z"
   },
   {
    "duration": 11,
    "start_time": "2022-03-30T21:37:03.350Z"
   },
   {
    "duration": 131,
    "start_time": "2022-03-30T21:37:03.362Z"
   },
   {
    "duration": 10,
    "start_time": "2022-03-30T21:37:03.495Z"
   },
   {
    "duration": 7,
    "start_time": "2022-03-30T21:37:03.506Z"
   },
   {
    "duration": 11,
    "start_time": "2022-03-30T21:37:03.514Z"
   },
   {
    "duration": 5,
    "start_time": "2022-03-30T21:37:03.526Z"
   },
   {
    "duration": 10,
    "start_time": "2022-03-30T21:37:05.249Z"
   },
   {
    "duration": 12,
    "start_time": "2022-03-30T21:37:08.918Z"
   },
   {
    "duration": 12,
    "start_time": "2022-03-30T21:37:19.487Z"
   },
   {
    "duration": 6,
    "start_time": "2022-03-30T21:38:30.122Z"
   },
   {
    "duration": 6,
    "start_time": "2022-03-30T21:38:45.122Z"
   },
   {
    "duration": 6,
    "start_time": "2022-03-30T21:38:52.599Z"
   },
   {
    "duration": 13,
    "start_time": "2022-03-30T21:39:18.090Z"
   },
   {
    "duration": 11,
    "start_time": "2022-03-30T21:39:39.371Z"
   },
   {
    "duration": 12,
    "start_time": "2022-03-30T21:40:32.096Z"
   },
   {
    "duration": 13,
    "start_time": "2022-03-30T21:40:40.637Z"
   },
   {
    "duration": 11,
    "start_time": "2022-03-30T21:41:09.927Z"
   },
   {
    "duration": 12,
    "start_time": "2022-03-30T21:41:14.740Z"
   },
   {
    "duration": 14,
    "start_time": "2022-03-30T21:41:22.077Z"
   },
   {
    "duration": 15,
    "start_time": "2022-03-30T21:42:59.405Z"
   },
   {
    "duration": 15,
    "start_time": "2022-03-30T21:43:06.077Z"
   },
   {
    "duration": 16,
    "start_time": "2022-03-30T21:43:18.905Z"
   },
   {
    "duration": 21,
    "start_time": "2022-03-30T21:44:21.113Z"
   },
   {
    "duration": 22,
    "start_time": "2022-03-30T21:44:38.509Z"
   },
   {
    "duration": 17,
    "start_time": "2022-03-30T21:44:44.994Z"
   },
   {
    "duration": 16,
    "start_time": "2022-03-30T21:44:53.785Z"
   },
   {
    "duration": 16,
    "start_time": "2022-03-30T21:45:08.493Z"
   },
   {
    "duration": 193,
    "start_time": "2022-03-30T21:46:06.434Z"
   },
   {
    "duration": 19,
    "start_time": "2022-03-30T21:46:12.881Z"
   },
   {
    "duration": 184,
    "start_time": "2022-03-30T21:46:20.746Z"
   },
   {
    "duration": 194,
    "start_time": "2022-03-30T21:46:28.053Z"
   },
   {
    "duration": 235,
    "start_time": "2022-03-30T21:46:42.522Z"
   },
   {
    "duration": 79,
    "start_time": "2022-03-30T21:46:46.658Z"
   },
   {
    "duration": 12,
    "start_time": "2022-03-30T21:46:46.739Z"
   },
   {
    "duration": 9,
    "start_time": "2022-03-30T21:46:46.753Z"
   },
   {
    "duration": 4,
    "start_time": "2022-03-30T21:46:46.780Z"
   },
   {
    "duration": 7,
    "start_time": "2022-03-30T21:46:46.786Z"
   },
   {
    "duration": 14,
    "start_time": "2022-03-30T21:46:46.794Z"
   },
   {
    "duration": 12,
    "start_time": "2022-03-30T21:46:46.809Z"
   },
   {
    "duration": 10,
    "start_time": "2022-03-30T21:46:46.822Z"
   },
   {
    "duration": 12,
    "start_time": "2022-03-30T21:46:46.833Z"
   },
   {
    "duration": 5,
    "start_time": "2022-03-30T21:46:46.846Z"
   },
   {
    "duration": 43,
    "start_time": "2022-03-30T21:46:46.852Z"
   },
   {
    "duration": 17,
    "start_time": "2022-03-30T21:46:46.896Z"
   },
   {
    "duration": 16,
    "start_time": "2022-03-30T21:46:46.914Z"
   },
   {
    "duration": 14,
    "start_time": "2022-03-30T21:46:46.933Z"
   },
   {
    "duration": 39,
    "start_time": "2022-03-30T21:46:46.949Z"
   },
   {
    "duration": 20,
    "start_time": "2022-03-30T21:46:46.990Z"
   },
   {
    "duration": 14,
    "start_time": "2022-03-30T21:46:47.012Z"
   },
   {
    "duration": 14,
    "start_time": "2022-03-30T21:46:47.028Z"
   },
   {
    "duration": 7,
    "start_time": "2022-03-30T21:46:47.043Z"
   },
   {
    "duration": 30,
    "start_time": "2022-03-30T21:46:47.051Z"
   },
   {
    "duration": 3,
    "start_time": "2022-03-30T21:46:47.083Z"
   },
   {
    "duration": 6,
    "start_time": "2022-03-30T21:46:47.087Z"
   },
   {
    "duration": 16,
    "start_time": "2022-03-30T21:46:47.094Z"
   },
   {
    "duration": 11,
    "start_time": "2022-03-30T21:46:47.112Z"
   },
   {
    "duration": 8,
    "start_time": "2022-03-30T21:46:47.124Z"
   },
   {
    "duration": 47,
    "start_time": "2022-03-30T21:46:47.134Z"
   },
   {
    "duration": 4,
    "start_time": "2022-03-30T21:46:47.183Z"
   },
   {
    "duration": 129,
    "start_time": "2022-03-30T21:46:47.189Z"
   },
   {
    "duration": 10,
    "start_time": "2022-03-30T21:46:47.321Z"
   },
   {
    "duration": 136,
    "start_time": "2022-03-30T21:46:47.333Z"
   },
   {
    "duration": 11,
    "start_time": "2022-03-30T21:46:47.472Z"
   },
   {
    "duration": 7,
    "start_time": "2022-03-30T21:46:47.485Z"
   },
   {
    "duration": 14,
    "start_time": "2022-03-30T21:46:47.493Z"
   },
   {
    "duration": 5,
    "start_time": "2022-03-30T21:46:47.509Z"
   },
   {
    "duration": 189,
    "start_time": "2022-03-30T21:46:49.705Z"
   },
   {
    "duration": 190,
    "start_time": "2022-03-30T21:47:05.748Z"
   },
   {
    "duration": 236,
    "start_time": "2022-03-30T21:47:10.479Z"
   },
   {
    "duration": 80,
    "start_time": "2022-03-30T21:47:27.329Z"
   },
   {
    "duration": 13,
    "start_time": "2022-03-30T21:47:27.411Z"
   },
   {
    "duration": 9,
    "start_time": "2022-03-30T21:47:27.425Z"
   },
   {
    "duration": 7,
    "start_time": "2022-03-30T21:47:27.435Z"
   },
   {
    "duration": 6,
    "start_time": "2022-03-30T21:47:27.443Z"
   },
   {
    "duration": 34,
    "start_time": "2022-03-30T21:47:27.450Z"
   },
   {
    "duration": 11,
    "start_time": "2022-03-30T21:47:27.486Z"
   },
   {
    "duration": 11,
    "start_time": "2022-03-30T21:47:27.498Z"
   },
   {
    "duration": 17,
    "start_time": "2022-03-30T21:47:27.511Z"
   },
   {
    "duration": 13,
    "start_time": "2022-03-30T21:47:27.529Z"
   },
   {
    "duration": 18,
    "start_time": "2022-03-30T21:47:27.543Z"
   },
   {
    "duration": 26,
    "start_time": "2022-03-30T21:47:27.562Z"
   },
   {
    "duration": 14,
    "start_time": "2022-03-30T21:47:27.589Z"
   },
   {
    "duration": 13,
    "start_time": "2022-03-30T21:47:27.606Z"
   },
   {
    "duration": 10,
    "start_time": "2022-03-30T21:47:27.620Z"
   },
   {
    "duration": 20,
    "start_time": "2022-03-30T21:47:27.631Z"
   },
   {
    "duration": 31,
    "start_time": "2022-03-30T21:47:27.653Z"
   },
   {
    "duration": 14,
    "start_time": "2022-03-30T21:47:27.686Z"
   },
   {
    "duration": 7,
    "start_time": "2022-03-30T21:47:27.701Z"
   },
   {
    "duration": 7,
    "start_time": "2022-03-30T21:47:27.710Z"
   },
   {
    "duration": 9,
    "start_time": "2022-03-30T21:47:27.719Z"
   },
   {
    "duration": 6,
    "start_time": "2022-03-30T21:47:27.730Z"
   },
   {
    "duration": 15,
    "start_time": "2022-03-30T21:47:27.737Z"
   },
   {
    "duration": 33,
    "start_time": "2022-03-30T21:47:27.754Z"
   },
   {
    "duration": 7,
    "start_time": "2022-03-30T21:47:27.788Z"
   },
   {
    "duration": 13,
    "start_time": "2022-03-30T21:47:27.797Z"
   },
   {
    "duration": 4,
    "start_time": "2022-03-30T21:47:27.811Z"
   },
   {
    "duration": 141,
    "start_time": "2022-03-30T21:47:27.817Z"
   },
   {
    "duration": 21,
    "start_time": "2022-03-30T21:47:27.960Z"
   },
   {
    "duration": 136,
    "start_time": "2022-03-30T21:47:27.982Z"
   },
   {
    "duration": 11,
    "start_time": "2022-03-30T21:47:28.119Z"
   },
   {
    "duration": 7,
    "start_time": "2022-03-30T21:47:28.131Z"
   },
   {
    "duration": 12,
    "start_time": "2022-03-30T21:47:28.139Z"
   },
   {
    "duration": 12,
    "start_time": "2022-03-30T21:47:28.153Z"
   },
   {
    "duration": 12,
    "start_time": "2022-03-30T21:47:47.030Z"
   },
   {
    "duration": 17,
    "start_time": "2022-03-30T21:47:58.925Z"
   },
   {
    "duration": 17,
    "start_time": "2022-03-30T21:53:06.269Z"
   },
   {
    "duration": 18,
    "start_time": "2022-03-30T21:53:17.926Z"
   },
   {
    "duration": 18,
    "start_time": "2022-03-30T21:54:00.492Z"
   },
   {
    "duration": 1055,
    "start_time": "2022-03-30T21:54:15.210Z"
   },
   {
    "duration": 3173,
    "start_time": "2022-03-30T21:55:29.058Z"
   },
   {
    "duration": 15,
    "start_time": "2022-03-30T21:55:38.788Z"
   },
   {
    "duration": 18,
    "start_time": "2022-03-30T21:56:04.329Z"
   },
   {
    "duration": 17,
    "start_time": "2022-03-30T21:57:06.535Z"
   },
   {
    "duration": 16,
    "start_time": "2022-03-30T21:57:14.013Z"
   },
   {
    "duration": 18,
    "start_time": "2022-03-30T21:57:34.015Z"
   },
   {
    "duration": 23,
    "start_time": "2022-03-30T21:58:29.684Z"
   },
   {
    "duration": 21,
    "start_time": "2022-03-30T21:59:06.126Z"
   },
   {
    "duration": 18,
    "start_time": "2022-03-30T22:01:12.916Z"
   },
   {
    "duration": 19,
    "start_time": "2022-03-30T22:01:47.346Z"
   },
   {
    "duration": 22,
    "start_time": "2022-03-30T22:02:22.181Z"
   },
   {
    "duration": 15,
    "start_time": "2022-03-30T22:02:28.102Z"
   },
   {
    "duration": 17,
    "start_time": "2022-03-30T22:03:02.779Z"
   },
   {
    "duration": 11,
    "start_time": "2022-03-30T22:07:48.730Z"
   },
   {
    "duration": 16,
    "start_time": "2022-03-30T22:10:01.236Z"
   },
   {
    "duration": 15,
    "start_time": "2022-03-30T22:11:02.928Z"
   },
   {
    "duration": 16,
    "start_time": "2022-03-30T22:11:13.385Z"
   },
   {
    "duration": 3,
    "start_time": "2022-03-30T22:12:23.588Z"
   },
   {
    "duration": 4,
    "start_time": "2022-03-30T22:12:36.525Z"
   },
   {
    "duration": 12,
    "start_time": "2022-03-30T22:12:47.186Z"
   },
   {
    "duration": 31,
    "start_time": "2022-03-30T22:13:01.096Z"
   },
   {
    "duration": 4,
    "start_time": "2022-03-30T22:13:05.070Z"
   },
   {
    "duration": 29,
    "start_time": "2022-03-30T22:13:53.618Z"
   },
   {
    "duration": 8,
    "start_time": "2022-03-30T22:14:35.429Z"
   },
   {
    "duration": 11,
    "start_time": "2022-03-30T22:18:33.525Z"
   },
   {
    "duration": 12,
    "start_time": "2022-03-30T22:18:37.024Z"
   },
   {
    "duration": 15,
    "start_time": "2022-03-30T22:18:50.673Z"
   },
   {
    "duration": 12,
    "start_time": "2022-03-30T22:20:18.479Z"
   },
   {
    "duration": 12,
    "start_time": "2022-03-30T22:20:44.371Z"
   },
   {
    "duration": 3098,
    "start_time": "2022-03-30T22:21:11.059Z"
   },
   {
    "duration": 3241,
    "start_time": "2022-03-30T22:21:14.442Z"
   },
   {
    "duration": 11,
    "start_time": "2022-03-30T22:30:52.426Z"
   },
   {
    "duration": 10,
    "start_time": "2022-03-30T22:33:21.856Z"
   },
   {
    "duration": 11,
    "start_time": "2022-03-30T22:33:48.476Z"
   },
   {
    "duration": 17,
    "start_time": "2022-03-30T22:34:56.763Z"
   },
   {
    "duration": 16,
    "start_time": "2022-03-30T22:35:10.742Z"
   },
   {
    "duration": 15,
    "start_time": "2022-03-30T22:35:19.898Z"
   },
   {
    "duration": 52,
    "start_time": "2022-03-31T15:15:41.817Z"
   },
   {
    "duration": 485,
    "start_time": "2022-03-31T15:15:49.236Z"
   },
   {
    "duration": 16,
    "start_time": "2022-03-31T15:15:49.723Z"
   },
   {
    "duration": 12,
    "start_time": "2022-03-31T15:15:49.741Z"
   },
   {
    "duration": 4,
    "start_time": "2022-03-31T15:15:49.754Z"
   },
   {
    "duration": 40,
    "start_time": "2022-03-31T15:15:49.761Z"
   },
   {
    "duration": 16,
    "start_time": "2022-03-31T15:15:49.803Z"
   },
   {
    "duration": 15,
    "start_time": "2022-03-31T15:15:49.821Z"
   },
   {
    "duration": 13,
    "start_time": "2022-03-31T15:15:49.837Z"
   },
   {
    "duration": 18,
    "start_time": "2022-03-31T15:15:49.852Z"
   },
   {
    "duration": 5,
    "start_time": "2022-03-31T15:15:49.900Z"
   },
   {
    "duration": 23,
    "start_time": "2022-03-31T15:15:49.907Z"
   },
   {
    "duration": 21,
    "start_time": "2022-03-31T15:15:49.931Z"
   },
   {
    "duration": 48,
    "start_time": "2022-03-31T15:15:49.954Z"
   },
   {
    "duration": 17,
    "start_time": "2022-03-31T15:15:50.005Z"
   },
   {
    "duration": 15,
    "start_time": "2022-03-31T15:15:50.024Z"
   },
   {
    "duration": 29,
    "start_time": "2022-03-31T15:15:50.041Z"
   },
   {
    "duration": 37,
    "start_time": "2022-03-31T15:15:50.072Z"
   },
   {
    "duration": 17,
    "start_time": "2022-03-31T15:15:50.111Z"
   },
   {
    "duration": 6,
    "start_time": "2022-03-31T15:15:50.130Z"
   },
   {
    "duration": 9,
    "start_time": "2022-03-31T15:15:50.138Z"
   },
   {
    "duration": 7,
    "start_time": "2022-03-31T15:15:50.149Z"
   },
   {
    "duration": 7,
    "start_time": "2022-03-31T15:15:50.158Z"
   },
   {
    "duration": 52,
    "start_time": "2022-03-31T15:15:50.167Z"
   },
   {
    "duration": 12,
    "start_time": "2022-03-31T15:15:50.221Z"
   },
   {
    "duration": 9,
    "start_time": "2022-03-31T15:15:50.236Z"
   },
   {
    "duration": 19,
    "start_time": "2022-03-31T15:15:50.247Z"
   },
   {
    "duration": 38,
    "start_time": "2022-03-31T15:15:50.267Z"
   },
   {
    "duration": 154,
    "start_time": "2022-03-31T15:15:50.306Z"
   },
   {
    "duration": 13,
    "start_time": "2022-03-31T15:15:50.462Z"
   },
   {
    "duration": 159,
    "start_time": "2022-03-31T15:15:50.477Z"
   },
   {
    "duration": 13,
    "start_time": "2022-03-31T15:15:50.637Z"
   },
   {
    "duration": 7,
    "start_time": "2022-03-31T15:15:50.653Z"
   },
   {
    "duration": 44,
    "start_time": "2022-03-31T15:15:50.662Z"
   },
   {
    "duration": 6,
    "start_time": "2022-03-31T15:15:50.708Z"
   },
   {
    "duration": 18,
    "start_time": "2022-03-31T15:15:50.716Z"
   },
   {
    "duration": 1069,
    "start_time": "2022-03-31T15:15:52.781Z"
   },
   {
    "duration": 779,
    "start_time": "2022-03-31T15:16:47.388Z"
   },
   {
    "duration": 15,
    "start_time": "2022-03-31T15:18:31.757Z"
   },
   {
    "duration": 16,
    "start_time": "2022-03-31T15:19:06.987Z"
   },
   {
    "duration": 14,
    "start_time": "2022-03-31T15:19:13.907Z"
   },
   {
    "duration": 136,
    "start_time": "2022-03-31T15:19:32.811Z"
   },
   {
    "duration": 21,
    "start_time": "2022-03-31T15:19:52.631Z"
   },
   {
    "duration": 20,
    "start_time": "2022-03-31T15:20:07.126Z"
   },
   {
    "duration": 30,
    "start_time": "2022-03-31T15:20:13.932Z"
   },
   {
    "duration": 29,
    "start_time": "2022-03-31T15:21:15.846Z"
   },
   {
    "duration": 34,
    "start_time": "2022-03-31T15:21:45.962Z"
   },
   {
    "duration": 55,
    "start_time": "2022-03-31T15:21:52.392Z"
   },
   {
    "duration": 42,
    "start_time": "2022-03-31T15:21:56.867Z"
   },
   {
    "duration": 31,
    "start_time": "2022-03-31T15:22:28.184Z"
   },
   {
    "duration": 29,
    "start_time": "2022-03-31T15:22:38.277Z"
   },
   {
    "duration": 30,
    "start_time": "2022-03-31T15:23:03.522Z"
   },
   {
    "duration": 29,
    "start_time": "2022-03-31T15:23:08.067Z"
   },
   {
    "duration": 34,
    "start_time": "2022-03-31T15:23:12.272Z"
   },
   {
    "duration": 30,
    "start_time": "2022-03-31T15:23:49.692Z"
   },
   {
    "duration": 32,
    "start_time": "2022-03-31T15:24:05.769Z"
   },
   {
    "duration": 41,
    "start_time": "2022-03-31T15:24:25.053Z"
   },
   {
    "duration": 45,
    "start_time": "2022-03-31T15:29:50.065Z"
   },
   {
    "duration": 56,
    "start_time": "2022-03-31T15:30:10.123Z"
   },
   {
    "duration": 76,
    "start_time": "2022-03-31T15:30:22.570Z"
   },
   {
    "duration": 1278,
    "start_time": "2022-03-31T15:31:18.977Z"
   },
   {
    "duration": 162,
    "start_time": "2022-03-31T15:32:29.487Z"
   },
   {
    "duration": 64,
    "start_time": "2022-03-31T15:32:55.710Z"
   },
   {
    "duration": 68,
    "start_time": "2022-03-31T15:33:42.458Z"
   },
   {
    "duration": 92,
    "start_time": "2022-03-31T15:35:32.889Z"
   },
   {
    "duration": 25,
    "start_time": "2022-03-31T15:35:32.984Z"
   },
   {
    "duration": 12,
    "start_time": "2022-03-31T15:35:33.011Z"
   },
   {
    "duration": 9,
    "start_time": "2022-03-31T15:35:33.026Z"
   },
   {
    "duration": 11,
    "start_time": "2022-03-31T15:35:33.037Z"
   },
   {
    "duration": 51,
    "start_time": "2022-03-31T15:35:33.050Z"
   },
   {
    "duration": 15,
    "start_time": "2022-03-31T15:35:33.103Z"
   },
   {
    "duration": 14,
    "start_time": "2022-03-31T15:35:33.120Z"
   },
   {
    "duration": 13,
    "start_time": "2022-03-31T15:35:33.137Z"
   },
   {
    "duration": 4,
    "start_time": "2022-03-31T15:35:33.154Z"
   },
   {
    "duration": 63,
    "start_time": "2022-03-31T15:35:33.160Z"
   },
   {
    "duration": 31,
    "start_time": "2022-03-31T15:35:33.225Z"
   },
   {
    "duration": 46,
    "start_time": "2022-03-31T15:35:33.259Z"
   },
   {
    "duration": 27,
    "start_time": "2022-03-31T15:35:33.308Z"
   },
   {
    "duration": 29,
    "start_time": "2022-03-31T15:35:33.337Z"
   },
   {
    "duration": 49,
    "start_time": "2022-03-31T15:35:33.369Z"
   },
   {
    "duration": 26,
    "start_time": "2022-03-31T15:35:33.421Z"
   },
   {
    "duration": 33,
    "start_time": "2022-03-31T15:35:33.449Z"
   },
   {
    "duration": 25,
    "start_time": "2022-03-31T15:35:33.484Z"
   },
   {
    "duration": 12,
    "start_time": "2022-03-31T15:35:33.511Z"
   },
   {
    "duration": 11,
    "start_time": "2022-03-31T15:35:33.525Z"
   },
   {
    "duration": 11,
    "start_time": "2022-03-31T15:35:33.538Z"
   },
   {
    "duration": 24,
    "start_time": "2022-03-31T15:35:33.550Z"
   },
   {
    "duration": 36,
    "start_time": "2022-03-31T15:35:33.576Z"
   },
   {
    "duration": 19,
    "start_time": "2022-03-31T15:35:33.613Z"
   },
   {
    "duration": 48,
    "start_time": "2022-03-31T15:35:33.634Z"
   },
   {
    "duration": 24,
    "start_time": "2022-03-31T15:35:33.684Z"
   },
   {
    "duration": 160,
    "start_time": "2022-03-31T15:35:33.712Z"
   },
   {
    "duration": 13,
    "start_time": "2022-03-31T15:35:33.874Z"
   },
   {
    "duration": 148,
    "start_time": "2022-03-31T15:35:33.901Z"
   },
   {
    "duration": 14,
    "start_time": "2022-03-31T15:35:34.051Z"
   },
   {
    "duration": 15,
    "start_time": "2022-03-31T15:35:34.067Z"
   },
   {
    "duration": 57,
    "start_time": "2022-03-31T15:35:34.085Z"
   },
   {
    "duration": 78,
    "start_time": "2022-03-31T15:35:34.143Z"
   },
   {
    "duration": 61,
    "start_time": "2022-03-31T15:35:34.223Z"
   },
   {
    "duration": 62,
    "start_time": "2022-03-31T18:42:13.603Z"
   },
   {
    "duration": 142,
    "start_time": "2022-03-31T18:51:10.881Z"
   },
   {
    "duration": 14,
    "start_time": "2022-03-31T18:51:14.980Z"
   },
   {
    "duration": 7,
    "start_time": "2022-03-31T18:51:14.997Z"
   },
   {
    "duration": 52,
    "start_time": "2022-03-31T18:51:15.006Z"
   },
   {
    "duration": 71,
    "start_time": "2022-03-31T18:51:15.060Z"
   },
   {
    "duration": 71,
    "start_time": "2022-03-31T18:51:15.133Z"
   },
   {
    "duration": 64,
    "start_time": "2022-03-31T18:51:15.206Z"
   },
   {
    "duration": 138,
    "start_time": "2022-03-31T18:52:27.982Z"
   },
   {
    "duration": 15,
    "start_time": "2022-03-31T18:52:32.369Z"
   },
   {
    "duration": 11,
    "start_time": "2022-03-31T18:52:32.386Z"
   },
   {
    "duration": 51,
    "start_time": "2022-03-31T18:52:32.399Z"
   },
   {
    "duration": 66,
    "start_time": "2022-03-31T18:52:32.453Z"
   },
   {
    "duration": 62,
    "start_time": "2022-03-31T18:52:32.521Z"
   },
   {
    "duration": 68,
    "start_time": "2022-03-31T18:52:32.600Z"
   },
   {
    "duration": 89,
    "start_time": "2022-03-31T19:03:30.243Z"
   },
   {
    "duration": 17,
    "start_time": "2022-03-31T19:03:30.334Z"
   },
   {
    "duration": 11,
    "start_time": "2022-03-31T19:03:30.353Z"
   },
   {
    "duration": 13,
    "start_time": "2022-03-31T19:03:30.366Z"
   },
   {
    "duration": 26,
    "start_time": "2022-03-31T19:03:30.381Z"
   },
   {
    "duration": 30,
    "start_time": "2022-03-31T19:03:30.409Z"
   },
   {
    "duration": 23,
    "start_time": "2022-03-31T19:03:30.441Z"
   },
   {
    "duration": 34,
    "start_time": "2022-03-31T19:03:30.466Z"
   },
   {
    "duration": 25,
    "start_time": "2022-03-31T19:03:30.502Z"
   },
   {
    "duration": 18,
    "start_time": "2022-03-31T19:03:30.529Z"
   },
   {
    "duration": 50,
    "start_time": "2022-03-31T19:03:30.549Z"
   },
   {
    "duration": 26,
    "start_time": "2022-03-31T19:03:30.601Z"
   },
   {
    "duration": 19,
    "start_time": "2022-03-31T19:03:30.629Z"
   },
   {
    "duration": 18,
    "start_time": "2022-03-31T19:03:30.651Z"
   },
   {
    "duration": 38,
    "start_time": "2022-03-31T19:03:30.671Z"
   },
   {
    "duration": 22,
    "start_time": "2022-03-31T19:03:30.711Z"
   },
   {
    "duration": 33,
    "start_time": "2022-03-31T19:03:30.735Z"
   },
   {
    "duration": 38,
    "start_time": "2022-03-31T19:03:30.770Z"
   },
   {
    "duration": 27,
    "start_time": "2022-03-31T19:03:30.810Z"
   },
   {
    "duration": 19,
    "start_time": "2022-03-31T19:03:30.838Z"
   },
   {
    "duration": 29,
    "start_time": "2022-03-31T19:03:30.859Z"
   },
   {
    "duration": 20,
    "start_time": "2022-03-31T19:03:30.889Z"
   },
   {
    "duration": 22,
    "start_time": "2022-03-31T19:03:30.911Z"
   },
   {
    "duration": 14,
    "start_time": "2022-03-31T19:03:30.935Z"
   },
   {
    "duration": 16,
    "start_time": "2022-03-31T19:03:30.951Z"
   },
   {
    "duration": 37,
    "start_time": "2022-03-31T19:03:30.969Z"
   },
   {
    "duration": 6,
    "start_time": "2022-03-31T19:03:31.008Z"
   },
   {
    "duration": 161,
    "start_time": "2022-03-31T19:03:31.016Z"
   },
   {
    "duration": 13,
    "start_time": "2022-03-31T19:03:31.179Z"
   },
   {
    "duration": 156,
    "start_time": "2022-03-31T19:03:31.202Z"
   },
   {
    "duration": 14,
    "start_time": "2022-03-31T19:03:31.360Z"
   },
   {
    "duration": 16,
    "start_time": "2022-03-31T19:03:31.375Z"
   },
   {
    "duration": 53,
    "start_time": "2022-03-31T19:03:31.400Z"
   },
   {
    "duration": 74,
    "start_time": "2022-03-31T19:03:31.455Z"
   },
   {
    "duration": 75,
    "start_time": "2022-03-31T19:03:31.532Z"
   },
   {
    "duration": 66,
    "start_time": "2022-03-31T19:03:31.609Z"
   },
   {
    "duration": 6,
    "start_time": "2022-03-31T19:04:08.954Z"
   },
   {
    "duration": 6,
    "start_time": "2022-03-31T19:04:44.745Z"
   },
   {
    "duration": 5,
    "start_time": "2022-03-31T19:04:56.039Z"
   },
   {
    "duration": 73,
    "start_time": "2022-03-31T19:05:05.373Z"
   },
   {
    "duration": 17,
    "start_time": "2022-03-31T19:05:05.448Z"
   },
   {
    "duration": 13,
    "start_time": "2022-03-31T19:05:05.467Z"
   },
   {
    "duration": 22,
    "start_time": "2022-03-31T19:05:05.482Z"
   },
   {
    "duration": 9,
    "start_time": "2022-03-31T19:05:05.507Z"
   },
   {
    "duration": 16,
    "start_time": "2022-03-31T19:05:05.518Z"
   },
   {
    "duration": 15,
    "start_time": "2022-03-31T19:05:05.536Z"
   },
   {
    "duration": 18,
    "start_time": "2022-03-31T19:05:05.552Z"
   },
   {
    "duration": 15,
    "start_time": "2022-03-31T19:05:05.600Z"
   },
   {
    "duration": 12,
    "start_time": "2022-03-31T19:05:05.617Z"
   },
   {
    "duration": 24,
    "start_time": "2022-03-31T19:05:05.631Z"
   },
   {
    "duration": 21,
    "start_time": "2022-03-31T19:05:05.657Z"
   },
   {
    "duration": 39,
    "start_time": "2022-03-31T19:05:05.680Z"
   },
   {
    "duration": 17,
    "start_time": "2022-03-31T19:05:05.723Z"
   },
   {
    "duration": 24,
    "start_time": "2022-03-31T19:05:05.742Z"
   },
   {
    "duration": 40,
    "start_time": "2022-03-31T19:05:05.768Z"
   },
   {
    "duration": 18,
    "start_time": "2022-03-31T19:05:05.810Z"
   },
   {
    "duration": 19,
    "start_time": "2022-03-31T19:05:05.829Z"
   },
   {
    "duration": 8,
    "start_time": "2022-03-31T19:05:05.849Z"
   },
   {
    "duration": 8,
    "start_time": "2022-03-31T19:05:05.859Z"
   },
   {
    "duration": 34,
    "start_time": "2022-03-31T19:05:05.869Z"
   },
   {
    "duration": 6,
    "start_time": "2022-03-31T19:05:05.905Z"
   },
   {
    "duration": 29,
    "start_time": "2022-03-31T19:05:05.913Z"
   },
   {
    "duration": 14,
    "start_time": "2022-03-31T19:05:05.943Z"
   },
   {
    "duration": 9,
    "start_time": "2022-03-31T19:05:05.959Z"
   },
   {
    "duration": 41,
    "start_time": "2022-03-31T19:05:05.970Z"
   },
   {
    "duration": 10,
    "start_time": "2022-03-31T19:05:06.013Z"
   },
   {
    "duration": 153,
    "start_time": "2022-03-31T19:05:06.025Z"
   },
   {
    "duration": 23,
    "start_time": "2022-03-31T19:05:06.180Z"
   },
   {
    "duration": 154,
    "start_time": "2022-03-31T19:05:06.205Z"
   },
   {
    "duration": 13,
    "start_time": "2022-03-31T19:05:06.361Z"
   },
   {
    "duration": 21,
    "start_time": "2022-03-31T19:05:06.376Z"
   },
   {
    "duration": 48,
    "start_time": "2022-03-31T19:05:06.401Z"
   },
   {
    "duration": 73,
    "start_time": "2022-03-31T19:05:06.451Z"
   },
   {
    "duration": 61,
    "start_time": "2022-03-31T19:05:06.525Z"
   },
   {
    "duration": 66,
    "start_time": "2022-03-31T19:05:06.600Z"
   },
   {
    "duration": 509,
    "start_time": "2022-04-11T14:57:50.446Z"
   },
   {
    "duration": 18,
    "start_time": "2022-04-11T14:57:50.958Z"
   },
   {
    "duration": 32,
    "start_time": "2022-04-11T14:57:50.978Z"
   },
   {
    "duration": 5,
    "start_time": "2022-04-11T14:57:51.012Z"
   },
   {
    "duration": 9,
    "start_time": "2022-04-11T14:57:51.020Z"
   },
   {
    "duration": 20,
    "start_time": "2022-04-11T14:57:51.031Z"
   },
   {
    "duration": 48,
    "start_time": "2022-04-11T14:57:51.053Z"
   },
   {
    "duration": 10,
    "start_time": "2022-04-11T14:57:51.103Z"
   },
   {
    "duration": 15,
    "start_time": "2022-04-11T14:57:51.115Z"
   },
   {
    "duration": 13,
    "start_time": "2022-04-11T14:57:51.131Z"
   },
   {
    "duration": 31,
    "start_time": "2022-04-11T14:57:51.146Z"
   },
   {
    "duration": 37,
    "start_time": "2022-04-11T14:57:51.178Z"
   },
   {
    "duration": 19,
    "start_time": "2022-04-11T14:57:51.217Z"
   },
   {
    "duration": 15,
    "start_time": "2022-04-11T14:57:51.239Z"
   },
   {
    "duration": 11,
    "start_time": "2022-04-11T14:57:51.255Z"
   },
   {
    "duration": 45,
    "start_time": "2022-04-11T14:57:51.267Z"
   },
   {
    "duration": 16,
    "start_time": "2022-04-11T14:57:51.314Z"
   },
   {
    "duration": 15,
    "start_time": "2022-04-11T14:57:51.332Z"
   },
   {
    "duration": 5,
    "start_time": "2022-04-11T14:57:51.348Z"
   },
   {
    "duration": 6,
    "start_time": "2022-04-11T14:57:51.355Z"
   },
   {
    "duration": 8,
    "start_time": "2022-04-11T14:57:51.362Z"
   },
   {
    "duration": 34,
    "start_time": "2022-04-11T14:57:51.372Z"
   },
   {
    "duration": 18,
    "start_time": "2022-04-11T14:57:51.408Z"
   },
   {
    "duration": 13,
    "start_time": "2022-04-11T14:57:51.428Z"
   },
   {
    "duration": 9,
    "start_time": "2022-04-11T14:57:51.442Z"
   },
   {
    "duration": 16,
    "start_time": "2022-04-11T14:57:51.453Z"
   },
   {
    "duration": 31,
    "start_time": "2022-04-11T14:57:51.471Z"
   },
   {
    "duration": 153,
    "start_time": "2022-04-11T14:57:51.504Z"
   },
   {
    "duration": 12,
    "start_time": "2022-04-11T14:57:51.659Z"
   },
   {
    "duration": 151,
    "start_time": "2022-04-11T14:57:51.673Z"
   },
   {
    "duration": 12,
    "start_time": "2022-04-11T14:57:51.826Z"
   },
   {
    "duration": 6,
    "start_time": "2022-04-11T14:57:51.840Z"
   },
   {
    "duration": 63,
    "start_time": "2022-04-11T14:57:51.848Z"
   },
   {
    "duration": 58,
    "start_time": "2022-04-11T14:57:51.913Z"
   },
   {
    "duration": 72,
    "start_time": "2022-04-11T14:57:51.973Z"
   },
   {
    "duration": 79,
    "start_time": "2022-04-11T14:57:52.047Z"
   },
   {
    "duration": 10,
    "start_time": "2022-04-11T15:00:13.292Z"
   },
   {
    "duration": 7,
    "start_time": "2022-04-11T15:00:34.333Z"
   },
   {
    "duration": 718,
    "start_time": "2022-07-26T17:55:42.689Z"
   },
   {
    "duration": 14,
    "start_time": "2022-07-26T17:55:43.409Z"
   },
   {
    "duration": 11,
    "start_time": "2022-07-26T17:55:43.425Z"
   },
   {
    "duration": 6,
    "start_time": "2022-07-26T17:55:43.437Z"
   },
   {
    "duration": 35,
    "start_time": "2022-07-26T17:55:43.445Z"
   },
   {
    "duration": 14,
    "start_time": "2022-07-26T17:55:43.481Z"
   },
   {
    "duration": 12,
    "start_time": "2022-07-26T17:55:43.497Z"
   },
   {
    "duration": 20,
    "start_time": "2022-07-26T17:55:43.511Z"
   },
   {
    "duration": 24,
    "start_time": "2022-07-26T17:55:43.533Z"
   },
   {
    "duration": 8,
    "start_time": "2022-07-26T17:55:43.559Z"
   },
   {
    "duration": 35,
    "start_time": "2022-07-26T17:55:43.569Z"
   },
   {
    "duration": 24,
    "start_time": "2022-07-26T17:55:43.607Z"
   },
   {
    "duration": 18,
    "start_time": "2022-07-26T17:55:43.633Z"
   },
   {
    "duration": 16,
    "start_time": "2022-07-26T17:55:43.654Z"
   },
   {
    "duration": 13,
    "start_time": "2022-07-26T17:55:43.671Z"
   },
   {
    "duration": 48,
    "start_time": "2022-07-26T17:55:43.685Z"
   },
   {
    "duration": 16,
    "start_time": "2022-07-26T17:55:43.734Z"
   },
   {
    "duration": 21,
    "start_time": "2022-07-26T17:55:43.751Z"
   },
   {
    "duration": 6,
    "start_time": "2022-07-26T17:55:43.774Z"
   },
   {
    "duration": 6,
    "start_time": "2022-07-26T17:55:43.781Z"
   },
   {
    "duration": 4,
    "start_time": "2022-07-26T17:55:43.789Z"
   },
   {
    "duration": 33,
    "start_time": "2022-07-26T17:55:43.794Z"
   },
   {
    "duration": 18,
    "start_time": "2022-07-26T17:55:43.828Z"
   },
   {
    "duration": 12,
    "start_time": "2022-07-26T17:55:43.848Z"
   },
   {
    "duration": 9,
    "start_time": "2022-07-26T17:55:43.861Z"
   },
   {
    "duration": 12,
    "start_time": "2022-07-26T17:55:43.872Z"
   },
   {
    "duration": 39,
    "start_time": "2022-07-26T17:55:43.886Z"
   },
   {
    "duration": 146,
    "start_time": "2022-07-26T17:55:43.927Z"
   },
   {
    "duration": 11,
    "start_time": "2022-07-26T17:55:44.075Z"
   },
   {
    "duration": 139,
    "start_time": "2022-07-26T17:55:44.088Z"
   },
   {
    "duration": 12,
    "start_time": "2022-07-26T17:55:44.229Z"
   },
   {
    "duration": 11,
    "start_time": "2022-07-26T17:55:44.242Z"
   },
   {
    "duration": 40,
    "start_time": "2022-07-26T17:55:44.254Z"
   },
   {
    "duration": 81,
    "start_time": "2022-07-26T17:55:44.296Z"
   },
   {
    "duration": 61,
    "start_time": "2022-07-26T17:55:44.378Z"
   },
   {
    "duration": 60,
    "start_time": "2022-07-26T17:55:44.440Z"
   },
   {
    "duration": 7366,
    "start_time": "2022-07-26T17:55:44.502Z"
   },
   {
    "duration": 482,
    "start_time": "2022-07-26T17:56:39.423Z"
   },
   {
    "duration": 15,
    "start_time": "2022-07-26T17:56:39.907Z"
   },
   {
    "duration": 9,
    "start_time": "2022-07-26T17:56:39.924Z"
   },
   {
    "duration": 11,
    "start_time": "2022-07-26T17:56:39.935Z"
   },
   {
    "duration": 9,
    "start_time": "2022-07-26T17:56:39.948Z"
   },
   {
    "duration": 18,
    "start_time": "2022-07-26T17:56:39.959Z"
   },
   {
    "duration": 13,
    "start_time": "2022-07-26T17:56:39.978Z"
   },
   {
    "duration": 14,
    "start_time": "2022-07-26T17:56:39.993Z"
   },
   {
    "duration": 15,
    "start_time": "2022-07-26T17:56:40.024Z"
   },
   {
    "duration": 10,
    "start_time": "2022-07-26T17:56:40.041Z"
   },
   {
    "duration": 24,
    "start_time": "2022-07-26T17:56:40.052Z"
   },
   {
    "duration": 17,
    "start_time": "2022-07-26T17:56:40.078Z"
   },
   {
    "duration": 32,
    "start_time": "2022-07-26T17:56:40.097Z"
   },
   {
    "duration": 14,
    "start_time": "2022-07-26T17:56:40.132Z"
   },
   {
    "duration": 19,
    "start_time": "2022-07-26T17:56:40.147Z"
   },
   {
    "duration": 25,
    "start_time": "2022-07-26T17:56:40.168Z"
   },
   {
    "duration": 29,
    "start_time": "2022-07-26T17:56:40.195Z"
   },
   {
    "duration": 19,
    "start_time": "2022-07-26T17:56:40.226Z"
   },
   {
    "duration": 6,
    "start_time": "2022-07-26T17:56:40.246Z"
   },
   {
    "duration": 10,
    "start_time": "2022-07-26T17:56:40.254Z"
   },
   {
    "duration": 4,
    "start_time": "2022-07-26T17:56:40.265Z"
   },
   {
    "duration": 6,
    "start_time": "2022-07-26T17:56:40.271Z"
   },
   {
    "duration": 21,
    "start_time": "2022-07-26T17:56:40.279Z"
   },
   {
    "duration": 11,
    "start_time": "2022-07-26T17:56:40.323Z"
   },
   {
    "duration": 9,
    "start_time": "2022-07-26T17:56:40.336Z"
   },
   {
    "duration": 16,
    "start_time": "2022-07-26T17:56:40.346Z"
   },
   {
    "duration": 4,
    "start_time": "2022-07-26T17:56:40.364Z"
   },
   {
    "duration": 146,
    "start_time": "2022-07-26T17:56:40.370Z"
   },
   {
    "duration": 17,
    "start_time": "2022-07-26T17:56:40.517Z"
   },
   {
    "duration": 140,
    "start_time": "2022-07-26T17:56:40.535Z"
   },
   {
    "duration": 12,
    "start_time": "2022-07-26T17:56:40.677Z"
   },
   {
    "duration": 13,
    "start_time": "2022-07-26T17:56:40.690Z"
   },
   {
    "duration": 50,
    "start_time": "2022-07-26T17:56:40.704Z"
   },
   {
    "duration": 68,
    "start_time": "2022-07-26T17:56:40.756Z"
   },
   {
    "duration": 53,
    "start_time": "2022-07-26T17:56:40.826Z"
   },
   {
    "duration": 72,
    "start_time": "2022-07-26T17:56:40.880Z"
   },
   {
    "duration": 7586,
    "start_time": "2022-07-26T17:56:40.954Z"
   },
   {
    "duration": 3067,
    "start_time": "2022-07-26T17:56:48.542Z"
   },
   {
    "duration": 1013,
    "start_time": "2022-07-27T11:27:54.257Z"
   },
   {
    "duration": 21,
    "start_time": "2022-07-27T11:27:55.273Z"
   },
   {
    "duration": 13,
    "start_time": "2022-07-27T11:27:55.296Z"
   },
   {
    "duration": 7,
    "start_time": "2022-07-27T11:27:55.311Z"
   },
   {
    "duration": 12,
    "start_time": "2022-07-27T11:27:55.319Z"
   },
   {
    "duration": 15,
    "start_time": "2022-07-27T11:27:55.333Z"
   },
   {
    "duration": 15,
    "start_time": "2022-07-27T11:27:55.350Z"
   },
   {
    "duration": 20,
    "start_time": "2022-07-27T11:27:55.367Z"
   },
   {
    "duration": 42,
    "start_time": "2022-07-27T11:27:55.388Z"
   },
   {
    "duration": 5,
    "start_time": "2022-07-27T11:27:55.433Z"
   },
   {
    "duration": 30,
    "start_time": "2022-07-27T11:27:55.439Z"
   },
   {
    "duration": 21,
    "start_time": "2022-07-27T11:27:55.470Z"
   },
   {
    "duration": 34,
    "start_time": "2022-07-27T11:27:55.492Z"
   },
   {
    "duration": 15,
    "start_time": "2022-07-27T11:27:55.528Z"
   },
   {
    "duration": 15,
    "start_time": "2022-07-27T11:27:55.545Z"
   },
   {
    "duration": 23,
    "start_time": "2022-07-27T11:27:55.562Z"
   },
   {
    "duration": 41,
    "start_time": "2022-07-27T11:27:55.587Z"
   },
   {
    "duration": 17,
    "start_time": "2022-07-27T11:27:55.631Z"
   },
   {
    "duration": 6,
    "start_time": "2022-07-27T11:27:55.650Z"
   },
   {
    "duration": 14,
    "start_time": "2022-07-27T11:27:55.658Z"
   },
   {
    "duration": 8,
    "start_time": "2022-07-27T11:27:55.673Z"
   },
   {
    "duration": 9,
    "start_time": "2022-07-27T11:27:55.683Z"
   },
   {
    "duration": 39,
    "start_time": "2022-07-27T11:27:55.694Z"
   },
   {
    "duration": 11,
    "start_time": "2022-07-27T11:27:55.735Z"
   },
   {
    "duration": 8,
    "start_time": "2022-07-27T11:27:55.748Z"
   },
   {
    "duration": 14,
    "start_time": "2022-07-27T11:27:55.758Z"
   },
   {
    "duration": 5,
    "start_time": "2022-07-27T11:27:55.774Z"
   },
   {
    "duration": 185,
    "start_time": "2022-07-27T11:27:55.783Z"
   },
   {
    "duration": 19,
    "start_time": "2022-07-27T11:27:55.970Z"
   },
   {
    "duration": 188,
    "start_time": "2022-07-27T11:27:55.993Z"
   },
   {
    "duration": 14,
    "start_time": "2022-07-27T11:27:56.182Z"
   },
   {
    "duration": 19,
    "start_time": "2022-07-27T11:27:56.198Z"
   },
   {
    "duration": 63,
    "start_time": "2022-07-27T11:27:56.219Z"
   },
   {
    "duration": 81,
    "start_time": "2022-07-27T11:27:56.284Z"
   },
   {
    "duration": 69,
    "start_time": "2022-07-27T11:27:56.366Z"
   },
   {
    "duration": 68,
    "start_time": "2022-07-27T11:27:56.437Z"
   },
   {
    "duration": 8710,
    "start_time": "2022-07-27T11:27:56.507Z"
   },
   {
    "duration": 3391,
    "start_time": "2022-07-27T11:28:05.219Z"
   },
   {
    "duration": 459,
    "start_time": "2022-07-27T11:28:08.612Z"
   },
   {
    "duration": 493,
    "start_time": "2022-07-27T11:47:49.144Z"
   },
   {
    "duration": 18,
    "start_time": "2022-07-27T11:47:49.639Z"
   },
   {
    "duration": 14,
    "start_time": "2022-07-27T11:47:49.658Z"
   },
   {
    "duration": 5,
    "start_time": "2022-07-27T11:47:49.674Z"
   },
   {
    "duration": 9,
    "start_time": "2022-07-27T11:47:49.680Z"
   },
   {
    "duration": 42,
    "start_time": "2022-07-27T11:47:49.691Z"
   },
   {
    "duration": 16,
    "start_time": "2022-07-27T11:47:49.735Z"
   },
   {
    "duration": 24,
    "start_time": "2022-07-27T11:47:49.753Z"
   },
   {
    "duration": 16,
    "start_time": "2022-07-27T11:47:49.779Z"
   },
   {
    "duration": 4,
    "start_time": "2022-07-27T11:47:49.825Z"
   },
   {
    "duration": 24,
    "start_time": "2022-07-27T11:47:49.831Z"
   },
   {
    "duration": 20,
    "start_time": "2022-07-27T11:47:49.857Z"
   },
   {
    "duration": 52,
    "start_time": "2022-07-27T11:47:49.878Z"
   },
   {
    "duration": 15,
    "start_time": "2022-07-27T11:47:49.931Z"
   },
   {
    "duration": 11,
    "start_time": "2022-07-27T11:47:49.947Z"
   },
   {
    "duration": 21,
    "start_time": "2022-07-27T11:47:49.960Z"
   },
   {
    "duration": 45,
    "start_time": "2022-07-27T11:47:49.983Z"
   },
   {
    "duration": 17,
    "start_time": "2022-07-27T11:47:50.030Z"
   },
   {
    "duration": 11,
    "start_time": "2022-07-27T11:47:50.048Z"
   },
   {
    "duration": 7,
    "start_time": "2022-07-27T11:47:50.060Z"
   },
   {
    "duration": 10,
    "start_time": "2022-07-27T11:47:50.068Z"
   },
   {
    "duration": 11,
    "start_time": "2022-07-27T11:47:50.080Z"
   },
   {
    "duration": 44,
    "start_time": "2022-07-27T11:47:50.093Z"
   },
   {
    "duration": 16,
    "start_time": "2022-07-27T11:47:50.139Z"
   },
   {
    "duration": 9,
    "start_time": "2022-07-27T11:47:50.157Z"
   },
   {
    "duration": 19,
    "start_time": "2022-07-27T11:47:50.168Z"
   },
   {
    "duration": 8,
    "start_time": "2022-07-27T11:47:50.189Z"
   },
   {
    "duration": 169,
    "start_time": "2022-07-27T11:47:50.226Z"
   },
   {
    "duration": 13,
    "start_time": "2022-07-27T11:47:50.397Z"
   },
   {
    "duration": 182,
    "start_time": "2022-07-27T11:47:50.412Z"
   },
   {
    "duration": 14,
    "start_time": "2022-07-27T11:47:50.596Z"
   },
   {
    "duration": 18,
    "start_time": "2022-07-27T11:47:50.622Z"
   },
   {
    "duration": 65,
    "start_time": "2022-07-27T11:47:50.642Z"
   },
   {
    "duration": 63,
    "start_time": "2022-07-27T11:47:50.709Z"
   },
   {
    "duration": 67,
    "start_time": "2022-07-27T11:47:50.774Z"
   },
   {
    "duration": 61,
    "start_time": "2022-07-27T11:47:50.843Z"
   },
   {
    "duration": 7274,
    "start_time": "2022-07-27T11:47:50.924Z"
   },
   {
    "duration": 3403,
    "start_time": "2022-07-27T11:47:58.200Z"
   },
   {
    "duration": 437,
    "start_time": "2022-07-27T11:48:01.604Z"
   }
  ],
  "kernelspec": {
   "display_name": "Python 3 (ipykernel)",
   "language": "python",
   "name": "python3"
  },
  "language_info": {
   "codemirror_mode": {
    "name": "ipython",
    "version": 3
   },
   "file_extension": ".py",
   "mimetype": "text/x-python",
   "name": "python",
   "nbconvert_exporter": "python",
   "pygments_lexer": "ipython3",
   "version": "3.10.4"
  },
  "toc": {
   "base_numbering": 1,
   "nav_menu": {
    "height": "226.6458282470703px",
    "width": "160px"
   },
   "number_sections": true,
   "sideBar": true,
   "skip_h1_title": true,
   "title_cell": "Table of Contents",
   "title_sidebar": "Contents",
   "toc_cell": false,
   "toc_position": {
    "height": "calc(100% - 180px)",
    "left": "10px",
    "top": "150px",
    "width": "724.75px"
   },
   "toc_section_display": true,
   "toc_window_display": false
  },
  "varInspector": {
   "cols": {
    "lenName": 16,
    "lenType": 16,
    "lenVar": 40
   },
   "kernels_config": {
    "python": {
     "delete_cmd_postfix": "",
     "delete_cmd_prefix": "del ",
     "library": "var_list.py",
     "varRefreshCmd": "print(var_dic_list())"
    },
    "r": {
     "delete_cmd_postfix": ") ",
     "delete_cmd_prefix": "rm(",
     "library": "var_list.r",
     "varRefreshCmd": "cat(var_dic_list()) "
    }
   },
   "types_to_exclude": [
    "module",
    "function",
    "builtin_function_or_method",
    "instance",
    "_Feature"
   ],
   "window_display": false
  }
 },
 "nbformat": 4,
 "nbformat_minor": 5
}
